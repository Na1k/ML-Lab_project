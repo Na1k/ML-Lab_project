{
 "cells": [
  {
   "cell_type": "markdown",
   "id": "845da788",
   "metadata": {},
   "source": [
    "# Labor *Maschinelles Lernen* \n",
    "\n",
    "Das Labor *Maschinelles Lernen* \n",
    "* vertieft durch eine Projektarbeit die in der Vorlesung dargestellten Methoden und Konzepte. \n",
    "* erfordert die eigenständige Bearbeitung einer realistische Problemstellung des maschinellen Lernens in Teamarbeit\n",
    "* setzt auf die Verwendung von Jupyter Notebooks\n",
    "* setzt auf die Verwendung von __TensorFlow__ für tiefe neuronale Netzwerke"
   ]
  },
  {
   "cell_type": "markdown",
   "id": "96a04a69",
   "metadata": {},
   "source": [
    "## Organisatorisches\n",
    "\n",
    "* Die Bearbeitung des Labors wird in Gruppen aus zwei Personen durchgeführt.\n",
    "* Jede Gruppe erhält einen Buchstaben als Namen (`A`, `B`, `C`,...). \n",
    "* Ihre Aufgabenstellung erhalten Sie über das Moodle-Portal. \n",
    "* Einige Aufgaben beinhalten teils große Datenmengen und erfordern gegebenenfalls große Rechenleistung. Wir können auf Anfrage für Sie auch Ressourcen unserer hochschulinternen Cloud-Infrastruktur freigeben. Bitte kontaktieren Sie hierzu die Laboringenieure, die wissenschaftlichen Mitarbeiter bzw. den Dozenten. \n",
    "* Für den sehr seltenen Fall, dass die Zusammenarbeit in einem Team nicht funktioniert und ihr Teampartner sich nicht an einer Lösung beteiligt, steht es Ihnen frei, mit dem Dozenten Kontakt aufzunehmen, um eine Lösung zu suchen."
   ]
  },
  {
   "cell_type": "markdown",
   "id": "7d7a7860",
   "metadata": {},
   "source": [
    "## Zu erbringende Leistungen\n",
    "\n",
    "Ihre Prüfungsleistung beruht auf zwei verschiedenen Teilen:\n",
    "\n",
    "1. Die Erstellung eines ausführbaren **Jupyter Notebooks**, das die Dokumentation zu Ihrer Lösung enthält. Hier dokumentieren Sie Ihr Projekt und erläutern die Schritte, die Sie während der Bearbeitung durchgeführt habe\n",
    "2. Die **Präsentation der Ergebnisse** in der letzten Veranstaltung im Rahmen eines Kurzvortrags. \n",
    "    \n",
    "### Jupyter Notebook - Abgabe\n",
    "\n",
    "* Pro Gruppe wird *eine* gemeinsame Lösung eingereicht. \n",
    "* Pro Gruppe wird *eine* gemeinsame Bewertung durchgeführt.    \n",
    "* Sie geben **pro Gruppe eine zip-Datei** ab \n",
    "    * Auf der obersten Ebene ihres Projekts befindet sich Ihr Jupyter Notebook.\n",
    "    * Vergessen nicht, dass Sie zu Beginn des Notebook ihre Namen mit Matrikelnummer angeben. \n",
    "    * WICHTIG: *das Notebook muss vor den Hochladen ausgeführt* werden und alle Ergebnisse und Plots sind enthalten.\n",
    "    * Im Verzeichnis `src` müssen eigene Implementierungen der von Ihnen erstellten Python-Klassen und -Funktionen enthalten sein. Diese sollen dann durch das Notebook aufgerufen werden.  \n",
    "    * Weitere notwendige Verzeichnisse können sie hinzufügen, wenn diese im Jupyter Notebook dokumentiert sind. \n",
    "\n",
    "* Die Abgabefrist für Ihre Aufgabenstellung wird im Moodle-Kurs angegeben. Laden Sie dort rechtzeitig Ihre zip-Datei hoch.\n",
    "* Bennen Sie Ihr Notebook nach dem folgenden Schema: `ML-Labor-{Gruppenname}-{Kursnummer}.zip` \n",
    "    * Beispiel: `ML-Labor-Z-TINF19IT5.zip` für ein Team mit dem Namen `Z` aus dem Kurs `TINF19IT5`\n",
    "        \n",
    "        \n",
    "###  Jupyter Notebook - Bewertung und Anforderungen\n",
    "\n",
    "* Dokumentieren Sie nachvollziehbar Ihre Codes, Visualisierungen, Referenzen, und Gedanken im Jupyter Notebook\n",
    "* Verwenden Sie zur Bearbeitung die in der Vorlesung dargestellten Methoden, Konzepte und Lösungsstrategien. \n",
    "* Legen Sie Wert auf die Verwendung von tiefen neuronalen Netzen!  Verwenden Sie hierzu `python` und `TensorFlow`.\n",
    "* Je nach Aufgabenstellung benötigen Sie noch weitere python-Bibliotheken oder zusätzliche Literatur bzw. Konzepte. Vergessen Sie nicht, diese Referenzen in Ihrer Lösung anzugeben. Erstellen Sie ggf. eine `requirements`-Datei, die zusätzliche Bibliotheken auflistet.\n",
    "    * Der gesamte verwendete Code muss mit abgegeben werden. \n",
    "    * Scheuen Sie sich nicht, sich in neue Frameworks und Bibliotheken einzuarbeiten. \n",
    "* Bitte beachten Sie, dass es - wie in realen Anwendungsfällen üblich - nicht die eine perfekte Lösung gibt. Vielmehr sollen Sie ihr erworbenes Fachwissen, Ihre Problemlösungskompetenz und die Nachvollziehbarkeit Ihrer Überlegungen unter Beweis gestellt werden.\n",
    "\n",
    "* In Ergänzung zu der eigentlichen Problemstellung (z.B. \"Unterscheiden Sie Hunde von Katzen\") sollten Sie u.A. folgende weitere Aspekte berücksichtigen und darstellen.\n",
    "    * Analyse der Trainingsdaten\n",
    "    * Auswahl, Bearbeitung und ggf. Transformation der Daten\n",
    "    * Vergleich verschiedener Lösungsansätze und Modelle\n",
    "    * Gegenüberstellung verschiedener Lösungsansätze\n",
    "    * Überprüfen Sie die Implementierung und versuchen Sie auch Hyperparameter zu optimieren \n",
    "    * \"Lessons Learned\" - Darstellung von Herausforderungen und Ihren Lösungen\n",
    "    * Ergänzen Sie nach Möglichkeit auch eigene Ideen und Fragestellungen\n",
    "\n",
    "* Die Verwendung von geeigneten Visualisierungen mit denen Sie den Fortschritt ihrer Lernmodelle nachweisen wird empfohlen.\n",
    "    * Überlegen Sie, welche Aussage Sie mit welcher Darstellungsweise zeigen möchten.\n",
    "\n",
    "* Die Probleme sind komplex und hochdimensional und damit herausfordernd. \n",
    "    * Auch wenn Ihr Modell keine zufriedenstellende Ergebnisse (niedrige Accuray, keine Konvergenz) für das Training liefert, können Sie  eine gute Bewertung erhalten, wenn Sie das Verhalten erklären oder begründen können.\n",
    "\n",
    "* Sie können maximal 100 Punkte erreichen.\n",
    "\n",
    "\n",
    "### Präsentation - Bewertung und Anforderungen\n",
    "    \n",
    "In einer wissenschaftlichen Kurzpräsentation sollen Sie abschließend kurz Ihre Aufgabenstellung, Lösungsansätze und Ergebnisse vorstellen.\n",
    "\n",
    "- Fassen Sie die Ergebnisse und Überlegungen aus dem Jupyter Notebook kurz und prägnant zusammen.\n",
    "- Die Zeitvorgabe von 10 Minuten ist dabei genau einzuhalten. \n",
    "- Teilen Sie sich die Präsentation zu ungefähr gleichen Redeanteilen auf."
   ]
  },
  {
   "cell_type": "markdown",
   "id": "eb2d0af4",
   "metadata": {},
   "source": [
    "# Einbinden von eigenen Python Code \n",
    "\n",
    "Wie oben erwähnt \n",
    "* können Sie auch eigenen Python (Funktionen, Klassen, etc.) außerhalb des Jupyter Notebooks entwickeln \n",
    "* müssen Sie diesen Code aus dem Jupyter Notebook heraus verwenden  \n",
    "* müssen Sie diesen Code auch abgeben. \n",
    "\n",
    "Die Struktur für diesen Code soll sich an dem folgenden Template orientieren. \n",
    "\n",
    "```\n",
    "* TeamA.ipynb  // das Jupyter Notebook mit der Dokumentation \n",
    "* src\n",
    "    * __init__.py  // leere Datei\n",
    "    * demo.py      // Datei mit Python Code\n",
    "    * mymod1       // weiteres, eigenes Modul\n",
    "        * __init__.py\n",
    "        * mod1.py\n",
    "```\n",
    "Mit dem folgenden Code können Sie die Module entsprechend laden! "
   ]
  },
  {
   "cell_type": "code",
   "execution_count": null,
   "id": "c451f778",
   "metadata": {},
   "outputs": [],
   "source": [
    "import sys\n",
    "from pathlib import Path\n",
    "module_path = str(Path.cwd() / \"src\")\n",
    "if module_path not in sys.path:\n",
    "    sys.path.append(module_path)"
   ]
  },
  {
   "cell_type": "markdown",
   "id": "33c88110",
   "metadata": {},
   "source": [
    "* Einlesen einer Funktion 'hello()' aus dem Module hello.py"
   ]
  },
  {
   "cell_type": "code",
   "execution_count": null,
   "id": "64fe0529",
   "metadata": {},
   "outputs": [],
   "source": [
    "from hello import hello\n",
    "hello()"
   ]
  },
  {
   "cell_type": "markdown",
   "id": "a92a0a58",
   "metadata": {},
   "source": [
    "* Einlesen einer Funktion 'hellomod()' aus dem Module moduleA.hellomodule.py"
   ]
  },
  {
   "cell_type": "code",
   "execution_count": null,
   "id": "c4aceebb",
   "metadata": {},
   "outputs": [],
   "source": [
    "from moduleA.hellomodule import hellomod\n",
    "hellomod()"
   ]
  }
 ],
 "metadata": {
  "kernelspec": {
   "display_name": "Python 3",
   "language": "python",
   "name": "python3"
  },
  "language_info": {
   "codemirror_mode": {
    "name": "ipython",
    "version": 3
   },
   "file_extension": ".py",
   "mimetype": "text/x-python",
   "name": "python",
   "nbconvert_exporter": "python",
   "pygments_lexer": "ipython3",
   "version": "3.8.8"
  }
 },
 "nbformat": 4,
 "nbformat_minor": 5
}
