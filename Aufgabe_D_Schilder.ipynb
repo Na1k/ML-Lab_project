{
 "cells": [
  {
   "cell_type": "markdown",
   "id": "43cfb567",
   "metadata": {},
   "source": [
    "# Aufgabe-D-Schilder"
   ]
  },
  {
   "cell_type": "markdown",
   "id": "08eba120",
   "metadata": {
    "jp-MarkdownHeadingCollapsed": true,
    "tags": []
   },
   "source": [
    "## Bearbeiter\n",
    "**TINF19-IT2**  \n",
    "Patrick Küsters (9815596)  \n",
    "Nick Kramer (3122448)  \n",
    "**TINF19-IT1**  \n",
    "Sören Holzenkamp (8528927)"
   ]
  },
  {
   "cell_type": "markdown",
   "id": "5e5db91a",
   "metadata": {},
   "source": [
    "## VM zum Trainieren großer Modelle\n",
    "\n",
    "- Nutzung des Clusters der DHBW\n",
    "    - VPN-Endpunkt: drogon.dhbw-mannheim.de\n",
    "    - Anmeldeseite Cluster: https://cloud.4c.dhbw-mannheim.de/\n",
    "1. Ping external IP (Floating IP)\n",
    "    1. Not working? --> New Floating IP\n",
    "    2. Working --> ssh ubuntu@141.72.191.72 -i privatekey.txt"
   ]
  },
  {
   "cell_type": "markdown",
   "id": "22217a8d",
   "metadata": {},
   "source": [
    "## Datenquelle\n",
    "\n",
    "\n",
    "* Laden Sie ihre Daten von http://141.72.190.207/ml_lab/D_schilder herunter\n",
    "    * Die Daten sind geschützt. \n",
    "    * Sie müssen evtl. in einem Netzwerk der DHBW (z.B. WLAN, VPN, ...) angemeldet sein. \n",
    "        * Sie können sich auf der Webseite mit dem Benutzernamen dhbw und dem Zugangsnamen ml_2021 anmelden. \n",
    "    \n",
    "\n"
   ]
  },
  {
   "cell_type": "markdown",
   "id": "cc5ac3a3",
   "metadata": {},
   "source": [
    "## Readme der Daten\n",
    "\n",
    "This archive contains the following structure:\n",
    "\n",
    "There is one directory for each of the 43 classes (0000 - 00043).\n",
    "Each directory contains the corresponding training images and one \n",
    "text file with annotations, eg. GT-00000.csv. \n",
    "\n",
    "\n",
    "**********************************************\n",
    "Image format and naming  \n",
    "**********************************************\n",
    "The images are PPM images (RGB color). Files are numbered in two parts:\n",
    "\n",
    "   XXXXX_YYYYY.ppm\n",
    "\n",
    "The first part, XXXXX, represents the track number. All images of one class \n",
    "with identical track numbers originate from one single physical traffic sign.\n",
    "The second part, YYYYY, is a running number within the track. The temporal order\n",
    "of the images is preserved.\n",
    "\n",
    "\n",
    "**********************************************\n",
    "Annotation format\n",
    "**********************************************\n",
    "\n",
    "The annotations are stored in CSV format (field separator\n",
    "is \";\" (semicolon) ). The annotations contain meta information \n",
    "about the image and the class id.\n",
    "\n",
    "\n",
    "In detail, the annotations provide the following fields:\n",
    "\n",
    "Filename        - Image file the following information applies to\n",
    "Width, Height   - Dimensions of the image\n",
    "Roi.x1,Roi.y1,\n",
    "Roi.x2,Roi.y2   - Location of the sign within the image\n",
    "\t\t  (Images contain a border around the actual sign\n",
    "                  of 10 percent of the sign size, at least 5 pixel)\n",
    "ClassId         - The class of the traffic sign\n"
   ]
  },
  {
   "cell_type": "markdown",
   "id": "f950e859",
   "metadata": {},
   "source": [
    "## Aufgabe"
   ]
  },
  {
   "cell_type": "markdown",
   "id": "9feb2464",
   "metadata": {},
   "source": [
    "* die Daten \n",
    "    * enthalten mehr als 50000 Bilder von Verkehrsschilder auf deutschen Straßen\n",
    "    * pro Klasse der Daten gibt es ein Verzeichnis\n",
    "    * in jeder Klasse gibt eine CSV-Datei mit Annotationen der Bilder\n",
    "        * Die Namen lauten GT-<ClassID>.csv\n",
    "* die Bilder \n",
    "    * enthalten genau ein Verkehrszeichen, mit ca. 10% Rand um das Verkehrszeichen\n",
    "    * sind im PPM Format gespeichert\n",
    "    * die Größen der Bilder variieren von 15x15 Pixel bis zu 250x250 Pixel\n",
    "        * die Bilder müssen aber nicht quadratisch sein\n",
    "    * In den Annotationen ist auch die Bounding Box hinterlegt\n",
    "* die Annotations-Datei hat den folgenden Werte\n",
    "    * Dateiname, Width, Height, BB.x1, BB.y1, BB.x2, BB.y2, ClassId\n",
    "        * BB steht für BoundingBox\n",
    "\n",
    "Erstellen Sie ein tiefes neuronales Netz, dass Schilder in Bildern erkennt und die Position des erkannten Schilds als Bounding Box ausgibt! Die Lösung soll auch mehrere Schilder in einem Bild erkennen können! \n"
   ]
  },
  {
   "cell_type": "markdown",
   "id": "1f2770b8-0694-409c-b46f-06672363cc6b",
   "metadata": {},
   "source": [
    "# Lokalisieren von Verkehrsschildern"
   ]
  },
  {
   "cell_type": "markdown",
   "id": "88bcb183-b359-4560-aa16-648e064e6e06",
   "metadata": {},
   "source": [
    "Für das Lokalisieren von Objekten in Bildern werden überlicherweise Region Based Convolutional Neural Networks (R-CNNs) verwendendet. Diese Methode wurde mit der Zeit verbessert:\n",
    "* November 2013: R-CNN\n",
    "* April 2015: Fast R-CNN\n",
    "* Juni 2015: Faster R-CNN\n",
    "* März 2017: Mask R-CNN\n",
    "* Juni 2019: Mesh R-CNN\n",
    "\n",
    "Diese und weitere Ansätze und Algorithmen werden in verschiedenen Frameworks benutzt. Eines davon ist YOLO, welches später benutzt wird."
   ]
  },
  {
   "cell_type": "markdown",
   "id": "fd71f3d3-2da8-44d0-b7d9-aa3cd4f9ddd3",
   "metadata": {},
   "source": [
    "Im Folgenden wird mithilfe von Bounding Box Regression ein Maschine Learning Modell entwickelt, welches die Position in Form von Bounding Boxes von Verkehrsschildern erkennt."
   ]
  },
  {
   "cell_type": "markdown",
   "id": "240baae2-b69f-4e45-b275-71a55b2ba151",
   "metadata": {},
   "source": [
    "Beispiel Bounding Box:\n",
    "    TODO"
   ]
  },
  {
   "cell_type": "markdown",
   "id": "a408db09-ceeb-4797-8727-cd1f27ecac4f",
   "metadata": {},
   "source": [
    "## Image Generator\n",
    "\n",
    "Da die vorliegenden Trainingsbilder bereits auf die Verkehrsschilder zugeschnitten sind und lediglich 10% Rand um diese aufweisen, wurde sich dazu entschieden syntetische Trainingsdaten aus den vorhandenen Trainingsbildern und neuen Hintergrundbildern zu generieren. \\\n",
    "Dafür wurde eine die Funktion\\\n",
    "generate_raster_sign_image(\n",
    "*    number_of_images,\n",
    "*    number_of_signs,\n",
    "*    path_to_bg_img_folder,\n",
    "*    pre_path_sign,\n",
    "*    sign_size,\n",
    "*    raster_width,\n",
    "*    raster_height,\n",
    "*    sign_with_clahe,\n",
    "*    verbose=False,\n",
    "*    show_images=False)\n",
    "\n",
    "erstellt. Diese verwendet die beiden neu programmierten Funktionen *_get_random_signs()* und *_get_bg_images()* um zufällige Verkehrsschilder rasterförmig zufällig verteilt auf Hintergrundbilder zu platzieren."
   ]
  },
  {
   "cell_type": "markdown",
   "id": "317fb783-ea30-4580-b8ef-822272741ebc",
   "metadata": {},
   "source": [
    "Beispielbilder generate_raster_sign_image:\n",
    "    TODO"
   ]
  },
  {
   "cell_type": "markdown",
   "id": "fb89166a-29e4-4acf-8fd6-8ad5a700f678",
   "metadata": {},
   "source": [
    "Neben den generierten Bildern werden auch die Boundings Boxes und Labels als Liste von Dictionarys zurückgegeben. Keys: Bounding Boxes als Tuple und Classifier als Value."
   ]
  },
  {
   "cell_type": "markdown",
   "id": "f7fa033d-4373-4932-8e37-becb7061ed6e",
   "metadata": {},
   "source": [
    "## Imports\n",
    "Lokal entwickelte Skripte und Module"
   ]
  },
  {
   "cell_type": "code",
   "execution_count": 1,
   "id": "b38d78f0-3534-4ca1-8670-e3d2b0056f85",
   "metadata": {
    "tags": []
   },
   "outputs": [],
   "source": [
    "import sys\n",
    "from pathlib import Path\n",
    "module_path = str(Path.cwd() / \"src\")\n",
    "if module_path not in sys.path:\n",
    "    sys.path.append(module_path)\n",
    "from reader import Reader\n",
    "from display_data import ImageDisplayer\n",
    "from image_detection import predict_and_display_img\n",
    "from evaluation import plot_confusion_matrix\n",
    "import collage"
   ]
  },
  {
   "cell_type": "markdown",
   "id": "44d35ca3",
   "metadata": {},
   "source": [
    "Externe Bibliotheken"
   ]
  },
  {
   "cell_type": "code",
   "execution_count": 2,
   "id": "98298860",
   "metadata": {},
   "outputs": [],
   "source": [
    "from tensorflow.keras.layers import Flatten\n",
    "from tensorflow.keras.layers import Dense\n",
    "from tensorflow.keras.layers import Input\n",
    "from tensorflow.keras.layers import MaxPooling2D\n",
    "from tensorflow.keras.layers import Conv2D\n",
    "from tensorflow.keras.layers import BatchNormalization\n",
    "from tensorflow.keras.layers import AvgPool2D\n",
    "from tensorflow.keras.layers import Activation\n",
    "from tensorflow.keras.layers import Dropout\n",
    "from tensorflow.keras.models import Model\n",
    "from tensorflow.keras.models import load_model\n",
    "from tensorflow.keras.models import Sequential\n",
    "from tensorflow.keras.optimizers import Adam\n",
    "from tensorflow.keras.preprocessing.image import img_to_array\n",
    "from tensorflow.keras.preprocessing.image import load_img\n",
    "from tensorflow.keras.preprocessing.image import ImageDataGenerator\n",
    "from tensorflow.keras.utils import to_categorical\n",
    "\n",
    "from sklearn.model_selection import train_test_split\n",
    "from sklearn.metrics import confusion_matrix\n",
    "from skimage import exposure, transform\n",
    "import matplotlib.pyplot as plt\n",
    "import keras_tuner as kt\n",
    "import tensorflow as tf\n",
    "from tqdm import tqdm\n",
    "from PIL import Image\n",
    "import pandas as pd\n",
    "import numpy as np\n",
    "import mimetypes\n",
    "import pickle\n",
    "import cv2\n",
    "import os"
   ]
  },
  {
   "cell_type": "markdown",
   "id": "62bd13c0-2aab-40e5-a0cf-2aaa8a025ddb",
   "metadata": {
    "tags": []
   },
   "source": [
    "## Training mit einem Verkehrszeichen pro Bild"
   ]
  },
  {
   "cell_type": "markdown",
   "id": "78dff0a5-ba32-4a72-af45-189575ec5a27",
   "metadata": {},
   "source": [
    "### Vorverarbeitung"
   ]
  },
  {
   "cell_type": "code",
   "execution_count": 3,
   "id": "6d77b0a0-9e31-42a6-b8de-cb8c93c57884",
   "metadata": {
    "tags": []
   },
   "outputs": [],
   "source": [
    "file = open(r\"./data_preprocessed/data_1.pickle\", 'rb')\n",
    "data = pickle.load(file)\n",
    "file.close()\n",
    "file = open(r\"./data_preprocessed/labels_1.pickle\", 'rb')\n",
    "labels = pickle.load(file)\n",
    "file.close()"
   ]
  },
  {
   "cell_type": "code",
   "execution_count": 4,
   "id": "9f666282-53b9-47d2-883c-503ff335d530",
   "metadata": {},
   "outputs": [],
   "source": [
    "input_shape = data[0].shape"
   ]
  },
  {
   "cell_type": "code",
   "execution_count": 5,
   "id": "7b19cb9f-bc09-4302-8849-d93e52fbe9e1",
   "metadata": {},
   "outputs": [],
   "source": [
    "targets = []\n",
    "for k in labels:\n",
    "    e = next(iter(k)) #first BB is the only one\n",
    "    x1, y1, x2, y2 = e #extract coordinates\n",
    "    h, w = input_shape[:2]\n",
    "    x1 = x1/w #scale with image shape\n",
    "    y1 = y1/h\n",
    "    x2 = x2/w\n",
    "    y2 = y2/h\n",
    "    targets.append((x1, y1, x2, y2))\n",
    "    \n",
    "# convert the data and targets to NumPy arrays, scaling the input\n",
    "# pixel intensities from the range [0, 255] to [0, 1]\n",
    "data = np.array(data, dtype=\"float32\") / 255.0\n",
    "targets = np.array(targets, dtype=\"float32\")"
   ]
  },
  {
   "cell_type": "markdown",
   "id": "8349f5cc-874c-4477-809f-d3e9b42b9415",
   "metadata": {},
   "source": [
    "### Aufteilen der Daten zu Trainings, Validierungs und Testdaten"
   ]
  },
  {
   "cell_type": "code",
   "execution_count": 6,
   "id": "d2526cda-2e62-4909-a8b1-61105203bfbc",
   "metadata": {},
   "outputs": [],
   "source": [
    "split = train_test_split(data, targets, test_size=0.25, random_state=42)\n",
    "\n",
    "(trainImages, testImages) = split[:2]\n",
    "(trainTargets, testTargets) = split[2:4]\n",
    "\n",
    "split = train_test_split(testImages, testTargets, test_size=0.5, random_state=42)\n",
    "\n",
    "(validationImages, testImages) = split[:2]\n",
    "(validationTargets, testTargets) = split[2:4]"
   ]
  },
  {
   "cell_type": "markdown",
   "id": "51922ccf-73a5-4d60-80a3-0f7c84c6f9fb",
   "metadata": {},
   "source": [
    "### Modell erstellen"
   ]
  },
  {
   "cell_type": "code",
   "execution_count": 7,
   "id": "c52db92f-7980-4465-8a76-09733273e0f9",
   "metadata": {},
   "outputs": [
    {
     "name": "stdout",
     "output_type": "stream",
     "text": [
      "Model: \"model\"\n",
      "_________________________________________________________________\n",
      " Layer (type)                Output Shape              Param #   \n",
      "=================================================================\n",
      " input_1 (InputLayer)        [(None, 64, 96, 3)]       0         \n",
      "                                                                 \n",
      " bl_2 (Conv2D)               (None, 64, 96, 16)        448       \n",
      "                                                                 \n",
      " bl_3 (MaxPooling2D)         (None, 32, 48, 16)        0         \n",
      "                                                                 \n",
      " bl_4 (Conv2D)               (None, 32, 48, 32)        4640      \n",
      "                                                                 \n",
      " bl_5 (MaxPooling2D)         (None, 16, 24, 32)        0         \n",
      "                                                                 \n",
      " bl_6 (Conv2D)               (None, 16, 24, 64)        18496     \n",
      "                                                                 \n",
      " bl_7 (MaxPooling2D)         (None, 8, 12, 64)         0         \n",
      "                                                                 \n",
      " bl_8 (Flatten)              (None, 6144)              0         \n",
      "                                                                 \n",
      " bb_1 (Dense)                (None, 128)               786560    \n",
      "                                                                 \n",
      " bb_2 (Dense)                (None, 64)                8256      \n",
      "                                                                 \n",
      " bb_3 (Dense)                (None, 32)                2080      \n",
      "                                                                 \n",
      " bb_head (Dense)             (None, 4)                 132       \n",
      "                                                                 \n",
      "=================================================================\n",
      "Total params: 820,612\n",
      "Trainable params: 820,612\n",
      "Non-trainable params: 0\n",
      "_________________________________________________________________\n"
     ]
    }
   ],
   "source": [
    "input_layer = Input(input_shape)\n",
    "\n",
    "#create the base layers\n",
    "base_layers = Conv2D(16, 3, padding='same', activation='relu', name='bl_2')(input_layer)\n",
    "base_layers = MaxPooling2D(name='bl_3')(base_layers)\n",
    "base_layers = Conv2D(32, 3, padding='same', activation='relu', name='bl_4')(base_layers)\n",
    "base_layers = MaxPooling2D(name='bl_5')(base_layers)\n",
    "base_layers = Conv2D(64, 3, padding='same', activation='relu', name='bl_6')(base_layers)\n",
    "base_layers = MaxPooling2D(name='bl_7')(base_layers)\n",
    "base_layers = Flatten(name='bl_8')(base_layers)\n",
    "\n",
    "#create the localiser branch\n",
    "locator_branch = Dense(128, activation='relu', name='bb_1')(base_layers)\n",
    "locator_branch = Dense(64, activation='relu', name='bb_2')(locator_branch)\n",
    "locator_branch = Dense(32, activation='relu', name='bb_3')(locator_branch)\n",
    "locator_branch = Dense(4, activation='sigmoid', name='bb_head')(locator_branch)\n",
    "\n",
    "model = tf.keras.Model(input_layer, outputs=locator_branch)\n",
    "model.summary()"
   ]
  },
  {
   "cell_type": "code",
   "execution_count": 8,
   "id": "971803c2-29d0-4c2a-98c1-933c3dcdf7c7",
   "metadata": {},
   "outputs": [],
   "source": [
    "loss = tf.keras.losses.MAE"
   ]
  },
  {
   "cell_type": "code",
   "execution_count": 9,
   "id": "899a7f7e-6814-4694-b865-7a50e8ec3ed3",
   "metadata": {},
   "outputs": [],
   "source": [
    "model.compile(loss=loss, optimizer='Adam')"
   ]
  },
  {
   "cell_type": "markdown",
   "id": "1ede130f-cbf1-4d00-8c05-d241b243a6e1",
   "metadata": {},
   "source": [
    "### Trainig starten"
   ]
  },
  {
   "cell_type": "code",
   "execution_count": 10,
   "id": "431c9561-1cae-4c46-be6a-ca5e62ff3bfe",
   "metadata": {},
   "outputs": [],
   "source": [
    "epoch_num = 2"
   ]
  },
  {
   "cell_type": "code",
   "execution_count": 11,
   "id": "840ec345-cd0d-43d7-9737-3f0448299f44",
   "metadata": {},
   "outputs": [
    {
     "name": "stdout",
     "output_type": "stream",
     "text": [
      "Epoch 1/2\n",
      "750/750 [==============================] - 25s 32ms/step - loss: 0.0493 - val_loss: 0.0179\n",
      "Epoch 2/2\n",
      "750/750 [==============================] - 24s 32ms/step - loss: 0.0160 - val_loss: 0.0176\n"
     ]
    }
   ],
   "source": [
    "training = model.fit(trainImages, trainTargets,\n",
    "             validation_data=(testImages, testTargets),\n",
    "             batch_size=10,\n",
    "             epochs=epoch_num,\n",
    "             shuffle=True,\n",
    "             verbose=1)"
   ]
  },
  {
   "cell_type": "markdown",
   "id": "c35e5d9f-44a0-4eb6-8344-ef55e0b3d191",
   "metadata": {},
   "source": [
    "### Modell abspeichern"
   ]
  },
  {
   "cell_type": "code",
   "execution_count": 12,
   "id": "676892dc-d59f-416a-984a-98e4fec66aab",
   "metadata": {},
   "outputs": [],
   "source": [
    "model.save(r\"models/models_regr_1_1\", save_format=\"h5\")"
   ]
  },
  {
   "cell_type": "markdown",
   "id": "7776ee1e-ebdf-4a54-838e-9298f48c791c",
   "metadata": {},
   "source": [
    "### Visualieren des Trainings"
   ]
  },
  {
   "cell_type": "code",
   "execution_count": 13,
   "id": "35f2c3d5-d85b-4629-950c-b5be9fe5a4a7",
   "metadata": {},
   "outputs": [
    {
     "data": {
      "image/png": "[encoded data removed]",
      "text/plain": [
       "<Figure size 432x288 with 1 Axes>"
      ]
     },
     "metadata": {},
     "output_type": "display_data"
    }
   ],
   "source": [
    "plt.style.use(\"ggplot\")\n",
    "plt.figure()\n",
    "plt.plot(np.arange(0, epoch_num), training.history[\"loss\"], label=\"train_loss\")\n",
    "plt.plot(np.arange(0, epoch_num), training.history[\"val_loss\"], label=\"val_loss\")\n",
    "plt.title(\"Bounding Box Regression Loss on Training Set\")\n",
    "plt.xlabel(\"Epoch #\")\n",
    "plt.ylabel(\"Loss\")\n",
    "plt.legend(loc=\"upper right\")\n",
    "plt.show()"
   ]
  },
  {
   "cell_type": "markdown",
   "id": "2e8d2bac-e9fa-4a1c-8b2f-6c16e5864f89",
   "metadata": {},
   "source": [
    "### Modell aus Datei laden"
   ]
  },
  {
   "cell_type": "code",
   "execution_count": 46,
   "id": "383e9068-640c-4aec-8550-478ed2edd5f5",
   "metadata": {},
   "outputs": [],
   "source": [
    "model = load_model(r\"./models/models_regr_1\")"
   ]
  },
  {
   "cell_type": "markdown",
   "id": "ef21b5a0-904e-42d8-823f-d960e0e2d1a4",
   "metadata": {},
   "source": [
    "### Anzeigen von Testbildern"
   ]
  },
  {
   "cell_type": "code",
   "execution_count": 15,
   "id": "84765df4-7066-4f70-af02-bd3a6b88511f",
   "metadata": {},
   "outputs": [
    {
     "ename": "KeyboardInterrupt",
     "evalue": "",
     "output_type": "error",
     "traceback": [
      "\u001b[1;31m---------------------------------------------------------------------------\u001b[0m",
      "\u001b[1;31mKeyboardInterrupt\u001b[0m                         Traceback (most recent call last)",
      "\u001b[1;32m<ipython-input-15-5a2b4e190b15>\u001b[0m in \u001b[0;36m<module>\u001b[1;34m\u001b[0m\n\u001b[0;32m      1\u001b[0m \u001b[1;32mfor\u001b[0m \u001b[0mimage\u001b[0m\u001b[1;33m,\u001b[0m \u001b[0mbounding\u001b[0m \u001b[1;32min\u001b[0m \u001b[0mzip\u001b[0m\u001b[1;33m(\u001b[0m\u001b[0mtestImages\u001b[0m\u001b[1;33m,\u001b[0m \u001b[0mtestTargets\u001b[0m\u001b[1;33m)\u001b[0m\u001b[1;33m:\u001b[0m\u001b[1;33m\u001b[0m\u001b[1;33m\u001b[0m\u001b[0m\n\u001b[1;32m----> 2\u001b[1;33m     \u001b[0mpredict_and_display_img\u001b[0m\u001b[1;33m(\u001b[0m\u001b[0mmodel\u001b[0m\u001b[1;33m,\u001b[0m \u001b[0mimage\u001b[0m\u001b[1;33m,\u001b[0m \u001b[0mbounding\u001b[0m\u001b[1;33m)\u001b[0m\u001b[1;33m\u001b[0m\u001b[1;33m\u001b[0m\u001b[0m\n\u001b[0m",
      "\u001b[1;32m~\\git\\Aufgabe_D_Schilder\\src\\image_detection.py\u001b[0m in \u001b[0;36mpredict_and_display_img\u001b[1;34m(model, image, bounding)\u001b[0m\n\u001b[0;32m     25\u001b[0m     \u001b[0mcv2\u001b[0m\u001b[1;33m.\u001b[0m\u001b[0mnamedWindow\u001b[0m\u001b[1;33m(\u001b[0m\u001b[1;34m'Output'\u001b[0m\u001b[1;33m,\u001b[0m \u001b[0mcv2\u001b[0m\u001b[1;33m.\u001b[0m\u001b[0mWINDOW_NORMAL\u001b[0m\u001b[1;33m)\u001b[0m\u001b[1;33m\u001b[0m\u001b[1;33m\u001b[0m\u001b[0m\n\u001b[0;32m     26\u001b[0m     \u001b[0mcv2\u001b[0m\u001b[1;33m.\u001b[0m\u001b[0mimshow\u001b[0m\u001b[1;33m(\u001b[0m\u001b[1;34m\"Output\"\u001b[0m\u001b[1;33m,\u001b[0m \u001b[0mimage\u001b[0m\u001b[1;33m)\u001b[0m\u001b[1;33m\u001b[0m\u001b[1;33m\u001b[0m\u001b[0m\n\u001b[1;32m---> 27\u001b[1;33m     \u001b[0mcv2\u001b[0m\u001b[1;33m.\u001b[0m\u001b[0mwaitKey\u001b[0m\u001b[1;33m(\u001b[0m\u001b[1;36m0\u001b[0m\u001b[1;33m)\u001b[0m\u001b[1;33m\u001b[0m\u001b[1;33m\u001b[0m\u001b[0m\n\u001b[0m",
      "\u001b[1;31mKeyboardInterrupt\u001b[0m: "
     ]
    }
   ],
   "source": [
    "for image, bounding in zip(testImages, testTargets):\n",
    "    predict_and_display_img(model, image, bounding)"
   ]
  },
  {
   "cell_type": "markdown",
   "id": "1c2d0f09-77d8-4df7-ba61-b064a4cc346e",
   "metadata": {},
   "source": [
    "## Training mit mehreren Verkehrsschilder"
   ]
  },
  {
   "cell_type": "code",
   "execution_count": 14,
   "id": "bfe3d352-d4ce-4adf-b4a1-85cb2de9eb13",
   "metadata": {
    "tags": []
   },
   "outputs": [],
   "source": [
    "file = open(r\"./data_preprocessed/data_3.pickle\", 'rb')\n",
    "data = pickle.load(file)\n",
    "file.close()\n",
    "file = open(r\"./data_preprocessed/labels_3.pickle\", 'rb')\n",
    "labels = pickle.load(file)\n",
    "file.close()"
   ]
  },
  {
   "cell_type": "code",
   "execution_count": 15,
   "id": "aa4b228b-614d-4f08-8ea0-9fed70025e60",
   "metadata": {},
   "outputs": [],
   "source": [
    "targets = []\n",
    "input_shape = data[0].shape\n",
    "for k in labels:\n",
    "    a = list(k.keys())\n",
    "    a.sort(key=lambda x: (x[0], x[1])) ## wichtig! Erläuterung: nächste Zelle\n",
    "    temp = [] #input vektor for model\n",
    "    for e in a:\n",
    "        x1, y1, x2, y2 = e #extract coordinates\n",
    "        h, w = input_shape[:2]\n",
    "        temp.append(x1/w) #scale with image shape\n",
    "        temp.append(y1/h)\n",
    "        temp.append(x2/w)\n",
    "        temp.append(y2/h)\n",
    "    targets.append(temp)\n",
    "    \n",
    "# convert the data and targets to NumPy arrays, scaling the input\n",
    "# pixel intensities from the range [0, 255] to [0, 1]\n",
    "data = np.array(data, dtype=\"float32\") / 255.0\n",
    "targets = np.array(targets, dtype=\"float32\")"
   ]
  },
  {
   "cell_type": "markdown",
   "id": "56485f91-74ca-4903-b026-cfb86f22f1ee",
   "metadata": {
    "tags": []
   },
   "source": [
    "Es ist wichtig, dass das maschine learning modell zwischen den einzelnen verkehrsschildern unterscheiden kann. \\\n",
    "Dafür müssen die Bounding Boxen, bzw. die Koordinaten dieser, für den Eingabevektor immer eine spezielle Reihenfolge haben. \\\n",
    "Um dies zu erreichen wurde sich dazu entschieden, die Boxen nach ihrer X-Koordinaate der oberen linken Ecke zu sortieren. Bei gleichen Werten wird nach der Y-Koordiate entschieden.\n",
    "\n",
    "Wird keine Sortierung vorgenommen, sieht das Ergebnis wie folgt aus: \\\n",
    "<img src=\"./images/3_signs_without_sort1.png\">     <img src=\"./images/3_signs_without_sort2.png\">\\\n",
    "Grün = Predicted Bounding Box, Rot = actual Bounding Box"
   ]
  },
  {
   "cell_type": "code",
   "execution_count": 16,
   "id": "5c09a930-a61c-4c1a-a043-f82b827ef37d",
   "metadata": {},
   "outputs": [],
   "source": [
    "split = train_test_split(data, targets, test_size=0.25, random_state=42)\n",
    "\n",
    "(trainImages, testImages) = split[:2]\n",
    "(trainTargets, testTargets) = split[2:4]\n",
    "\n",
    "split = train_test_split(testImages, testTargets, test_size=0.5, random_state=42)\n",
    "\n",
    "(validationImages, testImages) = split[:2]\n",
    "(validationTargets, testTargets) = split[2:4]"
   ]
  },
  {
   "cell_type": "markdown",
   "id": "507e2f6b-678c-45b9-82bb-079689236edf",
   "metadata": {},
   "source": [
    "### Modell erstellen"
   ]
  },
  {
   "cell_type": "code",
   "execution_count": 17,
   "id": "9a9ce91c-c1fb-4c66-bdab-d94c648e027a",
   "metadata": {},
   "outputs": [
    {
     "name": "stdout",
     "output_type": "stream",
     "text": [
      "Model: \"model_1\"\n",
      "_________________________________________________________________\n",
      " Layer (type)                Output Shape              Param #   \n",
      "=================================================================\n",
      " input_2 (InputLayer)        [(None, 128, 192, 3)]     0         \n",
      "                                                                 \n",
      " bl_2 (Conv2D)               (None, 128, 192, 16)      448       \n",
      "                                                                 \n",
      " bl_3 (MaxPooling2D)         (None, 64, 96, 16)        0         \n",
      "                                                                 \n",
      " bl_4 (Conv2D)               (None, 64, 96, 24)        3480      \n",
      "                                                                 \n",
      " bl_5 (MaxPooling2D)         (None, 32, 48, 24)        0         \n",
      "                                                                 \n",
      " bl_6 (Conv2D)               (None, 32, 48, 32)        6944      \n",
      "                                                                 \n",
      " bl_7 (MaxPooling2D)         (None, 16, 24, 32)        0         \n",
      "                                                                 \n",
      " bl_8 (Conv2D)               (None, 16, 24, 48)        13872     \n",
      "                                                                 \n",
      " bl_9 (MaxPooling2D)         (None, 8, 12, 48)         0         \n",
      "                                                                 \n",
      " bl_10 (Conv2D)              (None, 8, 12, 64)         27712     \n",
      "                                                                 \n",
      " bl_11 (MaxPooling2D)        (None, 4, 6, 64)          0         \n",
      "                                                                 \n",
      " bl_12 (Conv2D)              (None, 4, 6, 96)          55392     \n",
      "                                                                 \n",
      " bl_13 (MaxPooling2D)        (None, 2, 3, 96)          0         \n",
      "                                                                 \n",
      " bl_14 (Conv2D)              (None, 2, 3, 128)         110720    \n",
      "                                                                 \n",
      " bl_15 (MaxPooling2D)        (None, 1, 1, 128)         0         \n",
      "                                                                 \n",
      " bl_18 (Flatten)             (None, 128)               0         \n",
      "                                                                 \n",
      " bb_1 (Dense)                (None, 128)               16512     \n",
      "                                                                 \n",
      " bb_2 (Dense)                (None, 96)                12384     \n",
      "                                                                 \n",
      " bb_3 (Dense)                (None, 64)                6208      \n",
      "                                                                 \n",
      " bb_4 (Dense)                (None, 48)                3120      \n",
      "                                                                 \n",
      " bb_5 (Dense)                (None, 32)                1568      \n",
      "                                                                 \n",
      " bb_6 (Dense)                (None, 16)                528       \n",
      "                                                                 \n",
      " bb_head (Dense)             (None, 12)                204       \n",
      "                                                                 \n",
      "=================================================================\n",
      "Total params: 259,092\n",
      "Trainable params: 259,092\n",
      "Non-trainable params: 0\n",
      "_________________________________________________________________\n"
     ]
    }
   ],
   "source": [
    "input_layer = Input(input_shape)\n",
    "\n",
    "#create the base layers\n",
    "base_layers = Conv2D(16, 3, padding='same', activation='relu', name='bl_2')(input_layer)\n",
    "base_layers = MaxPooling2D(name='bl_3')(base_layers)\n",
    "base_layers = Conv2D(24, 3, padding='same', activation='relu', name='bl_4')(base_layers)\n",
    "base_layers = MaxPooling2D(name='bl_5')(base_layers)\n",
    "base_layers = Conv2D(32, 3, padding='same', activation='relu', name='bl_6')(base_layers)\n",
    "base_layers = MaxPooling2D(name='bl_7')(base_layers)\n",
    "base_layers = Conv2D(48, 3, padding='same', activation='relu', name='bl_8')(base_layers)\n",
    "base_layers = MaxPooling2D(name='bl_9')(base_layers)\n",
    "base_layers = Conv2D(64, 3, padding='same', activation='relu', name='bl_10')(base_layers)\n",
    "base_layers = MaxPooling2D(name='bl_11')(base_layers)\n",
    "base_layers = Conv2D(96, 3, padding='same', activation='relu', name='bl_12')(base_layers)\n",
    "base_layers = MaxPooling2D(name='bl_13')(base_layers)\n",
    "base_layers = Conv2D(128, 3, padding='same', activation='relu', name='bl_14')(base_layers)\n",
    "base_layers = MaxPooling2D(name='bl_15')(base_layers)\n",
    "base_layers = Flatten(name='bl_18')(base_layers)\n",
    "\n",
    "#create the localiser branch\n",
    "locator_branch = Dense(128, activation='relu', name='bb_1')(base_layers)\n",
    "locator_branch = Dense(96, activation='relu', name='bb_2')(locator_branch)\n",
    "locator_branch = Dense(64, activation='relu', name='bb_3')(locator_branch)\n",
    "locator_branch = Dense(48, activation='relu', name='bb_4')(locator_branch)\n",
    "locator_branch = Dense(32, activation='relu', name='bb_5')(locator_branch)\n",
    "locator_branch = Dense(16, activation='relu', name='bb_6')(locator_branch)\n",
    "locator_branch = Dense(12, activation='sigmoid', name='bb_head')(locator_branch)\n",
    "\n",
    "model = tf.keras.Model(input_layer, outputs=locator_branch)\n",
    "model.summary()"
   ]
  },
  {
   "cell_type": "code",
   "execution_count": 18,
   "id": "70a4b0bb-5d88-4393-ba48-a24b7c456282",
   "metadata": {},
   "outputs": [],
   "source": [
    "loss = tf.keras.losses.MAE"
   ]
  },
  {
   "cell_type": "code",
   "execution_count": 19,
   "id": "a3b589ea-f722-4455-917f-74438735f583",
   "metadata": {},
   "outputs": [],
   "source": [
    "model.compile(loss=loss, optimizer='Adam')"
   ]
  },
  {
   "cell_type": "markdown",
   "id": "6bc72e10-25a4-4676-9163-1a7a345ea7b5",
   "metadata": {},
   "source": [
    "### Trainig starten"
   ]
  },
  {
   "cell_type": "code",
   "execution_count": 22,
   "id": "7f8ff639-cfa2-47a1-8e6b-8f5f1bd2dd9a",
   "metadata": {},
   "outputs": [],
   "source": [
    "epoch_num = 15"
   ]
  },
  {
   "cell_type": "code",
   "execution_count": 9,
   "id": "e49e8ea0-770b-4f88-a762-1780560e69ad",
   "metadata": {},
   "outputs": [
    {
     "name": "stderr",
     "output_type": "stream",
     "text": [
      "2022-03-15 16:44:03.382789: W tensorflow/core/framework/cpu_allocator_impl.cc:82] Allocation of 4423680000 exceeds 10% of free system memory.\n"
     ]
    },
    {
     "name": "stdout",
     "output_type": "stream",
     "text": [
      "Epoch 1/15\n",
      "1500/1500 [==============================] - 180s 120ms/step - loss: 0.1718 - val_loss: 0.1257\n",
      "Epoch 2/15\n",
      "1500/1500 [==============================] - 198s 132ms/step - loss: 0.1160 - val_loss: 0.1115\n",
      "Epoch 3/15\n",
      "1500/1500 [==============================] - 202s 135ms/step - loss: 0.1020 - val_loss: 0.0918\n",
      "Epoch 4/15\n",
      "1500/1500 [==============================] - 203s 136ms/step - loss: 0.0855 - val_loss: 0.0833\n",
      "Epoch 5/15\n",
      "1500/1500 [==============================] - 185s 123ms/step - loss: 0.0812 - val_loss: 0.0815\n",
      "Epoch 6/15\n",
      "1500/1500 [==============================] - 187s 125ms/step - loss: 0.0790 - val_loss: 0.0807\n",
      "Epoch 7/15\n",
      "1500/1500 [==============================] - 190s 127ms/step - loss: 0.0755 - val_loss: 0.0758\n",
      "Epoch 8/15\n",
      "1500/1500 [==============================] - 190s 127ms/step - loss: 0.0709 - val_loss: 0.0637\n",
      "Epoch 9/15\n",
      "1500/1500 [==============================] - 196s 131ms/step - loss: 0.0562 - val_loss: 0.0538\n",
      "Epoch 10/15\n",
      "1500/1500 [==============================] - 193s 128ms/step - loss: 0.0497 - val_loss: 0.0517\n",
      "Epoch 11/15\n",
      "1500/1500 [==============================] - 196s 131ms/step - loss: 0.0468 - val_loss: 0.0505\n",
      "Epoch 12/15\n",
      "1500/1500 [==============================] - 190s 127ms/step - loss: 0.0455 - val_loss: 0.0475\n",
      "Epoch 13/15\n",
      "1500/1500 [==============================] - 187s 125ms/step - loss: 0.0441 - val_loss: 0.0501\n",
      "Epoch 14/15\n",
      "1500/1500 [==============================] - 192s 128ms/step - loss: 0.0434 - val_loss: 0.0466\n",
      "Epoch 15/15\n",
      "1500/1500 [==============================] - 192s 128ms/step - loss: 0.0426 - val_loss: 0.0486\n"
     ]
    }
   ],
   "source": [
    "training = model.fit(trainImages, trainTargets,\n",
    "             validation_data=(testImages, testTargets),\n",
    "             batch_size=10,\n",
    "             epochs=epoch_num,\n",
    "             shuffle=True,\n",
    "             verbose=1)"
   ]
  },
  {
   "cell_type": "markdown",
   "id": "9610c705-8613-4ebf-9d7f-6fdf965ef2b0",
   "metadata": {},
   "source": [
    "### Modell abspeichern"
   ]
  },
  {
   "cell_type": "code",
   "execution_count": 11,
   "id": "9bf981ad-5538-4625-8548-516db431f985",
   "metadata": {},
   "outputs": [],
   "source": [
    "model.save(r\"./models/models_regr_3signs_1\", save_format=\"h5\")"
   ]
  },
  {
   "cell_type": "markdown",
   "id": "8de0035f-5df5-4cea-a50f-df356862ddea",
   "metadata": {},
   "source": [
    "### Visualieren des Trainings"
   ]
  },
  {
   "cell_type": "code",
   "execution_count": 13,
   "id": "d63d08d3-12e7-4152-b799-d05fb1c2f822",
   "metadata": {},
   "outputs": [
    {
     "data": {
      "image/png": "[encoded data removed]",
      "text/plain": [
       "<Figure size 432x288 with 1 Axes>"
      ]
     },
     "metadata": {},
     "output_type": "display_data"
    }
   ],
   "source": [
    "plt.style.use(\"ggplot\")\n",
    "plt.figure()\n",
    "plt.plot(np.arange(0, epoch_num), training.history[\"loss\"], label=\"train_loss\")\n",
    "plt.plot(np.arange(0, epoch_num), training.history[\"val_loss\"], label=\"val_loss\")\n",
    "plt.title(\"Bounding Box Regression Loss on Training Set\")\n",
    "plt.xlabel(\"Epoch #\")\n",
    "plt.ylabel(\"Loss\")\n",
    "plt.legend(loc=\"upper right\")\n",
    "#plt.show()\n",
    "plt.savefig('./images/training3_15_1.png')"
   ]
  },
  {
   "cell_type": "markdown",
   "id": "5f460d29-ec62-446b-89c0-1597a1fddc2b",
   "metadata": {},
   "source": [
    "### Modell aus Datei laden"
   ]
  },
  {
   "cell_type": "code",
   "execution_count": 20,
   "id": "7751f439-5791-4ee3-abfe-dac43435acd2",
   "metadata": {},
   "outputs": [],
   "source": [
    "model = load_model(r\"./models/models_regr_3signs_1\")"
   ]
  },
  {
   "cell_type": "markdown",
   "id": "c7873c23-69d7-41d5-94e6-34bab81f210a",
   "metadata": {},
   "source": [
    "### Anzeigen von Testbildern"
   ]
  },
  {
   "cell_type": "code",
   "execution_count": 24,
   "id": "93b91b2a-012f-4255-9c34-1e55310bea66",
   "metadata": {},
   "outputs": [
    {
     "ename": "KeyboardInterrupt",
     "evalue": "",
     "output_type": "error",
     "traceback": [
      "\u001b[1;31m---------------------------------------------------------------------------\u001b[0m",
      "\u001b[1;31mKeyboardInterrupt\u001b[0m                         Traceback (most recent call last)",
      "\u001b[1;32m<ipython-input-24-5a2b4e190b15>\u001b[0m in \u001b[0;36m<module>\u001b[1;34m\u001b[0m\n\u001b[0;32m      1\u001b[0m \u001b[1;32mfor\u001b[0m \u001b[0mimage\u001b[0m\u001b[1;33m,\u001b[0m \u001b[0mbounding\u001b[0m \u001b[1;32min\u001b[0m \u001b[0mzip\u001b[0m\u001b[1;33m(\u001b[0m\u001b[0mtestImages\u001b[0m\u001b[1;33m,\u001b[0m \u001b[0mtestTargets\u001b[0m\u001b[1;33m)\u001b[0m\u001b[1;33m:\u001b[0m\u001b[1;33m\u001b[0m\u001b[1;33m\u001b[0m\u001b[0m\n\u001b[1;32m----> 2\u001b[1;33m     \u001b[0mpredict_and_display_img\u001b[0m\u001b[1;33m(\u001b[0m\u001b[0mmodel\u001b[0m\u001b[1;33m,\u001b[0m \u001b[0mimage\u001b[0m\u001b[1;33m,\u001b[0m \u001b[0mbounding\u001b[0m\u001b[1;33m)\u001b[0m\u001b[1;33m\u001b[0m\u001b[1;33m\u001b[0m\u001b[0m\n\u001b[0m",
      "\u001b[1;32m~\\git\\Aufgabe_D_Schilder\\src\\image_detection.py\u001b[0m in \u001b[0;36mpredict_and_display_img\u001b[1;34m(model, image, bounding)\u001b[0m\n\u001b[0;32m     25\u001b[0m     \u001b[0mcv2\u001b[0m\u001b[1;33m.\u001b[0m\u001b[0mnamedWindow\u001b[0m\u001b[1;33m(\u001b[0m\u001b[1;34m'Output'\u001b[0m\u001b[1;33m,\u001b[0m \u001b[0mcv2\u001b[0m\u001b[1;33m.\u001b[0m\u001b[0mWINDOW_NORMAL\u001b[0m\u001b[1;33m)\u001b[0m\u001b[1;33m\u001b[0m\u001b[1;33m\u001b[0m\u001b[0m\n\u001b[0;32m     26\u001b[0m     \u001b[0mcv2\u001b[0m\u001b[1;33m.\u001b[0m\u001b[0mimshow\u001b[0m\u001b[1;33m(\u001b[0m\u001b[1;34m\"Output\"\u001b[0m\u001b[1;33m,\u001b[0m \u001b[0mimage\u001b[0m\u001b[1;33m)\u001b[0m\u001b[1;33m\u001b[0m\u001b[1;33m\u001b[0m\u001b[0m\n\u001b[1;32m---> 27\u001b[1;33m     \u001b[0mcv2\u001b[0m\u001b[1;33m.\u001b[0m\u001b[0mwaitKey\u001b[0m\u001b[1;33m(\u001b[0m\u001b[1;36m0\u001b[0m\u001b[1;33m)\u001b[0m\u001b[1;33m\u001b[0m\u001b[1;33m\u001b[0m\u001b[0m\n\u001b[0m",
      "\u001b[1;31mKeyboardInterrupt\u001b[0m: "
     ]
    }
   ],
   "source": [
    "for image, bounding in zip(testImages, testTargets):\n",
    "    predict_and_display_img(model, image, bounding)"
   ]
  },
  {
   "cell_type": "code",
   "execution_count": 25,
   "id": "0e2668d4-56b3-4efd-89ae-87c9a070dd0a",
   "metadata": {},
   "outputs": [],
   "source": [
    "cv2.destroyAllWindows()"
   ]
  },
  {
   "cell_type": "markdown",
   "id": "6377385f-f940-480a-b4f5-0ab02842a811",
   "metadata": {},
   "source": [
    "<img src=\"./images/3_signs_2.png\">     <img src=\"./images/3_signs_3.png\">"
   ]
  },
  {
   "cell_type": "markdown",
   "id": "be53d454",
   "metadata": {},
   "source": [
    "# Klassifizierung von Verkehrsschildern\n",
    "\n",
    "## Dictionary für alle Klassen im Datensatz\n",
    "\n",
    "Quelle für die meisten Bezeichnungen: https://www.adac.de/verkehr/recht/verkehrszeichen/"
   ]
  },
  {
   "cell_type": "code",
   "execution_count": 20,
   "id": "91e03455",
   "metadata": {},
   "outputs": [],
   "source": [
    "classes = { 0:'Geschwindigkeitsbegrenzung (20km/h)',\n",
    "            1:'Geschwindigkeitsbegrenzung (30km/h)',      \n",
    "            2:'Geschwindigkeitsbegrenzung (50km/h)',       \n",
    "            3:'Geschwindigkeitsbegrenzung (60km/h)',      \n",
    "            4:'Geschwindigkeitsbegrenzung (70km/h)',    \n",
    "            5:'Geschwindigkeitsbegrenzung (80km/h)',      \n",
    "            6:'Ende der Geschwindigkeitsbegrenzung (80km/h)',     \n",
    "            7:'Geschwindigkeitsbegrenzung (100km/h)',    \n",
    "            8:'Geschwindigkeitsbegrenzung (120km/h)',     \n",
    "            9:'Überholverbot',   \n",
    "           10:'Überholverbot >3.5t',     \n",
    "           11:'Vorfahrt nächste Kreuzung',     \n",
    "           12:'Vorfahrtsstraße',    \n",
    "           13:'Vorfahrt gewähren',     \n",
    "           14:'Stop',       \n",
    "           15:'Verbot für Fahrzeuge aller Art',       \n",
    "           16:'Verbot für Fahrzeuge >3.5t',       \n",
    "           17:'Verbot der Einfahrt',       \n",
    "           18:'Gefahrenstelle',     \n",
    "           19:'Kurve (links)',      \n",
    "           20:'Kurve (rechts)',   \n",
    "           21:'Doppelkurve',      \n",
    "           22:'Unebene Fahrbahn',     \n",
    "           23:'Schleuder-/Rutschgefahr',       \n",
    "           24:'Einseitig (rechts) verengte Fahrbahn',  \n",
    "           25:'Arbeitsstelle',    \n",
    "           26:'Lichtzeichenanlage', # zu deutsch: Ampel      \n",
    "           27:'Fußgänger',     \n",
    "           28:'Kinder',     \n",
    "           29:'Radfahrer',       \n",
    "           30:'Schnee-/Eisglätte',\n",
    "           31:'Wildwechsel',      \n",
    "           32:'Ende sämtlicher Geschw-begr./Überholverb.',      \n",
    "           33:'Vorgeschriebene Fahrtrichtung rechts',     \n",
    "           34:'Vorgeschriebene Fahrtrichtung links',       \n",
    "           35:'Vorgeschriebene Fahrtrichtung gerade',      \n",
    "           36:'Vorgeschriebene Fahrtrichtung gerade/rechts',      \n",
    "           37:'Vorgeschriebene Fahrtrichtung gerade/links',      \n",
    "           38:'Vorgeschriebene Vorbeifahrt rechts vorbei',     \n",
    "           39:'Vorgeschriebene Vorbeifahrt links vorbei',      \n",
    "           40:'Kreisverkehr',     \n",
    "           41:'Ende Überholverbot',      \n",
    "           42:'Ende Überholverbot >3.5t' \n",
    "          }"
   ]
  },
  {
   "cell_type": "markdown",
   "id": "b27c645e",
   "metadata": {},
   "source": [
    "## Einlesen der Daten\n",
    "Der Datensatz besteht aus 43 Ordnern, welche je eine Klasse abbilden.  \n",
    "- Beispiel: In Ordner 0 liegen ausschließlich Bilder von Tempo 20 Schildern ab  \n",
    "\n",
    "### Reader\n",
    "Reader() stellt eine selbst entwickelte Klasse dar. <a href=\"./src/reader.py\">Sie ist hier zu finden</a>.<br>\n",
    "Diese iteriert durch alle Ordner und liest die Annotation-Files ein. Diese Informationen werden in einem pandas DataFrame gespeichert.  "
   ]
  },
  {
   "cell_type": "code",
   "execution_count": 21,
   "id": "93e59dd7",
   "metadata": {},
   "outputs": [
    {
     "data": {
      "text/html": [
       "<div>\n",
       "<style scoped>\n",
       "    .dataframe tbody tr th:only-of-type {\n",
       "        vertical-align: middle;\n",
       "    }\n",
       "\n",
       "    .dataframe tbody tr th {\n",
       "        vertical-align: top;\n",
       "    }\n",
       "\n",
       "    .dataframe thead th {\n",
       "        text-align: right;\n",
       "    }\n",
       "</style>\n",
       "<table border=\"1\" class=\"dataframe\">\n",
       "  <thead>\n",
       "    <tr style=\"text-align: right;\">\n",
       "      <th></th>\n",
       "      <th>Filename</th>\n",
       "      <th>Folder</th>\n",
       "      <th>Width</th>\n",
       "      <th>Height</th>\n",
       "      <th>Roi.X1</th>\n",
       "      <th>Roi.Y1</th>\n",
       "      <th>Roi.X2</th>\n",
       "      <th>Roi.Y2</th>\n",
       "      <th>ClassId</th>\n",
       "    </tr>\n",
       "  </thead>\n",
       "  <tbody>\n",
       "    <tr>\n",
       "      <th>0</th>\n",
       "      <td>00000_00000.ppm</td>\n",
       "      <td>./data/0/</td>\n",
       "      <td>29</td>\n",
       "      <td>30</td>\n",
       "      <td>5</td>\n",
       "      <td>6</td>\n",
       "      <td>24</td>\n",
       "      <td>25</td>\n",
       "      <td>0</td>\n",
       "    </tr>\n",
       "    <tr>\n",
       "      <th>1</th>\n",
       "      <td>00000_00001.ppm</td>\n",
       "      <td>./data/0/</td>\n",
       "      <td>30</td>\n",
       "      <td>30</td>\n",
       "      <td>5</td>\n",
       "      <td>5</td>\n",
       "      <td>25</td>\n",
       "      <td>25</td>\n",
       "      <td>0</td>\n",
       "    </tr>\n",
       "    <tr>\n",
       "      <th>2</th>\n",
       "      <td>00000_00002.ppm</td>\n",
       "      <td>./data/0/</td>\n",
       "      <td>30</td>\n",
       "      <td>30</td>\n",
       "      <td>5</td>\n",
       "      <td>5</td>\n",
       "      <td>25</td>\n",
       "      <td>25</td>\n",
       "      <td>0</td>\n",
       "    </tr>\n",
       "    <tr>\n",
       "      <th>3</th>\n",
       "      <td>00000_00003.ppm</td>\n",
       "      <td>./data/0/</td>\n",
       "      <td>31</td>\n",
       "      <td>31</td>\n",
       "      <td>5</td>\n",
       "      <td>5</td>\n",
       "      <td>26</td>\n",
       "      <td>26</td>\n",
       "      <td>0</td>\n",
       "    </tr>\n",
       "    <tr>\n",
       "      <th>4</th>\n",
       "      <td>00000_00004.ppm</td>\n",
       "      <td>./data/0/</td>\n",
       "      <td>30</td>\n",
       "      <td>32</td>\n",
       "      <td>5</td>\n",
       "      <td>6</td>\n",
       "      <td>25</td>\n",
       "      <td>26</td>\n",
       "      <td>0</td>\n",
       "    </tr>\n",
       "    <tr>\n",
       "      <th>...</th>\n",
       "      <td>...</td>\n",
       "      <td>...</td>\n",
       "      <td>...</td>\n",
       "      <td>...</td>\n",
       "      <td>...</td>\n",
       "      <td>...</td>\n",
       "      <td>...</td>\n",
       "      <td>...</td>\n",
       "      <td>...</td>\n",
       "    </tr>\n",
       "    <tr>\n",
       "      <th>39204</th>\n",
       "      <td>00007_00025.ppm</td>\n",
       "      <td>./data/42/</td>\n",
       "      <td>52</td>\n",
       "      <td>56</td>\n",
       "      <td>5</td>\n",
       "      <td>6</td>\n",
       "      <td>47</td>\n",
       "      <td>51</td>\n",
       "      <td>42</td>\n",
       "    </tr>\n",
       "    <tr>\n",
       "      <th>39205</th>\n",
       "      <td>00007_00026.ppm</td>\n",
       "      <td>./data/42/</td>\n",
       "      <td>56</td>\n",
       "      <td>58</td>\n",
       "      <td>5</td>\n",
       "      <td>5</td>\n",
       "      <td>51</td>\n",
       "      <td>53</td>\n",
       "      <td>42</td>\n",
       "    </tr>\n",
       "    <tr>\n",
       "      <th>39206</th>\n",
       "      <td>00007_00027.ppm</td>\n",
       "      <td>./data/42/</td>\n",
       "      <td>58</td>\n",
       "      <td>62</td>\n",
       "      <td>5</td>\n",
       "      <td>6</td>\n",
       "      <td>53</td>\n",
       "      <td>57</td>\n",
       "      <td>42</td>\n",
       "    </tr>\n",
       "    <tr>\n",
       "      <th>39207</th>\n",
       "      <td>00007_00028.ppm</td>\n",
       "      <td>./data/42/</td>\n",
       "      <td>63</td>\n",
       "      <td>69</td>\n",
       "      <td>5</td>\n",
       "      <td>7</td>\n",
       "      <td>58</td>\n",
       "      <td>63</td>\n",
       "      <td>42</td>\n",
       "    </tr>\n",
       "    <tr>\n",
       "      <th>39208</th>\n",
       "      <td>00007_00029.ppm</td>\n",
       "      <td>./data/42/</td>\n",
       "      <td>68</td>\n",
       "      <td>69</td>\n",
       "      <td>7</td>\n",
       "      <td>6</td>\n",
       "      <td>62</td>\n",
       "      <td>63</td>\n",
       "      <td>42</td>\n",
       "    </tr>\n",
       "  </tbody>\n",
       "</table>\n",
       "<p>39209 rows × 9 columns</p>\n",
       "</div>"
      ],
      "text/plain": [
       "              Filename      Folder  Width  Height  Roi.X1  Roi.Y1  Roi.X2  \\\n",
       "0      00000_00000.ppm   ./data/0/     29      30       5       6      24   \n",
       "1      00000_00001.ppm   ./data/0/     30      30       5       5      25   \n",
       "2      00000_00002.ppm   ./data/0/     30      30       5       5      25   \n",
       "3      00000_00003.ppm   ./data/0/     31      31       5       5      26   \n",
       "4      00000_00004.ppm   ./data/0/     30      32       5       6      25   \n",
       "...                ...         ...    ...     ...     ...     ...     ...   \n",
       "39204  00007_00025.ppm  ./data/42/     52      56       5       6      47   \n",
       "39205  00007_00026.ppm  ./data/42/     56      58       5       5      51   \n",
       "39206  00007_00027.ppm  ./data/42/     58      62       5       6      53   \n",
       "39207  00007_00028.ppm  ./data/42/     63      69       5       7      58   \n",
       "39208  00007_00029.ppm  ./data/42/     68      69       7       6      62   \n",
       "\n",
       "       Roi.Y2  ClassId  \n",
       "0          25        0  \n",
       "1          25        0  \n",
       "2          25        0  \n",
       "3          26        0  \n",
       "4          26        0  \n",
       "...       ...      ...  \n",
       "39204      51       42  \n",
       "39205      53       42  \n",
       "39206      57       42  \n",
       "39207      63       42  \n",
       "39208      63       42  \n",
       "\n",
       "[39209 rows x 9 columns]"
      ]
     },
     "execution_count": 21,
     "metadata": {},
     "output_type": "execute_result"
    }
   ],
   "source": [
    "reader = Reader()\n",
    "df = reader.read_data_to_df(folders=43, pre_path=r\"./data/\")\n",
    "df"
   ]
  },
  {
   "cell_type": "markdown",
   "id": "ec68d332",
   "metadata": {},
   "source": [
    "### Beschreibung der Daten\n",
    "Der Datensatz besteht aus 39209 Einträgen, welcher sich in 43 Klassen unterteilt.  \n",
    "Jeder Eintrag stellt ein Bild dar, welches eine gewissen Breite und Höhe besitzt. **Die Bilder besitzen also nicht die gleiche Größe.**  \n",
    "Zudem ist die \"Bounding Box\" durch die 4 Spalten beginnend mit Roi abgebildet. (X1, Y1) spannt mit (X2, Y2) ein Rechteck auf, in welchem sich das Verkehrszeichen befinden soll."
   ]
  },
  {
   "cell_type": "markdown",
   "id": "716980d9",
   "metadata": {},
   "source": [
    "Zusätzlich wird der Pfad zu der einzelnen Bilder gespeichert. Der Grund hierfür ist die Nicht-Eindeutigkeit der Dateinamen über den eigenen Ordner hinaus.  \n",
    "Dies geht auch aus dem Readme der Daten hervor (ein Dateiname besteht aus Track und Tracknummer).  "
   ]
  },
  {
   "cell_type": "code",
   "execution_count": 22,
   "id": "d744d3ba",
   "metadata": {
    "scrolled": true
   },
   "outputs": [
    {
     "name": "stdout",
     "output_type": "stream",
     "text": [
      "Vorkommnisse von 00000_00000.ppm:\n",
      "43\n",
      "\n",
      "Vorkommnisse von ./data/0/00000_00000.ppm:\n",
      "1\n"
     ]
    }
   ],
   "source": [
    "lookup_filename = \"00000_00000.ppm\"\n",
    "print(\"Vorkommnisse von \" + lookup_filename + \":\")\n",
    "print(len(df.index[df[\"Filename\"] == lookup_filename]))\n",
    "\n",
    "print()\n",
    "\n",
    "lookup_folder_with_filename = r\"./data/0/00000_00000.ppm\"\n",
    "print(\"Vorkommnisse von \" + lookup_folder_with_filename + \":\")\n",
    "print(len(df.index[df[\"Folder\"] + df[\"Filename\"] == lookup_folder_with_filename]))"
   ]
  },
  {
   "cell_type": "code",
   "execution_count": 23,
   "id": "79c6c33f",
   "metadata": {
    "scrolled": true
   },
   "outputs": [],
   "source": [
    "#ImageDisplayer(df, 100, 105)"
   ]
  },
  {
   "cell_type": "markdown",
   "id": "bbc6f5bd",
   "metadata": {},
   "source": [
    "## Plots zur Veranschaulichung des Datensatzes\n",
    "### Ausgewogenheit"
   ]
  },
  {
   "cell_type": "code",
   "execution_count": 24,
   "id": "0e0f63ce",
   "metadata": {},
   "outputs": [
    {
     "data": {
      "image/png": "[encoded data removed]",
      "text/plain": [
       "<Figure size 432x288 with 1 Axes>"
      ]
     },
     "metadata": {},
     "output_type": "display_data"
    }
   ],
   "source": [
    "df.plot(y=\"ClassId\", kind=\"hist\", bins=len(set(df[\"ClassId\"])))\n",
    "plt.title(\"Ausgewogenheit des Datensatzes\")\n",
    "plt.ylabel(\"Anzahl Datensätze\")\n",
    "plt.xlabel(\"Klasse\")\n",
    "plt.show()"
   ]
  },
  {
   "cell_type": "markdown",
   "id": "61bddbf8",
   "metadata": {},
   "source": [
    "Der Datensatz ist sehr **unausgewogen**. Einige Klassen verfügen über sehr viele Datensätze, während andere nur sehr wenige besitzen.\n",
    "Das neuronale Netz könnte zu sehr auf einige Klassen trainiert werden, daher sollte eine Angleichung der Menge der Datensätze pro Klasse stattfinden.  \n",
    "Am Beispiel der Klassen 0 und 1:"
   ]
  },
  {
   "cell_type": "code",
   "execution_count": 25,
   "id": "1087a7a8",
   "metadata": {
    "scrolled": true
   },
   "outputs": [
    {
     "name": "stdout",
     "output_type": "stream",
     "text": [
      "Anzahl Datensätze 20er Schild: 210\n",
      "Anzahl Datensätze 30er Schild: 2220\n",
      "Faktor: 10.57\n"
     ]
    }
   ],
   "source": [
    "print(\"Anzahl Datensätze 20er Schild:\", len(df[df[\"ClassId\"] == 0]))\n",
    "print(\"Anzahl Datensätze 30er Schild:\", len(df[df[\"ClassId\"] == 1]))\n",
    "print(\"Faktor:\", round(len(df[df[\"ClassId\"] == 1])/len(df[df[\"ClassId\"] == 0]), 2))"
   ]
  },
  {
   "cell_type": "markdown",
   "id": "3f5a14c7",
   "metadata": {},
   "source": [
    "### Bildbreite und Höhe"
   ]
  },
  {
   "cell_type": "code",
   "execution_count": 26,
   "id": "a0bf235e",
   "metadata": {},
   "outputs": [
    {
     "data": {
      "image/png": "[encoded data removed]",
      "text/plain": [
       "<Figure size 432x288 with 1 Axes>"
      ]
     },
     "metadata": {},
     "output_type": "display_data"
    }
   ],
   "source": [
    "df.plot(y=\"Width\", kind=\"hist\", bins=len(set(df[\"Width\"])))\n",
    "plt.title(\"Breite der Bilder\")\n",
    "plt.ylabel(\"Anzahl Datensätze\")\n",
    "plt.xlabel(\"Bildbreite\")\n",
    "plt.show()"
   ]
  },
  {
   "cell_type": "code",
   "execution_count": 27,
   "id": "99a48515",
   "metadata": {},
   "outputs": [
    {
     "data": {
      "image/png": "[encoded data removed]",
      "text/plain": [
       "<Figure size 432x288 with 1 Axes>"
      ]
     },
     "metadata": {},
     "output_type": "display_data"
    }
   ],
   "source": [
    "df.plot(y=\"Height\", kind=\"hist\", bins=len(set(df[\"Height\"])))\n",
    "plt.title(\"Höhe der Bilder\")\n",
    "plt.ylabel(\"Anzahl Datensätze\")\n",
    "plt.xlabel(\"Bildhöhe\")\n",
    "plt.show()"
   ]
  },
  {
   "cell_type": "markdown",
   "id": "110d617f",
   "metadata": {},
   "source": [
    "Die Bilder verfügen über unterschiedliche Höhen und Breiten. Der Großteil der Bilder ist bis zu 50 Pixeln breit und bis zu ca. 60 Pixeln hoch.  \n",
    "Auffällig sind einige \"Spikes\" in den Grafiken, was bedeutet, dass viele Bilder die gewisse Breite oder Höhe besitzen.  "
   ]
  },
  {
   "cell_type": "markdown",
   "id": "0cfa3523",
   "metadata": {},
   "source": [
    "### Bildfläche"
   ]
  },
  {
   "cell_type": "code",
   "execution_count": 28,
   "id": "d8f59cda",
   "metadata": {
    "scrolled": true
   },
   "outputs": [
    {
     "data": {
      "image/png": "[encoded data removed]",
      "text/plain": [
       "<Figure size 432x288 with 1 Axes>"
      ]
     },
     "metadata": {},
     "output_type": "display_data"
    }
   ],
   "source": [
    "df[\"img_area\"] = df[\"Width\"]*df[\"Height\"]\n",
    "df.plot(y=\"img_area\", kind=\"hist\", bins=len(set(df[\"img_area\"])))\n",
    "plt.title(\"Fläche der Bilder\")\n",
    "plt.ylabel(\"Anzahl Datensätze\")\n",
    "plt.xlabel(\"Bildfläche\")\n",
    "plt.show()"
   ]
  },
  {
   "cell_type": "markdown",
   "id": "d482c012",
   "metadata": {},
   "source": [
    "Folgend aus den Höhen und Breiten sind die Bildflächen verschieden.  \n",
    "Auch hier befinden sich die meisten Einträge im unteren Spektrum der x-Achse."
   ]
  },
  {
   "cell_type": "markdown",
   "id": "b8885f96",
   "metadata": {},
   "source": [
    "### Bounding-Box Länge, Höhe und Fläche"
   ]
  },
  {
   "cell_type": "code",
   "execution_count": 29,
   "id": "3a1ff39c",
   "metadata": {},
   "outputs": [],
   "source": [
    "df[\"x_box_len\"] = df[\"Roi.X2\"] - df[\"Roi.X1\"]\n",
    "df[\"y_box_len\"] = df[\"Roi.Y2\"] - df[\"Roi.Y1\"]\n",
    "df[\"box_area\"] = df[\"x_box_len\"]*df[\"y_box_len\"]"
   ]
  },
  {
   "cell_type": "code",
   "execution_count": 30,
   "id": "171099e8",
   "metadata": {
    "scrolled": true
   },
   "outputs": [
    {
     "data": {
      "image/png": "[encoded data removed]",
      "text/plain": [
       "<Figure size 432x288 with 1 Axes>"
      ]
     },
     "metadata": {},
     "output_type": "display_data"
    }
   ],
   "source": [
    "df.plot(y=\"x_box_len\", kind=\"hist\", bins=len(set(df[\"x_box_len\"])))\n",
    "plt.title(\"Länge der BoundingBoxes\")\n",
    "plt.ylabel(\"Anzahl Datensätze\")\n",
    "plt.xlabel(\"Länge BB\")\n",
    "plt.show()"
   ]
  },
  {
   "cell_type": "code",
   "execution_count": 31,
   "id": "a78eb712",
   "metadata": {},
   "outputs": [
    {
     "data": {
      "image/png": "[encoded data removed]",
      "text/plain": [
       "<Figure size 432x288 with 1 Axes>"
      ]
     },
     "metadata": {},
     "output_type": "display_data"
    }
   ],
   "source": [
    "df.plot(y=\"y_box_len\", kind=\"hist\", bins=len(set(df[\"y_box_len\"])))\n",
    "plt.title(\"Höhe der BoundingBoxes\")\n",
    "plt.ylabel(\"Anzahl Datensätze\")\n",
    "plt.xlabel(\"Höhe BB\")\n",
    "plt.show()"
   ]
  },
  {
   "cell_type": "code",
   "execution_count": 32,
   "id": "f3a62f6f",
   "metadata": {},
   "outputs": [
    {
     "data": {
      "image/png": "[encoded data removed]",
      "text/plain": [
       "<Figure size 432x288 with 1 Axes>"
      ]
     },
     "metadata": {},
     "output_type": "display_data"
    }
   ],
   "source": [
    "df.plot(y=\"box_area\", kind=\"hist\", bins=len(set(df[\"box_area\"])))\n",
    "plt.title(\"Fläche der BoundingBoxes\")\n",
    "plt.ylabel(\"Anzahl Datensätze\")\n",
    "plt.xlabel(\"Fläche BB\")\n",
    "plt.show()"
   ]
  },
  {
   "cell_type": "markdown",
   "id": "1f6ff361",
   "metadata": {},
   "source": [
    "Die Bounding-Boxes verhalten sich wie die Bilder selbst. Auch hier sind einige \"Spikes\" bei der Höhe und Breite zu erkennen.  \n",
    "Die meisten Bounding-Boxes sind bis zu ca. 40 Pixel hoch und breit.  \n",
    "Dies kann für die spätere Transformation der Größe genutzt werden, da die zugeschnitten Bilder später alle die gleiche Maß besitzen müssen."
   ]
  },
  {
   "cell_type": "markdown",
   "id": "7ac6a0a0",
   "metadata": {},
   "source": [
    "## Bildklassifizierung\n",
    "### Vorbereitung"
   ]
  },
  {
   "cell_type": "markdown",
   "id": "8ea455d4",
   "metadata": {},
   "source": [
    "#### Darstellung und Überblick\n",
    "Um ein Gefühl für die Daten zu bekommen, wird eine Collage erstellt, die jedes 500. Bild darstellt."
   ]
  },
  {
   "cell_type": "code",
   "execution_count": 33,
   "id": "c2242fd9",
   "metadata": {
    "scrolled": true
   },
   "outputs": [],
   "source": [
    "collage.create_collage(r\"./images/collage_cropped_images.png\", df)"
   ]
  },
  {
   "cell_type": "markdown",
   "id": "37106c7e",
   "metadata": {},
   "source": [
    "Darstellungen ohne weitere Nachbearbeitung (nur Zuschnitt auf Bounding Box):\n",
    "\n",
    "<img src=\"./images/collage_cropped_images.png\">"
   ]
  },
  {
   "cell_type": "markdown",
   "id": "7dd98687",
   "metadata": {},
   "source": [
    "Es ist auffällig, dass die Qualität der Bilder stark unterschiedlich ist:\n",
    "- Einige Bilder sind extrem dunkel und besitzen einen geringen Kontrast. \n",
    "- Durch das Skalieren der Bilder unterscheidet sich die Auflösung stark.\n",
    "\n",
    "Teilweise sind Schilder selbst für ein menschliches Auge nicht eindeutig identifizierbar.  \n",
    "**************\n",
    "Es sind folgende Gemeinsamkeiten festzustellen:\n",
    "- Der Bildwinkel ist immer gleich\n",
    "- Die Schilder sind vollständig abgebildet und besitzen keine \"Störungen\" (Überdeckungen, Verunreinigungen, ...)\n",
    "\n",
    "Dies lässt die Frage offen, ob ein späteres Modell Bilder aus dem \"echten\" Leben erkennen kann."
   ]
  },
  {
   "cell_type": "markdown",
   "id": "3d17f0d0",
   "metadata": {},
   "source": [
    "Im Zuge der Recherche für die Datenvorbereitung fiel ein <a href=\"https://medium.com/@thomastracey/recognizing-traffic-signs-with-cnns-23a4ac66f7a7\">Paper</a> auf, welches ein Verfahren namens \"CLAHE\" nutzte um einen größeren Kontrast herzustellen.<br>\n",
    "Beim späteren Trainieren neuronaler Netze kann betrachtet werden, ob dies einen signifikanten Unterschied bei der Leistung des Modells mit sich bringt.\n",
    "\n",
    "Um die Auswirkungen des Verfahrens zu testen, wird eine Collage der angepassten Bilder erstellt. "
   ]
  },
  {
   "cell_type": "code",
   "execution_count": 34,
   "id": "0cf07259",
   "metadata": {},
   "outputs": [],
   "source": [
    "collage.create_preprocessed_collage(r\"./images/collage_preprocessed_images.png\", df)"
   ]
  },
  {
   "cell_type": "markdown",
   "id": "215776d1",
   "metadata": {},
   "source": [
    "Bilder mit Nachbearbeitung (höherer Kontrast):\n",
    "\n",
    "<img src=\"./images/collage_preprocessed_images.png\">"
   ]
  },
  {
   "cell_type": "markdown",
   "id": "ef8f1fe3",
   "metadata": {},
   "source": [
    "### Daten einlesen\n",
    "Um das neuronale Netz trainieren zu können, werden die Eingabedaten und Labels benötigt.  \n",
    "Auf Grund der vorherigen Schritte ist es möglich, über das erstellte DataFrame zu iterieren und jedes einzelne Bild auszulesen und zu bearbeiten. Im Anschluss daran wird es einer List hinzugefügt, was am Ende des Prozesses alle Bilder beinhaltet.   \n",
    "Das **data**-Array beinhaltet alle Bilddaten\n",
    "Das **labels**-Array beinhaltet die Klassenzugehörigkeiten \n",
    "\n",
    "#### read_preprocess_img\n",
    "Die Bilder werden mit OpenCV eingelesen und auf die Maße der Bounding Box zugeschnitten. Im Anschluss folgt eine Anpassung der Bildgröße, damit alle Images eine einheitliche Größe besitzen.   \n",
    "Als nächster Schritt folgt eine Histogramm-Equalization. Dies hat als Ziel, das Histogramm der Bilder jeweils so anzupassen, dass alle Grauwerte möglichst gleichverteilt sind. Bei der Histogramm Equalization berechnen sich die Grauwerte der Pixel wie folgt: \n",
    "\n",
    "$y=f(p)= \\frac{L-1}{N}\\int_{-\\infty}^{p} h_{i}(p) \\,dp$\n",
    "\n",
    "Mit: x - alter Grauwert; N - Anzahl Pixel; L - Anzahl möglicher Grauwerte\n",
    "\n",
    "In unserem Fall stützen wir uns auf die von skimage implementierte Funktion ```equalize_adapthist```, was ein Problem der einfachen Histogramm Equalization löst, bei welchem Informationsverlust in den Bildern auftritt. Es nutzt die Contrast Limited Adaptive Histogram Equalization (CLAHE). Eine Visualisierung der normalisierten Bilder kann in der weiter oben dargestellten Collage betrachtet werden.\n",
    "\n",
    "\n",
    "Im Anschluss werden die Arrays in numpy-Arrays umgewandelt.\n",
    "\n",
    "#### Einlesen vorbereiteter Daten\n",
    "Um die vorbereiteten Daten systemübergreifend zur Verfügung stellen zu können, wurden die vorbereiteten Trainings und Testdaten in pkl-Dateien gespeichert. Diese stehen auch im kaggle-Datensatz zur Verfügung (siehe <a href=https://www.kaggle.com/nickkr/sign-detection>Kaggle-Datensatz: data_preprocessed</a>). Um nicht unnötig erneut einige Vorbereitungsschritte durchzuführen, wurde die Variable NO_PREPARED_DATA eingeführt. Diese ist im Laufe des Notebooks noch an einigen Stellen in der Datenvorbereitung zu finden."
   ]
  },
  {
   "cell_type": "code",
   "execution_count": 35,
   "id": "39ad1fe3",
   "metadata": {},
   "outputs": [
    {
     "name": "stdout",
     "output_type": "stream",
     "text": [
      "False\n"
     ]
    }
   ],
   "source": [
    "NO_PREPARED_DATA = True\n",
    "\n",
    "pickle_folder = f\"./data_preprocessed\"\n",
    "\n",
    "try:\n",
    "    with open(os.path.join(pickle_folder, 'X_train.pkl'), 'rb') as f:\n",
    "        X_train = pickle.load(f)\n",
    "\n",
    "    with open(os.path.join(pickle_folder, 'y_train.pkl'), 'rb') as f:\n",
    "        y_train = pickle.load(f)\n",
    "\n",
    "    with open(os.path.join(pickle_folder, 'X_val.pkl'), 'rb') as f:\n",
    "        X_test = pickle.load(f)\n",
    "\n",
    "    with open(os.path.join(pickle_folder, 'y_val.pkl'), 'rb') as f:\n",
    "        y_test = pickle.load(f)\n",
    "    NO_PREPARED_DATA = False\n",
    "except:\n",
    "    print(\"No already preprocessed data\")\n",
    "print(NO_PREPARED_DATA)"
   ]
  },
  {
   "cell_type": "code",
   "execution_count": 37,
   "id": "59d885e5",
   "metadata": {},
   "outputs": [
    {
     "name": "stdout",
     "output_type": "stream",
     "text": [
      "Iterated through 5000 images\n",
      "Iterated through 10000 images\n",
      "Iterated through 15000 images\n",
      "Iterated through 20000 images\n",
      "Iterated through 25000 images\n",
      "Iterated through 30000 images\n",
      "Iterated through 35000 images\n",
      "Iterated through all images\n"
     ]
    }
   ],
   "source": [
    "data = []\n",
    "labels = []\n",
    "\n",
    "for index, row in df.iterrows(): \n",
    "    if index>0 and index%5000 == 0:\n",
    "        print(\"Iterated through\", index, \"images\")\n",
    "    elif index+1 == len(df):\n",
    "        print(\"Iterated through all images\")\n",
    "\n",
    "    x = row[\"Roi.X1\"]\n",
    "    y = row[\"Roi.Y1\"]\n",
    "    h = row[\"Roi.Y2\"]-row[\"Roi.Y1\"]\n",
    "    w = row[\"Roi.X2\"]-row[\"Roi.X1\"]\n",
    "\n",
    "    data.append(Reader.read_preprocess_img(Reader, row[\"Folder\"]+row[\"Filename\"], (32,32), x, y, h, w))\n",
    "    labels.append(int(row[\"ClassId\"]))\n",
    "\n",
    "data = np.array(data)\n",
    "labels = np.array(labels)"
   ]
  },
  {
   "cell_type": "markdown",
   "id": "a1686a34",
   "metadata": {},
   "source": [
    "### Daten-Augmentierung\n",
    "Bei der Augmentierung sollen die Daten transformiert werden.  \n",
    "Dabei werden die herausgestellten Herausforderungen und Probleme des Datensatzes in Angriff genommen. Identifizierte Probleme:\n",
    "1. Unausgewogenheit des Datensatzes\n",
    "2. Immer gleiche Blickwinkel und keine \"Störungen\" (nichts verdeckt...)\n",
    "\n",
    "Für Punkt eins ist eine Lösung, mehr Bilder aus dem Datensatz zu generieren und dabei die Klassen gleich zu verteilen.  \n",
    "Da die Augmentierung viel Zeit in Anspruch nimmt, wird sie nicht ausgeführt, wenn die vorbereiteten Daten bereits aus zuvor erstellten pkl-Dateien gewonnen werden konnten."
   ]
  },
  {
   "cell_type": "code",
   "execution_count": 38,
   "id": "e92951f4",
   "metadata": {},
   "outputs": [
    {
     "data": {
      "image/png": "[encoded data removed]",
      "text/plain": [
       "<Figure size 432x288 with 1 Axes>"
      ]
     },
     "metadata": {},
     "output_type": "display_data"
    }
   ],
   "source": [
    "plt.hist(labels, bins=len(set(labels)), rwidth=0.7)\n",
    "plt.title(\"Ausgewogenheit vor der Augmentierung\")\n",
    "plt.ylabel(\"Anzahl Datensätze\")\n",
    "plt.xlabel(\"Klasse\")\n",
    "plt.show()"
   ]
  },
  {
   "cell_type": "markdown",
   "id": "f12e0d57",
   "metadata": {},
   "source": [
    "Die Daten werden mit Hilfe des ```ImageDataGenerator``` (siehe <a href=https://www.tensorflow.org/api_docs/python/tf/keras/preprocessing/image/ImageDataGenerator#used-in-the-notebooks_1>Dokumentation</a>) augmentiert. Dieser ermöglicht es, neue Bilder aus den bestehenden zu erzeugen. Dabei können mehrere Parameter gesetzt werden.  \n",
    "Auf horizontale und vertikale Spiegelungen wird verzichtet, da die Schilder in echt auch nicht \"auf dem Kopf\" stehen."
   ]
  },
  {
   "cell_type": "code",
   "execution_count": 39,
   "id": "823a4ff2",
   "metadata": {},
   "outputs": [],
   "source": [
    "if NO_PREPARED_DATA:\n",
    "    datagen = ImageDataGenerator(\n",
    "        zca_whitening=True,\n",
    "        rotation_range=10,\n",
    "        width_shift_range=0.1,\n",
    "        height_shift_range=0.1,\n",
    "        shear_range=0.15,\n",
    "        zoom_range=0.15,\n",
    "        channel_shift_range=0.1,\n",
    "        horizontal_flip=False,\n",
    "        vertical_flip=False,\n",
    "        fill_mode='nearest'\n",
    "    )\n",
    "    datagen.fit(data)"
   ]
  },
  {
   "cell_type": "markdown",
   "id": "365c1d57",
   "metadata": {},
   "source": [
    "Es folgt die Augmentierung der Daten.  \n",
    "Im Prozess wird eine Anzahl an Bildern (6000) festgelegt und für jede Klasse diese Anzahl an Bildern produziert. Nachdem die Bilder für alle Klassen erzeugt wurden, sollte der Datensatz also $ 43*6000=258000 $ Bilder beinhalten."
   ]
  },
  {
   "cell_type": "code",
   "execution_count": 40,
   "id": "0d664ab7",
   "metadata": {},
   "outputs": [],
   "source": [
    "if NO_PREPARED_DATA:\n",
    "    images_per_class = 6000\n",
    "    data_aug = np.empty((0, 32, 32, 3))\n",
    "    labels_aug = np.empty(0, dtype='int32')\n",
    "\n",
    "    for i in tqdm(range(len(set(labels)))):\n",
    "        # Get images and labels for each class\n",
    "        index = [labels==i]\n",
    "        i_data = data[tuple(index)]\n",
    "        i_labels = labels[tuple(index)]\n",
    "\n",
    "        i_data_aug = np.copy(i_data)\n",
    "        i_labels_aug = np.copy(i_labels)\n",
    "\n",
    "        # append augmented data to existing class-data\n",
    "        for X, y in datagen.flow(i_data, i_labels, batch_size=len(i_labels), seed=3*i+52):\n",
    "            i_data_aug = np.append(i_data_aug, X, axis=0)\n",
    "            i_labels_aug = np.append(i_labels_aug, y, axis=0)\n",
    "\n",
    "            if len(i_labels_aug) >= images_per_class:\n",
    "                break\n",
    "\n",
    "        # append data to result arrays\n",
    "        # limit to appending images to maximum images (take rows up to rownumber specified)\n",
    "        data_aug = np.append(data_aug, i_data_aug[:images_per_class], axis=0)\n",
    "        labels_aug = np.append(labels_aug, i_labels_aug[:images_per_class], axis=0)\n"
   ]
  },
  {
   "cell_type": "code",
   "execution_count": 41,
   "id": "30d40cde",
   "metadata": {},
   "outputs": [
    {
     "data": {
      "image/png": "[encoded data removed]",
      "text/plain": [
       "<Figure size 432x288 with 1 Axes>"
      ]
     },
     "metadata": {},
     "output_type": "display_data"
    }
   ],
   "source": [
    "if NO_PREPARED_DATA:\n",
    "    plt.hist(labels_aug, bins=len(set(labels_aug)), rwidth=0.7)\n",
    "else:\n",
    "    #reverse to_categorical and append test to train data (to get full dataset)\n",
    "    con_labels = np.argmax(np.append(y_train, y_test, axis=0), axis=1) \n",
    "    plt.hist(con_labels, bins=len(set(con_labels)), rwidth=0.7)\n",
    "plt.title(\"Ausgewogenheit nach der Augmentierung\")\n",
    "plt.ylabel(\"Anzahl Datensätze\")\n",
    "plt.xlabel(\"Klasse\")\n",
    "plt.show()"
   ]
  },
  {
   "cell_type": "code",
   "execution_count": 42,
   "id": "224a813e",
   "metadata": {},
   "outputs": [
    {
     "name": "stdout",
     "output_type": "stream",
     "text": [
      "Pre-defined data shape: (39209, 32, 32, 3)\n",
      "Train-data shape after augmentation: (193500, 32, 32, 3)\n",
      "--> Anzahl Datensätze: 258000\n"
     ]
    }
   ],
   "source": [
    "if NO_PREPARED_DATA:\n",
    "    print(\"Pre-defined data shape:\",data.shape)\n",
    "    print(\"Data shape after augmentation:\",data_aug.shape)\n",
    "    print(\"--> Anzahl Datensätze:\", len(data_aug))\n",
    "else:\n",
    "    print(\"Pre-defined data shape:\",data.shape)\n",
    "    print(\"Train-data shape after augmentation:\",X_train.shape)\n",
    "    print(\"--> Anzahl Datensätze:\", len(np.append(y_train, y_test, axis=0)))"
   ]
  },
  {
   "cell_type": "markdown",
   "id": "d88dc18a",
   "metadata": {},
   "source": [
    "Nach der Augmentierung und Anpassung ist festzustellen, dass ein ausgeglichener Datensatz entstanden ist.  \n",
    "Die Shape der Bilder hat sich nicht geändert, ausschließlich die Anzahl ist gestiegen."
   ]
  },
  {
   "cell_type": "markdown",
   "id": "41710fa8",
   "metadata": {},
   "source": [
    "### Darstellung des vorverarbeiteten Datensatzes"
   ]
  },
  {
   "cell_type": "code",
   "execution_count": 41,
   "id": "c6172574",
   "metadata": {},
   "outputs": [
    {
     "data": {
      "text/plain": [
       "True"
      ]
     },
     "execution_count": 41,
     "metadata": {},
     "output_type": "execute_result"
    }
   ],
   "source": [
    "line = []\n",
    "columns = []\n",
    "for index in range(0,90):\n",
    "    image = X_train[index]*255\n",
    "    line.append(image)\n",
    "    if len(line) == 13:\n",
    "        columns.append(np.hstack(line))\n",
    "        line = []\n",
    "collage = np.vstack(columns)\n",
    "collage = cv2.convertScaleAbs(collage, alpha=255.0)\n",
    "cv2.imwrite(r\"./images/collage_augmented_images.png\", collage)"
   ]
  },
  {
   "cell_type": "markdown",
   "id": "8d4df71a",
   "metadata": {},
   "source": [
    "Im Foldenden sind die vollständig vorverarbeiteten Verkehrsschilder zu erkennen. Durch die Augmentierung sind viele Schilder nicht durch den Menschen erkennbar, allerdings hilft es in unserem Fall, das Overfitting-Problem einzuschränken.   \n",
    "Die vorher immer gleichen Bilder sind nun sehr unterschiedlich und undeutlich dargestellt, wodurch das Modell nicht \"auswendig lernen\" kann. \n",
    "<img src=\"./images/collage_augmented_images.png\">"
   ]
  },
  {
   "cell_type": "markdown",
   "id": "3fc383d9",
   "metadata": {},
   "source": [
    "### Aufteilung\n",
    "Aufteilung in Trainings-/Test- und Validierungsdaten  \n",
    "\n",
    "**Trainingsdaten**  \n",
    "Dienen zum Training des neuronalen Netzes. Mit 75% des gesamten Datensatzes wird hier der Großteil der Daten genutzt.\n",
    "\n",
    "**Validierungsdaten**  \n",
    "Dienen zum Testen des neuronalen Netzes während des Trainings. Hierfür werden 12.5% der Daten vorgehalten.\n",
    "\n",
    "**Testdaten**  \n",
    "Dienen zur Evaluation des neuronalen Netzes nach dem Training. Validierungsadaten eignen sich hier nicht, da das neuronale Netz diese Daten bereits \"gesehen\" hat. Es dient als weitere Instanz, Über und Unteranpassung zu erkennen. Der Testdatensatz umfasst 12.5% des Datensatzes."
   ]
  },
  {
   "cell_type": "code",
   "execution_count": 36,
   "id": "317ac20a",
   "metadata": {},
   "outputs": [],
   "source": [
    "if NO_PREPARED_DATA:\n",
    "    # train and test (0.75, 0.25)\n",
    "    X_train, X_test, y_train, y_test = train_test_split(data_aug, labels_aug, test_size=0.25, random_state=1234)\n",
    "    \n",
    "    # save preprocessed data \n",
    "    with open('X_train.pkl', 'wb') as f:\n",
    "        pickle.dump(X_train, f)\n",
    "    \n",
    "    with open('y_train.pkl', 'wb') as f:\n",
    "        pickle.dump(y_train, f)\n",
    "\n",
    "    with open('X_val.pkl', 'wb') as f:\n",
    "        pickle.dump(X_test, f)\n",
    "\n",
    "    with open('y_val.pkl', 'wb') as f:\n",
    "        pickle.dump(y_test, f)\n",
    "\n",
    "# split test in val and test (0.5, 0.5 of test-data)\n",
    "X_val, X_test, y_val, y_test = train_test_split(X_test, y_test, test_size=0.5, random_state=1234)"
   ]
  },
  {
   "cell_type": "code",
   "execution_count": 37,
   "id": "0ece1263",
   "metadata": {},
   "outputs": [],
   "source": [
    "if NO_PREPARED_DATA:\n",
    "    # Scale to [0,1]\n",
    "    X_train = X_train.astype(\"float32\")/255.0\n",
    "    X_test = X_test.astype(\"float32\")/255.0\n",
    "    X_val = X_val.astype(\"float32\")/255.0\n",
    "\n",
    "    # One-Hot Encoding (dont drop one column)\n",
    "    print(\"y-shape before\" + y_train.shape)\n",
    "    y_train = to_categorical(y_train, 43)\n",
    "    print(\"y-shape after\" + y_train.shape)\n",
    "    y_test = to_categorical(y_test, 43)\n",
    "    y_val = to_categorical(y_val, 43)"
   ]
  },
  {
   "cell_type": "markdown",
   "id": "da87611d",
   "metadata": {},
   "source": [
    "### CNN / Klassifizierung\n",
    "#### Auswahl des CNN mittels ```keras_tuner```\n",
    "\n",
    "Der keras tuner hilft bei der Bestimmung der Hyperparameter. Dafür werden im Modell spezielle Parameter-Bereiche gesetzt, welche im Anschluss getestet werden.   \n",
    "Als Resultat ergibt sich ein Modell, welches in Bezug auf die angegebenen Metriken am Besten performt hat.   \n",
    "Das Ausprobieren dauert ohne GPU sehr lange, weshalb die unterhalb auffindbaren Code-Blöcke nicht nochmals ausgeführt werden sollen. Sie dienen als Grundlage für den Aufbau des finalen CNNs."
   ]
  },
  {
   "cell_type": "code",
   "execution_count": 38,
   "id": "23220787",
   "metadata": {},
   "outputs": [],
   "source": [
    "class TrafficSignNetworkTuner:\n",
    "    @staticmethod\n",
    "    def build_tuner(hp):\n",
    "        width = 32\n",
    "        height = 32\n",
    "        depth = 3\n",
    "        classes = 43\n",
    "        model = Sequential()\n",
    "        inputShape = (height, width, depth)\n",
    "        \n",
    "        for i in range(hp.Int('conv_blocks', 2, 5, default=3)):\n",
    "            filters = hp.Int('filters_' + str(i), 8, 64, step=8)\n",
    "            # CONV => RELU => BN => POOL\n",
    "            model.add(Conv2D(filters, (5, 5), padding=\"same\",\n",
    "                input_shape=inputShape))\n",
    "            model.add(Activation(\"relu\"))\n",
    "            model.add(BatchNormalization())\n",
    "            \n",
    "            pool_choice = hp.Choice('pooling_' + str(i), ['avg', 'max', ''])\n",
    "            if pool_choice == 'max':\n",
    "                model.add(MaxPooling2D(pool_size=(2, 2)))\n",
    "            elif pool_choice == 'avg':\n",
    "                model.add(AvgPool2D(pool_size=(2, 2)))\n",
    "        \n",
    "        for i in range(hp.Int('fully_connected', 1, 3, default=2)):\n",
    "            # first set of FC => RELU layers\n",
    "            hp_units = hp.Int('units_' + str(i), min_value=32, max_value=512, step=32)\n",
    "            model.add(Flatten())\n",
    "            model.add(Dense(hp_units))\n",
    "            model.add(Activation(\"relu\"))\n",
    "            model.add(BatchNormalization())\n",
    "            model.add(Dropout(0.5))\n",
    "                \n",
    "        # softmax classifier\n",
    "        model.add(Dense(classes))\n",
    "        model.add(Activation(\"softmax\"))\n",
    "        \n",
    "        hp_learning_rate = hp.Choice('learning_rate', values=[1e-2, 1e-3, 1e-4])\n",
    "        chosen_loss = tf.keras.losses.CategoricalCrossentropy(from_logits=True)\n",
    "        \n",
    "        model.compile(optimizer=tf.keras.optimizers.Adam(learning_rate=hp_learning_rate),\n",
    "                loss=chosen_loss,\n",
    "                metrics=['accuracy'])\n",
    "        \n",
    "        # return the constructed network architecture\n",
    "        return model"
   ]
  },
  {
   "cell_type": "code",
   "execution_count": 39,
   "id": "976b5b5f",
   "metadata": {},
   "outputs": [
    {
     "name": "stdout",
     "output_type": "stream",
     "text": [
      "INFO:tensorflow:Reloading Oracle from existing project .\\kt_signdetection_network\\oracle.json\n",
      "INFO:tensorflow:Reloading Tuner from .\\kt_signdetection_network\\tuner0.json\n"
     ]
    }
   ],
   "source": [
    "tuner = kt.Hyperband(\n",
    "    TrafficSignNetworkTuner.build_tuner,\n",
    "    objective='val_accuracy',\n",
    "    max_epochs=30,\n",
    "    hyperband_iterations=1,\n",
    "    seed=1234,\n",
    "    project_name='kt_signdetection_network',\n",
    "    overwrite=False\n",
    "    )"
   ]
  },
  {
   "cell_type": "code",
   "execution_count": 40,
   "id": "9ed8aff2",
   "metadata": {},
   "outputs": [],
   "source": [
    "RUN_TUNER = False\n",
    "if RUN_TUNER:\n",
    "    tuner.search(X_train, y_train,\n",
    "                 validation_data=(X_val, y_val),\n",
    "                 epochs=30,\n",
    "                 batch_size=128,\n",
    "                 callbacks=[tf.keras.callbacks.EarlyStopping(monitor='val_loss', patience=2)])\n",
    "else:\n",
    "    tuner.reload()"
   ]
  },
  {
   "cell_type": "markdown",
   "id": "4f6f138e",
   "metadata": {},
   "source": [
    "Resultate der Tuner-Suche:    \n",
    "```\n",
    "Trial 91 Complete [00h 02m 47s]\n",
    "val_accuracy: 0.9670542478561401\n",
    "\n",
    "Best val_accuracy So Far: 0.994217038154602\n",
    "Total elapsed time: 00h 48m 44s\n",
    "INFO:tensorflow:Oracle triggered exit\n",
    "```"
   ]
  },
  {
   "cell_type": "code",
   "execution_count": 41,
   "id": "25f120ee",
   "metadata": {},
   "outputs": [
    {
     "name": "stdout",
     "output_type": "stream",
     "text": [
      "Model: \"sequential\"\n",
      "_________________________________________________________________\n",
      " Layer (type)                Output Shape              Param #   \n",
      "=================================================================\n",
      " conv2d (Conv2D)             (None, 32, 32, 32)        2432      \n",
      "                                                                 \n",
      " activation (Activation)     (None, 32, 32, 32)        0         \n",
      "                                                                 \n",
      " batch_normalization (BatchN  (None, 32, 32, 32)       128       \n",
      " ormalization)                                                   \n",
      "                                                                 \n",
      " max_pooling2d (MaxPooling2D  (None, 16, 16, 32)       0         \n",
      " )                                                               \n",
      "                                                                 \n",
      " conv2d_1 (Conv2D)           (None, 16, 16, 32)        25632     \n",
      "                                                                 \n",
      " activation_1 (Activation)   (None, 16, 16, 32)        0         \n",
      "                                                                 \n",
      " batch_normalization_1 (Batc  (None, 16, 16, 32)       128       \n",
      " hNormalization)                                                 \n",
      "                                                                 \n",
      " conv2d_2 (Conv2D)           (None, 16, 16, 40)        32040     \n",
      "                                                                 \n",
      " activation_2 (Activation)   (None, 16, 16, 40)        0         \n",
      "                                                                 \n",
      " batch_normalization_2 (Batc  (None, 16, 16, 40)       160       \n",
      " hNormalization)                                                 \n",
      "                                                                 \n",
      " average_pooling2d (AverageP  (None, 8, 8, 40)         0         \n",
      " ooling2D)                                                       \n",
      "                                                                 \n",
      " flatten (Flatten)           (None, 2560)              0         \n",
      "                                                                 \n",
      " dense (Dense)               (None, 288)               737568    \n",
      "                                                                 \n",
      " activation_3 (Activation)   (None, 288)               0         \n",
      "                                                                 \n",
      " batch_normalization_3 (Batc  (None, 288)              1152      \n",
      " hNormalization)                                                 \n",
      "                                                                 \n",
      " dropout (Dropout)           (None, 288)               0         \n",
      "                                                                 \n",
      " flatten_1 (Flatten)         (None, 288)               0         \n",
      "                                                                 \n",
      " dense_1 (Dense)             (None, 64)                18496     \n",
      "                                                                 \n",
      " activation_4 (Activation)   (None, 64)                0         \n",
      "                                                                 \n",
      " batch_normalization_4 (Batc  (None, 64)               256       \n",
      " hNormalization)                                                 \n",
      "                                                                 \n",
      " dropout_1 (Dropout)         (None, 64)                0         \n",
      "                                                                 \n",
      " dense_2 (Dense)             (None, 43)                2795      \n",
      "                                                                 \n",
      " activation_5 (Activation)   (None, 43)                0         \n",
      "                                                                 \n",
      "=================================================================\n",
      "Total params: 820,787\n",
      "Trainable params: 819,875\n",
      "Non-trainable params: 912\n",
      "_________________________________________________________________\n",
      "WARNING:tensorflow:Detecting that an object or model or tf.train.Checkpoint is being deleted with unrestored values. See the following logs for the specific values in question. To silence these warnings, use `status.expect_partial()`. See https://www.tensorflow.org/api_docs/python/tf/train/Checkpoint#restorefor details about the status object returned by the restore function.\n",
      "WARNING:tensorflow:Value in checkpoint could not be found in the restored object: (root).optimizer.iter\n",
      "WARNING:tensorflow:Value in checkpoint could not be found in the restored object: (root).optimizer.beta_1\n",
      "WARNING:tensorflow:Value in checkpoint could not be found in the restored object: (root).optimizer.beta_2\n",
      "WARNING:tensorflow:Value in checkpoint could not be found in the restored object: (root).optimizer.decay\n",
      "WARNING:tensorflow:Value in checkpoint could not be found in the restored object: (root).optimizer.learning_rate\n",
      "None\n"
     ]
    }
   ],
   "source": [
    "print(tuner.get_best_models()[0].summary())"
   ]
  },
  {
   "cell_type": "code",
   "execution_count": 42,
   "id": "a4c13d53",
   "metadata": {},
   "outputs": [
    {
     "name": "stdout",
     "output_type": "stream",
     "text": [
      "{'conv_blocks': 3, 'filters_0': 32, 'pooling_0': 'max', 'filters_1': 32, 'pooling_1': '', 'filters_2': 40, 'pooling_2': 'avg', 'fully_connected': 2, 'units_0': 288, 'units_1': 64, 'learning_rate': 0.001, 'filters_3': 32, 'pooling_3': 'avg', 'filters_4': 56, 'pooling_4': '', 'units_2': 96, 'tuner/epochs': 10, 'tuner/initial_epoch': 4, 'tuner/bracket': 2, 'tuner/round': 1, 'tuner/trial_id': '839e8d6be0425798d8d348420567f2d9'}\n"
     ]
    }
   ],
   "source": [
    "print(tuner.get_best_hyperparameters(num_trials=1)[0].values)"
   ]
  },
  {
   "cell_type": "markdown",
   "id": "461d5588",
   "metadata": {},
   "source": [
    "### Modelltraining\n",
    "Mit Hilfe der bestimmten Hyperparameter wird das CNN aufgebaut. Um das Modelltraining zu beschleunigen, wurde es ausgelagert. Das Modelltraining ist in Notebook: <a href=\"Modelltraining Schilder Klassifizierung.ipynb\">Modelltraining Schilder Klassifizierung.ipynb</a> zu finden.  \n",
    "Das Modell wird hier schematisch dargestellt:   \n",
    "<img src=\"./images/CNN_classification.png\">"
   ]
  },
  {
   "cell_type": "code",
   "execution_count": 43,
   "id": "1ca7841d",
   "metadata": {},
   "outputs": [],
   "source": [
    "class TrafficSignNetwork:\n",
    "    @staticmethod\n",
    "    def build(width, height, depth, classes):\n",
    "        model = Sequential()\n",
    "        inputShape = (height, width, depth)\n",
    "        \n",
    "        # first convolutional block\n",
    "        model.add(Conv2D(32, (5, 5), padding=\"same\",\n",
    "            input_shape=inputShape))\n",
    "        model.add(Activation(\"relu\"))\n",
    "        model.add(BatchNormalization())\n",
    "        model.add(MaxPooling2D(pool_size=(2, 2)))\n",
    "        \n",
    "        # second convolutional block\n",
    "        model.add(Conv2D(32, (5, 5), padding=\"same\"))\n",
    "        model.add(Activation(\"relu\"))\n",
    "        model.add(BatchNormalization())\n",
    "        \n",
    "        # third convolutional block\n",
    "        model.add(Conv2D(40, (5, 5), padding=\"same\"))\n",
    "        model.add(Activation(\"relu\"))\n",
    "        model.add(BatchNormalization())\n",
    "        model.add(AvgPool2D(pool_size=(2, 2)))\n",
    "        \n",
    "        # first fully connected\n",
    "        model.add(Flatten())\n",
    "        model.add(Dense(288))\n",
    "        model.add(Activation(\"relu\"))\n",
    "        model.add(BatchNormalization())\n",
    "        model.add(Dropout(0.5))\n",
    "        \n",
    "        # second fully connected\n",
    "        model.add(Flatten())\n",
    "        model.add(Dense(64))\n",
    "        model.add(Activation(\"relu\"))\n",
    "        model.add(BatchNormalization())\n",
    "        model.add(Dropout(0.5))\n",
    "        \n",
    "        # softmax classifier\n",
    "        model.add(Dense(classes))\n",
    "        model.add(Activation(\"softmax\"))\n",
    "        \n",
    "        return model"
   ]
  },
  {
   "cell_type": "markdown",
   "id": "a8bcc820",
   "metadata": {},
   "source": [
    "Die Gewichte des bereits trainierten Modells werden eingeladen."
   ]
  },
  {
   "cell_type": "code",
   "execution_count": 57,
   "id": "be5c0e2e",
   "metadata": {},
   "outputs": [],
   "source": [
    "INIT_LR = 0.001\n",
    "\n",
    "opt = Adam(learning_rate=INIT_LR)\n",
    "model_classification = TrafficSignNetwork.build(width=32, height=32, depth=3, classes=43)\n",
    "# Umsetzung der Empfehlung, die logit-Variante vorzuziehen\n",
    "model_classification.compile(loss=tf.keras.losses.CategoricalCrossentropy(from_logits=True), optimizer=opt, metrics=[\"accuracy\"])\n",
    "model_classification.load_weights(\"./models/fin_model_15ep.h5\")"
   ]
  },
  {
   "cell_type": "markdown",
   "id": "551b2b1e",
   "metadata": {},
   "source": [
    "## Evaluation\n",
    "\n",
    "### Entwicklung der Ergebnisse\n",
    "    \n",
    "Im Laufe der Entwicklung dieses Projekts wurden mehrere Modelle trainiert. Diese sind hier nicht mehr dargestellt, daher werden folgend \"lessons learned\" bezüglich des Modelltrainings beschrieben.  \n",
    "\n",
    "Anfangs wurde eine geringe Anzahl an convolutional-Blöcken (weniger als drei) und eine hohen Epochenanzahl verwendet. Dabei kam es nach ca 15-20 Epochen zu starkem Overfitting. Die Modell-Accuracy auf den Validierungsdaten lag im Bereich 80-95% und tiefer (Overfitting).  \n",
    "Daher wurde ein keras_tuner Lauf durchgeführt, welcher verschiedene Modelle trainiert und miteinander vergleicht (Beschreibung siehe CNN/Klassifizierung). Beim Training des besten Modells stellte sich heraus, dass auch hier sehr schnell Overfitting stattfindet (nach 15-20 Epochen). Allerdings befindet sich die Accuracy auf den Validierungsdaten nun im Bereich >99%. Eine Evaluierung auf den Testdaten muss diese Zahl noch bestätigen."
   ]
  },
  {
   "cell_type": "code",
   "execution_count": 58,
   "id": "bd884c9a",
   "metadata": {},
   "outputs": [
    {
     "name": "stderr",
     "output_type": "stream",
     "text": [
      "C:\\Users\\NickK\\anaconda3\\lib\\site-packages\\tensorflow\\python\\util\\dispatch.py:1082: UserWarning: \"`categorical_crossentropy` received `from_logits=True`, but the `output` argument was produced by a sigmoid or softmax activation and thus does not represent logits. Was this intended?\"\n",
      "  return dispatch_target(*args, **kwargs)\n"
     ]
    },
    {
     "name": "stdout",
     "output_type": "stream",
     "text": [
      "1008/1008 [==============================] - 16s 15ms/step - loss: 0.0218 - accuracy: 0.9939\n"
     ]
    },
    {
     "data": {
      "text/plain": [
       "[0.02182062342762947, 0.9939224720001221]"
      ]
     },
     "execution_count": 58,
     "metadata": {},
     "output_type": "execute_result"
    }
   ],
   "source": [
    "model_classification.evaluate(X_test, y_test)"
   ]
  },
  {
   "cell_type": "markdown",
   "id": "bf28634c",
   "metadata": {},
   "source": [
    "Die Evaluation bestätigt das vorläufige Ergebnis und stellt mit 99.4% eine absolut zufriedenstellende Accuracy dar. In einer Reihe weiterer Darstellungen wird die Leistung des Modells weiter abgebildet.  \n",
    "Um mit den Vorhersagen weiter arbeiten zu können, müssen diese auf Basis der Testdaten erst noch bestimmt werden."
   ]
  },
  {
   "cell_type": "code",
   "execution_count": 59,
   "id": "800c6722",
   "metadata": {},
   "outputs": [],
   "source": [
    "preds = model_classification.predict(X_test)\n",
    "preds = tf.argmax(preds, axis=1)"
   ]
  },
  {
   "cell_type": "markdown",
   "id": "d6a9ba6e",
   "metadata": {},
   "source": [
    "### Konfusionsmatrix\n",
    "Mit Hilfe einer Konfusionsmatrix kann visuell die Leistung des Modells bestimmt werden. Hier wird sie auf die Vorhersage der Testdaten angewendet. Bei der Nutzung von 43 Klassen ist diese Darstellung schwierig, bzw. sind die einzelnen Zahlen sehr schlecht zu erkennen. Die Farben ergeben allerdings ein gutes Bild über die Verteilung.  "
   ]
  },
  {
   "cell_type": "code",
   "execution_count": 60,
   "id": "da064937",
   "metadata": {},
   "outputs": [
    {
     "data": {
      "image/png": "[encoded data removed]",
      "text/plain": [
       "<Figure size 1440x1080 with 2 Axes>"
      ]
     },
     "metadata": {},
     "output_type": "display_data"
    }
   ],
   "source": [
    "# Aufbau + Plot der Confusion Matrix\n",
    "cm = confusion_matrix(tf.argmax(y_test, axis=1).numpy(), preds.numpy())  \n",
    "plot_confusion_matrix(cm, tuple(classes))"
   ]
  },
  {
   "cell_type": "markdown",
   "id": "f8e05854",
   "metadata": {},
   "source": [
    "Es ist deutlich erkennbar, dass die Diagonale (korrekte Klassifizierungen) farblich sehr deutlich markiert ist, während alle anderen Zellen (falsche Klassifizierungen) auf Basis ihrer Farbe im Bereich 0 liegen.\n",
    "### Darstellung falscher Klassifizierungen"
   ]
  },
  {
   "cell_type": "code",
   "execution_count": 61,
   "id": "43721884",
   "metadata": {},
   "outputs": [
    {
     "name": "stdout",
     "output_type": "stream",
     "text": [
      "Falsche Vorhersagen: 196 von: 32250\n"
     ]
    }
   ],
   "source": [
    "wrong_preds = preds.numpy() !=  tf.argmax(y_test, axis=1).numpy()\n",
    "wrong_preds_index = np.where(wrong_preds == True)\n",
    "print(\"Falsche Vorhersagen:\", len(wrong_preds_index[0]), \"von:\", len(preds.numpy()))"
   ]
  },
  {
   "cell_type": "code",
   "execution_count": 62,
   "id": "8c401bf9",
   "metadata": {},
   "outputs": [
    {
     "data": {
      "image/png": "[encoded data removed]",
      "text/plain": [
       "<Figure size 432x288 with 1 Axes>"
      ]
     },
     "metadata": {},
     "output_type": "display_data"
    }
   ],
   "source": [
    "right_labels = tf.argmax(y_test, axis=1)\n",
    "right_labels = np.array(right_labels)\n",
    "right_labels = right_labels[wrong_preds_index]\n",
    "\n",
    "wrong_predictions = np.array(preds)\n",
    "wrong_predictions = wrong_predictions[wrong_preds_index]\n",
    "\n",
    "wrong_predicted_images = X_test[wrong_preds_index]\n",
    "\n",
    "# labels = range(0,43)\n",
    "plt.hist(wrong_predictions, bins=43, rwidth=0.7)\n",
    "plt.title(\"Falsche Klassifizierungen\")\n",
    "plt.ylabel(\"Anzahl Fehlklassifizierungen\")\n",
    "plt.xlabel(\"Klasse\")\n",
    "plt.show()"
   ]
  },
  {
   "cell_type": "code",
   "execution_count": 63,
   "id": "5074c070",
   "metadata": {},
   "outputs": [
    {
     "data": {
      "text/plain": [
       "[3, 5, 21, 26, 7]"
      ]
     },
     "execution_count": 63,
     "metadata": {},
     "output_type": "execute_result"
    }
   ],
   "source": [
    "# die 5 am meisten fehlklassifizierten Klassen\n",
    "list_wrong_preds = list(wrong_predictions)\n",
    "most_wrongs = []\n",
    "def most_common(lst):\n",
    "    return max(set(lst), key=lst.count)\n",
    "\n",
    "for i in range(0, 5):\n",
    "    classid = most_common(list_wrong_preds)\n",
    "    try:\n",
    "        while True:\n",
    "            list_wrong_preds.remove(classid)\n",
    "    except ValueError:\n",
    "        pass\n",
    "    most_wrongs.append(classid)\n",
    "most_wrongs"
   ]
  },
  {
   "cell_type": "code",
   "execution_count": 64,
   "id": "066f0593",
   "metadata": {},
   "outputs": [
    {
     "name": "stdout",
     "output_type": "stream",
     "text": [
      "Geschwindigkeitsbegrenzung (60km/h)\n",
      "Geschwindigkeitsbegrenzung (80km/h)\n",
      "Doppelkurve\n",
      "Lichtzeichenanlage\n",
      "Geschwindigkeitsbegrenzung (100km/h)\n"
     ]
    }
   ],
   "source": [
    "for element in most_wrongs:\n",
    "    print(classes[element])"
   ]
  },
  {
   "cell_type": "markdown",
   "id": "303d65ba",
   "metadata": {},
   "source": [
    "# Verbindung der Objekterkennung und Klassifizierung\n",
    "## Anwendung der Modelle auf Bilder aus dem Straßenverkehr\n",
    "In einem letzten Schritt soll die Zusammenarbeit zwischen Objekterkennung und Klassifizierung getestet werden. Dafür haben wir einen Datensatz benutzt, welcher 900 reale Bilder aus dem Straßenverkehr verwendet. Dieser wurde von den Erstellern des Datensatzes gelabelt (Bounding Box und Klasse).  \n",
    "Die Datenstruktur stimmt mit der aus dem Trainingsdatensatz überein, sprich es sind 43 Klassen vorhanden, die Klassenbezeichnungen stimmen mit dem Trainingsdatensatz überein.  "
   ]
  },
  {
   "cell_type": "code",
   "execution_count": 65,
   "id": "da056ed2",
   "metadata": {},
   "outputs": [
    {
     "data": {
      "text/html": [
       "<div>\n",
       "<style scoped>\n",
       "    .dataframe tbody tr th:only-of-type {\n",
       "        vertical-align: middle;\n",
       "    }\n",
       "\n",
       "    .dataframe tbody tr th {\n",
       "        vertical-align: top;\n",
       "    }\n",
       "\n",
       "    .dataframe thead th {\n",
       "        text-align: right;\n",
       "    }\n",
       "</style>\n",
       "<table border=\"1\" class=\"dataframe\">\n",
       "  <thead>\n",
       "    <tr style=\"text-align: right;\">\n",
       "      <th></th>\n",
       "      <th>Filename</th>\n",
       "      <th>Roi.X1</th>\n",
       "      <th>Roi.Y1</th>\n",
       "      <th>Roi.X2</th>\n",
       "      <th>Roi.Y2</th>\n",
       "      <th>ClassId</th>\n",
       "    </tr>\n",
       "  </thead>\n",
       "  <tbody>\n",
       "    <tr>\n",
       "      <th>0</th>\n",
       "      <td>00000.ppm</td>\n",
       "      <td>774</td>\n",
       "      <td>411</td>\n",
       "      <td>815</td>\n",
       "      <td>446</td>\n",
       "      <td>11</td>\n",
       "    </tr>\n",
       "    <tr>\n",
       "      <th>1</th>\n",
       "      <td>00001.ppm</td>\n",
       "      <td>983</td>\n",
       "      <td>388</td>\n",
       "      <td>1024</td>\n",
       "      <td>432</td>\n",
       "      <td>40</td>\n",
       "    </tr>\n",
       "    <tr>\n",
       "      <th>2</th>\n",
       "      <td>00001.ppm</td>\n",
       "      <td>386</td>\n",
       "      <td>494</td>\n",
       "      <td>442</td>\n",
       "      <td>552</td>\n",
       "      <td>38</td>\n",
       "    </tr>\n",
       "    <tr>\n",
       "      <th>3</th>\n",
       "      <td>00001.ppm</td>\n",
       "      <td>973</td>\n",
       "      <td>335</td>\n",
       "      <td>1031</td>\n",
       "      <td>390</td>\n",
       "      <td>13</td>\n",
       "    </tr>\n",
       "    <tr>\n",
       "      <th>4</th>\n",
       "      <td>00002.ppm</td>\n",
       "      <td>892</td>\n",
       "      <td>476</td>\n",
       "      <td>1006</td>\n",
       "      <td>592</td>\n",
       "      <td>39</td>\n",
       "    </tr>\n",
       "    <tr>\n",
       "      <th>...</th>\n",
       "      <td>...</td>\n",
       "      <td>...</td>\n",
       "      <td>...</td>\n",
       "      <td>...</td>\n",
       "      <td>...</td>\n",
       "      <td>...</td>\n",
       "    </tr>\n",
       "    <tr>\n",
       "      <th>1208</th>\n",
       "      <td>00896.ppm</td>\n",
       "      <td>808</td>\n",
       "      <td>412</td>\n",
       "      <td>846</td>\n",
       "      <td>450</td>\n",
       "      <td>15</td>\n",
       "    </tr>\n",
       "    <tr>\n",
       "      <th>1209</th>\n",
       "      <td>00897.ppm</td>\n",
       "      <td>804</td>\n",
       "      <td>526</td>\n",
       "      <td>828</td>\n",
       "      <td>550</td>\n",
       "      <td>42</td>\n",
       "    </tr>\n",
       "    <tr>\n",
       "      <th>1210</th>\n",
       "      <td>00898.ppm</td>\n",
       "      <td>323</td>\n",
       "      <td>504</td>\n",
       "      <td>355</td>\n",
       "      <td>536</td>\n",
       "      <td>4</td>\n",
       "    </tr>\n",
       "    <tr>\n",
       "      <th>1211</th>\n",
       "      <td>00898.ppm</td>\n",
       "      <td>817</td>\n",
       "      <td>510</td>\n",
       "      <td>849</td>\n",
       "      <td>542</td>\n",
       "      <td>4</td>\n",
       "    </tr>\n",
       "    <tr>\n",
       "      <th>1212</th>\n",
       "      <td>00899.ppm</td>\n",
       "      <td>864</td>\n",
       "      <td>484</td>\n",
       "      <td>921</td>\n",
       "      <td>534</td>\n",
       "      <td>24</td>\n",
       "    </tr>\n",
       "  </tbody>\n",
       "</table>\n",
       "<p>1213 rows × 6 columns</p>\n",
       "</div>"
      ],
      "text/plain": [
       "       Filename  Roi.X1  Roi.Y1  Roi.X2  Roi.Y2  ClassId\n",
       "0     00000.ppm     774     411     815     446       11\n",
       "1     00001.ppm     983     388    1024     432       40\n",
       "2     00001.ppm     386     494     442     552       38\n",
       "3     00001.ppm     973     335    1031     390       13\n",
       "4     00002.ppm     892     476    1006     592       39\n",
       "...         ...     ...     ...     ...     ...      ...\n",
       "1208  00896.ppm     808     412     846     450       15\n",
       "1209  00897.ppm     804     526     828     550       42\n",
       "1210  00898.ppm     323     504     355     536        4\n",
       "1211  00898.ppm     817     510     849     542        4\n",
       "1212  00899.ppm     864     484     921     534       24\n",
       "\n",
       "[1213 rows x 6 columns]"
      ]
     },
     "execution_count": 65,
     "metadata": {},
     "output_type": "execute_result"
    }
   ],
   "source": [
    "reader = Reader()\n",
    "df_test = reader.read_test_data_to_df(pre_path=\"./test_data/\")\n",
    "df_test"
   ]
  },
  {
   "cell_type": "markdown",
   "id": "ede3e3ff",
   "metadata": {},
   "source": [
    "Die Anzahl der Zeilen lässt darauf schließen, dass die Test-Bilder über mehrere Klassen verfügen können. In den Zeilen 1-3 des DataFrame ist dies auch zu erkennen.\n",
    "## Ablauf\n",
    "Zuerst sollen Bounding Boxes durch das Objekterkennungsmodell bestimmt werden. Im Abschluss übergibt dieser Arbeitschritt die Bilder und Bounding Boxes an die Schilderklassifizierung weiter. Die Accuracy der Vorhersagen kann mit denen verglichen werden, die das Modell anhand der \"originalen\" Bounding Boxes erreicht. So ist die Leistung der gesamten Kette messbar."
   ]
  },
  {
   "cell_type": "code",
   "execution_count": 70,
   "id": "c4e8bf9a",
   "metadata": {
    "scrolled": true
   },
   "outputs": [
    {
     "name": "stdout",
     "output_type": "stream",
     "text": [
      "Iterated through 250 signs\n",
      "Iterated through 500 signs\n",
      "Iterated through 750 signs\n",
      "Iterated through 1000 signs\n",
      "Iterated through all signs\n"
     ]
    }
   ],
   "source": [
    "test_data_with_cut_bb = []\n",
    "test_labels = []\n",
    "test_data_full_img=[]\n",
    "folder = r\"./test_data/\"\n",
    "for index, row in df_test.iterrows(): \n",
    "    if index>0 and index%250 == 0:\n",
    "        print(\"Iterated through\", index, \"signs\")\n",
    "    elif index+1 == len(df_test):\n",
    "        print(\"Iterated through all signs\")\n",
    "\n",
    "    x = row[\"Roi.X1\"]\n",
    "    y = row[\"Roi.Y1\"]\n",
    "    h = row[\"Roi.Y2\"]-row[\"Roi.Y1\"]\n",
    "    w = row[\"Roi.X2\"]-row[\"Roi.X1\"]\n",
    "\n",
    "    test_data_full_img.append(Reader().read_preprocess_img_without_bounding(folder+row[\"Filename\"], (192,128)))\n",
    "    test_data_with_cut_bb.append(Reader().read_preprocess_img(folder+row[\"Filename\"], (32,32), x, y, h, w))\n",
    "    test_labels.append(int(row[\"ClassId\"]))\n",
    "\n",
    "test_data_full_img = np.array(test_data_full_img)\n",
    "test_data_with_cut_bb = np.array(test_data_with_cut_bb)\n",
    "test_labels = np.array(test_labels)"
   ]
  },
  {
   "cell_type": "markdown",
   "id": "5df2fb78",
   "metadata": {},
   "source": [
    "## Vorhersage der Bounding Boxes\n",
    "TODO @Sören: siehe Code Block hier drüber. Bilder hab ich dir schon eingelesen (test_data_full_img sollte so sein wie du das brauchst)--> musst nochmal prüfen ob die Parameter so stimmen (size, clahe, ...)"
   ]
  },
  {
   "cell_type": "code",
   "execution_count": 55,
   "id": "ea62a14e-e518-4f98-b7de-12f267efd544",
   "metadata": {},
   "outputs": [],
   "source": [
    "#for image, bounding in zip(test_data_full_img, test_labels):\n",
    "#    predict_and_display_img(model_detect, image, [0,0,0,0])"
   ]
  },
  {
   "cell_type": "code",
   "execution_count": 56,
   "id": "310f4ace",
   "metadata": {},
   "outputs": [
    {
     "ename": "ValueError",
     "evalue": "in user code:\n\n    File \"C:\\Users\\NickK\\anaconda3\\lib\\site-packages\\keras\\engine\\training.py\", line 1801, in predict_function  *\n        return step_function(self, iterator)\n    File \"C:\\Users\\NickK\\anaconda3\\lib\\site-packages\\keras\\engine\\training.py\", line 1790, in step_function  **\n        outputs = model.distribute_strategy.run(run_step, args=(data,))\n    File \"C:\\Users\\NickK\\anaconda3\\lib\\site-packages\\keras\\engine\\training.py\", line 1783, in run_step  **\n        outputs = model.predict_step(data)\n    File \"C:\\Users\\NickK\\anaconda3\\lib\\site-packages\\keras\\engine\\training.py\", line 1751, in predict_step\n        return self(x, training=False)\n    File \"C:\\Users\\NickK\\anaconda3\\lib\\site-packages\\keras\\utils\\traceback_utils.py\", line 67, in error_handler\n        raise e.with_traceback(filtered_tb) from None\n    File \"C:\\Users\\NickK\\anaconda3\\lib\\site-packages\\keras\\engine\\input_spec.py\", line 264, in assert_input_compatibility\n        raise ValueError(f'Input {input_index} of layer \"{layer_name}\" is '\n\n    ValueError: Input 0 of layer \"model\" is incompatible with the layer: expected shape=(None, 64, 96, 3), found shape=(None, 128, 192, 3)\n",
     "output_type": "error",
     "traceback": [
      "\u001b[1;31m---------------------------------------------------------------------------\u001b[0m",
      "\u001b[1;31mValueError\u001b[0m                                Traceback (most recent call last)",
      "\u001b[1;32m<ipython-input-56-15457c1837c4>\u001b[0m in \u001b[0;36m<module>\u001b[1;34m\u001b[0m\n\u001b[0;32m      3\u001b[0m \u001b[0mmodel_detect\u001b[0m \u001b[1;33m=\u001b[0m \u001b[0mload_model\u001b[0m\u001b[1;33m(\u001b[0m\u001b[1;34mr\"models/models_regr_1_1\"\u001b[0m\u001b[1;33m)\u001b[0m\u001b[1;33m\u001b[0m\u001b[1;33m\u001b[0m\u001b[0m\n\u001b[0;32m      4\u001b[0m \u001b[1;33m\u001b[0m\u001b[0m\n\u001b[1;32m----> 5\u001b[1;33m \u001b[0mpredicted_bb\u001b[0m \u001b[1;33m=\u001b[0m \u001b[0mmodel_detect\u001b[0m\u001b[1;33m.\u001b[0m\u001b[0mpredict\u001b[0m\u001b[1;33m(\u001b[0m\u001b[0mtest_data_full_img\u001b[0m\u001b[1;33m)\u001b[0m\u001b[1;33m\u001b[0m\u001b[1;33m\u001b[0m\u001b[0m\n\u001b[0m\u001b[0;32m      6\u001b[0m \u001b[0mtest_data_with_predicted_cut_bb\u001b[0m \u001b[1;33m=\u001b[0m \u001b[1;33m[\u001b[0m\u001b[1;33m]\u001b[0m\u001b[1;33m\u001b[0m\u001b[1;33m\u001b[0m\u001b[0m\n\u001b[0;32m      7\u001b[0m \u001b[0mtest_labels_pred_bb\u001b[0m \u001b[1;33m=\u001b[0m \u001b[1;33m[\u001b[0m\u001b[1;33m]\u001b[0m\u001b[1;33m\u001b[0m\u001b[1;33m\u001b[0m\u001b[0m\n",
      "\u001b[1;32m~\\anaconda3\\lib\\site-packages\\keras\\utils\\traceback_utils.py\u001b[0m in \u001b[0;36merror_handler\u001b[1;34m(*args, **kwargs)\u001b[0m\n\u001b[0;32m     65\u001b[0m     \u001b[1;32mexcept\u001b[0m \u001b[0mException\u001b[0m \u001b[1;32mas\u001b[0m \u001b[0me\u001b[0m\u001b[1;33m:\u001b[0m  \u001b[1;31m# pylint: disable=broad-except\u001b[0m\u001b[1;33m\u001b[0m\u001b[1;33m\u001b[0m\u001b[0m\n\u001b[0;32m     66\u001b[0m       \u001b[0mfiltered_tb\u001b[0m \u001b[1;33m=\u001b[0m \u001b[0m_process_traceback_frames\u001b[0m\u001b[1;33m(\u001b[0m\u001b[0me\u001b[0m\u001b[1;33m.\u001b[0m\u001b[0m__traceback__\u001b[0m\u001b[1;33m)\u001b[0m\u001b[1;33m\u001b[0m\u001b[1;33m\u001b[0m\u001b[0m\n\u001b[1;32m---> 67\u001b[1;33m       \u001b[1;32mraise\u001b[0m \u001b[0me\u001b[0m\u001b[1;33m.\u001b[0m\u001b[0mwith_traceback\u001b[0m\u001b[1;33m(\u001b[0m\u001b[0mfiltered_tb\u001b[0m\u001b[1;33m)\u001b[0m \u001b[1;32mfrom\u001b[0m \u001b[1;32mNone\u001b[0m\u001b[1;33m\u001b[0m\u001b[1;33m\u001b[0m\u001b[0m\n\u001b[0m\u001b[0;32m     68\u001b[0m     \u001b[1;32mfinally\u001b[0m\u001b[1;33m:\u001b[0m\u001b[1;33m\u001b[0m\u001b[1;33m\u001b[0m\u001b[0m\n\u001b[0;32m     69\u001b[0m       \u001b[1;32mdel\u001b[0m \u001b[0mfiltered_tb\u001b[0m\u001b[1;33m\u001b[0m\u001b[1;33m\u001b[0m\u001b[0m\n",
      "\u001b[1;32m~\\anaconda3\\lib\\site-packages\\tensorflow\\python\\framework\\func_graph.py\u001b[0m in \u001b[0;36mautograph_handler\u001b[1;34m(*args, **kwargs)\u001b[0m\n\u001b[0;32m   1145\u001b[0m           \u001b[1;32mexcept\u001b[0m \u001b[0mException\u001b[0m \u001b[1;32mas\u001b[0m \u001b[0me\u001b[0m\u001b[1;33m:\u001b[0m  \u001b[1;31m# pylint:disable=broad-except\u001b[0m\u001b[1;33m\u001b[0m\u001b[1;33m\u001b[0m\u001b[0m\n\u001b[0;32m   1146\u001b[0m             \u001b[1;32mif\u001b[0m \u001b[0mhasattr\u001b[0m\u001b[1;33m(\u001b[0m\u001b[0me\u001b[0m\u001b[1;33m,\u001b[0m \u001b[1;34m\"ag_error_metadata\"\u001b[0m\u001b[1;33m)\u001b[0m\u001b[1;33m:\u001b[0m\u001b[1;33m\u001b[0m\u001b[1;33m\u001b[0m\u001b[0m\n\u001b[1;32m-> 1147\u001b[1;33m               \u001b[1;32mraise\u001b[0m \u001b[0me\u001b[0m\u001b[1;33m.\u001b[0m\u001b[0mag_error_metadata\u001b[0m\u001b[1;33m.\u001b[0m\u001b[0mto_exception\u001b[0m\u001b[1;33m(\u001b[0m\u001b[0me\u001b[0m\u001b[1;33m)\u001b[0m\u001b[1;33m\u001b[0m\u001b[1;33m\u001b[0m\u001b[0m\n\u001b[0m\u001b[0;32m   1148\u001b[0m             \u001b[1;32melse\u001b[0m\u001b[1;33m:\u001b[0m\u001b[1;33m\u001b[0m\u001b[1;33m\u001b[0m\u001b[0m\n\u001b[0;32m   1149\u001b[0m               \u001b[1;32mraise\u001b[0m\u001b[1;33m\u001b[0m\u001b[1;33m\u001b[0m\u001b[0m\n",
      "\u001b[1;31mValueError\u001b[0m: in user code:\n\n    File \"C:\\Users\\NickK\\anaconda3\\lib\\site-packages\\keras\\engine\\training.py\", line 1801, in predict_function  *\n        return step_function(self, iterator)\n    File \"C:\\Users\\NickK\\anaconda3\\lib\\site-packages\\keras\\engine\\training.py\", line 1790, in step_function  **\n        outputs = model.distribute_strategy.run(run_step, args=(data,))\n    File \"C:\\Users\\NickK\\anaconda3\\lib\\site-packages\\keras\\engine\\training.py\", line 1783, in run_step  **\n        outputs = model.predict_step(data)\n    File \"C:\\Users\\NickK\\anaconda3\\lib\\site-packages\\keras\\engine\\training.py\", line 1751, in predict_step\n        return self(x, training=False)\n    File \"C:\\Users\\NickK\\anaconda3\\lib\\site-packages\\keras\\utils\\traceback_utils.py\", line 67, in error_handler\n        raise e.with_traceback(filtered_tb) from None\n    File \"C:\\Users\\NickK\\anaconda3\\lib\\site-packages\\keras\\engine\\input_spec.py\", line 264, in assert_input_compatibility\n        raise ValueError(f'Input {input_index} of layer \"{layer_name}\" is '\n\n    ValueError: Input 0 of layer \"model\" is incompatible with the layer: expected shape=(None, 64, 96, 3), found shape=(None, 128, 192, 3)\n"
     ]
    }
   ],
   "source": [
    "from src.image_detection import predict_and_display_img\n",
    "\n",
    "model_detect = load_model(r\"models/models_regr_1_1\")\n",
    "\n",
    "predicted_bb = model_detect.predict(test_data_full_img)\n",
    "test_data_with_predicted_cut_bb = []\n",
    "test_labels_pred_bb = []\n",
    "\n",
    "for img, bb, label in zip(test_data_full_img, predicted_bb, test_labels):\n",
    "    h, w = img.shape[:2]\n",
    "    p_x1 = int(bb[0] * w)\n",
    "    p_y1 = int(bb[1] * h)\n",
    "    p_x2 = int(bb[2] * w)\n",
    "    p_y2 = int(bb[3] * h)\n",
    "    cut_img = img[p_y1:p_y2,p_x1:p_x2]\n",
    "    if cut_img.size > 0:\n",
    "        test_data_with_predicted_cut_bb.append(cv2.resize(cut_img, (32,32)))\n",
    "        test_labels_pred_bb.append(label)"
   ]
  },
  {
   "cell_type": "markdown",
   "id": "866f1ea1",
   "metadata": {},
   "source": [
    "## Vorhersage Klassen auf Basis der bestimmten Bounding Boxes"
   ]
  },
  {
   "cell_type": "code",
   "execution_count": null,
   "id": "b372ae4c",
   "metadata": {
    "tags": []
   },
   "outputs": [],
   "source": [
    "test_data_with_predicted_cut_bb = np.array(test_data_with_predicted_cut_bb)\n",
    "test_labels_bb = np.array(test_labels_pred_bb)\n",
    "\n",
    "print(len(test_data_with_predicted_cut_bb))\n",
    "print(len(test_labels_pred_bb))\n",
    "#test_data_with_cut_bb\n",
    "#test_labels_pred_bb"
   ]
  },
  {
   "cell_type": "code",
   "execution_count": null,
   "id": "fc808d34",
   "metadata": {},
   "outputs": [],
   "source": [
    "# Scale images to [0,1]\n",
    "test_data_with_predicted_cut_bb = test_data_with_predicted_cut_bb.astype(\"float32\")/255.0\n",
    "\n",
    "# One-Hot Encoding (without dropping one column)\n",
    "test_labels_bb = to_categorical(test_labels, 43)"
   ]
  },
  {
   "cell_type": "code",
   "execution_count": null,
   "id": "9a83cfef",
   "metadata": {},
   "outputs": [],
   "source": [
    "model_classification.evaluate(test_data_with_cut_bb, test_labels)"
   ]
  },
  {
   "cell_type": "code",
   "execution_count": null,
   "id": "ed0df41b",
   "metadata": {},
   "outputs": [],
   "source": [
    "preds = model.predict(test_data_with_predicted_cut_bb)\n",
    "preds = tf.argmax(preds, axis=1)\n",
    "\n",
    "# Aufbau + Plot der Confusion Matrix\n",
    "cm = confusion_matrix(tf.argmax(test_labels_bb, axis=1).numpy(), preds.numpy())  \n",
    "plot_confusion_matrix(cm, tuple(classes))"
   ]
  },
  {
   "cell_type": "markdown",
   "id": "a602c6ce",
   "metadata": {
    "tags": []
   },
   "source": [
    "## Vergleich Objekterkennung + Klassenbestimmung vs. Klassenbestimmung\n",
    "Nachdem die Leistung des Gesamtsystems (Bounding-Box Erkennung und Klassifizierung) bestimmt wurde, soll die Klassifikation allein auf die Testdaten angewendet werden.  \n",
    "Das Einlesen der zugeschnittenen Schilder hat bereits stattgefunden, die Daten müssen nun passend für das Modell vorbereitet werden (Skalierung, One-Hot-Encoding). Anschließend findet die Evaluierung statt. "
   ]
  },
  {
   "cell_type": "code",
   "execution_count": 71,
   "id": "4353f3a2-8041-4ae7-b204-f1feb3cc87f9",
   "metadata": {},
   "outputs": [
    {
     "name": "stdout",
     "output_type": "stream",
     "text": [
      "38/38 [==============================] - 1s 16ms/step - loss: 0.0537 - accuracy: 0.9901\n"
     ]
    },
    {
     "data": {
      "text/plain": [
       "[0.05369618162512779, 0.9901071786880493]"
      ]
     },
     "execution_count": 71,
     "metadata": {},
     "output_type": "execute_result"
    }
   ],
   "source": [
    "# Scale images to [0,1]\n",
    "test_data_with_cut_bb = test_data_with_cut_bb.astype(\"float32\")/255.0\n",
    "\n",
    "# One-Hot Encoding (without dropping one column)\n",
    "test_labels_classification = to_categorical(test_labels, 43)\n",
    "\n",
    "# Evaluation\n",
    "model_classification.evaluate(test_data_with_cut_bb, test_labels_classification)"
   ]
  },
  {
   "cell_type": "markdown",
   "id": "372fef23",
   "metadata": {},
   "source": [
    "Es kann eine Genauigkeit von 99% auf den neuen Daten erreicht werden, wenn die Bounding Box bereits bekannt ist.  \n",
    "Dies bestätigt die dargestellte Leistung im Training. "
   ]
  },
  {
   "cell_type": "code",
   "execution_count": 72,
   "id": "621d99a8",
   "metadata": {},
   "outputs": [
    {
     "data": {
      "image/png": "[encoded data removed]",
      "text/plain": [
       "<Figure size 1440x1080 with 2 Axes>"
      ]
     },
     "metadata": {},
     "output_type": "display_data"
    }
   ],
   "source": [
    "preds = model_classification.predict(test_data_with_cut_bb)\n",
    "preds = tf.argmax(preds, axis=1)\n",
    "\n",
    "# Aufbau + Plot der Confusion Matrix\n",
    "cm = confusion_matrix(tf.argmax(test_labels_classification, axis=1).numpy(), preds.numpy())  \n",
    "plot_confusion_matrix(cm, tuple(classes))"
   ]
  },
  {
   "cell_type": "markdown",
   "id": "ec45ab93",
   "metadata": {},
   "source": [
    "Die Konfusionsmatrix bestätigt die vorhergehende Evaluation. Es sind fast ausschließlich Einträge in der Diagonalen zu finden. Beim Vergleich mit der Konfusionsmatrix aus dem kombinierten Test (BB-Erkennung und Klassifizierung) werden die Unterschiede in der Performance besonders deutlich."
   ]
  },
  {
   "cell_type": "markdown",
   "id": "eaed698c",
   "metadata": {},
   "source": [
    "# Fazit und Ausblick\n",
    "Es wurde ein Ansatz beschrieben, wie eine Objekterkennung und Klassifizierung im Bereich Verkehrsschilder stattfinden kann. Es ist festzuhalten, dass der orginale Datensatz für das Training der Objekterkennung hochgradig ungeeignet ist. Durch die Generierung von synthetischen Daten leidet die Genauigkeit bei den Vorhersagen bei Bildern aus realen Umgebungen.  \n",
    "Die Klassifizierung an sich liefert sehr zufriedenstellende Ergebnisse.  \n",
    "Bei erneuter Bearbeitung oder mehr Zeit hätte der Ansatz eines R-CNN verfolgt werden können, um die Gesamtaufgabe in diesem Rahmen besser zu lösen. Weiterhin ist das \"YOLO\"-Framework interessant, da es vorgibt, Objekterkennung und Klassifizierung in Echtzeit zu schaffen. Diesen Ansatz haben wir auch verfolgt. Ergebnisse und die Dokumentation sind <a href=\"ML-allgemein.ipynb\">im Notebook zu Yolo zu finden</a>."
   ]
  }
 ],
 "metadata": {
  "kernelspec": {
   "display_name": "Python 3",
   "language": "python",
   "name": "python3"
  },
  "language_info": {
   "codemirror_mode": {
    "name": "ipython",
    "version": 3
   },
   "file_extension": ".py",
   "mimetype": "text/x-python",
   "name": "python",
   "nbconvert_exporter": "python",
   "pygments_lexer": "ipython3",
   "version": "3.8.8"
  }
 },
 "nbformat": 4,
 "nbformat_minor": 5
}
