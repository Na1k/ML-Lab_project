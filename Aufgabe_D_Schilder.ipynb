{
 "cells": [
  {
   "cell_type": "markdown",
   "id": "43cfb567",
   "metadata": {},
   "source": [
    "# Aufgabe-D-Schilder"
   ]
  },
  {
   "cell_type": "markdown",
   "id": "08eba120",
   "metadata": {
    "jp-MarkdownHeadingCollapsed": true,
    "tags": []
   },
   "source": [
    "## Bearbeiter\n",
    "**TINF19-IT2**  \n",
    "Patrick Küsters (9815596)  \n",
    "Nick Kramer (3122448)  \n",
    "**TINF19-IT1**  \n",
    "Sören Holzenkamp (8528927)"
   ]
  },
  {
   "cell_type": "markdown",
   "id": "5e5db91a",
   "metadata": {},
   "source": [
    "## VM zum Trainieren großer Modelle\n",
    "\n",
    "- Nutzung des Clusters der DHBW\n",
    "    - VPN-Endpunkt: drogon.dhbw-mannheim.de\n",
    "    - Anmeldeseite Cluster: https://cloud.4c.dhbw-mannheim.de/\n",
    "1. Ping external IP (Floating IP)\n",
    "    1. Not working? --> New Floating IP\n",
    "    2. Working --> ssh ubuntu@141.72.191.72 -i privatekey.txt"
   ]
  },
  {
   "cell_type": "markdown",
   "id": "22217a8d",
   "metadata": {},
   "source": [
    "## Datenquelle\n",
    "\n",
    "\n",
    "* Laden Sie ihre Daten von http://141.72.190.207/ml_lab/D_schilder herunter\n",
    "    * Die Daten sind geschützt. \n",
    "    * Sie müssen evtl. in einem Netzwerk der DHBW (z.B. WLAN, VPN, ...) angemeldet sein. \n",
    "        * Sie können sich auf der Webseite mit dem Benutzernamen dhbw und dem Zugangsnamen ml_2021 anmelden. \n",
    "    \n",
    "\n"
   ]
  },
  {
   "cell_type": "markdown",
   "id": "5dce3b2a-0530-4c6c-affa-8067be19a82e",
   "metadata": {},
   "source": [
    "# Inhaltsverzeichnis\n",
    "1. **Einführung**<br>\n",
    "    1.1 Aufgabe<br>\n",
    "    1.2 Readme der Daten<br>\n",
    "    1.3 Vorbemerkungen<br>\n",
    "    1.4 Imports<br>\n",
    "2. **Datensatz**<br>\n",
    "    2.1 Einlesen der Daten<br>\n",
    "        2.1.1 Reader\n",
    "        2.1.2 Beschreibung der Daten\n",
    "    2.2 Dictionary für alle Klassen im Datensatz<br>\n",
    "    2.3 Plots zur Veranschaulichung des Datensatzes<br>\n",
    "        2.3.1 Ausgewogenheit\n",
    "        2.3.2 Bildbreite und Höhe\n",
    "        2.3.3 Bildfläche\n",
    "        2.3.4 Bounding-Box Länge, Höhe und Fläche\n",
    "    2.4 Generierung synthetischer Bilder<br>\n",
    "3. **Objekterkennung, Lokalisieren von Verkehrszeichen in Bildern**<br>\n",
    "    3.1 Lokalisieren eines Verkehrszeichen in einem Bild<br>\n",
    "        3.1.1 Vorverarbeitung\n",
    "        3.1.2 Aufteilen der Daten zu Trainings, Validierungs und Testdaten\n",
    "        3.1.3 Modell\n",
    "        3.1.4 Loss Funktion\n",
    "        3.1.5 Training\n",
    "        3.1.6 Modell aus Datei laden\n",
    "        3.1.7 Anzeigen von Testbildern mit vorhergesagten Boundingboxen\n",
    "        3.1.8 Evaluation\n",
    "    3.2 Lokalisierung von drei Verkehrsschildern in einem Bild<br>\n",
    "        3.2.1 Aufteilen der Daten zu Trainings, Validierungs und Testdaten\n",
    "        3.2.2 Modell\n",
    "        3.2.3 Loss Funktion\n",
    "        3.2.4 Training\n",
    "        3.2.5 Modell aus Datei laden\n",
    "        3.2.6 Anzeigen von Testbildern\n",
    "        3.2.7 Evaluation\n",
    "4. **Klassifizierung von Verkehrsschildern**<br> \n",
    "    4.1 Vorbereitung<br>\n",
    "        4.1.1 Darstellung und Überblick\n",
    "        4.1.2 Daten einlesen\n",
    "        4.1.3 Daten-Augmentierung \n",
    "        4.1.4 Darstellung des vorverarbeiteten Datensatzes\n",
    "        4.1.5 Aufteilung\n",
    "    4.2 CNN/Klassifizierung<br>  \n",
    "        4.2.1 Auswahl des CNN mittels keras_tuner\n",
    "        4.2.2 Modelltraining\n",
    "    4.3 Evaluation<br>  \n",
    "        4.3.1 Entwicklung der Ergebnisse\n",
    "        4.3.2 Konfusionsmatrix\n",
    "        4.3.3 Darstellung falscher Klassifizierungen\n",
    "5. **Verbindung der Objekterkennung und Klassifizierung**<br>\n",
    "    5.1 Anwendung der Modelle auf Bilder aus dem Straßenverkehr<br>\n",
    "    5.2 Ablauf<br>\n",
    "    5.3 Vorhersage der Bounding Boxes<br>\n",
    "    5.4 Vorhersage der Klassen auf Basis der bestimmten Bounding Boxes<br>\n",
    "    5.5 Vergleich Objekterkennung + Klassenbestimmung vs. Klassenbestimmung allein<br>\n",
    "6. **Fazit und Ausblick**"
   ]
  },
  {
   "cell_type": "markdown",
   "id": "9feb2464",
   "metadata": {},
   "source": [
    "# 1. Einführung\n",
    "## 1.1 Aufgabe\n",
    "* die Daten \n",
    "    * enthalten mehr als 50000 Bilder von Verkehrsschilder auf deutschen Straßen\n",
    "    * pro Klasse der Daten gibt es ein Verzeichnis\n",
    "    * in jeder Klasse gibt eine CSV-Datei mit Annotationen der Bilder\n",
    "        * Die Namen lauten GT-<ClassID>.csv\n",
    "* die Bilder \n",
    "    * enthalten genau ein Verkehrszeichen, mit ca. 10% Rand um das Verkehrszeichen\n",
    "    * sind im PPM Format gespeichert\n",
    "    * die Größen der Bilder variieren von 15x15 Pixel bis zu 250x250 Pixel\n",
    "        * die Bilder müssen aber nicht quadratisch sein\n",
    "    * In den Annotationen ist auch die Bounding Box hinterlegt\n",
    "* die Annotations-Datei hat den folgenden Werte\n",
    "    * Dateiname, Width, Height, BB.x1, BB.y1, BB.x2, BB.y2, ClassId\n",
    "        * BB steht für BoundingBox\n",
    "\n",
    "Erstellen Sie ein tiefes neuronales Netz, dass Schilder in Bildern erkennt und die Position des erkannten Schilds als Bounding Box ausgibt! Die Lösung soll auch mehrere Schilder in einem Bild erkennen können! \n"
   ]
  },
  {
   "cell_type": "markdown",
   "id": "cc5ac3a3",
   "metadata": {},
   "source": [
    "## 1.2 Readme der Daten\n",
    "\n",
    "This archive contains the following structure:\n",
    "\n",
    "There is one directory for each of the 43 classes (0000 - 00043).\n",
    "Each directory contains the corresponding training images and one \n",
    "text file with annotations, eg. GT-00000.csv. \n",
    "\n",
    "\n",
    "**********************************************\n",
    "Image format and naming  \n",
    "**********************************************\n",
    "The images are PPM images (RGB color). Files are numbered in two parts:\n",
    "\n",
    "   XXXXX_YYYYY.ppm\n",
    "\n",
    "The first part, XXXXX, represents the track number. All images of one class \n",
    "with identical track numbers originate from one single physical traffic sign.\n",
    "The second part, YYYYY, is a running number within the track. The temporal order\n",
    "of the images is preserved.\n",
    "\n",
    "\n",
    "**********************************************\n",
    "Annotation format\n",
    "**********************************************\n",
    "\n",
    "The annotations are stored in CSV format (field separator\n",
    "is \";\" (semicolon) ). The annotations contain meta information \n",
    "about the image and the class id.\n",
    "\n",
    "\n",
    "In detail, the annotations provide the following fields:\n",
    "\n",
    "Filename        - Image file the following information applies to\n",
    "Width, Height   - Dimensions of the image\n",
    "Roi.x1,Roi.y1,\n",
    "Roi.x2,Roi.y2   - Location of the sign within the image\n",
    "\t\t  (Images contain a border around the actual sign\n",
    "                  of 10 percent of the sign size, at least 5 pixel)\n",
    "ClassId         - The class of the traffic sign\n"
   ]
  },
  {
   "cell_type": "markdown",
   "id": "9519734d",
   "metadata": {},
   "source": [
    "## 1.3 Vorbemerkungen\n",
    "Um Ihnen all unsere Daten effizient zur Verfügung stellen zu können, haben wir uns dazu entschieden, einen Datensatz auf Kaggle einzurichten. In diesem befinden sich unter anderem die trainierten Modelle und vorverarbeitete Daten. An den betreffenden Stellen in der Dokumentation wird auf diese Kaggle-Seite verwiesen.  \n",
    "<a href=\"https://www.kaggle.com/datasets/nickkr/sign-detection\">Hier gelangen Sie direkt zum Datensatz in Kaggle.</a>\n",
    "\n",
    "Dieses Notebook ist als \"Haupt-Notebook\" unseres Projektes anzusehen. Neben diesem existieren weitere Notebooks, welche Modell-Trainingsdurchläufe protokollieren und eines, welches die Aufgabe durch das YOLO-Framework versucht zu lösen. An den geeigneten Stellen wird auf diese verwiesen."
   ]
  },
  {
   "cell_type": "markdown",
   "id": "f7fa033d-4373-4932-8e37-becb7061ed6e",
   "metadata": {},
   "source": [
    "## 1.4 Imports\n",
    "Lokal entwickelte Skripte und Module"
   ]
  },
  {
   "cell_type": "code",
   "execution_count": 1,
   "id": "b38d78f0-3534-4ca1-8670-e3d2b0056f85",
   "metadata": {
    "tags": []
   },
   "outputs": [],
   "source": [
    "import sys\n",
    "from pathlib import Path\n",
    "module_path = str(Path.cwd() / \"src\")\n",
    "if module_path not in sys.path:\n",
    "    sys.path.append(module_path)\n",
    "from reader import Reader\n",
    "from display_data import ImageDisplayer\n",
    "from image_detection import predict_and_display_img\n",
    "from image_detection import show_bounding_box\n",
    "from evaluation import plot_confusion_matrix\n",
    "from generator import generate_raster_sign_image\n",
    "import collage"
   ]
  },
  {
   "cell_type": "markdown",
   "id": "44d35ca3",
   "metadata": {},
   "source": [
    "Externe Bibliotheken"
   ]
  },
  {
   "cell_type": "code",
   "execution_count": 2,
   "id": "98298860",
   "metadata": {},
   "outputs": [],
   "source": [
    "from tensorflow.keras.layers import Flatten\n",
    "from tensorflow.keras.layers import Dense\n",
    "from tensorflow.keras.layers import Input\n",
    "from tensorflow.keras.layers import MaxPooling2D\n",
    "from tensorflow.keras.layers import Conv2D\n",
    "from tensorflow.keras.layers import BatchNormalization\n",
    "from tensorflow.keras.layers import AvgPool2D\n",
    "from tensorflow.keras.layers import Activation\n",
    "from tensorflow.keras.layers import Dropout\n",
    "from tensorflow.keras.models import Model\n",
    "from tensorflow.keras.models import load_model\n",
    "from tensorflow.keras.models import Sequential\n",
    "from tensorflow.keras.optimizers import Adam\n",
    "from tensorflow.keras.preprocessing.image import img_to_array\n",
    "from tensorflow.keras.preprocessing.image import load_img\n",
    "from tensorflow.keras.preprocessing.image import ImageDataGenerator\n",
    "from tensorflow.keras.utils import to_categorical\n",
    "\n",
    "from sklearn.model_selection import train_test_split\n",
    "from sklearn.metrics import confusion_matrix\n",
    "from skimage import exposure, transform\n",
    "import matplotlib.pyplot as plt\n",
    "import keras_tuner as kt\n",
    "import tensorflow as tf\n",
    "from tqdm import tqdm\n",
    "from PIL import Image\n",
    "import pandas as pd\n",
    "import numpy as np\n",
    "import mimetypes\n",
    "import pickle\n",
    "import cv2\n",
    "import os"
   ]
  },
  {
   "cell_type": "markdown",
   "id": "6f94afc3-5725-4724-bb1b-c405163e89db",
   "metadata": {},
   "source": [
    "FutureWarnings deaktivieren"
   ]
  },
  {
   "cell_type": "code",
   "execution_count": 3,
   "id": "5955a7a9-0e22-47f2-b4b8-aed61655340e",
   "metadata": {},
   "outputs": [],
   "source": [
    "import warnings \n",
    "warnings.simplefilter(action='ignore', category=FutureWarning) "
   ]
  },
  {
   "cell_type": "markdown",
   "id": "b27c645e",
   "metadata": {},
   "source": [
    "# 2. Datensatz\n",
    "## 2.1 Einlesen der Daten\n",
    "Der Datensatz besteht aus 43 Ordnern, welche je eine Klasse abbilden.  \n",
    "- Beispiel: In Ordner 0 liegen ausschließlich Bilder von Tempo 20 Schildern ab  \n",
    "\n",
    "### 2.1.1 Reader\n",
    "Reader() stellt eine selbst entwickelte Klasse dar. <a href=\"./src/reader.py\">Sie ist hier zu finden</a>.<br>\n",
    "Diese iteriert durch alle Ordner und liest die Annotation-Files ein. Diese Informationen werden in einem pandas DataFrame gespeichert.  "
   ]
  },
  {
   "cell_type": "code",
   "execution_count": 4,
   "id": "93e59dd7",
   "metadata": {},
   "outputs": [
    {
     "data": {
      "text/html": [
       "<div>\n",
       "<style scoped>\n",
       "    .dataframe tbody tr th:only-of-type {\n",
       "        vertical-align: middle;\n",
       "    }\n",
       "\n",
       "    .dataframe tbody tr th {\n",
       "        vertical-align: top;\n",
       "    }\n",
       "\n",
       "    .dataframe thead th {\n",
       "        text-align: right;\n",
       "    }\n",
       "</style>\n",
       "<table border=\"1\" class=\"dataframe\">\n",
       "  <thead>\n",
       "    <tr style=\"text-align: right;\">\n",
       "      <th></th>\n",
       "      <th>Filename</th>\n",
       "      <th>Folder</th>\n",
       "      <th>Width</th>\n",
       "      <th>Height</th>\n",
       "      <th>Roi.X1</th>\n",
       "      <th>Roi.Y1</th>\n",
       "      <th>Roi.X2</th>\n",
       "      <th>Roi.Y2</th>\n",
       "      <th>ClassId</th>\n",
       "    </tr>\n",
       "  </thead>\n",
       "  <tbody>\n",
       "    <tr>\n",
       "      <th>0</th>\n",
       "      <td>00000_00000.ppm</td>\n",
       "      <td>../ML-Lab_data/data/0/</td>\n",
       "      <td>29</td>\n",
       "      <td>30</td>\n",
       "      <td>5</td>\n",
       "      <td>6</td>\n",
       "      <td>24</td>\n",
       "      <td>25</td>\n",
       "      <td>0</td>\n",
       "    </tr>\n",
       "    <tr>\n",
       "      <th>1</th>\n",
       "      <td>00000_00001.ppm</td>\n",
       "      <td>../ML-Lab_data/data/0/</td>\n",
       "      <td>30</td>\n",
       "      <td>30</td>\n",
       "      <td>5</td>\n",
       "      <td>5</td>\n",
       "      <td>25</td>\n",
       "      <td>25</td>\n",
       "      <td>0</td>\n",
       "    </tr>\n",
       "    <tr>\n",
       "      <th>2</th>\n",
       "      <td>00000_00002.ppm</td>\n",
       "      <td>../ML-Lab_data/data/0/</td>\n",
       "      <td>30</td>\n",
       "      <td>30</td>\n",
       "      <td>5</td>\n",
       "      <td>5</td>\n",
       "      <td>25</td>\n",
       "      <td>25</td>\n",
       "      <td>0</td>\n",
       "    </tr>\n",
       "    <tr>\n",
       "      <th>3</th>\n",
       "      <td>00000_00003.ppm</td>\n",
       "      <td>../ML-Lab_data/data/0/</td>\n",
       "      <td>31</td>\n",
       "      <td>31</td>\n",
       "      <td>5</td>\n",
       "      <td>5</td>\n",
       "      <td>26</td>\n",
       "      <td>26</td>\n",
       "      <td>0</td>\n",
       "    </tr>\n",
       "    <tr>\n",
       "      <th>4</th>\n",
       "      <td>00000_00004.ppm</td>\n",
       "      <td>../ML-Lab_data/data/0/</td>\n",
       "      <td>30</td>\n",
       "      <td>32</td>\n",
       "      <td>5</td>\n",
       "      <td>6</td>\n",
       "      <td>25</td>\n",
       "      <td>26</td>\n",
       "      <td>0</td>\n",
       "    </tr>\n",
       "    <tr>\n",
       "      <th>...</th>\n",
       "      <td>...</td>\n",
       "      <td>...</td>\n",
       "      <td>...</td>\n",
       "      <td>...</td>\n",
       "      <td>...</td>\n",
       "      <td>...</td>\n",
       "      <td>...</td>\n",
       "      <td>...</td>\n",
       "      <td>...</td>\n",
       "    </tr>\n",
       "    <tr>\n",
       "      <th>39204</th>\n",
       "      <td>00007_00025.ppm</td>\n",
       "      <td>../ML-Lab_data/data/42/</td>\n",
       "      <td>52</td>\n",
       "      <td>56</td>\n",
       "      <td>5</td>\n",
       "      <td>6</td>\n",
       "      <td>47</td>\n",
       "      <td>51</td>\n",
       "      <td>42</td>\n",
       "    </tr>\n",
       "    <tr>\n",
       "      <th>39205</th>\n",
       "      <td>00007_00026.ppm</td>\n",
       "      <td>../ML-Lab_data/data/42/</td>\n",
       "      <td>56</td>\n",
       "      <td>58</td>\n",
       "      <td>5</td>\n",
       "      <td>5</td>\n",
       "      <td>51</td>\n",
       "      <td>53</td>\n",
       "      <td>42</td>\n",
       "    </tr>\n",
       "    <tr>\n",
       "      <th>39206</th>\n",
       "      <td>00007_00027.ppm</td>\n",
       "      <td>../ML-Lab_data/data/42/</td>\n",
       "      <td>58</td>\n",
       "      <td>62</td>\n",
       "      <td>5</td>\n",
       "      <td>6</td>\n",
       "      <td>53</td>\n",
       "      <td>57</td>\n",
       "      <td>42</td>\n",
       "    </tr>\n",
       "    <tr>\n",
       "      <th>39207</th>\n",
       "      <td>00007_00028.ppm</td>\n",
       "      <td>../ML-Lab_data/data/42/</td>\n",
       "      <td>63</td>\n",
       "      <td>69</td>\n",
       "      <td>5</td>\n",
       "      <td>7</td>\n",
       "      <td>58</td>\n",
       "      <td>63</td>\n",
       "      <td>42</td>\n",
       "    </tr>\n",
       "    <tr>\n",
       "      <th>39208</th>\n",
       "      <td>00007_00029.ppm</td>\n",
       "      <td>../ML-Lab_data/data/42/</td>\n",
       "      <td>68</td>\n",
       "      <td>69</td>\n",
       "      <td>7</td>\n",
       "      <td>6</td>\n",
       "      <td>62</td>\n",
       "      <td>63</td>\n",
       "      <td>42</td>\n",
       "    </tr>\n",
       "  </tbody>\n",
       "</table>\n",
       "<p>39209 rows × 9 columns</p>\n",
       "</div>"
      ],
      "text/plain": [
       "              Filename                   Folder  Width  Height  Roi.X1  \\\n",
       "0      00000_00000.ppm   ../ML-Lab_data/data/0/     29      30       5   \n",
       "1      00000_00001.ppm   ../ML-Lab_data/data/0/     30      30       5   \n",
       "2      00000_00002.ppm   ../ML-Lab_data/data/0/     30      30       5   \n",
       "3      00000_00003.ppm   ../ML-Lab_data/data/0/     31      31       5   \n",
       "4      00000_00004.ppm   ../ML-Lab_data/data/0/     30      32       5   \n",
       "...                ...                      ...    ...     ...     ...   \n",
       "39204  00007_00025.ppm  ../ML-Lab_data/data/42/     52      56       5   \n",
       "39205  00007_00026.ppm  ../ML-Lab_data/data/42/     56      58       5   \n",
       "39206  00007_00027.ppm  ../ML-Lab_data/data/42/     58      62       5   \n",
       "39207  00007_00028.ppm  ../ML-Lab_data/data/42/     63      69       5   \n",
       "39208  00007_00029.ppm  ../ML-Lab_data/data/42/     68      69       7   \n",
       "\n",
       "       Roi.Y1  Roi.X2  Roi.Y2  ClassId  \n",
       "0           6      24      25        0  \n",
       "1           5      25      25        0  \n",
       "2           5      25      25        0  \n",
       "3           5      26      26        0  \n",
       "4           6      25      26        0  \n",
       "...       ...     ...     ...      ...  \n",
       "39204       6      47      51       42  \n",
       "39205       5      51      53       42  \n",
       "39206       6      53      57       42  \n",
       "39207       7      58      63       42  \n",
       "39208       6      62      63       42  \n",
       "\n",
       "[39209 rows x 9 columns]"
      ]
     },
     "execution_count": 4,
     "metadata": {},
     "output_type": "execute_result"
    }
   ],
   "source": [
    "reader = Reader()\n",
    "df = reader.read_data_to_df(folders=43, pre_path=r\"../ML-Lab_data/data/\")\n",
    "df"
   ]
  },
  {
   "cell_type": "markdown",
   "id": "ec68d332",
   "metadata": {},
   "source": [
    "### 2.1.2 Beschreibung der Daten\n",
    "Der Datensatz besteht aus 39209 Einträgen, welcher sich in 43 Klassen unterteilt.  \n",
    "Jeder Eintrag stellt ein Bild dar, welches eine gewissen Breite und Höhe besitzt. **Die Bilder besitzen also nicht die gleiche Größe.**  \n",
    "Zudem ist die \"Bounding Box\" durch die 4 Spalten beginnend mit Roi abgebildet. (X1, Y1) spannt mit (X2, Y2) ein Rechteck auf, in welchem sich das Verkehrszeichen befinden soll."
   ]
  },
  {
   "cell_type": "markdown",
   "id": "716980d9",
   "metadata": {},
   "source": [
    "Zusätzlich wird der Pfad zu der einzelnen Bilder gespeichert. Der Grund hierfür ist die Nicht-Eindeutigkeit der Dateinamen über den eigenen Ordner hinaus.  \n",
    "Dies geht auch aus dem Readme der Daten hervor (ein Dateiname besteht aus Track und Tracknummer).  "
   ]
  },
  {
   "cell_type": "code",
   "execution_count": 5,
   "id": "d744d3ba",
   "metadata": {
    "scrolled": true
   },
   "outputs": [
    {
     "name": "stdout",
     "output_type": "stream",
     "text": [
      "Vorkommnisse von 00000_00000.ppm:\n",
      "43\n",
      "\n",
      "Vorkommnisse von ./data/0/00000_00000.ppm:\n",
      "0\n"
     ]
    }
   ],
   "source": [
    "lookup_filename = \"00000_00000.ppm\"\n",
    "print(\"Vorkommnisse von \" + lookup_filename + \":\")\n",
    "print(len(df.index[df[\"Filename\"] == lookup_filename]))\n",
    "\n",
    "print()\n",
    "\n",
    "lookup_folder_with_filename = r\"./data/0/00000_00000.ppm\"\n",
    "print(\"Vorkommnisse von \" + lookup_folder_with_filename + \":\")\n",
    "print(len(df.index[df[\"Folder\"] + df[\"Filename\"] == lookup_folder_with_filename]))"
   ]
  },
  {
   "cell_type": "code",
   "execution_count": 6,
   "id": "79c6c33f",
   "metadata": {
    "scrolled": true
   },
   "outputs": [],
   "source": [
    "#ImageDisplayer(df, 100, 105)"
   ]
  },
  {
   "cell_type": "markdown",
   "id": "6db32a69-c955-421a-aed5-ac1eafe934a3",
   "metadata": {},
   "source": [
    "## 2.2 Dictionary für alle Klassen im Datensatz\n",
    "\n",
    "Quelle für die meisten Bezeichnungen: https://www.adac.de/verkehr/recht/verkehrszeichen/"
   ]
  },
  {
   "cell_type": "code",
   "execution_count": 7,
   "id": "91e03455",
   "metadata": {},
   "outputs": [],
   "source": [
    "classes = { 0:'Geschwindigkeitsbegrenzung (20km/h)',\n",
    "            1:'Geschwindigkeitsbegrenzung (30km/h)',      \n",
    "            2:'Geschwindigkeitsbegrenzung (50km/h)',       \n",
    "            3:'Geschwindigkeitsbegrenzung (60km/h)',      \n",
    "            4:'Geschwindigkeitsbegrenzung (70km/h)',    \n",
    "            5:'Geschwindigkeitsbegrenzung (80km/h)',      \n",
    "            6:'Ende der Geschwindigkeitsbegrenzung (80km/h)',     \n",
    "            7:'Geschwindigkeitsbegrenzung (100km/h)',    \n",
    "            8:'Geschwindigkeitsbegrenzung (120km/h)',     \n",
    "            9:'Überholverbot',   \n",
    "           10:'Überholverbot >3.5t',     \n",
    "           11:'Vorfahrt nächste Kreuzung',     \n",
    "           12:'Vorfahrtsstraße',    \n",
    "           13:'Vorfahrt gewähren',     \n",
    "           14:'Stop',       \n",
    "           15:'Verbot für Fahrzeuge aller Art',       \n",
    "           16:'Verbot für Fahrzeuge >3.5t',       \n",
    "           17:'Verbot der Einfahrt',       \n",
    "           18:'Gefahrenstelle',     \n",
    "           19:'Kurve (links)',      \n",
    "           20:'Kurve (rechts)',   \n",
    "           21:'Doppelkurve',      \n",
    "           22:'Unebene Fahrbahn',     \n",
    "           23:'Schleuder-/Rutschgefahr',       \n",
    "           24:'Einseitig (rechts) verengte Fahrbahn',  \n",
    "           25:'Arbeitsstelle',    \n",
    "           26:'Lichtzeichenanlage', # zu deutsch: Ampel      \n",
    "           27:'Fußgänger',     \n",
    "           28:'Kinder',     \n",
    "           29:'Radfahrer',       \n",
    "           30:'Schnee-/Eisglätte',\n",
    "           31:'Wildwechsel',      \n",
    "           32:'Ende sämtlicher Geschw-begr./Überholverb.',      \n",
    "           33:'Vorgeschriebene Fahrtrichtung rechts',     \n",
    "           34:'Vorgeschriebene Fahrtrichtung links',       \n",
    "           35:'Vorgeschriebene Fahrtrichtung gerade',      \n",
    "           36:'Vorgeschriebene Fahrtrichtung gerade/rechts',      \n",
    "           37:'Vorgeschriebene Fahrtrichtung gerade/links',      \n",
    "           38:'Vorgeschriebene Vorbeifahrt rechts vorbei',     \n",
    "           39:'Vorgeschriebene Vorbeifahrt links vorbei',      \n",
    "           40:'Kreisverkehr',     \n",
    "           41:'Ende Überholverbot',      \n",
    "           42:'Ende Überholverbot >3.5t' \n",
    "          }"
   ]
  },
  {
   "cell_type": "markdown",
   "id": "bbc6f5bd",
   "metadata": {},
   "source": [
    "## 2.3 Plots zur Veranschaulichung des Datensatzes\n",
    "### 2.3.1 Ausgewogenheit"
   ]
  },
  {
   "cell_type": "code",
   "execution_count": 8,
   "id": "0e0f63ce",
   "metadata": {},
   "outputs": [
    {
     "data": {
      "image/png": "[encoded data removed]",
      "text/plain": [
       "<Figure size 432x288 with 1 Axes>"
      ]
     },
     "metadata": {
      "needs_background": "light"
     },
     "output_type": "display_data"
    }
   ],
   "source": [
    "df.plot(y=\"ClassId\", kind=\"hist\", bins=len(set(df[\"ClassId\"])))\n",
    "plt.title(\"Ausgewogenheit des Datensatzes\")\n",
    "plt.ylabel(\"Anzahl Datensätze\")\n",
    "plt.xlabel(\"Klasse\")\n",
    "plt.show()"
   ]
  },
  {
   "cell_type": "markdown",
   "id": "61bddbf8",
   "metadata": {},
   "source": [
    "Der Datensatz ist sehr **unausgewogen**. Einige Klassen verfügen über sehr viele Datensätze, während andere nur sehr wenige besitzen.\n",
    "Das neuronale Netz könnte zu sehr auf einige Klassen trainiert werden, daher sollte eine Angleichung der Menge der Datensätze pro Klasse stattfinden.  \n",
    "Am Beispiel der Klassen 0 und 1:"
   ]
  },
  {
   "cell_type": "code",
   "execution_count": 9,
   "id": "1087a7a8",
   "metadata": {
    "scrolled": true
   },
   "outputs": [
    {
     "name": "stdout",
     "output_type": "stream",
     "text": [
      "Anzahl Datensätze 20er Schild: 210\n",
      "Anzahl Datensätze 30er Schild: 2220\n",
      "Faktor: 10.57\n"
     ]
    }
   ],
   "source": [
    "print(\"Anzahl Datensätze 20er Schild:\", len(df[df[\"ClassId\"] == 0]))\n",
    "print(\"Anzahl Datensätze 30er Schild:\", len(df[df[\"ClassId\"] == 1]))\n",
    "print(\"Faktor:\", round(len(df[df[\"ClassId\"] == 1])/len(df[df[\"ClassId\"] == 0]), 2))"
   ]
  },
  {
   "cell_type": "markdown",
   "id": "3f5a14c7",
   "metadata": {},
   "source": [
    "### 2.3.2 Bildbreite und Höhe"
   ]
  },
  {
   "cell_type": "code",
   "execution_count": 10,
   "id": "a0bf235e",
   "metadata": {},
   "outputs": [
    {
     "data": {
      "image/png": "[encoded data removed]",
      "text/plain": [
       "<Figure size 432x288 with 1 Axes>"
      ]
     },
     "metadata": {
      "needs_background": "light"
     },
     "output_type": "display_data"
    }
   ],
   "source": [
    "df.plot(y=\"Width\", kind=\"hist\", bins=len(set(df[\"Width\"])))\n",
    "plt.title(\"Breite der Bilder\")\n",
    "plt.ylabel(\"Anzahl Datensätze\")\n",
    "plt.xlabel(\"Bildbreite\")\n",
    "plt.show()"
   ]
  },
  {
   "cell_type": "code",
   "execution_count": 11,
   "id": "99a48515",
   "metadata": {},
   "outputs": [
    {
     "data": {
      "image/png": "[encoded data removed]",
      "text/plain": [
       "<Figure size 432x288 with 1 Axes>"
      ]
     },
     "metadata": {
      "needs_background": "light"
     },
     "output_type": "display_data"
    }
   ],
   "source": [
    "df.plot(y=\"Height\", kind=\"hist\", bins=len(set(df[\"Height\"])))\n",
    "plt.title(\"Höhe der Bilder\")\n",
    "plt.ylabel(\"Anzahl Datensätze\")\n",
    "plt.xlabel(\"Bildhöhe\")\n",
    "plt.show()"
   ]
  },
  {
   "cell_type": "markdown",
   "id": "110d617f",
   "metadata": {},
   "source": [
    "Die Bilder verfügen über unterschiedliche Höhen und Breiten. Der Großteil der Bilder ist bis zu 50 Pixeln breit und bis zu ca. 60 Pixeln hoch.  \n",
    "Auffällig sind einige \"Spikes\" in den Grafiken, was bedeutet, dass viele Bilder die gewisse Breite oder Höhe besitzen.  "
   ]
  },
  {
   "cell_type": "markdown",
   "id": "0cfa3523",
   "metadata": {},
   "source": [
    "### 2.3.3 Bildfläche"
   ]
  },
  {
   "cell_type": "code",
   "execution_count": 12,
   "id": "d8f59cda",
   "metadata": {
    "tags": []
   },
   "outputs": [
    {
     "data": {
      "image/png": "[encoded data removed]",
      "text/plain": [
       "<Figure size 432x288 with 1 Axes>"
      ]
     },
     "metadata": {
      "needs_background": "light"
     },
     "output_type": "display_data"
    }
   ],
   "source": [
    "df[\"img_area\"] = df[\"Width\"]*df[\"Height\"]\n",
    "df.plot(y=\"img_area\", kind=\"hist\", bins=len(set(df[\"img_area\"])))\n",
    "plt.title(\"Fläche der Bilder\")\n",
    "plt.ylabel(\"Anzahl Datensätze\")\n",
    "plt.xlabel(\"Bildfläche\")\n",
    "plt.show()"
   ]
  },
  {
   "cell_type": "markdown",
   "id": "d482c012",
   "metadata": {},
   "source": [
    "Folgend aus den Höhen und Breiten sind die Bildflächen verschieden.  \n",
    "Auch hier befinden sich die meisten Einträge im unteren Spektrum der x-Achse."
   ]
  },
  {
   "cell_type": "markdown",
   "id": "b8885f96",
   "metadata": {},
   "source": [
    "### 2.3.4 Bounding-Box Länge, Höhe und Fläche"
   ]
  },
  {
   "cell_type": "code",
   "execution_count": 13,
   "id": "3a1ff39c",
   "metadata": {},
   "outputs": [],
   "source": [
    "df[\"x_box_len\"] = df[\"Roi.X2\"] - df[\"Roi.X1\"]\n",
    "df[\"y_box_len\"] = df[\"Roi.Y2\"] - df[\"Roi.Y1\"]\n",
    "df[\"box_area\"] = df[\"x_box_len\"]*df[\"y_box_len\"]"
   ]
  },
  {
   "cell_type": "code",
   "execution_count": 14,
   "id": "171099e8",
   "metadata": {
    "tags": []
   },
   "outputs": [
    {
     "data": {
      "image/png": "[encoded data removed]",
      "text/plain": [
       "<Figure size 432x288 with 1 Axes>"
      ]
     },
     "metadata": {
      "needs_background": "light"
     },
     "output_type": "display_data"
    }
   ],
   "source": [
    "df.plot(y=\"x_box_len\", kind=\"hist\", bins=len(set(df[\"x_box_len\"])))\n",
    "plt.title(\"Länge der BoundingBoxes\")\n",
    "plt.ylabel(\"Anzahl Datensätze\")\n",
    "plt.xlabel(\"Länge BB\")\n",
    "plt.show()"
   ]
  },
  {
   "cell_type": "code",
   "execution_count": 15,
   "id": "a78eb712",
   "metadata": {},
   "outputs": [
    {
     "data": {
      "image/png": "[encoded data removed]",
      "text/plain": [
       "<Figure size 432x288 with 1 Axes>"
      ]
     },
     "metadata": {
      "needs_background": "light"
     },
     "output_type": "display_data"
    }
   ],
   "source": [
    "df.plot(y=\"y_box_len\", kind=\"hist\", bins=len(set(df[\"y_box_len\"])))\n",
    "plt.title(\"Höhe der BoundingBoxes\")\n",
    "plt.ylabel(\"Anzahl Datensätze\")\n",
    "plt.xlabel(\"Höhe BB\")\n",
    "plt.show()"
   ]
  },
  {
   "cell_type": "code",
   "execution_count": 16,
   "id": "f3a62f6f",
   "metadata": {},
   "outputs": [
    {
     "data": {
      "image/png": "[encoded data removed]",
      "text/plain": [
       "<Figure size 432x288 with 1 Axes>"
      ]
     },
     "metadata": {
      "needs_background": "light"
     },
     "output_type": "display_data"
    }
   ],
   "source": [
    "df.plot(y=\"box_area\", kind=\"hist\", bins=len(set(df[\"box_area\"])))\n",
    "plt.title(\"Fläche der BoundingBoxes\")\n",
    "plt.ylabel(\"Anzahl Datensätze\")\n",
    "plt.xlabel(\"Fläche BB\")\n",
    "plt.show()"
   ]
  },
  {
   "cell_type": "markdown",
   "id": "1f6ff361",
   "metadata": {},
   "source": [
    "Die Bounding-Boxes verhalten sich wie die Bilder selbst. Auch hier sind einige \"Spikes\" bei der Höhe und Breite zu erkennen.  \n",
    "Die meisten Bounding-Boxes sind bis zu ca. 40 Pixel hoch und breit.  \n",
    "Dies kann für die spätere Transformation der Größe genutzt werden, da die zugeschnitten Bilder später alle die gleiche Maß besitzen müssen."
   ]
  },
  {
   "cell_type": "markdown",
   "id": "a2fbe525-bfdf-4982-b56e-44e4230a4013",
   "metadata": {},
   "source": [
    "## 2.4 Generierung synthetischer Bilder"
   ]
  },
  {
   "cell_type": "markdown",
   "id": "b2723625-5447-43a3-b025-2e05354f23ac",
   "metadata": {
    "tags": []
   },
   "source": [
    "nicht zugeschnittene Beispielbilder aus Datensatz: \\\n",
    "<img src=\"./images/00000_00016.jpg\">    <img src=\"./images/00073_00023.jpg\">"
   ]
  },
  {
   "cell_type": "markdown",
   "id": "0fba887e-adb7-4268-811c-8258fd026073",
   "metadata": {},
   "source": [
    "Wie bereits beschrieben enthält der vorhandene Datensatz Bilder von einzelnen Verkehrsschildern, welche nur von einem geringen Hintergrundrand umschlossen werden. Diese eignen sich somit schlecht um ein Modell zu trainieren, welches Verkehrsschilder in größeren Bildern lokalisieren soll. Daher werden im Folgenden synthetische Bilder generiert, indem die vorhandenen Bilder der Verkehrsschilder auf neuen, größeren Hintergrundbildern platziert werden. "
   ]
  },
  {
   "cell_type": "code",
   "execution_count": 17,
   "id": "4569e4c9-db55-4f2c-b63d-e22a95fef4f7",
   "metadata": {
    "tags": []
   },
   "outputs": [],
   "source": [
    "number_of_images = 10000\n",
    "number_of_signs = 1\n",
    "path_to_bg_img_folder = r\"../ML-Lab_data/bg_images/\"\n",
    "pre_path_sign = r\"../ML-Lab_data/data/\"\n",
    "sign_size = 40\n",
    "raster_width = 17 #multiplied with sign_size\n",
    "raster_height = 10 #multiplied with sign_size\n",
    "sign_with_clahe = True\n",
    "show_images = False\n",
    "\n",
    "GENERATE = False\n",
    "if GENERATE:\n",
    "    data, labels = generate_raster_sign_image(number_of_images, number_of_signs, path_to_bg_img_folder, pre_path_sign, sign_size, raster_width, raster_height, sign_with_clahe, show_images=show_images)\n",
    "\n",
    "    with open(r\"./pickle/data_1sign_testdata.pickle\", 'wb') as handle:\n",
    "        pickle.dump(data, handle)\n",
    "    with open(r\"./pickle/labels_1sign_testdata.pickle\", 'wb') as handle:\n",
    "        pickle.dump(labels, handle)"
   ]
  },
  {
   "cell_type": "markdown",
   "id": "7ec8e1f8-188f-424c-8a7e-fb3aaab60a1f",
   "metadata": {},
   "source": [
    "Das Generieren und Speichern der Bilder wurde in das Notebook <a href=\"image_generator.ipynb\"> image_generator.ipynb</a> ausgelagert."
   ]
  },
  {
   "cell_type": "markdown",
   "id": "31db5f78-ecc5-4990-a49f-5c1da2126c85",
   "metadata": {},
   "source": [
    "Das Erstellen der Bilder und Anpassen der Koordinaten des Schildes im Bild wurde ausgelagert in die Funktion generate_raster_sign_image(). Die Anzahl der Schilder pro Bild ist wählbar. Sie werden zufällig in einem Raster auf dem Hintergrundbild platziert. Zurückgegeben wird eine Liste von Bildern und eine Liste der dazugehörigen Bounding Boxen. Bounding Boxen werden als Dictionarys gespeichert wobei als Key die Koordinaaten der Bounding Boxes als Tuple und die Values die Klassifizierungsnummern sind.\n",
    "Für eine weitere Verwendung bietet es sich an diese als pickle Objekt dauerhaft zu speichern."
   ]
  },
  {
   "cell_type": "markdown",
   "id": "1efc51ff-cd47-423d-a987-dafbccdda47e",
   "metadata": {},
   "source": [
    "Beispiel für generierte Bilder: \\\n",
    "<img src=\"./images/generate1.png\">\\\n",
    "<img src=\"./images/generate2.png\">"
   ]
  },
  {
   "cell_type": "markdown",
   "id": "891e10f2-48ca-439a-854e-5fbf3129c05e",
   "metadata": {
    "tags": []
   },
   "source": [
    "# 3. Objekterkennung, Lokalisieren von Verkehrszeichen in Bildern\n",
    "## 3.1 Lokalisieren eines Verkehrszeichen in einem Bild"
   ]
  },
  {
   "cell_type": "markdown",
   "id": "20417539-fbc7-4881-852e-7980b280ade6",
   "metadata": {},
   "source": [
    "### 3.1.1 Vorverarbeitung\n",
    "Die generierten Bilder und die dazugehörigen Labels werden aus Pickle Dateien geladen. Anschließend werden die Koordiaten der Bounding Boxen entsprechend der Bildgröße auf ein Intervall von Null bis Eins skaliert. Auch die Bilder werden auf [0, 1] skaliert und zu einem Numpy Array konvertiert."
   ]
  },
  {
   "cell_type": "code",
   "execution_count": 18,
   "id": "6d77b0a0-9e31-42a6-b8de-cb8c93c57884",
   "metadata": {
    "tags": []
   },
   "outputs": [],
   "source": [
    "file = open(r\"./pickle/data_1sign_testdata3.pickle\", 'rb')\n",
    "data = pickle.load(file)\n",
    "file.close()\n",
    "file = open(r\"./pickle/labels_1sign_testdata3.pickle\", 'rb')\n",
    "labels = pickle.load(file)\n",
    "file.close()"
   ]
  },
  {
   "cell_type": "code",
   "execution_count": 19,
   "id": "7b19cb9f-bc09-4302-8849-d93e52fbe9e1",
   "metadata": {},
   "outputs": [],
   "source": [
    "targets = []\n",
    "input_shape = data[0].shape\n",
    "for k in labels:\n",
    "    e = next(iter(k)) #first BB is the only one\n",
    "    x1, y1, x2, y2 = e #extract coordinates\n",
    "    h, w = input_shape[:2]\n",
    "    x1 = x1/w #scale with image shape\n",
    "    y1 = y1/h\n",
    "    x2 = x2/w\n",
    "    y2 = y2/h\n",
    "    targets.append((x1, y1, x2, y2))\n",
    "    \n",
    "# convert the data and targets to NumPy arrays, scaling the input\n",
    "# pixel intensities from the range [0, 255] to [0, 1]\n",
    "data = np.array(data, dtype=\"float32\") / 255.0\n",
    "targets = np.array(targets, dtype=\"float32\")"
   ]
  },
  {
   "cell_type": "markdown",
   "id": "b346ff8a-65dc-48b5-922c-b58b0dc359ba",
   "metadata": {},
   "source": [
    "### 3.1.2 Aufteilen der Daten zu Trainings, Validierungs und Testdaten\n",
    "\n",
    "**Trainingsdaten**  \n",
    "Dienen zum Training des neuronalen Netzes. Mit 75% des gesamten Datensatzes wird hier der Großteil der Daten genutzt.\n",
    "\n",
    "**Validierungsdaten**  \n",
    "Dienen zum Testen des neuronalen Netzes während des Trainings. Hierfür werden 12.5% der Daten vorgehalten.\n",
    "\n",
    "**Testdaten**  \n",
    "Dienen zur Evaluation des neuronalen Netzes nach dem Training. Validierungsadaten eignen sich hier nicht, da das neuronale Netz diese Daten bereits \"gesehen\" hat. Es dient als weitere Instanz, Über und Unteranpassung zu erkennen. Der Testdatensatz umfasst 12.5% des Datensatzes."
   ]
  },
  {
   "cell_type": "code",
   "execution_count": 20,
   "id": "d2526cda-2e62-4909-a8b1-61105203bfbc",
   "metadata": {},
   "outputs": [],
   "source": [
    "split = train_test_split(data, targets, test_size=0.25, random_state=42)\n",
    "\n",
    "(trainImages, testImages) = split[:2]\n",
    "(trainTargets, testTargets) = split[2:4]\n",
    "\n",
    "split = train_test_split(testImages, testTargets, test_size=0.5, random_state=42)\n",
    "\n",
    "(validationImages, testImages) = split[:2]\n",
    "(validationTargets, testTargets) = split[2:4]"
   ]
  },
  {
   "cell_type": "markdown",
   "id": "c0a0936a-6f2b-4c10-9826-245ffc9b1bbb",
   "metadata": {},
   "source": [
    "### 3.1.3 Modell\n",
    "\n",
    "Zum Lokalisieren der Verkehrsschilder soll das Verfahren Bounding Box Regression genutzt werden. Dazu wird ein Modell erstellt, welches sich abwechselnde Convolutional und MaxPooling Schichten enthält. Anschließend überführt ein Flatten Layer den Input in ein Dense Network, welches sich zum Outputvektor der Länge 4 verkleinert. Vorhergesagt werden sollen der obere linke und untere rechte Eckpunkt einer Boundingbox."
   ]
  },
  {
   "cell_type": "code",
   "execution_count": 21,
   "id": "c52db92f-7980-4465-8a76-09733273e0f9",
   "metadata": {},
   "outputs": [
    {
     "name": "stdout",
     "output_type": "stream",
     "text": [
      "Model: \"model\"\n",
      "_________________________________________________________________\n",
      " Layer (type)                Output Shape              Param #   \n",
      "=================================================================\n",
      " input_1 (InputLayer)        [(None, 100, 180, 3)]     0         \n",
      "                                                                 \n",
      " bl_2 (Conv2D)               (None, 100, 180, 16)      448       \n",
      "                                                                 \n",
      " bl_3 (MaxPooling2D)         (None, 50, 90, 16)        0         \n",
      "                                                                 \n",
      " bl_4 (Conv2D)               (None, 50, 90, 32)        4640      \n",
      "                                                                 \n",
      " bl_5 (MaxPooling2D)         (None, 25, 45, 32)        0         \n",
      "                                                                 \n",
      " bl_6 (Conv2D)               (None, 25, 45, 64)        18496     \n",
      "                                                                 \n",
      " bl_7 (MaxPooling2D)         (None, 12, 22, 64)        0         \n",
      "                                                                 \n",
      " bl_8 (Flatten)              (None, 16896)             0         \n",
      "                                                                 \n",
      " bb_1 (Dense)                (None, 128)               2162816   \n",
      "                                                                 \n",
      " bb_2 (Dense)                (None, 64)                8256      \n",
      "                                                                 \n",
      " bb_3 (Dense)                (None, 32)                2080      \n",
      "                                                                 \n",
      " bb_head (Dense)             (None, 4)                 132       \n",
      "                                                                 \n",
      "=================================================================\n",
      "Total params: 2,196,868\n",
      "Trainable params: 2,196,868\n",
      "Non-trainable params: 0\n",
      "_________________________________________________________________\n"
     ]
    },
    {
     "name": "stderr",
     "output_type": "stream",
     "text": [
      "2022-03-23 18:44:02.555183: I tensorflow/core/platform/cpu_feature_guard.cc:151] This TensorFlow binary is optimized with oneAPI Deep Neural Network Library (oneDNN) to use the following CPU instructions in performance-critical operations:  SSE4.1 SSE4.2 AVX AVX2 FMA\n",
      "To enable them in other operations, rebuild TensorFlow with the appropriate compiler flags.\n"
     ]
    }
   ],
   "source": [
    "input_layer = Input(input_shape)\n",
    "\n",
    "#create the base layers\n",
    "base_layers = Conv2D(16, 3, padding='same', activation='relu', name='bl_2')(input_layer)\n",
    "base_layers = MaxPooling2D(name='bl_3')(base_layers)\n",
    "base_layers = Conv2D(32, 3, padding='same', activation='relu', name='bl_4')(base_layers)\n",
    "base_layers = MaxPooling2D(name='bl_5')(base_layers)\n",
    "base_layers = Conv2D(64, 3, padding='same', activation='relu', name='bl_6')(base_layers)\n",
    "base_layers = MaxPooling2D(name='bl_7')(base_layers)\n",
    "base_layers = Flatten(name='bl_8')(base_layers)\n",
    "\n",
    "#create the localiser branch\n",
    "locator_branch = Dense(128, activation='relu', name='bb_1')(base_layers)\n",
    "locator_branch = Dense(64, activation='relu', name='bb_2')(locator_branch)\n",
    "locator_branch = Dense(32, activation='relu', name='bb_3')(locator_branch)\n",
    "locator_branch = Dense(4, activation='sigmoid', name='bb_head')(locator_branch)\n",
    "\n",
    "model = tf.keras.Model(input_layer, outputs=locator_branch)\n",
    "model.summary()"
   ]
  },
  {
   "cell_type": "markdown",
   "id": "79cb39bf-dcec-41cf-8b12-7aabb27a6636",
   "metadata": {},
   "source": [
    "### 3.1.4 Loss Funktion\n",
    "Als Loss Funktion liefert der Mean Absolute Error ein gutes und schnelles Ergebnis"
   ]
  },
  {
   "cell_type": "code",
   "execution_count": 22,
   "id": "971803c2-29d0-4c2a-98c1-933c3dcdf7c7",
   "metadata": {},
   "outputs": [],
   "source": [
    "loss = tf.keras.losses.MAE"
   ]
  },
  {
   "cell_type": "markdown",
   "id": "d8269332-a17c-404c-90f5-d63968db96d1",
   "metadata": {},
   "source": [
    "### 3.1.5 Training\n",
    "\n",
    "Das Training wurde ausgelagert in das Notebook <a href=\"Modelltraining Schilder Lokalisierung.ipynb\">Modelltraining Schilder Lokalisierung.ipynb</a>\n"
   ]
  },
  {
   "cell_type": "markdown",
   "id": "39df5d08-536b-4b4e-830c-5f1f173b466d",
   "metadata": {},
   "source": [
    "**Trainingsverlauf**\\\n",
    "<img src=\"./images/training1_20_1.png\">"
   ]
  },
  {
   "cell_type": "markdown",
   "id": "f3f006f0-f7d0-42bb-a91b-c0e553b59b8b",
   "metadata": {},
   "source": [
    "### 3.1.6 Modell aus Datei laden"
   ]
  },
  {
   "cell_type": "code",
   "execution_count": 23,
   "id": "383e9068-640c-4aec-8550-478ed2edd5f5",
   "metadata": {},
   "outputs": [],
   "source": [
    "model = load_model(r\"./models/regr_1signs_2.pickle\")"
   ]
  },
  {
   "cell_type": "markdown",
   "id": "e742d95e-e508-4754-b739-d5c3e1a71665",
   "metadata": {},
   "source": [
    "### 3.1.7 Anzeigen von Testbildern mit vorhergesagten Boundingboxen"
   ]
  },
  {
   "cell_type": "code",
   "execution_count": 24,
   "id": "84765df4-7066-4f70-af02-bd3a6b88511f",
   "metadata": {},
   "outputs": [],
   "source": [
    "#for image, bounding in zip(testImages[2:4], testTargets[2:4]):\n",
    "#    predict_and_display_img(model, image, bounding)\n",
    "#cv2.destroyAllWindows()"
   ]
  },
  {
   "cell_type": "markdown",
   "id": "a2984f19-7a01-4487-b375-4247e628beee",
   "metadata": {},
   "source": [
    "<img src=\"./images/test1_1.png\"> \n",
    "<img src=\"./images/test1_2.png\">\n",
    "Grün = vorhergesagte Bounding Box, Rot = richtige Bounding Box"
   ]
  },
  {
   "cell_type": "markdown",
   "id": "f64da22c-8b82-4161-a59c-fafca942d5db",
   "metadata": {},
   "source": [
    "### 3.1.8 Evaluation\n",
    "\n",
    "Wendet man das Modell auf die unangetasteten Testbilder an, zeigt sich, dass eine ähnlich guter Loss Wert wie im Training erreicht wird. Das bedeutet, dass das Modell gut verallgemeinert und nicht überanpasst:"
   ]
  },
  {
   "cell_type": "code",
   "execution_count": 25,
   "id": "a6adf739-22a7-4f4a-bd63-8c3196c577fd",
   "metadata": {},
   "outputs": [
    {
     "name": "stdout",
     "output_type": "stream",
     "text": [
      "40/40 [==============================] - 3s 79ms/step - loss: 0.0093\n"
     ]
    },
    {
     "data": {
      "text/plain": [
       "0.00932986568659544"
      ]
     },
     "execution_count": 25,
     "metadata": {},
     "output_type": "execute_result"
    }
   ],
   "source": [
    "model.evaluate(testImages, testTargets)"
   ]
  },
  {
   "cell_type": "markdown",
   "id": "466c8114-6ecd-4e61-9d43-fc1f4cca4819",
   "metadata": {},
   "source": [
    "Um einen besseren Maß dafür zu finden ob die predicteden Bounding Boxen zu echten passen, wird im Folgenden die Intersection over Union (IoU) berechnet. Sie gibt das Verhältnis zwischen der Überschneidung von echter und vorhergesagter Bounding Box und der Gesamtfläche der echten und vorhergesagter Bounding Box an. Würde die vorhergesagte Bounding Box genau mit der echten Bounding Box übereinstimmen, so wäre die Intersection over Union 1. "
   ]
  },
  {
   "cell_type": "markdown",
   "id": "9c17d97c-b814-4d68-a52d-d5ffbe6b047f",
   "metadata": {},
   "source": [
    "<img src=\"./images/Intersection-Over-Union-IOU.png\">\\\n",
    "Quelle: https://www.researchgate.net/publication/343194514_A_Survey_on_Performance_Metrics_for_Object-Detection_Algorithms"
   ]
  },
  {
   "cell_type": "code",
   "execution_count": 26,
   "id": "a026998d-03a2-4856-84f1-c418a66a1b90",
   "metadata": {},
   "outputs": [],
   "source": [
    "def intersectionOverUnion(y_actual,y_pred):\n",
    "    iw = min(y_actual[2], y_pred[2])-max(y_actual[0], y_pred[0])\n",
    "    ih = min(y_actual[3], y_pred[3])-max(y_actual[1], y_pred[1])\n",
    "    iw = max(iw, 0)\n",
    "    ih = max(ih, 0)\n",
    "    i = iw*ih\n",
    "    aa = (y_actual[2] - y_actual[0])*(y_actual[3] - y_actual[1])\n",
    "    ap = (y_pred[2] - y_pred[0])*(y_pred[3] - y_pred[1])\n",
    "    u = aa+ap-i\n",
    "    return i/u"
   ]
  },
  {
   "cell_type": "code",
   "execution_count": 27,
   "id": "4d30efcd-89c6-4d1c-aa0b-35e16c43b2dd",
   "metadata": {},
   "outputs": [],
   "source": [
    "preds = model.predict(testImages)\n",
    "\n",
    "rap = [intersectionOverUnion(y_actual,y_pred) for y_actual, y_pred in zip(testTargets, preds)]"
   ]
  },
  {
   "cell_type": "code",
   "execution_count": 28,
   "id": "8a0a6634-505f-4d0c-9a60-755a29fe2de8",
   "metadata": {},
   "outputs": [
    {
     "data": {
      "image/png": "[encoded data removed]",
      "text/plain": [
       "<Figure size 432x288 with 1 Axes>"
      ]
     },
     "metadata": {
      "needs_background": "light"
     },
     "output_type": "display_data"
    }
   ],
   "source": [
    "plt.hist(rap)\n",
    "plt.title(\"Histogramm über IoU Werte\")\n",
    "plt.ylabel(\"Anzahl Boundingboxen\")\n",
    "plt.xlabel(\"Intersection over Union\")\n",
    "plt.show()"
   ]
  },
  {
   "cell_type": "code",
   "execution_count": 29,
   "id": "2318fdf0-2db8-440c-ad6e-886e8547719e",
   "metadata": {},
   "outputs": [
    {
     "data": {
      "text/plain": [
       "0.7676857146557421"
      ]
     },
     "execution_count": 29,
     "metadata": {},
     "output_type": "execute_result"
    }
   ],
   "source": [
    "np.mean(rap)"
   ]
  },
  {
   "cell_type": "markdown",
   "id": "493fd7a6-ca2b-4664-b812-4f845bde87d8",
   "metadata": {},
   "source": [
    "Im Durchschnitt beträgt der Intersection over Union Wert der Testdaten 77%. \\\n",
    "Im späteren Verlauf dieses Notebooks wird dieses Modell noch einmal zusammen mit einem Klassifizierungsmodell auf nicht syntetische Testdaten angewendet und die Performance gemessen."
   ]
  },
  {
   "cell_type": "markdown",
   "id": "abc30c55-5d40-48a7-9788-782dae96f916",
   "metadata": {},
   "source": [
    "## 3.2 Lokalisierung von drei Verkehrsschildern in einem Bild"
   ]
  },
  {
   "cell_type": "markdown",
   "id": "89a25935-c3cf-4840-90f3-5a540e1c85d9",
   "metadata": {},
   "source": [
    "Da laut Aufgabenstellung nicht nur einzelne Schilder sondern auch mehrere Schilder in einem Bild erkannt werden sollen, wird nun ein Modell erstellt und trainiert, welches 3 Schilder in einem Bild erkennen soll. Es ist mit dem Ansatz der Bounding Boxen nicht möglich ein Modell zu erstellen, welches eine beliebige Anzahl von Schildern erkennen kann, da der letzte Layer des Modells immer ein Vektor konstanter Größe sein muss und somit nicht variabel viele Informationen vorhersagen kann."
   ]
  },
  {
   "cell_type": "markdown",
   "id": "611564ab-7aa2-4975-a5b9-12878534eeec",
   "metadata": {},
   "source": [
    "Mit dem Image Generator wurden Bilder generiert, die 3 Schilder enthalten. Die Daten und die dazugehörigen Labels wurden im selben Format abgespeichert wie für das vorherige Modell beschrieben."
   ]
  },
  {
   "cell_type": "code",
   "execution_count": 30,
   "id": "bfe3d352-d4ce-4adf-b4a1-85cb2de9eb13",
   "metadata": {
    "tags": []
   },
   "outputs": [],
   "source": [
    "file = open(r\"./pickle/data_3.pickle\", 'rb')\n",
    "data = pickle.load(file)\n",
    "file.close()\n",
    "file = open(r\"./pickle/labels_3.pickle\", 'rb')\n",
    "labels = pickle.load(file)\n",
    "file.close()"
   ]
  },
  {
   "cell_type": "markdown",
   "id": "0e7d78ef-b29f-4652-b4b5-dd62167191f6",
   "metadata": {
    "tags": []
   },
   "source": [
    "Es ist wichtig, dass das Maschine Learning Modell zwischen den einzelnen Verkehrsschildern differenzieren kann. \\\n",
    "Dafür müssen die Bounding Boxen, bzw. die Koordinaten dieser, für den Eingabevektor immer eine spezielle Reihenfolge haben. \\\n",
    "Um dies zu erreichen wurde sich dazu entschieden, die Boxen nach ihrer X-Koordinaate der oberen linken Ecke zu sortieren. Bei gleichen Werten wird nach der Y-Koordiate entschieden. Die entsprechende Zeile, in der dies umgesetzt wird, wurde in der nächste Zelle mit drei Ausrufezeichen makiert.\n",
    "\n",
    "Würde keine Sortierung vorgenommen werden, sähe das Ergebnis wie folgt aus: \\\n",
    "<img src=\"./images/3_signs_without_sort1.png\">     <img src=\"./images/3_signs_without_sort2.png\">\\\n",
    "Grün = vorhergesagte Bounding Box, Rot = richtige Bounding Box"
   ]
  },
  {
   "cell_type": "code",
   "execution_count": 31,
   "id": "aa4b228b-614d-4f08-8ea0-9fed70025e60",
   "metadata": {},
   "outputs": [],
   "source": [
    "targets = []\n",
    "input_shape = data[0].shape\n",
    "for k in labels:\n",
    "    a = list(k.keys())\n",
    "    a.sort(key=lambda x: (x[0], x[1])) # !!!\n",
    "    temp = [] #input vektor for model\n",
    "    for e in a:\n",
    "        x1, y1, x2, y2 = e #extract coordinates\n",
    "        h, w = input_shape[:2]\n",
    "        temp.append(x1/w) #scale with image shape\n",
    "        temp.append(y1/h)\n",
    "        temp.append(x2/w)\n",
    "        temp.append(y2/h)\n",
    "    targets.append(temp)\n",
    "    \n",
    "# convert the data and targets to NumPy arrays, scaling the input\n",
    "# pixel intensities from the range [0, 255] to [0, 1]\n",
    "data = np.array(data, dtype=\"float32\") / 255.0\n",
    "targets = np.array(targets, dtype=\"float32\")"
   ]
  },
  {
   "cell_type": "markdown",
   "id": "1e5dcdb4-57d8-46b7-a911-0470a980beb6",
   "metadata": {},
   "source": [
    "### 3.2.1 Aufteilen der Daten zu Trainings, Validierungs und Testdaten\n",
    "\n",
    "Gleiche Aufteilung der Daten wie für das erste Modell:\n",
    "* Trainingsdaten 75%\n",
    "* Validierungsdaten 12.5% \n",
    "* Testdaten 12.5% "
   ]
  },
  {
   "cell_type": "code",
   "execution_count": 32,
   "id": "5c09a930-a61c-4c1a-a043-f82b827ef37d",
   "metadata": {},
   "outputs": [],
   "source": [
    "split = train_test_split(data, targets, test_size=0.25, random_state=42)\n",
    "\n",
    "(trainImages, testImages) = split[:2]\n",
    "(trainTargets, testTargets) = split[2:4]\n",
    "\n",
    "split = train_test_split(testImages, testTargets, test_size=0.5, random_state=42)\n",
    "\n",
    "(validationImages, testImages) = split[:2]\n",
    "(validationTargets, testTargets) = split[2:4]"
   ]
  },
  {
   "cell_type": "markdown",
   "id": "3bc59c0d-fe46-42ce-aaa0-a172f92d3993",
   "metadata": {},
   "source": [
    "### 3.2.2 Modell\n",
    "\n",
    "Der Aufbau des Modells gleicht dem des Modells für ein Schild pro Bild, allerdings wurde die Anzahl der Convolutional und MaxPooling sowie Dense Layer erhöht. Als Output soll das Modell einen Vektor der Länge 12 liefern, wobei jeweils 4 Werte eine Bounding Box eines Schildes beschreiben."
   ]
  },
  {
   "cell_type": "code",
   "execution_count": 33,
   "id": "9a9ce91c-c1fb-4c66-bdab-d94c648e027a",
   "metadata": {},
   "outputs": [
    {
     "name": "stdout",
     "output_type": "stream",
     "text": [
      "Model: \"model_1\"\n",
      "_________________________________________________________________\n",
      " Layer (type)                Output Shape              Param #   \n",
      "=================================================================\n",
      " input_2 (InputLayer)        [(None, 128, 192, 3)]     0         \n",
      "                                                                 \n",
      " bl_2 (Conv2D)               (None, 128, 192, 16)      448       \n",
      "                                                                 \n",
      " bl_3 (MaxPooling2D)         (None, 64, 96, 16)        0         \n",
      "                                                                 \n",
      " bl_4 (Conv2D)               (None, 64, 96, 24)        3480      \n",
      "                                                                 \n",
      " bl_5 (MaxPooling2D)         (None, 32, 48, 24)        0         \n",
      "                                                                 \n",
      " bl_6 (Conv2D)               (None, 32, 48, 32)        6944      \n",
      "                                                                 \n",
      " bl_7 (MaxPooling2D)         (None, 16, 24, 32)        0         \n",
      "                                                                 \n",
      " bl_8 (Conv2D)               (None, 16, 24, 48)        13872     \n",
      "                                                                 \n",
      " bl_9 (MaxPooling2D)         (None, 8, 12, 48)         0         \n",
      "                                                                 \n",
      " bl_10 (Conv2D)              (None, 8, 12, 64)         27712     \n",
      "                                                                 \n",
      " bl_11 (MaxPooling2D)        (None, 4, 6, 64)          0         \n",
      "                                                                 \n",
      " bl_12 (Conv2D)              (None, 4, 6, 96)          55392     \n",
      "                                                                 \n",
      " bl_13 (MaxPooling2D)        (None, 2, 3, 96)          0         \n",
      "                                                                 \n",
      " bl_14 (Conv2D)              (None, 2, 3, 128)         110720    \n",
      "                                                                 \n",
      " bl_15 (MaxPooling2D)        (None, 1, 1, 128)         0         \n",
      "                                                                 \n",
      " bl_18 (Flatten)             (None, 128)               0         \n",
      "                                                                 \n",
      " bb_1 (Dense)                (None, 128)               16512     \n",
      "                                                                 \n",
      " bb_2 (Dense)                (None, 96)                12384     \n",
      "                                                                 \n",
      " bb_3 (Dense)                (None, 64)                6208      \n",
      "                                                                 \n",
      " bb_4 (Dense)                (None, 48)                3120      \n",
      "                                                                 \n",
      " bb_5 (Dense)                (None, 32)                1568      \n",
      "                                                                 \n",
      " bb_6 (Dense)                (None, 16)                528       \n",
      "                                                                 \n",
      " bb_head (Dense)             (None, 12)                204       \n",
      "                                                                 \n",
      "=================================================================\n",
      "Total params: 259,092\n",
      "Trainable params: 259,092\n",
      "Non-trainable params: 0\n",
      "_________________________________________________________________\n"
     ]
    }
   ],
   "source": [
    "input_layer = Input(input_shape)\n",
    "\n",
    "#create the base layers\n",
    "base_layers = Conv2D(16, 3, padding='same', activation='relu', name='bl_2')(input_layer)\n",
    "base_layers = MaxPooling2D(name='bl_3')(base_layers)\n",
    "base_layers = Conv2D(24, 3, padding='same', activation='relu', name='bl_4')(base_layers)\n",
    "base_layers = MaxPooling2D(name='bl_5')(base_layers)\n",
    "base_layers = Conv2D(32, 3, padding='same', activation='relu', name='bl_6')(base_layers)\n",
    "base_layers = MaxPooling2D(name='bl_7')(base_layers)\n",
    "base_layers = Conv2D(48, 3, padding='same', activation='relu', name='bl_8')(base_layers)\n",
    "base_layers = MaxPooling2D(name='bl_9')(base_layers)\n",
    "base_layers = Conv2D(64, 3, padding='same', activation='relu', name='bl_10')(base_layers)\n",
    "base_layers = MaxPooling2D(name='bl_11')(base_layers)\n",
    "base_layers = Conv2D(96, 3, padding='same', activation='relu', name='bl_12')(base_layers)\n",
    "base_layers = MaxPooling2D(name='bl_13')(base_layers)\n",
    "base_layers = Conv2D(128, 3, padding='same', activation='relu', name='bl_14')(base_layers)\n",
    "base_layers = MaxPooling2D(name='bl_15')(base_layers)\n",
    "base_layers = Flatten(name='bl_18')(base_layers)\n",
    "\n",
    "#create the localiser branch\n",
    "locator_branch = Dense(128, activation='relu', name='bb_1')(base_layers)\n",
    "locator_branch = Dense(96, activation='relu', name='bb_2')(locator_branch)\n",
    "locator_branch = Dense(64, activation='relu', name='bb_3')(locator_branch)\n",
    "locator_branch = Dense(48, activation='relu', name='bb_4')(locator_branch)\n",
    "locator_branch = Dense(32, activation='relu', name='bb_5')(locator_branch)\n",
    "locator_branch = Dense(16, activation='relu', name='bb_6')(locator_branch)\n",
    "locator_branch = Dense(12, activation='sigmoid', name='bb_head')(locator_branch)\n",
    "\n",
    "model = tf.keras.Model(input_layer, outputs=locator_branch)\n",
    "model.summary()"
   ]
  },
  {
   "cell_type": "markdown",
   "id": "bddfc61b-74a3-40d7-aff4-a67e94b7e168",
   "metadata": {},
   "source": [
    "### 3.2.3 Loss Funktion\n",
    "Als Loss Funktion wurde erneut der Mean Absolute Error gewählt"
   ]
  },
  {
   "cell_type": "code",
   "execution_count": 34,
   "id": "e7d9893e-293c-48c1-8099-9474171e7445",
   "metadata": {},
   "outputs": [],
   "source": [
    "loss = tf.keras.losses.MAE"
   ]
  },
  {
   "cell_type": "markdown",
   "id": "7713d54e-4e33-4e1d-b35c-5d09263a145b",
   "metadata": {},
   "source": [
    "### 3.2.4 Training\n",
    "\n",
    "Das Training wurde ausgelagert in das Notebook <a href=\"Modelltraining Schilder Lokalisierung 3Signs.ipynb\">Modelltraining Schilder Lokalisierung 3Signs.ipynb</a>\n"
   ]
  },
  {
   "cell_type": "markdown",
   "id": "75b89de0-a460-438e-80e2-62778a79f1a3",
   "metadata": {},
   "source": [
    "**Trainingsverlauf**\\\n",
    "<img src=\"./images/training3_20_1.png\">"
   ]
  },
  {
   "cell_type": "markdown",
   "id": "06fc1fa3-1499-4d5a-adac-dc61fb975c8f",
   "metadata": {},
   "source": [
    "### 3.2.5 Modell aus Datei laden"
   ]
  },
  {
   "cell_type": "code",
   "execution_count": 35,
   "id": "7751f439-5791-4ee3-abfe-dac43435acd2",
   "metadata": {},
   "outputs": [],
   "source": [
    "model = load_model(r\"./models/regr_3signs_2.pickle\")"
   ]
  },
  {
   "cell_type": "markdown",
   "id": "e6be433e-ff34-453e-9510-c327d1707009",
   "metadata": {},
   "source": [
    "### 3.2.6 Anzeigen von Testbildern"
   ]
  },
  {
   "cell_type": "code",
   "execution_count": 36,
   "id": "93b91b2a-012f-4255-9c34-1e55310bea66",
   "metadata": {},
   "outputs": [],
   "source": [
    "#for image, bounding in zip(testImages[:2], testTargets[:2]):\n",
    "#    predict_and_display_img(model, image, bounding)\n",
    "#cv2.destroyAllWindows()"
   ]
  },
  {
   "cell_type": "markdown",
   "id": "0e022016-78ee-4d05-8d99-a6a6d9fb5a1d",
   "metadata": {},
   "source": [
    "<img src=\"./images/test3_1.png\">     <img src=\"./images/test3_2.png\">"
   ]
  },
  {
   "cell_type": "markdown",
   "id": "561cae71-a8d5-475f-b454-b667c812ada2",
   "metadata": {},
   "source": [
    "### 3.2.7 Evaluation"
   ]
  },
  {
   "cell_type": "code",
   "execution_count": 37,
   "id": "c21cadfa-b4cd-408f-b4ec-4a8794b946bf",
   "metadata": {},
   "outputs": [],
   "source": [
    "preds = model.predict(testImages)\n",
    "\n",
    "ious = []\n",
    "for y_actual, y_pred in zip(testTargets, preds):\n",
    "    for i in range(3):\n",
    "        ious.append(intersectionOverUnion(y_actual[i:i+4],y_pred[i:i+4]))"
   ]
  },
  {
   "cell_type": "code",
   "execution_count": 38,
   "id": "df3fb070-92bc-4654-9b38-3398954c0e27",
   "metadata": {},
   "outputs": [
    {
     "data": {
      "image/png": "[encoded data removed]",
      "text/plain": [
       "<Figure size 432x288 with 1 Axes>"
      ]
     },
     "metadata": {
      "needs_background": "light"
     },
     "output_type": "display_data"
    }
   ],
   "source": [
    "plt.hist(ious)\n",
    "plt.title(\"Histogramm über IoU Werte\")\n",
    "plt.ylabel(\"Anzahl Boundingboxen\")\n",
    "plt.xlabel(\"Intersection over Union\")\n",
    "plt.show()"
   ]
  },
  {
   "cell_type": "code",
   "execution_count": 39,
   "id": "ec612a25-6b8a-46e3-bd43-17642d5de014",
   "metadata": {},
   "outputs": [
    {
     "data": {
      "text/plain": [
       "0.411646689610191"
      ]
     },
     "execution_count": 39,
     "metadata": {},
     "output_type": "execute_result"
    }
   ],
   "source": [
    "np.mean(ious)"
   ]
  },
  {
   "cell_type": "markdown",
   "id": "9cf73dc0-13dd-414c-a6c9-9d75c715c1d2",
   "metadata": {},
   "source": [
    "Das Modell ist im Vergleich zu dem Modell, welches nur auf ein Schild pro Bild lokalisieren sollte, größer und benötigt mehr Zeit zum trainieren. Trotzdem erkennt es Verkehrsschilder im Schnitt schlechter. Wie im Histogramm zu sehen, wurde ca. die Hälfte der Verkehrsschilder gar nicht oder nur zum Bruchteil erkannt und haben daher einen IoU Wert nahe an Null. \\\n",
    "Für Probleme bei denen mehrere Objekte in einem Bild lokalisiert werden sollen, ist die Verwendung von Bounding Box Regression auf diese Art und Weise nicht effizient. Desweiteren können Modelle nur auf spezifische Anzahl von Objekten pro Bild trainiert werden. Besser ist es speziell für solche Aufgabenstellungen entwickelte Frameworks wie zum Beispiel YOLO zu verwenden. Ein entsprechender Ansatz in YOLO wurde ebenfalls entwickelt: <a href=\"YOLOv5.ipynb\">YOLO Notebook</a>"
   ]
  },
  {
   "cell_type": "markdown",
   "id": "4e344f0e-05f5-4c7e-b134-57231025c2d5",
   "metadata": {},
   "source": [
    "# 4. Klassifizierung von Verkehrsschildern"
   ]
  },
  {
   "cell_type": "markdown",
   "id": "7ac6a0a0",
   "metadata": {},
   "source": [
    "## 4.1 Vorbereitung"
   ]
  },
  {
   "cell_type": "markdown",
   "id": "8ea455d4",
   "metadata": {},
   "source": [
    "### 4.1.1 Darstellung und Überblick\n",
    "Um ein Gefühl für die Daten zu bekommen, wird eine Collage erstellt, die jedes 500. Bild darstellt."
   ]
  },
  {
   "cell_type": "code",
   "execution_count": 40,
   "id": "c2242fd9",
   "metadata": {
    "scrolled": true
   },
   "outputs": [],
   "source": [
    "collage.create_collage(r\"./images/collage_cropped_images.png\", df)"
   ]
  },
  {
   "cell_type": "markdown",
   "id": "37106c7e",
   "metadata": {},
   "source": [
    "Darstellungen ohne weitere Nachbearbeitung (nur Zuschnitt auf Bounding Box):\n",
    "\n",
    "<img src=\"./images/collage_cropped_images.png\">"
   ]
  },
  {
   "cell_type": "markdown",
   "id": "7dd98687",
   "metadata": {},
   "source": [
    "Es ist auffällig, dass die Qualität der Bilder stark unterschiedlich ist:\n",
    "- Einige Bilder sind extrem dunkel und besitzen einen geringen Kontrast. \n",
    "- Durch das Skalieren der Bilder unterscheidet sich die Auflösung stark.\n",
    "\n",
    "Teilweise sind Schilder selbst für ein menschliches Auge nicht eindeutig identifizierbar.  \n",
    "**************\n",
    "Es sind folgende Gemeinsamkeiten festzustellen:\n",
    "- Der Bildwinkel ist immer gleich\n",
    "- Die Schilder sind vollständig abgebildet und besitzen keine \"Störungen\" (Überdeckungen, Verunreinigungen, ...)\n",
    "\n",
    "Dies lässt die Frage offen, ob ein späteres Modell Bilder aus dem \"echten\" Leben erkennen kann."
   ]
  },
  {
   "cell_type": "markdown",
   "id": "3d17f0d0",
   "metadata": {},
   "source": [
    "Im Zuge der Recherche für die Datenvorbereitung fiel ein <a href=\"https://medium.com/@thomastracey/recognizing-traffic-signs-with-cnns-23a4ac66f7a7\">Paper</a> auf, welches ein Verfahren namens \"CLAHE\" nutzte um einen größeren Kontrast herzustellen.<br>\n",
    "Beim späteren Trainieren neuronaler Netze kann betrachtet werden, ob dies einen signifikanten Unterschied bei der Leistung des Modells mit sich bringt.\n",
    "\n",
    "Um die Auswirkungen des Verfahrens zu testen, wird eine Collage der angepassten Bilder erstellt. "
   ]
  },
  {
   "cell_type": "code",
   "execution_count": 41,
   "id": "0cf07259",
   "metadata": {},
   "outputs": [],
   "source": [
    "collage.create_preprocessed_collage(r\"./images/collage_preprocessed_images.png\", df)"
   ]
  },
  {
   "cell_type": "markdown",
   "id": "215776d1",
   "metadata": {},
   "source": [
    "Bilder mit Nachbearbeitung (höherer Kontrast):\n",
    "\n",
    "<img src=\"./images/collage_preprocessed_images.png\">"
   ]
  },
  {
   "cell_type": "markdown",
   "id": "ef8f1fe3",
   "metadata": {},
   "source": [
    "### 4.1.2 Daten einlesen\n",
    "Um das neuronale Netz trainieren zu können, werden die Eingabedaten und Labels benötigt.  \n",
    "Auf Grund der vorherigen Schritte ist es möglich, über das erstellte DataFrame zu iterieren und jedes einzelne Bild auszulesen und zu bearbeiten. Im Anschluss daran wird es einer List hinzugefügt, was am Ende des Prozesses alle Bilder beinhaltet.   \n",
    "Das **data**-Array beinhaltet alle Bilddaten\n",
    "Das **labels**-Array beinhaltet die Klassenzugehörigkeiten \n",
    "\n",
    "#### read_preprocess_img\n",
    "Die Bilder werden mit OpenCV eingelesen und auf die Maße der Bounding Box zugeschnitten. Im Anschluss folgt eine Anpassung der Bildgröße, damit alle Images eine einheitliche Größe besitzen.   \n",
    "Als nächster Schritt folgt eine Histogramm-Equalization. Dies hat als Ziel, das Histogramm der Bilder jeweils so anzupassen, dass alle Grauwerte möglichst gleichverteilt sind. Bei der Histogramm Equalization berechnen sich die Grauwerte der Pixel wie folgt: \n",
    "\n",
    "$y=f(p)= \\frac{L-1}{N}\\int_{-\\infty}^{p} h_{i}(p) \\,dp$\n",
    "\n",
    "Mit: x - alter Grauwert; N - Anzahl Pixel; L - Anzahl möglicher Grauwerte\n",
    "\n",
    "In unserem Fall stützen wir uns auf die von skimage implementierte Funktion ```equalize_adapthist```, was ein Problem der einfachen Histogramm Equalization löst, bei welchem Informationsverlust in den Bildern auftritt. Es nutzt die Contrast Limited Adaptive Histogram Equalization (CLAHE). Eine Visualisierung der normalisierten Bilder kann in der weiter oben dargestellten Collage betrachtet werden.\n",
    "\n",
    "\n",
    "Im Anschluss werden die Arrays in numpy-Arrays umgewandelt.\n",
    "\n",
    "#### Einlesen vorbereiteter Daten\n",
    "Um die vorbereiteten Daten systemübergreifend zur Verfügung stellen zu können, wurden die vorbereiteten Trainings und Testdaten in pkl-Dateien gespeichert. Diese stehen auch im kaggle-Datensatz zur Verfügung (siehe <a href=https://www.kaggle.com/nickkr/sign-detection>Kaggle-Datensatz: data_preprocessed</a>). Um nicht unnötig erneut einige Vorbereitungsschritte durchzuführen, wurde die Variable NO_PREPARED_DATA eingeführt. Diese ist im Laufe des Notebooks noch an einigen Stellen in der Datenvorbereitung zu finden."
   ]
  },
  {
   "cell_type": "code",
   "execution_count": 42,
   "id": "39ad1fe3",
   "metadata": {},
   "outputs": [
    {
     "name": "stdout",
     "output_type": "stream",
     "text": [
      "False\n"
     ]
    }
   ],
   "source": [
    "NO_PREPARED_DATA = True\n",
    "\n",
    "pickle_folder = f\"./data_preprocessed\"\n",
    "\n",
    "try:\n",
    "    with open(os.path.join(pickle_folder, 'X_train.pkl'), 'rb') as f:\n",
    "        X_train = pickle.load(f)\n",
    "\n",
    "    with open(os.path.join(pickle_folder, 'y_train.pkl'), 'rb') as f:\n",
    "        y_train = pickle.load(f)\n",
    "\n",
    "    with open(os.path.join(pickle_folder, 'X_val.pkl'), 'rb') as f:\n",
    "        X_test = pickle.load(f)\n",
    "\n",
    "    with open(os.path.join(pickle_folder, 'y_val.pkl'), 'rb') as f:\n",
    "        y_test = pickle.load(f)\n",
    "    NO_PREPARED_DATA = False\n",
    "except:\n",
    "    print(\"No already preprocessed data\")\n",
    "print(NO_PREPARED_DATA)"
   ]
  },
  {
   "cell_type": "code",
   "execution_count": 43,
   "id": "59d885e5",
   "metadata": {},
   "outputs": [
    {
     "name": "stdout",
     "output_type": "stream",
     "text": [
      "Iterated through 5000 images\n",
      "Iterated through 10000 images\n",
      "Iterated through 15000 images\n",
      "Iterated through 20000 images\n",
      "Iterated through 25000 images\n",
      "Iterated through 30000 images\n",
      "Iterated through 35000 images\n",
      "Iterated through all images\n"
     ]
    }
   ],
   "source": [
    "data = []\n",
    "labels = []\n",
    "\n",
    "for index, row in df.iterrows(): \n",
    "    if index>0 and index%5000 == 0:\n",
    "        print(\"Iterated through\", index, \"images\")\n",
    "    elif index+1 == len(df):\n",
    "        print(\"Iterated through all images\")\n",
    "\n",
    "    x = row[\"Roi.X1\"]\n",
    "    y = row[\"Roi.Y1\"]\n",
    "    h = row[\"Roi.Y2\"]-row[\"Roi.Y1\"]\n",
    "    w = row[\"Roi.X2\"]-row[\"Roi.X1\"]\n",
    "\n",
    "    data.append(Reader.read_preprocess_img(Reader, row[\"Folder\"]+row[\"Filename\"], (32,32), x, y, h, w))\n",
    "    labels.append(int(row[\"ClassId\"]))\n",
    "\n",
    "data = np.array(data)\n",
    "labels = np.array(labels)"
   ]
  },
  {
   "cell_type": "markdown",
   "id": "a1686a34",
   "metadata": {},
   "source": [
    "### 4.1.3 Daten-Augmentierung\n",
    "Bei der Augmentierung sollen die Daten transformiert werden.  \n",
    "Dabei werden die herausgestellten Herausforderungen und Probleme des Datensatzes in Angriff genommen. Identifizierte Probleme:\n",
    "1. Unausgewogenheit des Datensatzes\n",
    "2. Immer gleiche Blickwinkel und keine \"Störungen\" (nichts verdeckt...)\n",
    "\n",
    "Für Punkt eins ist eine Lösung, mehr Bilder aus dem Datensatz zu generieren und dabei die Klassen gleich zu verteilen.  \n",
    "Da die Augmentierung viel Zeit in Anspruch nimmt, wird sie nicht ausgeführt, wenn die vorbereiteten Daten bereits aus zuvor erstellten pkl-Dateien gewonnen werden konnten."
   ]
  },
  {
   "cell_type": "code",
   "execution_count": 44,
   "id": "e92951f4",
   "metadata": {},
   "outputs": [
    {
     "data": {
      "image/png": "[encoded data removed]",
      "text/plain": [
       "<Figure size 432x288 with 1 Axes>"
      ]
     },
     "metadata": {
      "needs_background": "light"
     },
     "output_type": "display_data"
    }
   ],
   "source": [
    "plt.hist(labels, bins=len(set(labels)), rwidth=0.7)\n",
    "plt.title(\"Ausgewogenheit vor der Augmentierung\")\n",
    "plt.ylabel(\"Anzahl Datensätze\")\n",
    "plt.xlabel(\"Klasse\")\n",
    "plt.show()"
   ]
  },
  {
   "cell_type": "markdown",
   "id": "f12e0d57",
   "metadata": {},
   "source": [
    "Die Daten werden mit Hilfe des ```ImageDataGenerator``` (siehe <a href=https://www.tensorflow.org/api_docs/python/tf/keras/preprocessing/image/ImageDataGenerator#used-in-the-notebooks_1>Dokumentation</a>) augmentiert. Dieser ermöglicht es, neue Bilder aus den bestehenden zu erzeugen. Dabei können mehrere Parameter gesetzt werden.  \n",
    "Auf horizontale und vertikale Spiegelungen wird verzichtet, da die Schilder in echt auch nicht \"auf dem Kopf\" stehen."
   ]
  },
  {
   "cell_type": "code",
   "execution_count": 45,
   "id": "823a4ff2",
   "metadata": {},
   "outputs": [],
   "source": [
    "if NO_PREPARED_DATA:\n",
    "    datagen = ImageDataGenerator(\n",
    "        zca_whitening=True,\n",
    "        rotation_range=10,\n",
    "        width_shift_range=0.1,\n",
    "        height_shift_range=0.1,\n",
    "        shear_range=0.15,\n",
    "        zoom_range=0.15,\n",
    "        channel_shift_range=0.1,\n",
    "        horizontal_flip=False,\n",
    "        vertical_flip=False,\n",
    "        fill_mode='nearest'\n",
    "    )\n",
    "    datagen.fit(data)"
   ]
  },
  {
   "cell_type": "markdown",
   "id": "365c1d57",
   "metadata": {},
   "source": [
    "Es folgt die Augmentierung der Daten.  \n",
    "Im Prozess wird eine Anzahl an Bildern (6000) festgelegt und für jede Klasse diese Anzahl an Bildern produziert. Nachdem die Bilder für alle Klassen erzeugt wurden, sollte der Datensatz also $ 43*6000=258000 $ Bilder beinhalten."
   ]
  },
  {
   "cell_type": "code",
   "execution_count": 46,
   "id": "0d664ab7",
   "metadata": {},
   "outputs": [],
   "source": [
    "if NO_PREPARED_DATA:\n",
    "    images_per_class = 6000\n",
    "    data_aug = np.empty((0, 32, 32, 3))\n",
    "    labels_aug = np.empty(0, dtype='int32')\n",
    "\n",
    "    for i in tqdm(range(len(set(labels)))):\n",
    "        # Get images and labels for each class\n",
    "        index = [labels==i]\n",
    "        i_data = data[tuple(index)]\n",
    "        i_labels = labels[tuple(index)]\n",
    "\n",
    "        i_data_aug = np.copy(i_data)\n",
    "        i_labels_aug = np.copy(i_labels)\n",
    "\n",
    "        # append augmented data to existing class-data\n",
    "        for X, y in datagen.flow(i_data, i_labels, batch_size=len(i_labels), seed=3*i+52):\n",
    "            i_data_aug = np.append(i_data_aug, X, axis=0)\n",
    "            i_labels_aug = np.append(i_labels_aug, y, axis=0)\n",
    "\n",
    "            if len(i_labels_aug) >= images_per_class:\n",
    "                break\n",
    "\n",
    "        # append data to result arrays\n",
    "        # limit to appending images to maximum images (take rows up to rownumber specified)\n",
    "        data_aug = np.append(data_aug, i_data_aug[:images_per_class], axis=0)\n",
    "        labels_aug = np.append(labels_aug, i_labels_aug[:images_per_class], axis=0)\n"
   ]
  },
  {
   "cell_type": "code",
   "execution_count": 47,
   "id": "30d40cde",
   "metadata": {},
   "outputs": [
    {
     "data": {
      "image/png": "[encoded data removed]",
      "text/plain": [
       "<Figure size 432x288 with 1 Axes>"
      ]
     },
     "metadata": {
      "needs_background": "light"
     },
     "output_type": "display_data"
    }
   ],
   "source": [
    "if NO_PREPARED_DATA:\n",
    "    plt.hist(labels_aug, bins=len(set(labels_aug)), rwidth=0.7)\n",
    "else:\n",
    "    #reverse to_categorical and append test to train data (to get full dataset)\n",
    "    con_labels = np.argmax(np.append(y_train, y_test, axis=0), axis=1) \n",
    "    plt.hist(con_labels, bins=len(set(con_labels)), rwidth=0.7)\n",
    "plt.title(\"Ausgewogenheit nach der Augmentierung\")\n",
    "plt.ylabel(\"Anzahl Datensätze\")\n",
    "plt.xlabel(\"Klasse\")\n",
    "plt.show()"
   ]
  },
  {
   "cell_type": "code",
   "execution_count": 48,
   "id": "224a813e",
   "metadata": {},
   "outputs": [
    {
     "name": "stdout",
     "output_type": "stream",
     "text": [
      "Pre-defined data shape: (39209, 32, 32, 3)\n",
      "Train-data shape after augmentation: (193500, 32, 32, 3)\n",
      "--> Anzahl Datensätze: 258000\n"
     ]
    }
   ],
   "source": [
    "if NO_PREPARED_DATA:\n",
    "    print(\"Pre-defined data shape:\",data.shape)\n",
    "    print(\"Data shape after augmentation:\",data_aug.shape)\n",
    "    print(\"--> Anzahl Datensätze:\", len(data_aug))\n",
    "else:\n",
    "    print(\"Pre-defined data shape:\",data.shape)\n",
    "    print(\"Train-data shape after augmentation:\",X_train.shape)\n",
    "    print(\"--> Anzahl Datensätze:\", len(np.append(y_train, y_test, axis=0)))"
   ]
  },
  {
   "cell_type": "markdown",
   "id": "d88dc18a",
   "metadata": {},
   "source": [
    "Nach der Augmentierung und Anpassung ist festzustellen, dass ein ausgeglichener Datensatz entstanden ist.  \n",
    "Die Shape der Bilder hat sich nicht geändert, ausschließlich die Anzahl ist gestiegen."
   ]
  },
  {
   "cell_type": "markdown",
   "id": "3fc383d9",
   "metadata": {},
   "source": [
    "### 4.1.4 Aufteilung\n",
    "Aufteilung in Trainings-/Test- und Validierungsdaten  \n",
    "\n",
    "**Trainingsdaten**  \n",
    "Dienen zum tatsächlichen Training des neuronalen Netzes. Daher wird mit 75% des gesamten Datensatzes der Großteil der Daten genutzt.\n",
    "\n",
    "**Validierungsdaten**  \n",
    "Dienen zum Validieren des neuronalen Netzes während des Trainings. Hierfür werden 12.5% der Daten vorgehalten. Die Validierung kann ein Indikator für Over-/Underfitting sein. So kann dies bereits während des Trainings überprüft werden. \n",
    "\n",
    "**Testdaten**  \n",
    "Dienen zur Evaluation des neuronalen Netzes nach dem Training. Validierungsadaten eignen sich hier nicht, da das neuronale Netz diese Daten bereits \"gesehen\" hat. Es dient als weitere Instanz, Über und Unteranpassung zu erkennen. Der Testdatensatz umfasst 12.5% des Datensatzes.  "
   ]
  },
  {
   "cell_type": "code",
   "execution_count": 49,
   "id": "317ac20a",
   "metadata": {},
   "outputs": [],
   "source": [
    "if NO_PREPARED_DATA:\n",
    "    # train and test (0.75, 0.25)\n",
    "    X_train, X_test, y_train, y_test = train_test_split(data_aug, labels_aug, test_size=0.25, random_state=1234)\n",
    "    \n",
    "    # save preprocessed data \n",
    "    with open('X_train.pkl', 'wb') as f:\n",
    "        pickle.dump(X_train, f)\n",
    "    \n",
    "    with open('y_train.pkl', 'wb') as f:\n",
    "        pickle.dump(y_train, f)\n",
    "\n",
    "    with open('X_val.pkl', 'wb') as f:\n",
    "        pickle.dump(X_test, f)\n",
    "\n",
    "    with open('y_val.pkl', 'wb') as f:\n",
    "        pickle.dump(y_test, f)\n",
    "\n",
    "# split test in val and test (0.5, 0.5 of test-data)\n",
    "X_val, X_test, y_val, y_test = train_test_split(X_test, y_test, test_size=0.5, random_state=1234)"
   ]
  },
  {
   "cell_type": "code",
   "execution_count": 50,
   "id": "0ece1263",
   "metadata": {},
   "outputs": [],
   "source": [
    "if NO_PREPARED_DATA:\n",
    "    # Scale to [0,1]\n",
    "    #X_train = X_train.astype(\"float32\")/255.0\n",
    "    #X_test = X_test.astype(\"float32\")/255.0\n",
    "    #X_val = X_val.astype(\"float32\")/255.0\n",
    "\n",
    "    # One-Hot Encoding (dont drop one column)\n",
    "    print(\"y-shape before\", y_train.shape)\n",
    "    y_train = to_categorical(y_train, 43)\n",
    "    print(\"y-shape after\", y_train.shape)\n",
    "    y_test = to_categorical(y_test, 43)\n",
    "    y_val = to_categorical(y_val, 43)"
   ]
  },
  {
   "cell_type": "markdown",
   "id": "ab8821e1-5fb9-4bd7-bc81-063f4ecea942",
   "metadata": {},
   "source": [
    "### 4.1.5 Darstellung des vorverarbeiteten Datensatzes"
   ]
  },
  {
   "cell_type": "code",
   "execution_count": 51,
   "id": "c6172574",
   "metadata": {},
   "outputs": [
    {
     "data": {
      "text/plain": [
       "True"
      ]
     },
     "execution_count": 51,
     "metadata": {},
     "output_type": "execute_result"
    }
   ],
   "source": [
    "line = []\n",
    "columns = []\n",
    "for index in range(0,90):\n",
    "    image = X_train[index]*255\n",
    "    line.append(image)\n",
    "    if len(line) == 13:\n",
    "        columns.append(np.hstack(line))\n",
    "        line = []\n",
    "collage = np.vstack(columns)\n",
    "collage = cv2.convertScaleAbs(collage, alpha=255.0)\n",
    "cv2.imwrite(r\"./images/collage_augmented_images.png\", collage)"
   ]
  },
  {
   "cell_type": "markdown",
   "id": "1b8729fe-1f0a-4968-a42e-deccad732120",
   "metadata": {},
   "source": [
    "Im Foldenden sind die vollständig vorverarbeiteten Verkehrsschilder zu erkennen. Durch die Augmentierung sind viele Schilder nicht durch den Menschen erkennbar, allerdings hilft es in unserem Fall, das Overfitting-Problem einzuschränken.   \n",
    "Die vorher immer gleichen Bilder sind nun sehr unterschiedlich und undeutlich dargestellt, wodurch das Modell nicht \"auswendig lernen\" kann. \n",
    "<img src=\"./images/collage_augmented_images.png\">"
   ]
  },
  {
   "cell_type": "markdown",
   "id": "da87611d",
   "metadata": {},
   "source": [
    "## 4.2 CNN / Klassifizierung\n",
    "### 4.2.1 Auswahl des CNN mittels ```keras_tuner```\n",
    "\n",
    "Das zentrale Ziel dieser Ausarbeitung ist der Aufbau und das Training neuronaler Netze, die die Problemstellung lösen sollen. Da diese Modelle allerdings über eine fast unendlich große Menge an Konfigurationsmöglichkeiten besitzen, muss ein Verfahren ausgewählt werden, welches möglichst viele Konfigurationen gegeneinander testet und daraus das beste Modell auswählt. Die Konfigurationsmöglichkeiten sind in diesem Kontext als \"Hyperparameter\" zu bezeichnen. Beispiele für diese Parameter sind die verwendete Lernrate, die Anzahl der Schichten des Modells, die verwendeten Filter und viele mehr.  \n",
    "\n",
    "Um die Gesamtheit der verschiedenen Modelle nicht \"per Hand\" zu trainieren und vergleichen, wird der ```keras_tuner``` eingesetzt.  \n",
    "Der ```keras_tuner``` hilft bei der Bestimmung der Hyperparameter. Dafür werden im Modell spezielle Parameter-Bereiche gesetzt, welche im Anschluss getestet werden.   \n",
    "Als Resultat ergibt sich ein Modell, welches in Bezug auf die angegebenen Metriken am Besten performt hat.   \n",
    "Das Ausführen des Codes unterhalb dauert sehr lange, weshalb die unterhalb auffindbaren Code-Blöcke nicht nochmals ausgeführt werden sollen. Die Resultate dienen als Grundlage für den Aufbau des finalen CNNs.  \n",
    "Der ```keras_tuner``` verfügt über die Funktionalität, seine Versuche zu protokollieren. Dieses Protokoll kann wieder eingeladen werden, ohne den kompletten Prozess erneut ausführen zu müssen. Da es sich hier um größere Datenmengen handelt, wurde das Protokoll auf kaggle hochgeladen (siehe <a href=https://www.kaggle.com/nickkr/sign-detection>Kaggle-Datensatz: kt_signdetection_network</a>)."
   ]
  },
  {
   "cell_type": "code",
   "execution_count": 52,
   "id": "23220787",
   "metadata": {},
   "outputs": [],
   "source": [
    "class TrafficSignNetworkTuner:\n",
    "    @staticmethod\n",
    "    def build_tuner(hp):\n",
    "        width = 32\n",
    "        height = 32\n",
    "        depth = 3\n",
    "        classes = 43\n",
    "        model = Sequential()\n",
    "        inputShape = (height, width, depth)\n",
    "        \n",
    "        for i in range(hp.Int('conv_blocks', 2, 5, default=3)):\n",
    "            filters = hp.Int('filters_' + str(i), 8, 64, step=8)\n",
    "            # CONV => RELU => BN => POOL\n",
    "            model.add(Conv2D(filters, (5, 5), padding=\"same\",\n",
    "                input_shape=inputShape))\n",
    "            model.add(Activation(\"relu\"))\n",
    "            model.add(BatchNormalization())\n",
    "            \n",
    "            pool_choice = hp.Choice('pooling_' + str(i), ['avg', 'max', ''])\n",
    "            if pool_choice == 'max':\n",
    "                model.add(MaxPooling2D(pool_size=(2, 2)))\n",
    "            elif pool_choice == 'avg':\n",
    "                model.add(AvgPool2D(pool_size=(2, 2)))\n",
    "        \n",
    "        for i in range(hp.Int('fully_connected', 1, 3, default=2)):\n",
    "            # first set of FC => RELU layers\n",
    "            hp_units = hp.Int('units_' + str(i), min_value=32, max_value=512, step=32)\n",
    "            model.add(Flatten())\n",
    "            model.add(Dense(hp_units))\n",
    "            model.add(Activation(\"relu\"))\n",
    "            model.add(BatchNormalization())\n",
    "            model.add(Dropout(0.5))\n",
    "                \n",
    "        # softmax classifier\n",
    "        model.add(Dense(classes))\n",
    "        model.add(Activation(\"softmax\"))\n",
    "        \n",
    "        hp_learning_rate = hp.Choice('learning_rate', values=[1e-2, 1e-3, 1e-4])\n",
    "        chosen_loss = tf.keras.losses.CategoricalCrossentropy(from_logits=True)\n",
    "        \n",
    "        model.compile(optimizer=tf.keras.optimizers.Adam(learning_rate=hp_learning_rate),\n",
    "                loss=chosen_loss,\n",
    "                metrics=['accuracy'])\n",
    "        \n",
    "        # return the constructed network architecture\n",
    "        return model"
   ]
  },
  {
   "cell_type": "code",
   "execution_count": 53,
   "id": "976b5b5f",
   "metadata": {},
   "outputs": [
    {
     "name": "stdout",
     "output_type": "stream",
     "text": [
      "INFO:tensorflow:Reloading Oracle from existing project ./kt_signdetection_network/oracle.json\n",
      "INFO:tensorflow:Reloading Tuner from ./kt_signdetection_network/tuner0.json\n"
     ]
    }
   ],
   "source": [
    "tuner = kt.Hyperband(\n",
    "    TrafficSignNetworkTuner.build_tuner,\n",
    "    objective='val_accuracy',\n",
    "    max_epochs=30,\n",
    "    hyperband_iterations=1,\n",
    "    seed=1234,\n",
    "    project_name='kt_signdetection_network',\n",
    "    overwrite=False\n",
    "    )"
   ]
  },
  {
   "cell_type": "code",
   "execution_count": 54,
   "id": "9ed8aff2",
   "metadata": {},
   "outputs": [],
   "source": [
    "RUN_TUNER = False\n",
    "if RUN_TUNER:\n",
    "    tuner.search(X_train, y_train,\n",
    "                 validation_data=(X_val, y_val),\n",
    "                 epochs=30,\n",
    "                 batch_size=128,\n",
    "                 callbacks=[tf.keras.callbacks.EarlyStopping(monitor='val_loss', patience=2)])\n",
    "else:\n",
    "    tuner.reload()"
   ]
  },
  {
   "cell_type": "markdown",
   "id": "4f6f138e",
   "metadata": {},
   "source": [
    "Resultate der Tuner-Suche:    \n",
    "```\n",
    "Trial 91 Complete [00h 02m 47s]\n",
    "val_accuracy: 0.9670542478561401\n",
    "\n",
    "Best val_accuracy So Far: 0.994217038154602\n",
    "Total elapsed time: 00h 48m 44s\n",
    "INFO:tensorflow:Oracle triggered exit\n",
    "```"
   ]
  },
  {
   "cell_type": "code",
   "execution_count": 55,
   "id": "25f120ee",
   "metadata": {},
   "outputs": [
    {
     "name": "stdout",
     "output_type": "stream",
     "text": [
      "Model: \"sequential\"\n",
      "_________________________________________________________________\n",
      " Layer (type)                Output Shape              Param #   \n",
      "=================================================================\n",
      " conv2d (Conv2D)             (None, 32, 32, 32)        2432      \n",
      "                                                                 \n",
      " activation (Activation)     (None, 32, 32, 32)        0         \n",
      "                                                                 \n",
      " batch_normalization (BatchN  (None, 32, 32, 32)       128       \n",
      " ormalization)                                                   \n",
      "                                                                 \n",
      " max_pooling2d (MaxPooling2D  (None, 16, 16, 32)       0         \n",
      " )                                                               \n",
      "                                                                 \n",
      " conv2d_1 (Conv2D)           (None, 16, 16, 32)        25632     \n",
      "                                                                 \n",
      " activation_1 (Activation)   (None, 16, 16, 32)        0         \n",
      "                                                                 \n",
      " batch_normalization_1 (Batc  (None, 16, 16, 32)       128       \n",
      " hNormalization)                                                 \n",
      "                                                                 \n",
      " conv2d_2 (Conv2D)           (None, 16, 16, 40)        32040     \n",
      "                                                                 \n",
      " activation_2 (Activation)   (None, 16, 16, 40)        0         \n",
      "                                                                 \n",
      " batch_normalization_2 (Batc  (None, 16, 16, 40)       160       \n",
      " hNormalization)                                                 \n",
      "                                                                 \n",
      " average_pooling2d (AverageP  (None, 8, 8, 40)         0         \n",
      " ooling2D)                                                       \n",
      "                                                                 \n",
      " flatten (Flatten)           (None, 2560)              0         \n",
      "                                                                 \n",
      " dense (Dense)               (None, 288)               737568    \n",
      "                                                                 \n",
      " activation_3 (Activation)   (None, 288)               0         \n",
      "                                                                 \n",
      " batch_normalization_3 (Batc  (None, 288)              1152      \n",
      " hNormalization)                                                 \n",
      "                                                                 \n",
      " dropout (Dropout)           (None, 288)               0         \n",
      "                                                                 \n",
      " flatten_1 (Flatten)         (None, 288)               0         \n",
      "                                                                 \n",
      " dense_1 (Dense)             (None, 64)                18496     \n",
      "                                                                 \n",
      " activation_4 (Activation)   (None, 64)                0         \n",
      "                                                                 \n",
      " batch_normalization_4 (Batc  (None, 64)               256       \n",
      " hNormalization)                                                 \n",
      "                                                                 \n",
      " dropout_1 (Dropout)         (None, 64)                0         \n",
      "                                                                 \n",
      " dense_2 (Dense)             (None, 43)                2795      \n",
      "                                                                 \n",
      " activation_5 (Activation)   (None, 43)                0         \n",
      "                                                                 \n",
      "=================================================================\n",
      "Total params: 820,787\n",
      "Trainable params: 819,875\n",
      "Non-trainable params: 912\n",
      "_________________________________________________________________\n",
      "WARNING:tensorflow:Unresolved object in checkpoint: (root).train_tf_function\n",
      "WARNING:tensorflow:Unresolved object in checkpoint: (root).test_function\n",
      "WARNING:tensorflow:Unresolved object in checkpoint: (root).optimizer.iter\n",
      "WARNING:tensorflow:Unresolved object in checkpoint: (root).optimizer.beta_1\n",
      "WARNING:tensorflow:Unresolved object in checkpoint: (root).optimizer.beta_2\n",
      "WARNING:tensorflow:Unresolved object in checkpoint: (root).optimizer.decay\n",
      "WARNING:tensorflow:Unresolved object in checkpoint: (root).optimizer.learning_rate\n",
      "WARNING:tensorflow:A checkpoint was restored (e.g. tf.train.Checkpoint.restore or tf.keras.Model.load_weights) but not all checkpointed values were used. See above for specific issues. Use expect_partial() on the load status object, e.g. tf.train.Checkpoint.restore(...).expect_partial(), to silence these warnings, or use assert_consumed() to make the check explicit. See https://www.tensorflow.org/guide/checkpoint#loading_mechanics for details.\n",
      "None\n"
     ]
    }
   ],
   "source": [
    "print(tuner.get_best_models()[0].summary())"
   ]
  },
  {
   "cell_type": "code",
   "execution_count": 56,
   "id": "a4c13d53",
   "metadata": {},
   "outputs": [
    {
     "name": "stdout",
     "output_type": "stream",
     "text": [
      "{'conv_blocks': 3, 'filters_0': 32, 'pooling_0': 'max', 'filters_1': 32, 'pooling_1': '', 'filters_2': 40, 'pooling_2': 'avg', 'fully_connected': 2, 'units_0': 288, 'units_1': 64, 'learning_rate': 0.001, 'filters_3': 32, 'pooling_3': 'avg', 'filters_4': 56, 'pooling_4': '', 'units_2': 96, 'tuner/epochs': 10, 'tuner/initial_epoch': 4, 'tuner/bracket': 2, 'tuner/round': 1, 'tuner/trial_id': '839e8d6be0425798d8d348420567f2d9'}\n"
     ]
    }
   ],
   "source": [
    "print(tuner.get_best_hyperparameters(num_trials=1)[0].values)"
   ]
  },
  {
   "cell_type": "markdown",
   "id": "461d5588",
   "metadata": {},
   "source": [
    "### 4.2.2 Modelltraining\n",
    "Mit Hilfe der bestimmten Hyperparameter wird das CNN aufgebaut. Um das Modelltraining zu beschleunigen, wurde es ausgelagert. Das Modelltraining ist in Notebook: <a href=\"Modelltraining Schilder Klassifizierung.ipynb\">Modelltraining Schilder Klassifizierung.ipynb</a> zu finden.  \n",
    "Das Modell wird hier schematisch dargestellt:   \n",
    "<img src=\"./images/CNN_classification.png\">"
   ]
  },
  {
   "cell_type": "code",
   "execution_count": 57,
   "id": "1ca7841d",
   "metadata": {},
   "outputs": [],
   "source": [
    "class TrafficSignNetwork:\n",
    "    @staticmethod\n",
    "    def build(width, height, depth, classes):\n",
    "        model = Sequential()\n",
    "        inputShape = (height, width, depth)\n",
    "        \n",
    "        # first convolutional block\n",
    "        model.add(Conv2D(32, (5, 5), padding=\"same\",\n",
    "            input_shape=inputShape))\n",
    "        model.add(Activation(\"relu\"))\n",
    "        model.add(BatchNormalization())\n",
    "        model.add(MaxPooling2D(pool_size=(2, 2)))\n",
    "        \n",
    "        # second convolutional block\n",
    "        model.add(Conv2D(32, (5, 5), padding=\"same\"))\n",
    "        model.add(Activation(\"relu\"))\n",
    "        model.add(BatchNormalization())\n",
    "        \n",
    "        # third convolutional block\n",
    "        model.add(Conv2D(40, (5, 5), padding=\"same\"))\n",
    "        model.add(Activation(\"relu\"))\n",
    "        model.add(BatchNormalization())\n",
    "        model.add(AvgPool2D(pool_size=(2, 2)))\n",
    "        \n",
    "        # first fully connected\n",
    "        model.add(Flatten())\n",
    "        model.add(Dense(288))\n",
    "        model.add(Activation(\"relu\"))\n",
    "        model.add(BatchNormalization())\n",
    "        model.add(Dropout(0.5))\n",
    "        \n",
    "        # second fully connected\n",
    "        model.add(Flatten())\n",
    "        model.add(Dense(64))\n",
    "        model.add(Activation(\"relu\"))\n",
    "        model.add(BatchNormalization())\n",
    "        model.add(Dropout(0.5))\n",
    "        \n",
    "        # softmax classifier\n",
    "        model.add(Dense(classes))\n",
    "        model.add(Activation(\"softmax\"))\n",
    "        \n",
    "        return model"
   ]
  },
  {
   "cell_type": "markdown",
   "id": "a8bcc820",
   "metadata": {},
   "source": [
    "Die Gewichte des bereits trainierten Modells werden eingeladen."
   ]
  },
  {
   "cell_type": "code",
   "execution_count": 58,
   "id": "be5c0e2e",
   "metadata": {},
   "outputs": [],
   "source": [
    "INIT_LR = 0.001\n",
    "\n",
    "opt = Adam(learning_rate=INIT_LR)\n",
    "model_classification = TrafficSignNetwork.build(width=32, height=32, depth=3, classes=43)\n",
    "# Umsetzung der Empfehlung, die logit-Variante vorzuziehen\n",
    "model_classification.compile(loss=tf.keras.losses.CategoricalCrossentropy(from_logits=True), optimizer=opt, metrics=[\"accuracy\"])\n",
    "model_classification.load_weights(\"./models/fin_model_15ep.h5\")"
   ]
  },
  {
   "cell_type": "markdown",
   "id": "551b2b1e",
   "metadata": {},
   "source": [
    "## 4.3 Evaluation\n",
    "\n",
    "### 4.3.1 Entwicklung der Ergebnisse\n",
    "    \n",
    "Im Laufe der Entwicklung dieses Projekts wurden mehrere Modelle trainiert. Diese sind hier nicht mehr dargestellt, daher werden folgend \"lessons learned\" bezüglich des Modelltrainings beschrieben.  \n",
    "\n",
    "Grundsätzlich variierte die Leistung eines trainierten Modells, abhängig von der ausführenden Umgebung. Dies bedeutet, dass für die gleichen Trainingsdaten stark unterschiedliche Modelle trainiert wurden. Auf einem System, auf welchem mit CPU trainiert wurde, waren starke Schwankungen der Loss-Funktion und Accuracy während des Trainings zu erkennen. Auf einem System mit GPU hingegen verlief das Training meist schwankungsfrei bzw. mit geringen Abweichungen. Die beistehenden Abbildungen verdeutlichen dieses Phänomen.  \n",
    "Eine richtige \"Lösung\" wurde nicht gefunden, allerdings half das Setzen eines ```tf.random.set_seed(1234)``` vor der Initiierung der Gewichte im Modell, die Schwankungen einzuschränken, die bei der Modelltrainierung auf einem System stattfanden.  \n",
    "Systemübergreifend scheint eine Erklärung plausibel, die die <a href=\"https://stackoverflow.com/a/43264395/13775178\">numerische Stabilität (Link führt auf einen Stackoverflow-Eintrag)</a> behandelt. Auf einer GPU können parallel deutlich mehr Aufgaben ausgeführt werden, als auf einer CPU. Dadurch könnten die großen Differenzen entstehen.  \n",
    "\n",
    "**10 Epochen GPU Modelltraining:**\n",
    "<img src=\"./images/GPU-10ep.png\" alt=\"GPU Modelltraining 10 Epochen\" width=\"750\" height=\"600\">\n",
    "\n",
    "**10 Epochen CPU Modelltraining:**\n",
    "<img src=\"./images/CPU-10ep.png\" alt=\"CPU Modelltraining 10 Epochen\" width=\"750\" height=\"600\">\n",
    "\n",
    "Als initiales Modell kam ein neuronales Netz aus einem Artikel zur Klassifizierung von Straßenschildern zum Einsatz (<a href=\"https://pyimagesearch.com/2019/11/04/traffic-sign-classification-with-keras-and-deep-learning/\">2019, Adrian Rosebrock</a>).\n",
    "Zu Beginn der Ausarbeitung wurde eine geringe Anzahl an convolutional-Blöcken (weniger als drei) und eine hohen Epochenanzahl verwendet. Dabei kam es nach ca 15-20 Epochen zu starkem Overfitting. Die Modell-Accuracy auf den Validierungsdaten lag im Bereich 80-95% und tiefer (Overfitting).  \n",
    "Daher wurde ein keras_tuner Lauf durchgeführt, welcher verschiedene Modelle trainiert und miteinander vergleicht (Beschreibung siehe CNN/Klassifizierung). Beim Training des besten Modells stellte sich heraus, dass auch hier sehr schnell Overfitting stattfindet (nach 15-20 Epochen). Allerdings befindet sich die Accuracy auf den Validierungsdaten nun im Bereich >99%. Eine Evaluierung auf den Testdaten muss diese Zahl noch bestätigen."
   ]
  },
  {
   "cell_type": "code",
   "execution_count": 59,
   "id": "bd884c9a",
   "metadata": {},
   "outputs": [
    {
     "name": "stderr",
     "output_type": "stream",
     "text": [
      "/home/soeren/anaconda3/envs/ml/lib/python3.10/site-packages/tensorflow/python/util/dispatch.py:1096: UserWarning: \"`categorical_crossentropy` received `from_logits=True`, but the `output` argument was produced by a sigmoid or softmax activation and thus does not represent logits. Was this intended?\"\n",
      "  return dispatch_target(*args, **kwargs)\n"
     ]
    },
    {
     "name": "stdout",
     "output_type": "stream",
     "text": [
      "1008/1008 [==============================] - 25s 25ms/step - loss: 0.0218 - accuracy: 0.9939\n"
     ]
    },
    {
     "data": {
      "text/plain": [
       "[0.02182062342762947, 0.9939224720001221]"
      ]
     },
     "execution_count": 59,
     "metadata": {},
     "output_type": "execute_result"
    }
   ],
   "source": [
    "model_classification.evaluate(X_test, y_test)"
   ]
  },
  {
   "cell_type": "markdown",
   "id": "bf28634c",
   "metadata": {},
   "source": [
    "Die Evaluation bestätigt das vorläufige Ergebnis und stellt mit 99.4% eine absolut zufriedenstellende Accuracy dar. In einer Reihe weiterer Darstellungen wird die Leistung des Modells weiter abgebildet.  \n",
    "Um mit den Vorhersagen weiter arbeiten zu können, müssen diese auf Basis der Testdaten erst noch bestimmt werden."
   ]
  },
  {
   "cell_type": "code",
   "execution_count": 60,
   "id": "800c6722",
   "metadata": {},
   "outputs": [],
   "source": [
    "preds = model_classification.predict(X_test)\n",
    "preds = tf.argmax(preds, axis=1)"
   ]
  },
  {
   "cell_type": "markdown",
   "id": "d6a9ba6e",
   "metadata": {
    "tags": []
   },
   "source": [
    "### 4.3.2 Konfusionsmatrix\n",
    "Mit Hilfe einer Konfusionsmatrix kann visuell die Leistung des Modells bestimmt werden. Hier wird sie auf die Vorhersage der Testdaten angewendet. Bei der Nutzung von 43 Klassen ist diese Darstellung schwierig, bzw. sind die einzelnen Zahlen sehr schlecht zu erkennen. Die Farben ergeben allerdings ein gutes Bild über die Verteilung.  "
   ]
  },
  {
   "cell_type": "code",
   "execution_count": 61,
   "id": "da064937",
   "metadata": {},
   "outputs": [
    {
     "data": {
      "image/png": "[encoded data removed]",
      "text/plain": [
       "<Figure size 1440x1080 with 2 Axes>"
      ]
     },
     "metadata": {
      "needs_background": "light"
     },
     "output_type": "display_data"
    }
   ],
   "source": [
    "# Aufbau + Plot der Confusion Matrix\n",
    "cm = confusion_matrix(tf.argmax(y_test, axis=1).numpy(), preds.numpy())  \n",
    "plot_confusion_matrix(cm, tuple(classes))"
   ]
  },
  {
   "cell_type": "markdown",
   "id": "f8e05854",
   "metadata": {},
   "source": [
    "Es ist deutlich erkennbar, dass die Diagonale (korrekte Klassifizierungen) farblich sehr deutlich markiert ist, während alle anderen Zellen (falsche Klassifizierungen) auf Basis ihrer Farbe im Bereich 0 liegen.\n",
    "### 4.3.3 Darstellung falscher Klassifizierungen"
   ]
  },
  {
   "cell_type": "code",
   "execution_count": 62,
   "id": "43721884",
   "metadata": {},
   "outputs": [
    {
     "name": "stdout",
     "output_type": "stream",
     "text": [
      "Falsche Vorhersagen: 196 von: 32250\n"
     ]
    }
   ],
   "source": [
    "wrong_preds = preds.numpy() !=  tf.argmax(y_test, axis=1).numpy()\n",
    "wrong_preds_index = np.where(wrong_preds == True)\n",
    "print(\"Falsche Vorhersagen:\", len(wrong_preds_index[0]), \"von:\", len(preds.numpy()))"
   ]
  },
  {
   "cell_type": "code",
   "execution_count": 63,
   "id": "8c401bf9",
   "metadata": {},
   "outputs": [
    {
     "data": {
      "image/png": "[encoded data removed]",
      "text/plain": [
       "<Figure size 432x288 with 1 Axes>"
      ]
     },
     "metadata": {
      "needs_background": "light"
     },
     "output_type": "display_data"
    }
   ],
   "source": [
    "right_labels = tf.argmax(y_test, axis=1)\n",
    "right_labels = np.array(right_labels)\n",
    "right_labels = right_labels[wrong_preds_index]\n",
    "\n",
    "wrong_predictions = np.array(preds)\n",
    "wrong_predictions = wrong_predictions[wrong_preds_index]\n",
    "\n",
    "wrong_predicted_images = X_test[wrong_preds_index]\n",
    "\n",
    "# labels = range(0,43)\n",
    "plt.hist(wrong_predictions, bins=43, rwidth=0.7)\n",
    "plt.title(\"Falsche Klassifizierungen\")\n",
    "plt.ylabel(\"Anzahl Fehlklassifizierungen\")\n",
    "plt.xlabel(\"Klasse\")\n",
    "plt.show()"
   ]
  },
  {
   "cell_type": "markdown",
   "id": "14352646",
   "metadata": {},
   "source": [
    "Durch die Abbildung wird deutlich, dass einige Klassen öfter falsch klassifiziert werden als andere. Nichts desto trotz sind diese Zahlen auf einem sehr geringen Niveau (32250 Testdaten insgesamt, davon 196 Fehlklassifizierungen).  \n",
    "Nachfolgend soll herausgefunden werden, welche diese Klassen sind, die von der Gesamtheit der Testdaten häufiger falsch klassifiziert werden."
   ]
  },
  {
   "cell_type": "code",
   "execution_count": 64,
   "id": "5074c070",
   "metadata": {},
   "outputs": [
    {
     "data": {
      "text/plain": [
       "[3, 5, 21, 26, 7]"
      ]
     },
     "execution_count": 64,
     "metadata": {},
     "output_type": "execute_result"
    }
   ],
   "source": [
    "# die 5 am meisten fehlklassifizierten Klassen\n",
    "list_wrong_preds = list(wrong_predictions)\n",
    "most_wrongs = []\n",
    "def most_common(lst):\n",
    "    return max(set(lst), key=lst.count)\n",
    "\n",
    "for i in range(0, 5):\n",
    "    classid = most_common(list_wrong_preds)\n",
    "    try:\n",
    "        while True:\n",
    "            list_wrong_preds.remove(classid)\n",
    "    except ValueError:\n",
    "        pass\n",
    "    most_wrongs.append(classid)\n",
    "most_wrongs"
   ]
  },
  {
   "cell_type": "code",
   "execution_count": 65,
   "id": "066f0593",
   "metadata": {},
   "outputs": [
    {
     "name": "stdout",
     "output_type": "stream",
     "text": [
      "Geschwindigkeitsbegrenzung (60km/h)\n",
      "Geschwindigkeitsbegrenzung (80km/h)\n",
      "Doppelkurve\n",
      "Lichtzeichenanlage\n",
      "Geschwindigkeitsbegrenzung (100km/h)\n"
     ]
    }
   ],
   "source": [
    "for element in most_wrongs:\n",
    "    print(classes[element])"
   ]
  },
  {
   "cell_type": "markdown",
   "id": "671e894b",
   "metadata": {},
   "source": [
    "Es ist erkennbar, dass Geschwindigkeitsbegrenzungen 3 von 5 mal in der Liste vorkommen. Dies kann sehr gut sein, denn die Geschwindigkeitsbegrenzungen sehen sich sehr teils ähnlich (60, 80, 100). Dadurch könnten sie den jeweils anderen Klassen zugeordnet werden.  \n",
    "Auf Grund der geringen absoluten Anzahl der Fehlklassifizierungen werden keine weiteren Maßnahmen ergriffen, dieses \"Problem\" anzugreifen. Es ist schlicht uns schlicht kein Ansatz bekannt, womit die Ziffern auf Geschwindigkeitsbegrenzungen besser unterschieden werden können."
   ]
  },
  {
   "cell_type": "markdown",
   "id": "303d65ba",
   "metadata": {},
   "source": [
    "# 5. Verbindung der Objekterkennung und Klassifizierung\n",
    "## 5.1 Anwendung der Modelle auf Bilder aus dem Straßenverkehr\n",
    "In einem letzten Schritt soll die Zusammenarbeit zwischen Objekterkennung und Klassifizierung getestet werden. Dafür haben wir einen Datensatz benutzt, welcher 900 reale Bilder aus dem Straßenverkehr verwendet. Dieser wurde von den Erstellern des Datensatzes gelabelt (Bounding Box und Klasse).  \n",
    "Die Datenstruktur stimmt mit der aus dem Trainingsdatensatz überein, sprich es sind 43 Klassen vorhanden, die Klassenbezeichnungen stimmen mit dem Trainingsdatensatz überein.  "
   ]
  },
  {
   "cell_type": "code",
   "execution_count": 66,
   "id": "da056ed2",
   "metadata": {},
   "outputs": [
    {
     "data": {
      "text/html": [
       "<div>\n",
       "<style scoped>\n",
       "    .dataframe tbody tr th:only-of-type {\n",
       "        vertical-align: middle;\n",
       "    }\n",
       "\n",
       "    .dataframe tbody tr th {\n",
       "        vertical-align: top;\n",
       "    }\n",
       "\n",
       "    .dataframe thead th {\n",
       "        text-align: right;\n",
       "    }\n",
       "</style>\n",
       "<table border=\"1\" class=\"dataframe\">\n",
       "  <thead>\n",
       "    <tr style=\"text-align: right;\">\n",
       "      <th></th>\n",
       "      <th>Filename</th>\n",
       "      <th>Roi.X1</th>\n",
       "      <th>Roi.Y1</th>\n",
       "      <th>Roi.X2</th>\n",
       "      <th>Roi.Y2</th>\n",
       "      <th>ClassId</th>\n",
       "    </tr>\n",
       "  </thead>\n",
       "  <tbody>\n",
       "    <tr>\n",
       "      <th>0</th>\n",
       "      <td>00000.ppm</td>\n",
       "      <td>774</td>\n",
       "      <td>411</td>\n",
       "      <td>815</td>\n",
       "      <td>446</td>\n",
       "      <td>11</td>\n",
       "    </tr>\n",
       "    <tr>\n",
       "      <th>1</th>\n",
       "      <td>00001.ppm</td>\n",
       "      <td>983</td>\n",
       "      <td>388</td>\n",
       "      <td>1024</td>\n",
       "      <td>432</td>\n",
       "      <td>40</td>\n",
       "    </tr>\n",
       "    <tr>\n",
       "      <th>2</th>\n",
       "      <td>00001.ppm</td>\n",
       "      <td>386</td>\n",
       "      <td>494</td>\n",
       "      <td>442</td>\n",
       "      <td>552</td>\n",
       "      <td>38</td>\n",
       "    </tr>\n",
       "    <tr>\n",
       "      <th>3</th>\n",
       "      <td>00001.ppm</td>\n",
       "      <td>973</td>\n",
       "      <td>335</td>\n",
       "      <td>1031</td>\n",
       "      <td>390</td>\n",
       "      <td>13</td>\n",
       "    </tr>\n",
       "    <tr>\n",
       "      <th>4</th>\n",
       "      <td>00002.ppm</td>\n",
       "      <td>892</td>\n",
       "      <td>476</td>\n",
       "      <td>1006</td>\n",
       "      <td>592</td>\n",
       "      <td>39</td>\n",
       "    </tr>\n",
       "    <tr>\n",
       "      <th>...</th>\n",
       "      <td>...</td>\n",
       "      <td>...</td>\n",
       "      <td>...</td>\n",
       "      <td>...</td>\n",
       "      <td>...</td>\n",
       "      <td>...</td>\n",
       "    </tr>\n",
       "    <tr>\n",
       "      <th>1208</th>\n",
       "      <td>00896.ppm</td>\n",
       "      <td>808</td>\n",
       "      <td>412</td>\n",
       "      <td>846</td>\n",
       "      <td>450</td>\n",
       "      <td>15</td>\n",
       "    </tr>\n",
       "    <tr>\n",
       "      <th>1209</th>\n",
       "      <td>00897.ppm</td>\n",
       "      <td>804</td>\n",
       "      <td>526</td>\n",
       "      <td>828</td>\n",
       "      <td>550</td>\n",
       "      <td>42</td>\n",
       "    </tr>\n",
       "    <tr>\n",
       "      <th>1210</th>\n",
       "      <td>00898.ppm</td>\n",
       "      <td>323</td>\n",
       "      <td>504</td>\n",
       "      <td>355</td>\n",
       "      <td>536</td>\n",
       "      <td>4</td>\n",
       "    </tr>\n",
       "    <tr>\n",
       "      <th>1211</th>\n",
       "      <td>00898.ppm</td>\n",
       "      <td>817</td>\n",
       "      <td>510</td>\n",
       "      <td>849</td>\n",
       "      <td>542</td>\n",
       "      <td>4</td>\n",
       "    </tr>\n",
       "    <tr>\n",
       "      <th>1212</th>\n",
       "      <td>00899.ppm</td>\n",
       "      <td>864</td>\n",
       "      <td>484</td>\n",
       "      <td>921</td>\n",
       "      <td>534</td>\n",
       "      <td>24</td>\n",
       "    </tr>\n",
       "  </tbody>\n",
       "</table>\n",
       "<p>1213 rows × 6 columns</p>\n",
       "</div>"
      ],
      "text/plain": [
       "       Filename  Roi.X1  Roi.Y1  Roi.X2  Roi.Y2  ClassId\n",
       "0     00000.ppm     774     411     815     446       11\n",
       "1     00001.ppm     983     388    1024     432       40\n",
       "2     00001.ppm     386     494     442     552       38\n",
       "3     00001.ppm     973     335    1031     390       13\n",
       "4     00002.ppm     892     476    1006     592       39\n",
       "...         ...     ...     ...     ...     ...      ...\n",
       "1208  00896.ppm     808     412     846     450       15\n",
       "1209  00897.ppm     804     526     828     550       42\n",
       "1210  00898.ppm     323     504     355     536        4\n",
       "1211  00898.ppm     817     510     849     542        4\n",
       "1212  00899.ppm     864     484     921     534       24\n",
       "\n",
       "[1213 rows x 6 columns]"
      ]
     },
     "execution_count": 66,
     "metadata": {},
     "output_type": "execute_result"
    }
   ],
   "source": [
    "reader = Reader()\n",
    "df_test = reader.read_test_data_to_df(pre_path=\"./test_data/\")\n",
    "df_test"
   ]
  },
  {
   "cell_type": "markdown",
   "id": "ede3e3ff",
   "metadata": {},
   "source": [
    "Die Anzahl der Zeilen lässt darauf schließen, dass die Test-Bilder über mehrere Klassen verfügen können. In den Zeilen 1-3 des DataFrame ist dies auch zu erkennen.\n",
    "## 5.2 Ablauf\n",
    "Zuerst sollen Bounding Boxes durch das Objekterkennungsmodell bestimmt werden. Im Abschluss übergibt dieser Arbeitschritt die Bilder und Bounding Boxes an die Schilderklassifizierung weiter. Die Accuracy der Vorhersagen kann mit denen verglichen werden, die das Modell anhand der \"originalen\" Bounding Boxes erreicht. So ist die Leistung der gesamten Kette messbar."
   ]
  },
  {
   "cell_type": "code",
   "execution_count": 67,
   "id": "c4e8bf9a",
   "metadata": {
    "tags": []
   },
   "outputs": [
    {
     "name": "stdout",
     "output_type": "stream",
     "text": [
      "Iterated through 250 signs\n",
      "Iterated through 500 signs\n",
      "Iterated through 750 signs\n",
      "Iterated through 1000 signs\n",
      "Iterated through all signs\n"
     ]
    }
   ],
   "source": [
    "test_data_with_cut_bb = []\n",
    "test_labels = []\n",
    "test_data_full_img=[]\n",
    "test_labels_bb = []\n",
    "folder = r\"./test_data/\"\n",
    "for index, row in df_test.iterrows(): \n",
    "    if index>0 and index%250 == 0:\n",
    "        print(\"Iterated through\", index, \"signs\")\n",
    "    elif index+1 == len(df_test):\n",
    "        print(\"Iterated through all signs\")\n",
    "\n",
    "    x = row[\"Roi.X1\"]\n",
    "    y = row[\"Roi.Y1\"]\n",
    "    h = row[\"Roi.Y2\"]-row[\"Roi.Y1\"]\n",
    "    w = row[\"Roi.X2\"]-row[\"Roi.X1\"]\n",
    "    \n",
    "    \n",
    "    img = Reader().read_preprocess_img_without_bounding(folder+row[\"Filename\"], (180,100))\n",
    "    img_h = 800 #all images have same size\n",
    "    img_w = 1360\n",
    "    x1 = row[\"Roi.X1\"]/img_w\n",
    "    y1 = row[\"Roi.Y1\"]/img_h\n",
    "    x2 = row[\"Roi.X2\"]/img_w\n",
    "    y2 = row[\"Roi.Y2\"]/img_h\n",
    "    test_data_full_img.append(img)\n",
    "    test_data_with_cut_bb.append(Reader().read_preprocess_img(folder+row[\"Filename\"], (32,32), x, y, h, w))\n",
    "    test_labels.append(int(row[\"ClassId\"]))\n",
    "    test_labels_bb.append((x1,y1,x2,y2))\n",
    "test_data_full_img = np.array(test_data_full_img)\n",
    "test_data_with_cut_bb = np.array(test_data_with_cut_bb)\n",
    "test_labels = np.array(test_labels)\n",
    "test_labels_bb = np.array(test_labels_bb)"
   ]
  },
  {
   "cell_type": "code",
   "execution_count": 68,
   "id": "ea62a14e-e518-4f98-b7de-12f267efd544",
   "metadata": {},
   "outputs": [],
   "source": [
    "#for image, bounding in zip(test_data_full_img[0], test_labels_bb):\n",
    "#    show_bounding_box(image, bounding)\n",
    "#cv2.destroyAllWindows()"
   ]
  },
  {
   "cell_type": "markdown",
   "id": "8336d18a-4751-49f0-bd50-a6d2ecfb96fa",
   "metadata": {},
   "source": [
    "Beispiel Bild aus Datensatz inklusive Bounding Box:\n",
    "<img src=\"./images/testdata1.png\">"
   ]
  },
  {
   "cell_type": "markdown",
   "id": "5df2fb78",
   "metadata": {
    "tags": []
   },
   "source": [
    "## 5.3 Vorhersage der Bounding Boxes"
   ]
  },
  {
   "cell_type": "markdown",
   "id": "49c4bb50-cbe5-4e6d-a66c-7cc9144329e7",
   "metadata": {},
   "source": [
    "Für das Vorhersagen der Bounding Boxen soll das Regressionsmodell aus Kapitel 3.1 verwendet werden. Dieses kann einzelne Schilder in Bildern detektieren. Allerdings wurde es mit syntetischen Daten, bestehend aus den vorgegebenen Verkehrsschildern und beliebigen Hintergrundbildern, trainiert."
   ]
  },
  {
   "cell_type": "code",
   "execution_count": 69,
   "id": "4f59a71e-a3dd-43c8-9b60-7dcd904caf13",
   "metadata": {},
   "outputs": [],
   "source": [
    "model_detect = load_model(r\"models/regr_1signs_2.pickle\")"
   ]
  },
  {
   "cell_type": "markdown",
   "id": "94497fb4-13c5-4664-a061-f5c1689364dd",
   "metadata": {},
   "source": [
    "Zum Messen der Performance des Modells wird erneut die Intersection over Union Metrik angewendet. "
   ]
  },
  {
   "cell_type": "code",
   "execution_count": 70,
   "id": "6e8e3bd9-3bc1-440c-97f0-127730861d65",
   "metadata": {},
   "outputs": [],
   "source": [
    "preds = model_detect.predict(test_data_full_img)\n",
    "\n",
    "ious = []\n",
    "for y_actual, y_pred in zip(test_labels_bb, preds):\n",
    "    ious.append(intersectionOverUnion(y_actual,y_pred))"
   ]
  },
  {
   "cell_type": "code",
   "execution_count": 71,
   "id": "84d2f6c5-57fa-40c6-afd5-e1b07fc4b873",
   "metadata": {},
   "outputs": [
    {
     "data": {
      "image/png": "[encoded data removed]",
      "text/plain": [
       "<Figure size 432x288 with 1 Axes>"
      ]
     },
     "metadata": {
      "needs_background": "light"
     },
     "output_type": "display_data"
    }
   ],
   "source": [
    "plt.hist(ious)\n",
    "plt.title(\"Histogramm über IoU Werte\")\n",
    "plt.ylabel(\"Anzahl Boundingboxen\")\n",
    "plt.xlabel(\"Intersection over Union\")\n",
    "plt.show()"
   ]
  },
  {
   "cell_type": "code",
   "execution_count": 72,
   "id": "286d9e52-10df-48d3-b303-651647cd54b9",
   "metadata": {},
   "outputs": [
    {
     "data": {
      "text/plain": [
       "0.010233964503062088"
      ]
     },
     "execution_count": 72,
     "metadata": {},
     "output_type": "execute_result"
    }
   ],
   "source": [
    "np.mean(ious)"
   ]
  },
  {
   "cell_type": "markdown",
   "id": "8d1d6988-4ab7-420b-88cf-7f03370b11f7",
   "metadata": {},
   "source": [
    "Am Histogramm und am Durchschnittswert der IoU lässt sich gut erkennen, dass nahezu keine Schilder korrekt lokalisiert wurden. Grund dafür ist, dass das Training des Modells auschließlich auf synthetischen Daten basiert und daher keine Schilder auf realen Bildern erkennen kann.  \n",
    "Es ist zu erwarten, dass die Klassifizierung auf den vorhergesagten Bounding Boxen kein gutes Ergebnis liefern kann. Der Vollständigkeit halber wird es trotzdem durchgeführt. "
   ]
  },
  {
   "cell_type": "code",
   "execution_count": 73,
   "id": "f7e36842-ef29-4075-9010-a2db5567120f",
   "metadata": {},
   "outputs": [],
   "source": [
    "predicted_bb = model_detect.predict(test_data_full_img)\n",
    "test_data_with_predicted_cut_bb = []\n",
    "test_labels_pred_bb = []\n",
    "\n",
    "for img, bb, label in zip(test_data_full_img, predicted_bb, test_labels):\n",
    "    h, w = img.shape[:2]\n",
    "    p_x1 = int(bb[0] * w)\n",
    "    p_y1 = int(bb[1] * h)\n",
    "    p_x2 = int(bb[2] * w)\n",
    "    p_y2 = int(bb[3] * h)\n",
    "    cut_img = img[p_y1:p_y2,p_x1:p_x2]\n",
    "    if cut_img.size > 0:\n",
    "        test_data_with_predicted_cut_bb.append(cv2.resize(cut_img, (32,32)))\n",
    "        test_labels_pred_bb.append(label)"
   ]
  },
  {
   "cell_type": "markdown",
   "id": "866f1ea1",
   "metadata": {
    "tags": []
   },
   "source": [
    "## 5.4 Vorhersage Klassen auf Basis der bestimmten Bounding Boxes"
   ]
  },
  {
   "cell_type": "code",
   "execution_count": 74,
   "id": "b372ae4c",
   "metadata": {
    "tags": []
   },
   "outputs": [
    {
     "name": "stdout",
     "output_type": "stream",
     "text": [
      "1213\n",
      "1213\n"
     ]
    }
   ],
   "source": [
    "test_data_with_predicted_cut_bb = np.array(test_data_with_predicted_cut_bb)\n",
    "test_labels_bb = np.array(test_labels_pred_bb)\n",
    "\n",
    "print(len(test_data_with_predicted_cut_bb))\n",
    "print(len(test_labels_pred_bb))\n",
    "#test_data_with_cut_bb\n",
    "#test_labels_pred_bb"
   ]
  },
  {
   "cell_type": "code",
   "execution_count": 75,
   "id": "fc808d34",
   "metadata": {},
   "outputs": [],
   "source": [
    "# Scale images to [0,1]\n",
    "test_data_with_predicted_cut_bb = test_data_with_predicted_cut_bb.astype(\"float32\")/255.0\n",
    "\n",
    "# One-Hot Encoding (without dropping one column)\n",
    "test_labels_bb = to_categorical(test_labels_bb, 43)"
   ]
  },
  {
   "cell_type": "code",
   "execution_count": 76,
   "id": "9a83cfef",
   "metadata": {},
   "outputs": [
    {
     "name": "stdout",
     "output_type": "stream",
     "text": [
      "38/38 [==============================] - 1s 20ms/step - loss: 8.2031 - accuracy: 0.0379\n"
     ]
    },
    {
     "data": {
      "text/plain": [
       "[8.203070640563965, 0.03792250528931618]"
      ]
     },
     "execution_count": 76,
     "metadata": {},
     "output_type": "execute_result"
    }
   ],
   "source": [
    "model_classification.evaluate(test_data_with_predicted_cut_bb, test_labels_bb)"
   ]
  },
  {
   "cell_type": "code",
   "execution_count": 77,
   "id": "ed0df41b",
   "metadata": {},
   "outputs": [
    {
     "data": {
      "image/png": "[encoded data removed]",
      "text/plain": [
       "<Figure size 1440x1080 with 2 Axes>"
      ]
     },
     "metadata": {
      "needs_background": "light"
     },
     "output_type": "display_data"
    }
   ],
   "source": [
    "preds = model_classification.predict(test_data_with_predicted_cut_bb)\n",
    "preds = tf.argmax(preds, axis=1)\n",
    "\n",
    "# Aufbau + Plot der Confusion Matrix\n",
    "cm = confusion_matrix(tf.argmax(test_labels_bb, axis=1).numpy(), preds.numpy())  \n",
    "plot_confusion_matrix(cm, tuple(classes))"
   ]
  },
  {
   "cell_type": "markdown",
   "id": "96351a0b-17fc-4bae-9429-82b5961869c5",
   "metadata": {},
   "source": [
    "Wie erwartet, liefert die Klassifizierung der durch das Regressionsmodell bestimmten Bounding Boxen kein zufriedenstellendes Ergebnis."
   ]
  },
  {
   "cell_type": "markdown",
   "id": "a602c6ce",
   "metadata": {
    "tags": []
   },
   "source": [
    "## 5.5 Vergleich Objekterkennung + Klassenbestimmung vs. Klassenbestimmung\n",
    "Nachdem die Leistung des Gesamtsystems (Bounding-Box Erkennung und Klassifizierung) bestimmt wurde, soll die Klassifikation allein auf die Testdaten angewendet werden.  \n",
    "Das Einlesen der zugeschnittenen Schilder hat bereits stattgefunden, die Daten müssen nun passend für das Modell vorbereitet werden (Skalierung, One-Hot-Encoding). Anschließend findet die Evaluierung statt. "
   ]
  },
  {
   "cell_type": "code",
   "execution_count": 78,
   "id": "4353f3a2-8041-4ae7-b204-f1feb3cc87f9",
   "metadata": {},
   "outputs": [
    {
     "name": "stdout",
     "output_type": "stream",
     "text": [
      "38/38 [==============================] - 1s 20ms/step - loss: 0.0488 - accuracy: 0.9901\n"
     ]
    },
    {
     "data": {
      "text/plain": [
       "[0.04882698506116867, 0.9901071786880493]"
      ]
     },
     "execution_count": 78,
     "metadata": {},
     "output_type": "execute_result"
    }
   ],
   "source": [
    "# Scale images to [0,1]\n",
    "test_data_with_cut_bb = test_data_with_cut_bb.astype(\"float32\")/255.0\n",
    "\n",
    "# One-Hot Encoding (without dropping one column)\n",
    "test_labels_classification = to_categorical(test_labels, 43)\n",
    "\n",
    "# Evaluation\n",
    "model_classification.evaluate(test_data_with_cut_bb, test_labels_classification)"
   ]
  },
  {
   "cell_type": "markdown",
   "id": "372fef23",
   "metadata": {},
   "source": [
    "Es kann eine Genauigkeit von 99% auf den neuen Daten erreicht werden, wenn die Bounding Box bereits bekannt ist.  \n",
    "Dies bestätigt die dargestellte Leistung im Training. "
   ]
  },
  {
   "cell_type": "code",
   "execution_count": 79,
   "id": "621d99a8",
   "metadata": {},
   "outputs": [
    {
     "data": {
      "image/png": "[encoded data removed]",
      "text/plain": [
       "<Figure size 1440x1080 with 2 Axes>"
      ]
     },
     "metadata": {
      "needs_background": "light"
     },
     "output_type": "display_data"
    }
   ],
   "source": [
    "preds = model_classification.predict(test_data_with_cut_bb)\n",
    "preds = tf.argmax(preds, axis=1)\n",
    "\n",
    "# Aufbau + Plot der Confusion Matrix\n",
    "cm = confusion_matrix(tf.argmax(test_labels_classification, axis=1).numpy(), preds.numpy())  \n",
    "plot_confusion_matrix(cm, tuple(classes))"
   ]
  },
  {
   "cell_type": "markdown",
   "id": "ec45ab93",
   "metadata": {},
   "source": [
    "Die Konfusionsmatrix bestätigt die vorhergehende Evaluation. Es sind fast ausschließlich Einträge in der Diagonalen zu finden. Beim Vergleich mit der Konfusionsmatrix aus dem kombinierten Test (BB-Erkennung und Klassifizierung) werden die Unterschiede in der Performance besonders deutlich."
   ]
  },
  {
   "cell_type": "markdown",
   "id": "eaed698c",
   "metadata": {},
   "source": [
    "# 6. Fazit und Ausblick\n",
    "Es wurde ein Ansatz beschrieben, wie eine Objekterkennung und Klassifizierung im Bereich Verkehrsschilder stattfinden kann.  \n",
    "Die Klassifizierung an sich liefert sehr zufriedenstellende Ergebnisse. Dabei spielte zum einen die Datenvorbereitung (Kontrastanpassung und Augmentieren) als auch die Modellauswahl eine bedeutende Rolle.  \n",
    "Die Objekterkennung kann in der Anwendung auf reale Daten keine überragenden Vorhersagen treffen. Durch die Generierung von synthetischen Daten leidet die Genauigkeit bei den Vorhersagen bei Bildern aus realen Umgebungen. Es ist festzuhalten, dass der originale Datensatz für das Training der Objekterkennung hochgradig ungeeignet ist. Dies wurde an den geeigneten Stellen bereits beschrieben.  \n",
    "Aus diesem Grund liefern die Vorhersagen der gesamten Kette (Objekterkennung und Klassifizierung) keine guten Genauigkeiten. Wie bereits angesprochen lag dies am Training mit synthetischen Daten und anschließendem Testen auf realen Bildern mit Verkehrszeichen. Selbst mit anderen Ansätzen wären in jedem Fall die synthetischen Daten der limitierende Faktor des Gesamtsystems.  \n",
    "**Wir kommen daher zu der Einschätzung, dass die Aufgabenstellung mit den gegebenen Daten nicht zufriedenstellend lösbar ist.**  \n",
    "\n",
    "Bei erneuter Bearbeitung oder mehr Zeit und anderen Daten als Grundlage hätte der Ansatz eines R-CNN verfolgt werden können, um die Aufgabe besser lösen zu können. Weiterhin ist das \"YOLO\"-Framework interessant, da es vorgibt, Objekterkennung und Klassifizierung in Echtzeit zu schaffen. Diesen Ansatz haben wir auch verfolgt. Ergebnisse und die Dokumentation sind <a href=\"YOLOv5.ipynb\">im Notebook zu Yolo zu finden</a>."
   ]
  }
 ],
 "metadata": {
  "kernelspec": {
   "display_name": "Python 3",
   "language": "python",
   "name": "python3"
  },
  "language_info": {
   "codemirror_mode": {
    "name": "ipython",
    "version": 3
   },
   "file_extension": ".py",
   "mimetype": "text/x-python",
   "name": "python",
   "nbconvert_exporter": "python",
   "pygments_lexer": "ipython3",
   "version": "3.8.8"
  }
 },
 "nbformat": 4,
 "nbformat_minor": 5
}
