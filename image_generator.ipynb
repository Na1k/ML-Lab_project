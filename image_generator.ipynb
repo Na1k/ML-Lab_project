{
 "cells": [
  {
   "cell_type": "markdown",
   "id": "21462ba2-8039-4a98-867d-608f3ab6c4bc",
   "metadata": {},
   "source": [
    "## Bearbeiter\n",
    "**TINF19-IT2**  \n",
    "Patrick Küsters (9815596)  \n",
    "Nick Kramer (3122448)  \n",
    "**TINF19-IT1**  \n",
    "Sören Holzenkamp (8528927)"
   ]
  },
  {
   "cell_type": "markdown",
   "id": "f67d6870-b009-4aaa-a4b4-138103f50fb6",
   "metadata": {},
   "source": [
    "# Image Generator"
   ]
  },
  {
   "cell_type": "markdown",
   "id": "2249d62d-52cc-4d95-88ed-ea9586beacd9",
   "metadata": {
    "tags": []
   },
   "source": [
    "Da die vorliegenden Trainingsbilder bereits auf die Verkehrsschilder zugeschnitten sind und lediglich 10% Rand um diese aufweisen, wurde sich dazu entschieden syntetische Trainingsdaten aus den vorhandenen Trainingsbildern und neuen Hintergrundbildern zu generieren. \\\n",
    "Dafür wurde eine die Funktion\\\n",
    "generate_raster_sign_image(\n",
    "*    number_of_images,\n",
    "*    number_of_signs,\n",
    "*    path_to_bg_img_folder,\n",
    "*    pre_path_sign,\n",
    "*    sign_size,\n",
    "*    raster_width,\n",
    "*    raster_height,\n",
    "*    sign_with_clahe,\n",
    "*    verbose=False,\n",
    "*    show_images=False)\n",
    "\n",
    "erstellt. Diese verwendet die beiden neu programmierten Funktionen *_get_random_signs()* und *_get_bg_images()* um zufällige Verkehrsschilder rasterförmig zufällig verteilt auf Hintergrundbilder zu platzieren."
   ]
  },
  {
   "cell_type": "markdown",
   "id": "926cecd9-49be-44ea-9ec7-69df4a72e782",
   "metadata": {},
   "source": [
    "Neben den generierten Bildern werden auch die Boundings Boxes und Labels als Liste von Dictionarys zurückgegeben. Keys: Bounding Boxes als Tuple und Classifier als Value."
   ]
  },
  {
   "cell_type": "code",
   "execution_count": 1,
   "id": "e90cced8-281b-4ed4-921b-569eb4633196",
   "metadata": {
    "tags": []
   },
   "outputs": [],
   "source": [
    "import warnings \n",
    "warnings.simplefilter(action='ignore', category=FutureWarning) "
   ]
  },
  {
   "cell_type": "code",
   "execution_count": 2,
   "id": "a71f4a6a",
   "metadata": {},
   "outputs": [],
   "source": [
    "from src.generator import generate_raster_sign_image\n",
    "import pickle"
   ]
  },
  {
   "cell_type": "code",
   "execution_count": 3,
   "id": "1bfffbbc",
   "metadata": {},
   "outputs": [],
   "source": [
    "number_of_images = 10000\n",
    "number_of_signs = 1\n",
    "path_to_bg_img_folder = r\"../ML-Lab_data/bg_images/\"\n",
    "pre_path_sign = r\"../ML-Lab_data/data/\"\n",
    "sign_size = 40\n",
    "raster_width = 17\n",
    "raster_height = 10\n",
    "sign_with_clahe = True\n",
    "show_images = False"
   ]
  },
  {
   "cell_type": "markdown",
   "id": "8e087b63",
   "metadata": {},
   "source": [
    "Return (data, labels)\n",
    "data: list of images\n",
    "labels: list of dictionarys\n",
    "        each dictionary contains:\n",
    "            keys: bounding box of sign as tuple (x1,y1,x2,y2)\n",
    "            values: sign class label as int"
   ]
  },
  {
   "cell_type": "code",
   "execution_count": 4,
   "id": "ab0d8a8b-2d4d-4c26-b04a-7a4f6bd3534e",
   "metadata": {},
   "outputs": [
    {
     "name": "stdout",
     "output_type": "stream",
     "text": [
      "Iterated through 0 signs\n",
      "Iterated through 250 signs\n",
      "Iterated through 500 signs\n",
      "Iterated through 750 signs\n",
      "Iterated through 1000 signs\n",
      "Iterated through 1250 signs\n",
      "Iterated through 1500 signs\n",
      "Iterated through 1750 signs\n",
      "Iterated through 2000 signs\n",
      "Iterated through 2250 signs\n",
      "Iterated through 2500 signs\n",
      "Iterated through 2750 signs\n",
      "Iterated through 3000 signs\n",
      "Iterated through 3250 signs\n",
      "Iterated through 3500 signs\n",
      "Iterated through 3750 signs\n",
      "Iterated through 4000 signs\n",
      "Iterated through 4250 signs\n",
      "Iterated through 4500 signs\n",
      "Iterated through 4750 signs\n",
      "Iterated through 5000 signs\n",
      "Iterated through 5250 signs\n",
      "Iterated through 5500 signs\n",
      "Iterated through 5750 signs\n",
      "Iterated through 6000 signs\n",
      "Iterated through 6250 signs\n",
      "Iterated through 6500 signs\n",
      "Iterated through 6750 signs\n",
      "Iterated through 7000 signs\n",
      "Iterated through 7250 signs\n",
      "Iterated through 7500 signs\n",
      "Iterated through 7750 signs\n",
      "Iterated through 8000 signs\n",
      "Iterated through 8250 signs\n",
      "Iterated through 8500 signs\n",
      "Iterated through 8750 signs\n",
      "Iterated through 9000 signs\n",
      "Iterated through 9250 signs\n",
      "Iterated through 9500 signs\n",
      "Iterated through 9750 signs\n"
     ]
    }
   ],
   "source": [
    "data, labels = generate_raster_sign_image(number_of_images, number_of_signs, path_to_bg_img_folder, pre_path_sign, sign_size,\n",
    "                           raster_width, raster_height, sign_with_clahe, show_images=show_images)"
   ]
  },
  {
   "cell_type": "code",
   "execution_count": 5,
   "id": "e3efc4eb",
   "metadata": {},
   "outputs": [],
   "source": [
    "with open(r\"/home/soeren/uni/maschine-learning/repo/ML-Lab_project/pickle/data_1sign_testdata2.pickle\", 'wb') as handle:\n",
    "    pickle.dump(data, handle)"
   ]
  },
  {
   "cell_type": "code",
   "execution_count": 6,
   "id": "6b8a8a98",
   "metadata": {},
   "outputs": [],
   "source": [
    "with open(r\"/home/soeren/uni/maschine-learning/repo/ML-Lab_project/pickle/labels_1sign_testdata2.pickle\", 'wb') as handle:\n",
    "    pickle.dump(labels, handle)"
   ]
  }
 ],
 "metadata": {
  "kernelspec": {
   "display_name": "Python [conda env:ml]",
   "language": "python",
   "name": "conda-env-ml-py"
  },
  "language_info": {
   "codemirror_mode": {
    "name": "ipython",
    "version": 3
   },
   "file_extension": ".py",
   "mimetype": "text/x-python",
   "name": "python",
   "nbconvert_exporter": "python",
   "pygments_lexer": "ipython3",
   "version": "3.10.2"
  }
 },
 "nbformat": 4,
 "nbformat_minor": 5
}
