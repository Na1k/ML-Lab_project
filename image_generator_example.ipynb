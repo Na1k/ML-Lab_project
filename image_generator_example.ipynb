{
 "cells": [
  {
   "cell_type": "code",
   "execution_count": 1,
   "id": "a71f4a6a",
   "metadata": {},
   "outputs": [],
   "source": [
    "from src.generator import generate_raster_sign_image"
   ]
  },
  {
   "cell_type": "code",
   "execution_count": 2,
   "id": "8a351325",
   "metadata": {},
   "outputs": [],
   "source": [
    "from src.reader import Reader"
   ]
  },
  {
   "cell_type": "code",
   "execution_count": 3,
   "id": "1bfffbbc",
   "metadata": {
    "scrolled": false
   },
   "outputs": [
    {
     "name": "stderr",
     "output_type": "stream",
     "text": [
      "C:\\Users\\holz_so\\Documents\\Uni\\MaschineLearning\\verkehrsschilder\\ML-Lab_project\\src\\reader.py:19: FutureWarning: The frame.append method is deprecated and will be removed from pandas in a future version. Use pandas.concat instead.\n",
      "  self.df = self.df.append(df_tmp)\n",
      "C:\\Users\\holz_so\\Documents\\Uni\\MaschineLearning\\verkehrsschilder\\ML-Lab_project\\src\\reader.py:19: FutureWarning: The frame.append method is deprecated and will be removed from pandas in a future version. Use pandas.concat instead.\n",
      "  self.df = self.df.append(df_tmp)\n",
      "C:\\Users\\holz_so\\Documents\\Uni\\MaschineLearning\\verkehrsschilder\\ML-Lab_project\\src\\reader.py:19: FutureWarning: The frame.append method is deprecated and will be removed from pandas in a future version. Use pandas.concat instead.\n",
      "  self.df = self.df.append(df_tmp)\n",
      "C:\\Users\\holz_so\\Documents\\Uni\\MaschineLearning\\verkehrsschilder\\ML-Lab_project\\src\\reader.py:19: FutureWarning: The frame.append method is deprecated and will be removed from pandas in a future version. Use pandas.concat instead.\n",
      "  self.df = self.df.append(df_tmp)\n",
      "C:\\Users\\holz_so\\Documents\\Uni\\MaschineLearning\\verkehrsschilder\\ML-Lab_project\\src\\reader.py:19: FutureWarning: The frame.append method is deprecated and will be removed from pandas in a future version. Use pandas.concat instead.\n",
      "  self.df = self.df.append(df_tmp)\n",
      "C:\\Users\\holz_so\\Documents\\Uni\\MaschineLearning\\verkehrsschilder\\ML-Lab_project\\src\\reader.py:19: FutureWarning: The frame.append method is deprecated and will be removed from pandas in a future version. Use pandas.concat instead.\n",
      "  self.df = self.df.append(df_tmp)\n",
      "C:\\Users\\holz_so\\Documents\\Uni\\MaschineLearning\\verkehrsschilder\\ML-Lab_project\\src\\reader.py:19: FutureWarning: The frame.append method is deprecated and will be removed from pandas in a future version. Use pandas.concat instead.\n",
      "  self.df = self.df.append(df_tmp)\n",
      "C:\\Users\\holz_so\\Documents\\Uni\\MaschineLearning\\verkehrsschilder\\ML-Lab_project\\src\\reader.py:19: FutureWarning: The frame.append method is deprecated and will be removed from pandas in a future version. Use pandas.concat instead.\n",
      "  self.df = self.df.append(df_tmp)\n",
      "C:\\Users\\holz_so\\Documents\\Uni\\MaschineLearning\\verkehrsschilder\\ML-Lab_project\\src\\reader.py:19: FutureWarning: The frame.append method is deprecated and will be removed from pandas in a future version. Use pandas.concat instead.\n",
      "  self.df = self.df.append(df_tmp)\n",
      "C:\\Users\\holz_so\\Documents\\Uni\\MaschineLearning\\verkehrsschilder\\ML-Lab_project\\src\\reader.py:19: FutureWarning: The frame.append method is deprecated and will be removed from pandas in a future version. Use pandas.concat instead.\n",
      "  self.df = self.df.append(df_tmp)\n",
      "C:\\Users\\holz_so\\Documents\\Uni\\MaschineLearning\\verkehrsschilder\\ML-Lab_project\\src\\reader.py:19: FutureWarning: The frame.append method is deprecated and will be removed from pandas in a future version. Use pandas.concat instead.\n",
      "  self.df = self.df.append(df_tmp)\n",
      "C:\\Users\\holz_so\\Documents\\Uni\\MaschineLearning\\verkehrsschilder\\ML-Lab_project\\src\\reader.py:19: FutureWarning: The frame.append method is deprecated and will be removed from pandas in a future version. Use pandas.concat instead.\n",
      "  self.df = self.df.append(df_tmp)\n",
      "C:\\Users\\holz_so\\Documents\\Uni\\MaschineLearning\\verkehrsschilder\\ML-Lab_project\\src\\reader.py:19: FutureWarning: The frame.append method is deprecated and will be removed from pandas in a future version. Use pandas.concat instead.\n",
      "  self.df = self.df.append(df_tmp)\n",
      "C:\\Users\\holz_so\\Documents\\Uni\\MaschineLearning\\verkehrsschilder\\ML-Lab_project\\src\\reader.py:19: FutureWarning: The frame.append method is deprecated and will be removed from pandas in a future version. Use pandas.concat instead.\n",
      "  self.df = self.df.append(df_tmp)\n",
      "C:\\Users\\holz_so\\Documents\\Uni\\MaschineLearning\\verkehrsschilder\\ML-Lab_project\\src\\reader.py:19: FutureWarning: The frame.append method is deprecated and will be removed from pandas in a future version. Use pandas.concat instead.\n",
      "  self.df = self.df.append(df_tmp)\n",
      "C:\\Users\\holz_so\\Documents\\Uni\\MaschineLearning\\verkehrsschilder\\ML-Lab_project\\src\\reader.py:19: FutureWarning: The frame.append method is deprecated and will be removed from pandas in a future version. Use pandas.concat instead.\n",
      "  self.df = self.df.append(df_tmp)\n",
      "C:\\Users\\holz_so\\Documents\\Uni\\MaschineLearning\\verkehrsschilder\\ML-Lab_project\\src\\reader.py:19: FutureWarning: The frame.append method is deprecated and will be removed from pandas in a future version. Use pandas.concat instead.\n",
      "  self.df = self.df.append(df_tmp)\n",
      "C:\\Users\\holz_so\\Documents\\Uni\\MaschineLearning\\verkehrsschilder\\ML-Lab_project\\src\\reader.py:19: FutureWarning: The frame.append method is deprecated and will be removed from pandas in a future version. Use pandas.concat instead.\n",
      "  self.df = self.df.append(df_tmp)\n",
      "C:\\Users\\holz_so\\Documents\\Uni\\MaschineLearning\\verkehrsschilder\\ML-Lab_project\\src\\reader.py:19: FutureWarning: The frame.append method is deprecated and will be removed from pandas in a future version. Use pandas.concat instead.\n",
      "  self.df = self.df.append(df_tmp)\n",
      "C:\\Users\\holz_so\\Documents\\Uni\\MaschineLearning\\verkehrsschilder\\ML-Lab_project\\src\\reader.py:19: FutureWarning: The frame.append method is deprecated and will be removed from pandas in a future version. Use pandas.concat instead.\n",
      "  self.df = self.df.append(df_tmp)\n",
      "C:\\Users\\holz_so\\Documents\\Uni\\MaschineLearning\\verkehrsschilder\\ML-Lab_project\\src\\reader.py:19: FutureWarning: The frame.append method is deprecated and will be removed from pandas in a future version. Use pandas.concat instead.\n",
      "  self.df = self.df.append(df_tmp)\n",
      "C:\\Users\\holz_so\\Documents\\Uni\\MaschineLearning\\verkehrsschilder\\ML-Lab_project\\src\\reader.py:19: FutureWarning: The frame.append method is deprecated and will be removed from pandas in a future version. Use pandas.concat instead.\n",
      "  self.df = self.df.append(df_tmp)\n",
      "C:\\Users\\holz_so\\Documents\\Uni\\MaschineLearning\\verkehrsschilder\\ML-Lab_project\\src\\reader.py:19: FutureWarning: The frame.append method is deprecated and will be removed from pandas in a future version. Use pandas.concat instead.\n",
      "  self.df = self.df.append(df_tmp)\n",
      "C:\\Users\\holz_so\\Documents\\Uni\\MaschineLearning\\verkehrsschilder\\ML-Lab_project\\src\\reader.py:19: FutureWarning: The frame.append method is deprecated and will be removed from pandas in a future version. Use pandas.concat instead.\n",
      "  self.df = self.df.append(df_tmp)\n",
      "C:\\Users\\holz_so\\Documents\\Uni\\MaschineLearning\\verkehrsschilder\\ML-Lab_project\\src\\reader.py:19: FutureWarning: The frame.append method is deprecated and will be removed from pandas in a future version. Use pandas.concat instead.\n",
      "  self.df = self.df.append(df_tmp)\n",
      "C:\\Users\\holz_so\\Documents\\Uni\\MaschineLearning\\verkehrsschilder\\ML-Lab_project\\src\\reader.py:19: FutureWarning: The frame.append method is deprecated and will be removed from pandas in a future version. Use pandas.concat instead.\n",
      "  self.df = self.df.append(df_tmp)\n",
      "C:\\Users\\holz_so\\Documents\\Uni\\MaschineLearning\\verkehrsschilder\\ML-Lab_project\\src\\reader.py:19: FutureWarning: The frame.append method is deprecated and will be removed from pandas in a future version. Use pandas.concat instead.\n",
      "  self.df = self.df.append(df_tmp)\n",
      "C:\\Users\\holz_so\\Documents\\Uni\\MaschineLearning\\verkehrsschilder\\ML-Lab_project\\src\\reader.py:19: FutureWarning: The frame.append method is deprecated and will be removed from pandas in a future version. Use pandas.concat instead.\n",
      "  self.df = self.df.append(df_tmp)\n",
      "C:\\Users\\holz_so\\Documents\\Uni\\MaschineLearning\\verkehrsschilder\\ML-Lab_project\\src\\reader.py:19: FutureWarning: The frame.append method is deprecated and will be removed from pandas in a future version. Use pandas.concat instead.\n",
      "  self.df = self.df.append(df_tmp)\n",
      "C:\\Users\\holz_so\\Documents\\Uni\\MaschineLearning\\verkehrsschilder\\ML-Lab_project\\src\\reader.py:19: FutureWarning: The frame.append method is deprecated and will be removed from pandas in a future version. Use pandas.concat instead.\n",
      "  self.df = self.df.append(df_tmp)\n",
      "C:\\Users\\holz_so\\Documents\\Uni\\MaschineLearning\\verkehrsschilder\\ML-Lab_project\\src\\reader.py:19: FutureWarning: The frame.append method is deprecated and will be removed from pandas in a future version. Use pandas.concat instead.\n",
      "  self.df = self.df.append(df_tmp)\n",
      "C:\\Users\\holz_so\\Documents\\Uni\\MaschineLearning\\verkehrsschilder\\ML-Lab_project\\src\\reader.py:19: FutureWarning: The frame.append method is deprecated and will be removed from pandas in a future version. Use pandas.concat instead.\n",
      "  self.df = self.df.append(df_tmp)\n",
      "C:\\Users\\holz_so\\Documents\\Uni\\MaschineLearning\\verkehrsschilder\\ML-Lab_project\\src\\reader.py:19: FutureWarning: The frame.append method is deprecated and will be removed from pandas in a future version. Use pandas.concat instead.\n",
      "  self.df = self.df.append(df_tmp)\n",
      "C:\\Users\\holz_so\\Documents\\Uni\\MaschineLearning\\verkehrsschilder\\ML-Lab_project\\src\\reader.py:19: FutureWarning: The frame.append method is deprecated and will be removed from pandas in a future version. Use pandas.concat instead.\n",
      "  self.df = self.df.append(df_tmp)\n",
      "C:\\Users\\holz_so\\Documents\\Uni\\MaschineLearning\\verkehrsschilder\\ML-Lab_project\\src\\reader.py:19: FutureWarning: The frame.append method is deprecated and will be removed from pandas in a future version. Use pandas.concat instead.\n",
      "  self.df = self.df.append(df_tmp)\n",
      "C:\\Users\\holz_so\\Documents\\Uni\\MaschineLearning\\verkehrsschilder\\ML-Lab_project\\src\\reader.py:19: FutureWarning: The frame.append method is deprecated and will be removed from pandas in a future version. Use pandas.concat instead.\n",
      "  self.df = self.df.append(df_tmp)\n",
      "C:\\Users\\holz_so\\Documents\\Uni\\MaschineLearning\\verkehrsschilder\\ML-Lab_project\\src\\reader.py:19: FutureWarning: The frame.append method is deprecated and will be removed from pandas in a future version. Use pandas.concat instead.\n",
      "  self.df = self.df.append(df_tmp)\n"
     ]
    },
    {
     "name": "stderr",
     "output_type": "stream",
     "text": [
      "C:\\Users\\holz_so\\Documents\\Uni\\MaschineLearning\\verkehrsschilder\\ML-Lab_project\\src\\reader.py:19: FutureWarning: The frame.append method is deprecated and will be removed from pandas in a future version. Use pandas.concat instead.\n",
      "  self.df = self.df.append(df_tmp)\n",
      "C:\\Users\\holz_so\\Documents\\Uni\\MaschineLearning\\verkehrsschilder\\ML-Lab_project\\src\\reader.py:19: FutureWarning: The frame.append method is deprecated and will be removed from pandas in a future version. Use pandas.concat instead.\n",
      "  self.df = self.df.append(df_tmp)\n",
      "C:\\Users\\holz_so\\Documents\\Uni\\MaschineLearning\\verkehrsschilder\\ML-Lab_project\\src\\reader.py:19: FutureWarning: The frame.append method is deprecated and will be removed from pandas in a future version. Use pandas.concat instead.\n",
      "  self.df = self.df.append(df_tmp)\n",
      "C:\\Users\\holz_so\\Documents\\Uni\\MaschineLearning\\verkehrsschilder\\ML-Lab_project\\src\\reader.py:19: FutureWarning: The frame.append method is deprecated and will be removed from pandas in a future version. Use pandas.concat instead.\n",
      "  self.df = self.df.append(df_tmp)\n",
      "C:\\Users\\holz_so\\Documents\\Uni\\MaschineLearning\\verkehrsschilder\\ML-Lab_project\\src\\reader.py:19: FutureWarning: The frame.append method is deprecated and will be removed from pandas in a future version. Use pandas.concat instead.\n",
      "  self.df = self.df.append(df_tmp)\n",
      "C:\\Users\\holz_so\\Documents\\Uni\\MaschineLearning\\verkehrsschilder\\ML-Lab_project\\src\\reader.py:19: FutureWarning: The frame.append method is deprecated and will be removed from pandas in a future version. Use pandas.concat instead.\n",
      "  self.df = self.df.append(df_tmp)\n"
     ]
    }
   ],
   "source": [
    "number_of_images = 20000\n",
    "number_of_signs = 3\n",
    "path_to_bg_img_folder = r\"../ML-Lab_data/bg_images/\"\n",
    "pre_path_sign = r\"../ML-Lab_data/data/\"\n",
    "sign_size = 32\n",
    "raster_width = 6\n",
    "raster_height = 4\n",
    "sign_with_clahe = True\n",
    "show_images = False\n",
    "\n",
    "data, labels = generate_raster_sign_image(number_of_images, number_of_signs, path_to_bg_img_folder, pre_path_sign, sign_size,\n",
    "                           raster_width, raster_height, sign_with_clahe, show_images=show_images)"
   ]
  },
  {
   "cell_type": "markdown",
   "id": "8e087b63",
   "metadata": {},
   "source": [
    "Return (data, labels)\n",
    "data: list of images\n",
    "labels: list of dictionarys\n",
    "        each dictionary contains:\n",
    "            keys: bounding box of sign as tuple (x1,y1,x2,y2)\n",
    "            values: sign class label as int"
   ]
  },
  {
   "cell_type": "code",
   "execution_count": 4,
   "id": "8401991e",
   "metadata": {},
   "outputs": [],
   "source": [
    "import pickle"
   ]
  },
  {
   "cell_type": "code",
   "execution_count": 5,
   "id": "e3efc4eb",
   "metadata": {},
   "outputs": [],
   "source": [
    "with open(r\"D:/picklefiles/data_3.pickle\", 'wb') as handle:\n",
    "    pickle.dump(data, handle)"
   ]
  },
  {
   "cell_type": "code",
   "execution_count": 6,
   "id": "6b8a8a98",
   "metadata": {},
   "outputs": [],
   "source": [
    "with open(r\"D:/picklefiles/labels_3.pickle\", 'wb') as handle:\n",
    "    pickle.dump(labels, handle)"
   ]
  }
 ],
 "metadata": {
  "kernelspec": {
   "display_name": "Python 3 (ipykernel)",
   "language": "python",
   "name": "python3"
  },
  "language_info": {
   "codemirror_mode": {
    "name": "ipython",
    "version": 3
   },
   "file_extension": ".py",
   "mimetype": "text/x-python",
   "name": "python",
   "nbconvert_exporter": "python",
   "pygments_lexer": "ipython3",
   "version": "3.9.9"
  }
 },
 "nbformat": 4,
 "nbformat_minor": 5
}
