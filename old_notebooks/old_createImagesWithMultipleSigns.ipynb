{
 "cells": [
  {
   "cell_type": "code",
   "execution_count": 1,
   "id": "10425474",
   "metadata": {},
   "outputs": [],
   "source": [
    "import random\n",
    "from src.reader import Reader\n",
    "import os\n",
    "import cv2\n",
    "from itertools import cycle\n",
    "import pickle"
   ]
  },
  {
   "cell_type": "code",
   "execution_count": 2,
   "id": "5c59ca91",
   "metadata": {},
   "outputs": [],
   "source": [
    "raster_width = 5\n",
    "raster_height = 3\n",
    "sign_size = 64\n",
    "sample_number = 1\n",
    "number_of_images = 10000"
   ]
  },
  {
   "cell_type": "code",
   "execution_count": 3,
   "id": "c395af24",
   "metadata": {},
   "outputs": [],
   "source": [
    "folder = r\"../ML-Lab_data/bg_images\"\n",
    "bg_images = [\"herbst-baeume-weg.jpg\", \"sturm-kueste.jpg\"]"
   ]
  },
  {
   "cell_type": "code",
   "execution_count": 4,
   "id": "3453ebf8",
   "metadata": {},
   "outputs": [],
   "source": [
    "all_samples = [(a, b) for a in range(raster_width) for b in range(raster_height)]"
   ]
  },
  {
   "cell_type": "code",
   "execution_count": 5,
   "id": "c3dc0cfc",
   "metadata": {},
   "outputs": [
    {
     "name": "stderr",
     "output_type": "stream",
     "text": [
      "C:\\Users\\holz_so\\Documents\\Uni\\MaschineLearning\\verkehrsschilder\\ML-Lab_project\\src\\reader.py:19: FutureWarning: The frame.append method is deprecated and will be removed from pandas in a future version. Use pandas.concat instead.\n",
      "  self.df = self.df.append(df_tmp)\n",
      "C:\\Users\\holz_so\\Documents\\Uni\\MaschineLearning\\verkehrsschilder\\ML-Lab_project\\src\\reader.py:19: FutureWarning: The frame.append method is deprecated and will be removed from pandas in a future version. Use pandas.concat instead.\n",
      "  self.df = self.df.append(df_tmp)\n",
      "C:\\Users\\holz_so\\Documents\\Uni\\MaschineLearning\\verkehrsschilder\\ML-Lab_project\\src\\reader.py:19: FutureWarning: The frame.append method is deprecated and will be removed from pandas in a future version. Use pandas.concat instead.\n",
      "  self.df = self.df.append(df_tmp)\n",
      "C:\\Users\\holz_so\\Documents\\Uni\\MaschineLearning\\verkehrsschilder\\ML-Lab_project\\src\\reader.py:19: FutureWarning: The frame.append method is deprecated and will be removed from pandas in a future version. Use pandas.concat instead.\n",
      "  self.df = self.df.append(df_tmp)\n",
      "C:\\Users\\holz_so\\Documents\\Uni\\MaschineLearning\\verkehrsschilder\\ML-Lab_project\\src\\reader.py:19: FutureWarning: The frame.append method is deprecated and will be removed from pandas in a future version. Use pandas.concat instead.\n",
      "  self.df = self.df.append(df_tmp)\n",
      "C:\\Users\\holz_so\\Documents\\Uni\\MaschineLearning\\verkehrsschilder\\ML-Lab_project\\src\\reader.py:19: FutureWarning: The frame.append method is deprecated and will be removed from pandas in a future version. Use pandas.concat instead.\n",
      "  self.df = self.df.append(df_tmp)\n",
      "C:\\Users\\holz_so\\Documents\\Uni\\MaschineLearning\\verkehrsschilder\\ML-Lab_project\\src\\reader.py:19: FutureWarning: The frame.append method is deprecated and will be removed from pandas in a future version. Use pandas.concat instead.\n",
      "  self.df = self.df.append(df_tmp)\n",
      "C:\\Users\\holz_so\\Documents\\Uni\\MaschineLearning\\verkehrsschilder\\ML-Lab_project\\src\\reader.py:19: FutureWarning: The frame.append method is deprecated and will be removed from pandas in a future version. Use pandas.concat instead.\n",
      "  self.df = self.df.append(df_tmp)\n",
      "C:\\Users\\holz_so\\Documents\\Uni\\MaschineLearning\\verkehrsschilder\\ML-Lab_project\\src\\reader.py:19: FutureWarning: The frame.append method is deprecated and will be removed from pandas in a future version. Use pandas.concat instead.\n",
      "  self.df = self.df.append(df_tmp)\n",
      "C:\\Users\\holz_so\\Documents\\Uni\\MaschineLearning\\verkehrsschilder\\ML-Lab_project\\src\\reader.py:19: FutureWarning: The frame.append method is deprecated and will be removed from pandas in a future version. Use pandas.concat instead.\n",
      "  self.df = self.df.append(df_tmp)\n",
      "C:\\Users\\holz_so\\Documents\\Uni\\MaschineLearning\\verkehrsschilder\\ML-Lab_project\\src\\reader.py:19: FutureWarning: The frame.append method is deprecated and will be removed from pandas in a future version. Use pandas.concat instead.\n",
      "  self.df = self.df.append(df_tmp)\n",
      "C:\\Users\\holz_so\\Documents\\Uni\\MaschineLearning\\verkehrsschilder\\ML-Lab_project\\src\\reader.py:19: FutureWarning: The frame.append method is deprecated and will be removed from pandas in a future version. Use pandas.concat instead.\n",
      "  self.df = self.df.append(df_tmp)\n",
      "C:\\Users\\holz_so\\Documents\\Uni\\MaschineLearning\\verkehrsschilder\\ML-Lab_project\\src\\reader.py:19: FutureWarning: The frame.append method is deprecated and will be removed from pandas in a future version. Use pandas.concat instead.\n",
      "  self.df = self.df.append(df_tmp)\n",
      "C:\\Users\\holz_so\\Documents\\Uni\\MaschineLearning\\verkehrsschilder\\ML-Lab_project\\src\\reader.py:19: FutureWarning: The frame.append method is deprecated and will be removed from pandas in a future version. Use pandas.concat instead.\n",
      "  self.df = self.df.append(df_tmp)\n",
      "C:\\Users\\holz_so\\Documents\\Uni\\MaschineLearning\\verkehrsschilder\\ML-Lab_project\\src\\reader.py:19: FutureWarning: The frame.append method is deprecated and will be removed from pandas in a future version. Use pandas.concat instead.\n",
      "  self.df = self.df.append(df_tmp)\n",
      "C:\\Users\\holz_so\\Documents\\Uni\\MaschineLearning\\verkehrsschilder\\ML-Lab_project\\src\\reader.py:19: FutureWarning: The frame.append method is deprecated and will be removed from pandas in a future version. Use pandas.concat instead.\n",
      "  self.df = self.df.append(df_tmp)\n",
      "C:\\Users\\holz_so\\Documents\\Uni\\MaschineLearning\\verkehrsschilder\\ML-Lab_project\\src\\reader.py:19: FutureWarning: The frame.append method is deprecated and will be removed from pandas in a future version. Use pandas.concat instead.\n",
      "  self.df = self.df.append(df_tmp)\n",
      "C:\\Users\\holz_so\\Documents\\Uni\\MaschineLearning\\verkehrsschilder\\ML-Lab_project\\src\\reader.py:19: FutureWarning: The frame.append method is deprecated and will be removed from pandas in a future version. Use pandas.concat instead.\n",
      "  self.df = self.df.append(df_tmp)\n",
      "C:\\Users\\holz_so\\Documents\\Uni\\MaschineLearning\\verkehrsschilder\\ML-Lab_project\\src\\reader.py:19: FutureWarning: The frame.append method is deprecated and will be removed from pandas in a future version. Use pandas.concat instead.\n",
      "  self.df = self.df.append(df_tmp)\n",
      "C:\\Users\\holz_so\\Documents\\Uni\\MaschineLearning\\verkehrsschilder\\ML-Lab_project\\src\\reader.py:19: FutureWarning: The frame.append method is deprecated and will be removed from pandas in a future version. Use pandas.concat instead.\n",
      "  self.df = self.df.append(df_tmp)\n",
      "C:\\Users\\holz_so\\Documents\\Uni\\MaschineLearning\\verkehrsschilder\\ML-Lab_project\\src\\reader.py:19: FutureWarning: The frame.append method is deprecated and will be removed from pandas in a future version. Use pandas.concat instead.\n",
      "  self.df = self.df.append(df_tmp)\n",
      "C:\\Users\\holz_so\\Documents\\Uni\\MaschineLearning\\verkehrsschilder\\ML-Lab_project\\src\\reader.py:19: FutureWarning: The frame.append method is deprecated and will be removed from pandas in a future version. Use pandas.concat instead.\n",
      "  self.df = self.df.append(df_tmp)\n",
      "C:\\Users\\holz_so\\Documents\\Uni\\MaschineLearning\\verkehrsschilder\\ML-Lab_project\\src\\reader.py:19: FutureWarning: The frame.append method is deprecated and will be removed from pandas in a future version. Use pandas.concat instead.\n",
      "  self.df = self.df.append(df_tmp)\n",
      "C:\\Users\\holz_so\\Documents\\Uni\\MaschineLearning\\verkehrsschilder\\ML-Lab_project\\src\\reader.py:19: FutureWarning: The frame.append method is deprecated and will be removed from pandas in a future version. Use pandas.concat instead.\n",
      "  self.df = self.df.append(df_tmp)\n",
      "C:\\Users\\holz_so\\Documents\\Uni\\MaschineLearning\\verkehrsschilder\\ML-Lab_project\\src\\reader.py:19: FutureWarning: The frame.append method is deprecated and will be removed from pandas in a future version. Use pandas.concat instead.\n",
      "  self.df = self.df.append(df_tmp)\n",
      "C:\\Users\\holz_so\\Documents\\Uni\\MaschineLearning\\verkehrsschilder\\ML-Lab_project\\src\\reader.py:19: FutureWarning: The frame.append method is deprecated and will be removed from pandas in a future version. Use pandas.concat instead.\n",
      "  self.df = self.df.append(df_tmp)\n",
      "C:\\Users\\holz_so\\Documents\\Uni\\MaschineLearning\\verkehrsschilder\\ML-Lab_project\\src\\reader.py:19: FutureWarning: The frame.append method is deprecated and will be removed from pandas in a future version. Use pandas.concat instead.\n",
      "  self.df = self.df.append(df_tmp)\n",
      "C:\\Users\\holz_so\\Documents\\Uni\\MaschineLearning\\verkehrsschilder\\ML-Lab_project\\src\\reader.py:19: FutureWarning: The frame.append method is deprecated and will be removed from pandas in a future version. Use pandas.concat instead.\n",
      "  self.df = self.df.append(df_tmp)\n",
      "C:\\Users\\holz_so\\Documents\\Uni\\MaschineLearning\\verkehrsschilder\\ML-Lab_project\\src\\reader.py:19: FutureWarning: The frame.append method is deprecated and will be removed from pandas in a future version. Use pandas.concat instead.\n",
      "  self.df = self.df.append(df_tmp)\n",
      "C:\\Users\\holz_so\\Documents\\Uni\\MaschineLearning\\verkehrsschilder\\ML-Lab_project\\src\\reader.py:19: FutureWarning: The frame.append method is deprecated and will be removed from pandas in a future version. Use pandas.concat instead.\n",
      "  self.df = self.df.append(df_tmp)\n",
      "C:\\Users\\holz_so\\Documents\\Uni\\MaschineLearning\\verkehrsschilder\\ML-Lab_project\\src\\reader.py:19: FutureWarning: The frame.append method is deprecated and will be removed from pandas in a future version. Use pandas.concat instead.\n",
      "  self.df = self.df.append(df_tmp)\n",
      "C:\\Users\\holz_so\\Documents\\Uni\\MaschineLearning\\verkehrsschilder\\ML-Lab_project\\src\\reader.py:19: FutureWarning: The frame.append method is deprecated and will be removed from pandas in a future version. Use pandas.concat instead.\n",
      "  self.df = self.df.append(df_tmp)\n",
      "C:\\Users\\holz_so\\Documents\\Uni\\MaschineLearning\\verkehrsschilder\\ML-Lab_project\\src\\reader.py:19: FutureWarning: The frame.append method is deprecated and will be removed from pandas in a future version. Use pandas.concat instead.\n",
      "  self.df = self.df.append(df_tmp)\n",
      "C:\\Users\\holz_so\\Documents\\Uni\\MaschineLearning\\verkehrsschilder\\ML-Lab_project\\src\\reader.py:19: FutureWarning: The frame.append method is deprecated and will be removed from pandas in a future version. Use pandas.concat instead.\n",
      "  self.df = self.df.append(df_tmp)\n",
      "C:\\Users\\holz_so\\Documents\\Uni\\MaschineLearning\\verkehrsschilder\\ML-Lab_project\\src\\reader.py:19: FutureWarning: The frame.append method is deprecated and will be removed from pandas in a future version. Use pandas.concat instead.\n",
      "  self.df = self.df.append(df_tmp)\n",
      "C:\\Users\\holz_so\\Documents\\Uni\\MaschineLearning\\verkehrsschilder\\ML-Lab_project\\src\\reader.py:19: FutureWarning: The frame.append method is deprecated and will be removed from pandas in a future version. Use pandas.concat instead.\n",
      "  self.df = self.df.append(df_tmp)\n",
      "C:\\Users\\holz_so\\Documents\\Uni\\MaschineLearning\\verkehrsschilder\\ML-Lab_project\\src\\reader.py:19: FutureWarning: The frame.append method is deprecated and will be removed from pandas in a future version. Use pandas.concat instead.\n",
      "  self.df = self.df.append(df_tmp)\n",
      "C:\\Users\\holz_so\\Documents\\Uni\\MaschineLearning\\verkehrsschilder\\ML-Lab_project\\src\\reader.py:19: FutureWarning: The frame.append method is deprecated and will be removed from pandas in a future version. Use pandas.concat instead.\n",
      "  self.df = self.df.append(df_tmp)\n",
      "C:\\Users\\holz_so\\Documents\\Uni\\MaschineLearning\\verkehrsschilder\\ML-Lab_project\\src\\reader.py:19: FutureWarning: The frame.append method is deprecated and will be removed from pandas in a future version. Use pandas.concat instead.\n",
      "  self.df = self.df.append(df_tmp)\n"
     ]
    },
    {
     "name": "stderr",
     "output_type": "stream",
     "text": [
      "C:\\Users\\holz_so\\Documents\\Uni\\MaschineLearning\\verkehrsschilder\\ML-Lab_project\\src\\reader.py:19: FutureWarning: The frame.append method is deprecated and will be removed from pandas in a future version. Use pandas.concat instead.\n",
      "  self.df = self.df.append(df_tmp)\n",
      "C:\\Users\\holz_so\\Documents\\Uni\\MaschineLearning\\verkehrsschilder\\ML-Lab_project\\src\\reader.py:19: FutureWarning: The frame.append method is deprecated and will be removed from pandas in a future version. Use pandas.concat instead.\n",
      "  self.df = self.df.append(df_tmp)\n",
      "C:\\Users\\holz_so\\Documents\\Uni\\MaschineLearning\\verkehrsschilder\\ML-Lab_project\\src\\reader.py:19: FutureWarning: The frame.append method is deprecated and will be removed from pandas in a future version. Use pandas.concat instead.\n",
      "  self.df = self.df.append(df_tmp)\n",
      "C:\\Users\\holz_so\\Documents\\Uni\\MaschineLearning\\verkehrsschilder\\ML-Lab_project\\src\\reader.py:19: FutureWarning: The frame.append method is deprecated and will be removed from pandas in a future version. Use pandas.concat instead.\n",
      "  self.df = self.df.append(df_tmp)\n"
     ]
    }
   ],
   "source": [
    "df = Reader().read_data_to_df(folders=43, pre_path=r\"../ML-Lab_data/data/\")"
   ]
  },
  {
   "cell_type": "code",
   "execution_count": 6,
   "id": "79c4378f",
   "metadata": {},
   "outputs": [],
   "source": [
    "def get_random_signs():\n",
    "    signs = []\n",
    "    for _, row in df.sample(n=sample_number).iterrows():\n",
    "        img = Reader().read_preprocess_img_without_bounding(row[\"Folder\"]+row[\"Filename\"],(sign_size,sign_size), clahe=False, resize=False)\n",
    "        h, w = img.shape[:2]\n",
    "        img = cv2.resize(img, (sign_size,sign_size))\n",
    "        x1 = row[\"Roi.X1\"]/w\n",
    "        y1 = row[\"Roi.Y1\"]/h\n",
    "        x2 = row[\"Roi.X2\"]/w\n",
    "        y2 = row[\"Roi.Y2\"]/h\n",
    "        signs.append((img, int(row[\"ClassId\"]), (x1,y1,x2,y2)))\n",
    "    return signs"
   ]
  },
  {
   "cell_type": "code",
   "execution_count": 7,
   "id": "a4d7aac7",
   "metadata": {},
   "outputs": [],
   "source": [
    "def get_bg_images():\n",
    "    images = []\n",
    "    for img_name in bg_images:\n",
    "        images.append(Reader().read_preprocess_img_without_bounding(os.path.join(folder,img_name), (raster_width*sign_size, raster_height*sign_size), clahe=False))\n",
    "    return images"
   ]
  },
  {
   "cell_type": "code",
   "execution_count": 8,
   "id": "0e498fe0",
   "metadata": {},
   "outputs": [
    {
     "ename": "KeyboardInterrupt",
     "evalue": "",
     "output_type": "error",
     "traceback": [
      "\u001b[1;31m---------------------------------------------------------------------------\u001b[0m",
      "\u001b[1;31mKeyboardInterrupt\u001b[0m                         Traceback (most recent call last)",
      "Input \u001b[1;32mIn [8]\u001b[0m, in \u001b[0;36m<module>\u001b[1;34m\u001b[0m\n\u001b[0;32m      6\u001b[0m \u001b[38;5;28;01mfor\u001b[39;00m raw_img, i \u001b[38;5;129;01min\u001b[39;00m \u001b[38;5;28mzip\u001b[39m(cycle(bg_images), \u001b[38;5;28mrange\u001b[39m(number_of_images)):\n\u001b[0;32m      7\u001b[0m     img \u001b[38;5;241m=\u001b[39m raw_img\u001b[38;5;241m.\u001b[39mcopy()\n\u001b[1;32m----> 8\u001b[0m     signs \u001b[38;5;241m=\u001b[39m \u001b[43mget_random_signs\u001b[49m\u001b[43m(\u001b[49m\u001b[43m)\u001b[49m\n\u001b[0;32m      9\u001b[0m     samples \u001b[38;5;241m=\u001b[39m random\u001b[38;5;241m.\u001b[39msample(all_samples, sample_number)\n\u001b[0;32m     10\u001b[0m     label \u001b[38;5;241m=\u001b[39m \u001b[38;5;28mdict\u001b[39m()\n",
      "Input \u001b[1;32mIn [6]\u001b[0m, in \u001b[0;36mget_random_signs\u001b[1;34m()\u001b[0m\n\u001b[0;32m      2\u001b[0m signs \u001b[38;5;241m=\u001b[39m []\n\u001b[0;32m      3\u001b[0m \u001b[38;5;28;01mfor\u001b[39;00m _, row \u001b[38;5;129;01min\u001b[39;00m df\u001b[38;5;241m.\u001b[39msample(n\u001b[38;5;241m=\u001b[39msample_number)\u001b[38;5;241m.\u001b[39miterrows():\n\u001b[1;32m----> 4\u001b[0m     img \u001b[38;5;241m=\u001b[39m \u001b[43mReader\u001b[49m\u001b[43m(\u001b[49m\u001b[43m)\u001b[49m\u001b[38;5;241;43m.\u001b[39;49m\u001b[43mread_preprocess_img_without_bounding\u001b[49m\u001b[43m(\u001b[49m\u001b[43mrow\u001b[49m\u001b[43m[\u001b[49m\u001b[38;5;124;43m\"\u001b[39;49m\u001b[38;5;124;43mFolder\u001b[39;49m\u001b[38;5;124;43m\"\u001b[39;49m\u001b[43m]\u001b[49m\u001b[38;5;241;43m+\u001b[39;49m\u001b[43mrow\u001b[49m\u001b[43m[\u001b[49m\u001b[38;5;124;43m\"\u001b[39;49m\u001b[38;5;124;43mFilename\u001b[39;49m\u001b[38;5;124;43m\"\u001b[39;49m\u001b[43m]\u001b[49m\u001b[43m,\u001b[49m\u001b[43m(\u001b[49m\u001b[43msign_size\u001b[49m\u001b[43m,\u001b[49m\u001b[43msign_size\u001b[49m\u001b[43m)\u001b[49m\u001b[43m,\u001b[49m\u001b[43m \u001b[49m\u001b[43mclahe\u001b[49m\u001b[38;5;241;43m=\u001b[39;49m\u001b[38;5;28;43;01mFalse\u001b[39;49;00m\u001b[43m,\u001b[49m\u001b[43m \u001b[49m\u001b[43mresize\u001b[49m\u001b[38;5;241;43m=\u001b[39;49m\u001b[38;5;28;43;01mFalse\u001b[39;49;00m\u001b[43m)\u001b[49m\n\u001b[0;32m      5\u001b[0m     h, w \u001b[38;5;241m=\u001b[39m img\u001b[38;5;241m.\u001b[39mshape[:\u001b[38;5;241m2\u001b[39m]\n\u001b[0;32m      6\u001b[0m     img \u001b[38;5;241m=\u001b[39m cv2\u001b[38;5;241m.\u001b[39mresize(img, (sign_size,sign_size))\n",
      "File \u001b[1;32m~\\Documents\\Uni\\MaschineLearning\\verkehrsschilder\\ML-Lab_project\\src\\reader.py:39\u001b[0m, in \u001b[0;36mReader.read_preprocess_img_without_bounding\u001b[1;34m(self, image_path, size, clahe, bounding, resize)\u001b[0m\n\u001b[0;32m     38\u001b[0m \u001b[38;5;28;01mdef\u001b[39;00m \u001b[38;5;21mread_preprocess_img_without_bounding\u001b[39m(\u001b[38;5;28mself\u001b[39m, image_path, size, clahe\u001b[38;5;241m=\u001b[39m\u001b[38;5;28;01mTrue\u001b[39;00m, bounding\u001b[38;5;241m=\u001b[39m\u001b[38;5;28;01mNone\u001b[39;00m, resize\u001b[38;5;241m=\u001b[39m\u001b[38;5;28;01mTrue\u001b[39;00m):\n\u001b[1;32m---> 39\u001b[0m     image \u001b[38;5;241m=\u001b[39m \u001b[43mcv2\u001b[49m\u001b[38;5;241;43m.\u001b[39;49m\u001b[43mimread\u001b[49m\u001b[43m(\u001b[49m\u001b[43mimage_path\u001b[49m\u001b[43m)\u001b[49m\n\u001b[0;32m     40\u001b[0m     \u001b[38;5;28;01mif\u001b[39;00m bounding \u001b[38;5;129;01mis\u001b[39;00m \u001b[38;5;129;01mnot\u001b[39;00m \u001b[38;5;28;01mNone\u001b[39;00m:\n\u001b[0;32m     41\u001b[0m         image \u001b[38;5;241m=\u001b[39m image[bounding[\u001b[38;5;241m1\u001b[39m]:bounding[\u001b[38;5;241m1\u001b[39m] \u001b[38;5;241m+\u001b[39m bounding[\u001b[38;5;241m2\u001b[39m], bounding[\u001b[38;5;241m0\u001b[39m]:bounding[\u001b[38;5;241m0\u001b[39m] \u001b[38;5;241m+\u001b[39m bounding[\u001b[38;5;241m3\u001b[39m]]\n",
      "\u001b[1;31mKeyboardInterrupt\u001b[0m: "
     ]
    }
   ],
   "source": [
    "labels = []\n",
    "data = []\n",
    "\n",
    "bg_images = get_bg_images()\n",
    "\n",
    "for raw_img, i in zip(cycle(bg_images), range(number_of_images)):\n",
    "    img = raw_img.copy()\n",
    "    signs = get_random_signs()\n",
    "    samples = random.sample(all_samples, sample_number)\n",
    "    label = dict()\n",
    "    for sign, s in zip(signs, samples):\n",
    "        sign_img, sign_label, sign_bounding = sign\n",
    "        img[sign_size*s[1]:sign_size*(s[1]+1), sign_size*s[0]:sign_size*(s[0]+1)] = sign_img\n",
    "        key = (sign_size*(s[0]+sign_bounding[0]), sign_size*(s[1]+sign_bounding[1]), \n",
    "               sign_size*(s[0]+sign_bounding[2]), sign_size*(s[1]+sign_bounding[3]))\n",
    "        label[key] = sign_label\n",
    "    labels.append(label)\n",
    "    data.append(img)\n",
    "    \n",
    "    #w, h = raster_width*sign_size, raster_height*sign_size\n",
    "    #print(label)\n",
    "    #bounding = next(iter(label))\n",
    "    #bounding = tuple(map(int, bounding))\n",
    "    #print(bounding)\n",
    "    #cv2.rectangle(img, (bounding[0], bounding[1]), (bounding[2], bounding[3]), (0, 0, 255), 1)\n",
    "    #cv2.namedWindow(\"image\"+str(i), cv2.WINDOW_NORMAL)\n",
    "    #cv2.imshow(\"image\"+str(i), img)\n",
    "    #cv2.waitKey()\n",
    "    \n",
    "with open(r\"../ML-Lab_data/pickle/data_1.pickle\", 'wb') as handle:\n",
    "    pickle.dump(data, handle)\n",
    "with open(r\"../ML-Lab_data/pickle/labels_1.pickle\", 'wb') as handle:\n",
    "    pickle.dump(labels, handle)\n",
    "\n",
    "print(labels)\n",
    "cv2.waitKey()\n",
    "cv2.destroyAllWindows()"
   ]
  },
  {
   "cell_type": "code",
   "execution_count": null,
   "id": "88b98adf",
   "metadata": {},
   "outputs": [],
   "source": []
  }
 ],
 "metadata": {
  "kernelspec": {
   "display_name": "Python 3 (ipykernel)",
   "language": "python",
   "name": "python3"
  },
  "language_info": {
   "codemirror_mode": {
    "name": "ipython",
    "version": 3
   },
   "file_extension": ".py",
   "mimetype": "text/x-python",
   "name": "python",
   "nbconvert_exporter": "python",
   "pygments_lexer": "ipython3",
   "version": "3.9.9"
  }
 },
 "nbformat": 4,
 "nbformat_minor": 5
}
