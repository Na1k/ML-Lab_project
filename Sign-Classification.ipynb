{
 "cells": [
  {
   "cell_type": "markdown",
   "metadata": {},
   "source": [
    "# Aufgabe-D-Schilder"
   ]
  },
  {
   "cell_type": "markdown",
   "metadata": {},
   "source": [
    "## Allgemeines\n",
    "\n",
    "Eine allgemeine Beschreibung der Laboraufgaben inklusive des Vorgehens, den Bewertungsrichtlinien und der Abgabe finden Sie  <a href=\"ML-allgemein.ipynb\">hier</a>"
   ]
  },
  {
   "cell_type": "markdown",
   "metadata": {},
   "source": [
    "## Bearbeiter\n",
    "**TINF19-IT2**  \n",
    "Patrick Küsters (9815596)  \n",
    "Nick Kramer (3122448)  \n",
    "**TINF19-IT1**  \n",
    "Sören Holzenkamp (8528927)"
   ]
  },
  {
   "cell_type": "markdown",
   "metadata": {},
   "source": [
    "## VM zum Trainieren großer Modelle\n",
    "\n",
    "- Nutzung des Clusters der DHBW\n",
    "    - wichtige Links\n",
    "    - VPN-Endpunkt: drogon.dhbw-mannheim.de\n",
    "    - Anmeldeseite Cluster: https://cloud.4c.dhbw-mannheim.de/\n",
    "1. Ping external IP (Floating IP)\n",
    "    1. Not working? --> New Floating IP\n",
    "    2. Working --> ssh ubuntu@141.72.191.72 -i privatekey.txt"
   ]
  },
  {
   "cell_type": "markdown",
   "metadata": {},
   "source": [
    "## Datenquelle\n",
    "\n",
    "\n",
    "* Laden Sie ihre Daten von http://141.72.190.207/ml_lab/D_schilder herunter\n",
    "    * Die Daten sind geschützt. \n",
    "    * Sie müssen evtl. in einem Netzwerk der DHBW (z.B. WLAN, VPN, ...) angemeldet sein. \n",
    "        * Sie können sich auf der Webseite mit dem Benutzernamen dhbw und dem Zugangsnamen ml_2021 anmelden. \n",
    "    \n",
    "\n"
   ]
  },
  {
   "cell_type": "markdown",
   "metadata": {},
   "source": [
    "## Readme der Daten\n",
    "\n",
    "This archive contains the following structure:\n",
    "\n",
    "There is one directory for each of the 43 classes (0000 - 00043).\n",
    "Each directory contains the corresponding training images and one \n",
    "text file with annotations, eg. GT-00000.csv. \n",
    "\n",
    "\n",
    "**********************************************\n",
    "Image format and naming  \n",
    "**********************************************\n",
    "The images are PPM images (RGB color). Files are numbered in two parts:\n",
    "\n",
    "   XXXXX_YYYYY.ppm\n",
    "\n",
    "The first part, XXXXX, represents the track number. All images of one class \n",
    "with identical track numbers originate from one single physical traffic sign.\n",
    "The second part, YYYYY, is a running number within the track. The temporal order\n",
    "of the images is preserved.\n",
    "\n",
    "\n",
    "**********************************************\n",
    "Annotation format\n",
    "**********************************************\n",
    "\n",
    "The annotations are stored in CSV format (field separator\n",
    "is \";\" (semicolon) ). The annotations contain meta information \n",
    "about the image and the class id.\n",
    "\n",
    "\n",
    "In detail, the annotations provide the following fields:\n",
    "\n",
    "Filename        - Image file the following information applies to\n",
    "Width, Height   - Dimensions of the image\n",
    "Roi.x1,Roi.y1,\n",
    "Roi.x2,Roi.y2   - Location of the sign within the image\n",
    "\t\t  (Images contain a border around the actual sign\n",
    "                  of 10 percent of the sign size, at least 5 pixel)\n",
    "ClassId         - The class of the traffic sign\n"
   ]
  },
  {
   "cell_type": "markdown",
   "metadata": {},
   "source": [
    "## Aufgabe"
   ]
  },
  {
   "cell_type": "markdown",
   "metadata": {},
   "source": [
    "* die Daten \n",
    "    * enthalten mehr als 50000 Bilder von Verkehrsschilder auf deutschen Straßen\n",
    "    * pro Klasse der Daten gibt es ein Verzeichnis\n",
    "    * in jeder Klasse gibt eine CSV-Datei mit Annotationen der Bilder\n",
    "        * Die Namen lauten GT-<ClassID>.csv\n",
    "* die Bilder \n",
    "    * enthalten genau ein Verkehrszeichen, mit ca. 10% Rand um das Verkehrszeichen\n",
    "    * sind im PPM Format gespeichert\n",
    "    * die Größen der Bilder variieren von 15x15 Pixel bis zu 250x250 Pixel\n",
    "        * die Bilder müssen aber nicht quadratisch sein\n",
    "    * In den Annotationen ist auch die Bounding Box hinterlegt\n",
    "* die Annotations-Datei hat den folgenden Werte\n",
    "    * Dateiname, Width, Height, BB.x1, BB.y1, BB.x2, BB.y2, ClassId\n",
    "        * BB steht für BoundingBox\n",
    "\n",
    "Erstellen Sie ein tiefes neuronales Netz, dass Schilder in Bildern erkennt und die Position des erkannten Schilds als Bounding Box ausgibt! Die Lösung soll auch mehrere Schilder in einem Bild erkennen können! \n"
   ]
  },
  {
   "cell_type": "markdown",
   "metadata": {},
   "source": [
    "# Lösung\n",
    "\n",
    "Implementierung und Dokumentation\n",
    "\n",
    "## Dictionary für alle Klassen im Datensatz\n",
    "\n",
    "Quelle für die meisten Bezeichnungen: https://www.adac.de/verkehr/recht/verkehrszeichen/"
   ]
  },
  {
   "cell_type": "code",
   "execution_count": 1,
   "metadata": {},
   "outputs": [],
   "source": [
    "classes = { 0:'Geschwindigkeitsbegrenzung (20km/h)',\n",
    "            1:'Geschwindigkeitsbegrenzung (30km/h)',      \n",
    "            2:'Geschwindigkeitsbegrenzung (50km/h)',       \n",
    "            3:'Geschwindigkeitsbegrenzung (60km/h)',      \n",
    "            4:'Geschwindigkeitsbegrenzung (70km/h)',    \n",
    "            5:'Geschwindigkeitsbegrenzung (80km/h)',      \n",
    "            6:'Ende der Geschwindigkeitsbegrenzung (80km/h)',     \n",
    "            7:'Geschwindigkeitsbegrenzung (100km/h)',    \n",
    "            8:'Geschwindigkeitsbegrenzung (120km/h)',     \n",
    "            9:'Überholverbot',   \n",
    "           10:'Überholverbot >3.5t',     \n",
    "           11:'Vorfahrt nächste Kreuzung',     \n",
    "           12:'Vorfahrtsstraße',    \n",
    "           13:'Vorfahrt gewähren',     \n",
    "           14:'Stop',       \n",
    "           15:'Verbot für Fahrzeuge aller Art',       \n",
    "           16:'Verbot für Fahrzeuge >3.5t',       \n",
    "           17:'Verbot der Einfahrt',       \n",
    "           18:'Gefahrenstelle',     \n",
    "           19:'Kurve (links)',      \n",
    "           20:'Kurve (rechts)',   \n",
    "           21:'Doppelkurve',      \n",
    "           22:'Unebene Fahrbahn',     \n",
    "           23:'Schleuder-/Rutschgefahr',       \n",
    "           24:'Einseitig (rechts) verengte Fahrbahn',  \n",
    "           25:'Arbeitsstelle',    \n",
    "           26:'Lichtzeichenanlage', # zu deutsch: Ampel      \n",
    "           27:'Fußgänger',     \n",
    "           28:'Kinder',     \n",
    "           29:'Radfahrer',       \n",
    "           30:'Schnee-/Eisglätte',\n",
    "           31:'Wildwechsel',      \n",
    "           32:'Ende sämtlicher Geschw-begr./Überholverb.',      \n",
    "           33:'Vorgeschriebene Fahrtrichtung rechts',     \n",
    "           34:'Vorgeschriebene Fahrtrichtung links',       \n",
    "           35:'Vorgeschriebene Fahrtrichtung gerade',      \n",
    "           36:'Vorgeschriebene Fahrtrichtung gerade/rechts',      \n",
    "           37:'Vorgeschriebene Fahrtrichtung gerade/links',      \n",
    "           38:'Vorgeschriebene Vorbeifahrt rechts vorbei',     \n",
    "           39:'Vorgeschriebene Vorbeifahrt rechts vorbei',      \n",
    "           40:'Kreisverkehr',     \n",
    "           41:'Ende Überholverbot',      \n",
    "           42:'Ende Überholverbot >3.5t' \n",
    "          }"
   ]
  },
  {
   "cell_type": "markdown",
   "metadata": {},
   "source": [
    "## Imports\n",
    "Lokal entwickelte Skripte und Module"
   ]
  },
  {
   "cell_type": "code",
   "execution_count": 2,
   "metadata": {},
   "outputs": [],
   "source": [
    "import sys\n",
    "from pathlib import Path\n",
    "module_path = str(Path.cwd() / \"src\")\n",
    "if module_path not in sys.path:\n",
    "    sys.path.append(module_path)"
   ]
  },
  {
   "cell_type": "code",
   "execution_count": 3,
   "metadata": {},
   "outputs": [],
   "source": [
    "from reader import Reader\n",
    "from display_data import ImageDisplayer\n",
    "import collage"
   ]
  },
  {
   "cell_type": "markdown",
   "metadata": {},
   "source": [
    "Externe Bibliotheken"
   ]
  },
  {
   "cell_type": "code",
   "execution_count": 4,
   "metadata": {},
   "outputs": [],
   "source": [
    "import cv2\n",
    "import pandas as pd\n",
    "import matplotlib.pyplot as plt"
   ]
  },
  {
   "cell_type": "code",
   "execution_count": 5,
   "metadata": {},
   "outputs": [],
   "source": [
    "from tensorflow.keras.models import Sequential\n",
    "from tensorflow.keras.layers import BatchNormalization\n",
    "from tensorflow.keras.layers import Conv2D\n",
    "from tensorflow.keras.layers import MaxPooling2D\n",
    "from tensorflow.keras.layers import Activation\n",
    "from tensorflow.keras.layers import Flatten\n",
    "from tensorflow.keras.layers import Dropout\n",
    "from tensorflow.keras.layers import Dense\n",
    "from tensorflow.keras.optimizers import Adam\n",
    "from tensorflow.keras.utils import to_categorical\n",
    "import tensorflow as tf\n",
    "from skimage import transform\n",
    "from sklearn.model_selection import train_test_split"
   ]
  },
  {
   "cell_type": "markdown",
   "metadata": {},
   "source": [
    "## Einlesen der Daten\n",
    "Der Datensatz besteht aus 43 Ordnern, welche je eine Klasse abbilden.  \n",
    "- Beispiel: In Ordner 0 liegen ausschließlich Bilder von Tempo 20 Schildern ab  \n",
    "\n",
    "### Reader\n",
    "Reader() stellt eine selbst entwickelte Klasse dar. <a href=\"./src/reader.py\">Sie ist hier zu finden</a>.<br>\n",
    "Diese iteriert durch alle Ordner und liest die Annotation-Files ein. Diese Informationen werden in einem pandas DataFrame gespeichert.  "
   ]
  },
  {
   "cell_type": "code",
   "execution_count": 6,
   "metadata": {},
   "outputs": [
    {
     "data": {
      "text/html": [
       "<div>\n",
       "<style scoped>\n",
       "    .dataframe tbody tr th:only-of-type {\n",
       "        vertical-align: middle;\n",
       "    }\n",
       "\n",
       "    .dataframe tbody tr th {\n",
       "        vertical-align: top;\n",
       "    }\n",
       "\n",
       "    .dataframe thead th {\n",
       "        text-align: right;\n",
       "    }\n",
       "</style>\n",
       "<table border=\"1\" class=\"dataframe\">\n",
       "  <thead>\n",
       "    <tr style=\"text-align: right;\">\n",
       "      <th></th>\n",
       "      <th>Filename</th>\n",
       "      <th>Folder</th>\n",
       "      <th>Width</th>\n",
       "      <th>Height</th>\n",
       "      <th>Roi.X1</th>\n",
       "      <th>Roi.Y1</th>\n",
       "      <th>Roi.X2</th>\n",
       "      <th>Roi.Y2</th>\n",
       "      <th>ClassId</th>\n",
       "    </tr>\n",
       "  </thead>\n",
       "  <tbody>\n",
       "    <tr>\n",
       "      <th>0</th>\n",
       "      <td>00000_00000.ppm</td>\n",
       "      <td>./data/0/</td>\n",
       "      <td>29</td>\n",
       "      <td>30</td>\n",
       "      <td>5</td>\n",
       "      <td>6</td>\n",
       "      <td>24</td>\n",
       "      <td>25</td>\n",
       "      <td>0</td>\n",
       "    </tr>\n",
       "    <tr>\n",
       "      <th>1</th>\n",
       "      <td>00000_00001.ppm</td>\n",
       "      <td>./data/0/</td>\n",
       "      <td>30</td>\n",
       "      <td>30</td>\n",
       "      <td>5</td>\n",
       "      <td>5</td>\n",
       "      <td>25</td>\n",
       "      <td>25</td>\n",
       "      <td>0</td>\n",
       "    </tr>\n",
       "    <tr>\n",
       "      <th>2</th>\n",
       "      <td>00000_00002.ppm</td>\n",
       "      <td>./data/0/</td>\n",
       "      <td>30</td>\n",
       "      <td>30</td>\n",
       "      <td>5</td>\n",
       "      <td>5</td>\n",
       "      <td>25</td>\n",
       "      <td>25</td>\n",
       "      <td>0</td>\n",
       "    </tr>\n",
       "    <tr>\n",
       "      <th>3</th>\n",
       "      <td>00000_00003.ppm</td>\n",
       "      <td>./data/0/</td>\n",
       "      <td>31</td>\n",
       "      <td>31</td>\n",
       "      <td>5</td>\n",
       "      <td>5</td>\n",
       "      <td>26</td>\n",
       "      <td>26</td>\n",
       "      <td>0</td>\n",
       "    </tr>\n",
       "    <tr>\n",
       "      <th>4</th>\n",
       "      <td>00000_00004.ppm</td>\n",
       "      <td>./data/0/</td>\n",
       "      <td>30</td>\n",
       "      <td>32</td>\n",
       "      <td>5</td>\n",
       "      <td>6</td>\n",
       "      <td>25</td>\n",
       "      <td>26</td>\n",
       "      <td>0</td>\n",
       "    </tr>\n",
       "    <tr>\n",
       "      <th>...</th>\n",
       "      <td>...</td>\n",
       "      <td>...</td>\n",
       "      <td>...</td>\n",
       "      <td>...</td>\n",
       "      <td>...</td>\n",
       "      <td>...</td>\n",
       "      <td>...</td>\n",
       "      <td>...</td>\n",
       "      <td>...</td>\n",
       "    </tr>\n",
       "    <tr>\n",
       "      <th>39204</th>\n",
       "      <td>00007_00025.ppm</td>\n",
       "      <td>./data/42/</td>\n",
       "      <td>52</td>\n",
       "      <td>56</td>\n",
       "      <td>5</td>\n",
       "      <td>6</td>\n",
       "      <td>47</td>\n",
       "      <td>51</td>\n",
       "      <td>42</td>\n",
       "    </tr>\n",
       "    <tr>\n",
       "      <th>39205</th>\n",
       "      <td>00007_00026.ppm</td>\n",
       "      <td>./data/42/</td>\n",
       "      <td>56</td>\n",
       "      <td>58</td>\n",
       "      <td>5</td>\n",
       "      <td>5</td>\n",
       "      <td>51</td>\n",
       "      <td>53</td>\n",
       "      <td>42</td>\n",
       "    </tr>\n",
       "    <tr>\n",
       "      <th>39206</th>\n",
       "      <td>00007_00027.ppm</td>\n",
       "      <td>./data/42/</td>\n",
       "      <td>58</td>\n",
       "      <td>62</td>\n",
       "      <td>5</td>\n",
       "      <td>6</td>\n",
       "      <td>53</td>\n",
       "      <td>57</td>\n",
       "      <td>42</td>\n",
       "    </tr>\n",
       "    <tr>\n",
       "      <th>39207</th>\n",
       "      <td>00007_00028.ppm</td>\n",
       "      <td>./data/42/</td>\n",
       "      <td>63</td>\n",
       "      <td>69</td>\n",
       "      <td>5</td>\n",
       "      <td>7</td>\n",
       "      <td>58</td>\n",
       "      <td>63</td>\n",
       "      <td>42</td>\n",
       "    </tr>\n",
       "    <tr>\n",
       "      <th>39208</th>\n",
       "      <td>00007_00029.ppm</td>\n",
       "      <td>./data/42/</td>\n",
       "      <td>68</td>\n",
       "      <td>69</td>\n",
       "      <td>7</td>\n",
       "      <td>6</td>\n",
       "      <td>62</td>\n",
       "      <td>63</td>\n",
       "      <td>42</td>\n",
       "    </tr>\n",
       "  </tbody>\n",
       "</table>\n",
       "<p>39209 rows × 9 columns</p>\n",
       "</div>"
      ],
      "text/plain": [
       "              Filename      Folder  Width  Height  Roi.X1  Roi.Y1  Roi.X2  \\\n",
       "0      00000_00000.ppm   ./data/0/     29      30       5       6      24   \n",
       "1      00000_00001.ppm   ./data/0/     30      30       5       5      25   \n",
       "2      00000_00002.ppm   ./data/0/     30      30       5       5      25   \n",
       "3      00000_00003.ppm   ./data/0/     31      31       5       5      26   \n",
       "4      00000_00004.ppm   ./data/0/     30      32       5       6      25   \n",
       "...                ...         ...    ...     ...     ...     ...     ...   \n",
       "39204  00007_00025.ppm  ./data/42/     52      56       5       6      47   \n",
       "39205  00007_00026.ppm  ./data/42/     56      58       5       5      51   \n",
       "39206  00007_00027.ppm  ./data/42/     58      62       5       6      53   \n",
       "39207  00007_00028.ppm  ./data/42/     63      69       5       7      58   \n",
       "39208  00007_00029.ppm  ./data/42/     68      69       7       6      62   \n",
       "\n",
       "       Roi.Y2  ClassId  \n",
       "0          25        0  \n",
       "1          25        0  \n",
       "2          25        0  \n",
       "3          26        0  \n",
       "4          26        0  \n",
       "...       ...      ...  \n",
       "39204      51       42  \n",
       "39205      53       42  \n",
       "39206      57       42  \n",
       "39207      63       42  \n",
       "39208      63       42  \n",
       "\n",
       "[39209 rows x 9 columns]"
      ]
     },
     "execution_count": 6,
     "metadata": {},
     "output_type": "execute_result"
    }
   ],
   "source": [
    "reader = Reader()\n",
    "df = reader.read_data_to_df(folders=43, pre_path=r\"./data/\")\n",
    "df"
   ]
  },
  {
   "cell_type": "markdown",
   "metadata": {},
   "source": [
    "### Beschreibung der Daten\n",
    "Der Datensatz besteht aus 39209 Einträgen, welcher sich in 43 Klassen unterteilt.  \n",
    "Jeder Eintrag stellt ein Bild dar, welches eine gewissen Breite und Höhe besitzt. **Die Bilder besitzen also nicht die gleiche Größe.**  \n",
    "Zudem ist die \"Bounding Box\" durch die 4 Spalten beginnend mit Roi abgebildet. (X1, Y1) spannt mit (X2, Y2) ein Rechteck auf, in welchem sich das Verkehrszeichen befinden soll."
   ]
  },
  {
   "cell_type": "markdown",
   "metadata": {},
   "source": [
    "Zusätzlich wird der Pfad zu der einzelnen Bilder gespeichert. Der Grund hierfür ist die Nicht-Eindeutigkeit der Dateinamen über den eigenen Ordner hinaus.  \n",
    "Dies geht auch aus dem Readme der Daten hervor (ein Dateiname besteht aus Track und Tracknummer).  "
   ]
  },
  {
   "cell_type": "code",
   "execution_count": 7,
   "metadata": {
    "scrolled": true
   },
   "outputs": [
    {
     "name": "stdout",
     "output_type": "stream",
     "text": [
      "Vorkommnisse von 00000_00000.ppm:\n",
      "43\n",
      "\n",
      "Vorkommnisse von ./data/0/00000_00000.ppm:\n",
      "1\n"
     ]
    }
   ],
   "source": [
    "lookup_filename = \"00000_00000.ppm\"\n",
    "print(\"Vorkommnisse von \" + lookup_filename + \":\")\n",
    "print(len(df.index[df[\"Filename\"] == lookup_filename]))\n",
    "\n",
    "print()\n",
    "\n",
    "lookup_folder_with_filename = r\"./data/0/00000_00000.ppm\"\n",
    "print(\"Vorkommnisse von \" + lookup_folder_with_filename + \":\")\n",
    "print(len(df.index[df[\"Folder\"] + df[\"Filename\"] == lookup_folder_with_filename]))"
   ]
  },
  {
   "cell_type": "code",
   "execution_count": 8,
   "metadata": {
    "scrolled": true
   },
   "outputs": [],
   "source": [
    "#ImageDisplayer(df, 100, 105)"
   ]
  },
  {
   "cell_type": "markdown",
   "metadata": {},
   "source": [
    "## Plots zur Veranschaulichung des Datensatzes\n",
    "### Ausgewogenheit"
   ]
  },
  {
   "cell_type": "code",
   "execution_count": 9,
   "metadata": {},
   "outputs": [
    {
     "data": {
      "image/png": "[encoded data removed]",
      "text/plain": [
       "<Figure size 432x288 with 1 Axes>"
      ]
     },
     "metadata": {
      "needs_background": "light"
     },
     "output_type": "display_data"
    }
   ],
   "source": [
    "df.plot(y=\"ClassId\", kind=\"hist\", bins=len(set(df[\"ClassId\"])))\n",
    "plt.title(\"Ausgewogenheit des Datensatzes\")\n",
    "plt.ylabel(\"Anzahl Datensätze\")\n",
    "plt.xlabel(\"Klasse\")\n",
    "plt.show()"
   ]
  },
  {
   "cell_type": "markdown",
   "metadata": {},
   "source": [
    "Der Datensatz ist sehr **unausgewogen**. Einige Klassen verfügen über sehr viele Datensätze, während andere nur sehr wenige besitzen.\n",
    "Das neuronale Netz könnte zu sehr auf einige Klassen trainiert werden, daher sollte eine Angleichung der Menge der Datensätze pro Klasse stattfinden.  \n",
    "Am Beispiel der Klassen 0 und 1:"
   ]
  },
  {
   "cell_type": "code",
   "execution_count": 10,
   "metadata": {
    "scrolled": true
   },
   "outputs": [
    {
     "name": "stdout",
     "output_type": "stream",
     "text": [
      "Anzahl Datensätze 20er Schild: 210\n",
      "Anzahl Datensätze 30er Schild: 2220\n",
      "Faktor: 10.57\n"
     ]
    }
   ],
   "source": [
    "print(\"Anzahl Datensätze 20er Schild:\", len(df[df[\"ClassId\"] == 0]))\n",
    "print(\"Anzahl Datensätze 30er Schild:\", len(df[df[\"ClassId\"] == 1]))\n",
    "print(\"Faktor:\", round(len(df[df[\"ClassId\"] == 1])/len(df[df[\"ClassId\"] == 0]), 2))"
   ]
  },
  {
   "cell_type": "markdown",
   "metadata": {},
   "source": [
    "### Bildbreite und Höhe"
   ]
  },
  {
   "cell_type": "code",
   "execution_count": 11,
   "metadata": {
    "scrolled": false
   },
   "outputs": [
    {
     "data": {
      "image/png": "[encoded data removed]",
      "text/plain": [
       "<Figure size 432x288 with 1 Axes>"
      ]
     },
     "metadata": {
      "needs_background": "light"
     },
     "output_type": "display_data"
    }
   ],
   "source": [
    "df.plot(y=\"Width\", kind=\"hist\", bins=len(set(df[\"Width\"])))\n",
    "plt.title(\"Breite der Bilder\")\n",
    "plt.ylabel(\"Anzahl Datensätze\")\n",
    "plt.xlabel(\"Bildbreite\")\n",
    "plt.show()"
   ]
  },
  {
   "cell_type": "code",
   "execution_count": 12,
   "metadata": {},
   "outputs": [
    {
     "data": {
      "image/png": "[encoded data removed]",
      "text/plain": [
       "<Figure size 432x288 with 1 Axes>"
      ]
     },
     "metadata": {
      "needs_background": "light"
     },
     "output_type": "display_data"
    }
   ],
   "source": [
    "df.plot(y=\"Height\", kind=\"hist\", bins=len(set(df[\"Height\"])))\n",
    "plt.title(\"Höhe der Bilder\")\n",
    "plt.ylabel(\"Anzahl Datensätze\")\n",
    "plt.xlabel(\"Bildhöhe\")\n",
    "plt.show()"
   ]
  },
  {
   "cell_type": "markdown",
   "metadata": {},
   "source": [
    "Die Bilder verfügen über unterschiedliche Höhen und Breiten. Der Großteil der Bilder ist bis zu 50 Pixeln breit und bis zu ca. 60 Pixeln hoch.  \n",
    "Auffällig sind einige \"Spikes\" in den Grafiken, was bedeutet, dass viele Bilder die gewisse Breite oder Höhe besitzen.  "
   ]
  },
  {
   "cell_type": "markdown",
   "metadata": {},
   "source": [
    "### Bildfläche"
   ]
  },
  {
   "cell_type": "code",
   "execution_count": 13,
   "metadata": {
    "scrolled": true
   },
   "outputs": [
    {
     "data": {
      "image/png": "[encoded data removed]",
      "text/plain": [
       "<Figure size 432x288 with 1 Axes>"
      ]
     },
     "metadata": {
      "needs_background": "light"
     },
     "output_type": "display_data"
    }
   ],
   "source": [
    "df[\"img_area\"] = df[\"Width\"]*df[\"Height\"]\n",
    "df.plot(y=\"img_area\", kind=\"hist\", bins=len(set(df[\"img_area\"])))\n",
    "plt.title(\"Fläche der Bilder\")\n",
    "plt.ylabel(\"Anzahl Datensätze\")\n",
    "plt.xlabel(\"Bildfläche\")\n",
    "plt.show()"
   ]
  },
  {
   "cell_type": "markdown",
   "metadata": {},
   "source": [
    "Folgend aus den Höhen und Breiten sind die Bildflächen verschieden.  \n",
    "Auch hier befinden sich die meisten Einträge im unteren Spektrum der x-Achse."
   ]
  },
  {
   "cell_type": "markdown",
   "metadata": {},
   "source": [
    "### Bounding-Box Länge, Höhe und Fläche"
   ]
  },
  {
   "cell_type": "code",
   "execution_count": 14,
   "metadata": {},
   "outputs": [],
   "source": [
    "df[\"x_box_len\"] = df[\"Roi.X2\"] - df[\"Roi.X1\"]\n",
    "df[\"y_box_len\"] = df[\"Roi.Y2\"] - df[\"Roi.Y1\"]\n",
    "df[\"box_area\"] = df[\"x_box_len\"]*df[\"y_box_len\"]"
   ]
  },
  {
   "cell_type": "code",
   "execution_count": 15,
   "metadata": {
    "scrolled": true
   },
   "outputs": [
    {
     "data": {
      "image/png": "[encoded data removed]",
      "text/plain": [
       "<Figure size 432x288 with 1 Axes>"
      ]
     },
     "metadata": {
      "needs_background": "light"
     },
     "output_type": "display_data"
    }
   ],
   "source": [
    "df.plot(y=\"x_box_len\", kind=\"hist\", bins=len(set(df[\"x_box_len\"])))\n",
    "plt.title(\"Länge der BoundingBoxes\")\n",
    "plt.ylabel(\"Anzahl Datensätze\")\n",
    "plt.xlabel(\"Länge BB\")\n",
    "plt.show()"
   ]
  },
  {
   "cell_type": "code",
   "execution_count": 16,
   "metadata": {
    "scrolled": false
   },
   "outputs": [
    {
     "data": {
      "image/png": "[encoded data removed]",
      "text/plain": [
       "<Figure size 432x288 with 1 Axes>"
      ]
     },
     "metadata": {
      "needs_background": "light"
     },
     "output_type": "display_data"
    }
   ],
   "source": [
    "df.plot(y=\"y_box_len\", kind=\"hist\", bins=len(set(df[\"y_box_len\"])))\n",
    "plt.title(\"Höhe der BoundingBoxes\")\n",
    "plt.ylabel(\"Anzahl Datensätze\")\n",
    "plt.xlabel(\"Höhe BB\")\n",
    "plt.show()"
   ]
  },
  {
   "cell_type": "code",
   "execution_count": 17,
   "metadata": {},
   "outputs": [
    {
     "data": {
      "image/png": "[encoded data removed]",
      "text/plain": [
       "<Figure size 432x288 with 1 Axes>"
      ]
     },
     "metadata": {
      "needs_background": "light"
     },
     "output_type": "display_data"
    }
   ],
   "source": [
    "df.plot(y=\"box_area\", kind=\"hist\", bins=len(set(df[\"box_area\"])))\n",
    "plt.title(\"Fläche der BoundingBoxes\")\n",
    "plt.ylabel(\"Anzahl Datensätze\")\n",
    "plt.xlabel(\"Fläche BB\")\n",
    "plt.show()"
   ]
  },
  {
   "cell_type": "markdown",
   "metadata": {},
   "source": [
    "Die Bounding-Boxes verhalten sich wie die Bilder selbst. Auch hier sind einige \"Spikes\" bei der Höhe und Breite zu erkennen.  \n",
    "Die meisten Bounding-Boxes sind bis zu ca. 40 Pixel hoch und breit.  \n",
    "Dies kann für die spätere Transformation der Größe genutzt werden, da die zugeschnitten Bilder später alle die gleiche Maß besitzen müssen."
   ]
  },
  {
   "cell_type": "markdown",
   "metadata": {},
   "source": [
    "## Bildklassifizierung\n",
    "### Vorbereitung"
   ]
  },
  {
   "cell_type": "code",
   "execution_count": 18,
   "metadata": {},
   "outputs": [],
   "source": [
    "from skimage import exposure\n",
    "from tensorflow.keras.preprocessing.image import load_img\n",
    "from PIL import Image\n",
    "import matplotlib.pyplot as plt\n",
    "import numpy as np\n",
    "import pickle\n",
    "import cv2\n",
    "import os"
   ]
  },
  {
   "cell_type": "markdown",
   "metadata": {},
   "source": [
    "#### Darstellung und Überblick\n",
    "Um ein Gefühl für die Daten zu bekommen, wird eine Collage erstellt, die jedes 500. Bild darstellt."
   ]
  },
  {
   "cell_type": "code",
   "execution_count": 19,
   "metadata": {
    "scrolled": true
   },
   "outputs": [],
   "source": [
    "collage.create_collage(r\"./images/collage_cropped_images2.png\", df)"
   ]
  },
  {
   "cell_type": "markdown",
   "metadata": {},
   "source": [
    "Darstellungen ohne weitere Nachbearbeitung (nur Zuschnitt auf Bounding Box):\n",
    "\n",
    "<img src=\"./images/collage_cropped_images.png\">"
   ]
  },
  {
   "cell_type": "markdown",
   "metadata": {},
   "source": [
    "Es ist auffällig, dass die Qualität der Bilder stark unterschiedlich ist:\n",
    "- Einige Bilder sind extrem dunkel und besitzen einen geringen Kontrast. \n",
    "- Durch das Skalieren der Bilder unterscheidet sich die Auflösung stark.\n",
    "\n",
    "Teilweise sind Schilder selbst für ein menschliches Auge nicht eindeutig identifizierbar.  \n",
    "**************\n",
    "Es sind folgende Gemeinsamkeiten festzustellen:\n",
    "- Der Bildwinkel ist immer gleich\n",
    "- Die Schilder sind vollständig abgebildet und besitzen keine \"Störungen\" (Überdeckungen, Verunreinigungen, ...)\n",
    "\n",
    "Dies lässt die Frage offen, ob ein späteres Modell Bilder aus dem \"echten\" Leben erkennen kann."
   ]
  },
  {
   "cell_type": "markdown",
   "metadata": {},
   "source": [
    "Im Zuge der Recherche für die Datenvorbereitung fiel ein <a href=\"https://medium.com/@thomastracey/recognizing-traffic-signs-with-cnns-23a4ac66f7a7\">Paper</a> auf, welches ein Verfahren namens \"CLAHE\" nutzte um einen größeren Kontrast herzustellen.<br>\n",
    "Beim späteren Trainieren neuronaler Netze kann betrachtet werden, ob dies einen signifikanten Unterschied bei der Leistung des Modells mit sich bringt.\n",
    "\n",
    "Um die Auswirkungen des Verfahrens zu testen, wird eine Collage der angepassten Bilder erstellt. "
   ]
  },
  {
   "cell_type": "code",
   "execution_count": 20,
   "metadata": {},
   "outputs": [],
   "source": [
    "collage.create_preprocessed_collage(r\"./images/collage_preprocessed_images2.png\", df)"
   ]
  },
  {
   "cell_type": "markdown",
   "metadata": {},
   "source": [
    "Bilder mit Nachbearbeitung (höherer Kontrast):\n",
    "\n",
    "<img src=\"./images/collage_cropped_normalized_images.png\">"
   ]
  },
  {
   "cell_type": "markdown",
   "metadata": {},
   "source": [
    "### CNN / Klassifizierung\n",
    "Aufbau des CNN"
   ]
  },
  {
   "cell_type": "code",
   "execution_count": 21,
   "metadata": {},
   "outputs": [],
   "source": [
    "class TrafficSignNetwork:\n",
    "    @staticmethod\n",
    "    def build(width, height, depth, classes):\n",
    "        model = Sequential()\n",
    "        inputShape = (height, width, depth)\n",
    "        chanDim = -1\n",
    "        \n",
    "        # CONV => RELU => BN => POOL\n",
    "        model.add(Conv2D(8, (5, 5), padding=\"same\",\n",
    "            input_shape=inputShape))\n",
    "        model.add(Activation(\"relu\"))\n",
    "        model.add(BatchNormalization(axis=chanDim))\n",
    "        model.add(MaxPooling2D(pool_size=(2, 2)))\n",
    "        \n",
    "        # first set of (CONV => RELU => CONV => RELU) * 2 => POOL\n",
    "        model.add(Conv2D(16, (3, 3), padding=\"same\"))\n",
    "        model.add(Activation(\"relu\"))\n",
    "        model.add(BatchNormalization(axis=chanDim))\n",
    "        model.add(Conv2D(16, (3, 3), padding=\"same\"))\n",
    "        model.add(Activation(\"relu\"))\n",
    "        model.add(BatchNormalization(axis=chanDim))\n",
    "        model.add(MaxPooling2D(pool_size=(2, 2)))\n",
    "        \n",
    "        # second set of (CONV => RELU => CONV => RELU) * 2 => POOL\n",
    "        model.add(Conv2D(32, (3, 3), padding=\"same\"))\n",
    "        model.add(Activation(\"relu\"))\n",
    "        model.add(BatchNormalization(axis=chanDim))\n",
    "        model.add(Conv2D(32, (3, 3), padding=\"same\"))\n",
    "        model.add(Activation(\"relu\"))\n",
    "        model.add(BatchNormalization(axis=chanDim))\n",
    "        model.add(MaxPooling2D(pool_size=(2, 2)))\n",
    "        \n",
    "        # first set of FC => RELU layers\n",
    "        model.add(Flatten())\n",
    "        model.add(Dense(128))\n",
    "        model.add(Activation(\"relu\"))\n",
    "        model.add(BatchNormalization())\n",
    "        model.add(Dropout(0.5))\n",
    "        \n",
    "        # second set of FC => RELU layers\n",
    "        model.add(Flatten())\n",
    "        model.add(Dense(128))\n",
    "        model.add(Activation(\"relu\"))\n",
    "        model.add(BatchNormalization())\n",
    "        model.add(Dropout(0.5))\n",
    "        \n",
    "        # softmax classifier\n",
    "        model.add(Dense(classes))\n",
    "        model.add(Activation(\"softmax\"))\n",
    "        \n",
    "        # return the constructed network architecture\n",
    "        return model"
   ]
  },
  {
   "cell_type": "markdown",
   "metadata": {},
   "source": [
    "### Daten einlesen\n",
    "Um das neuronale Netz trainieren zu können, werden die Eingabedaten und Labels benötigt.  \n",
    "Auf Grund der vorherigen Schritte ist es möglich, über das erstellte DataFrame zu iterieren und jedes einzelne Bild auszulesen und zu bearbeiten. Im Anschluss daran wird es einer List hinzugefügt, was am Ende des Prozesses alle vorverarbeiteten Bilder beinhaltet.  \n",
    "Das **data**-Array beinhaltet alle Bilddaten\n",
    "Das **labels**-Array beinhaltet die Klassenzugehörigkeiten  \n",
    "\n",
    "Im Anschluss werden die Arrays in numpy-Arrays umgewandelt."
   ]
  },
  {
   "cell_type": "code",
   "execution_count": 22,
   "metadata": {},
   "outputs": [
    {
     "name": "stdout",
     "output_type": "stream",
     "text": [
      "Iterated through 5000 images\n",
      "Iterated through 10000 images\n",
      "Iterated through 15000 images\n",
      "Iterated through 20000 images\n",
      "Iterated through 25000 images\n",
      "Iterated through 30000 images\n",
      "Iterated through 35000 images\n",
      "Iterated through all images\n"
     ]
    }
   ],
   "source": [
    "data = []\n",
    "labels = []\n",
    "\n",
    "for index, row in df.iterrows(): \n",
    "    if index>0 and index%5000 == 0:\n",
    "        print(\"Iterated through\", index, \"images\")\n",
    "    elif index+1 == len(df):\n",
    "        print(\"Iterated through all images\")\n",
    "        \n",
    "    x = row[\"Roi.X1\"]\n",
    "    y = row[\"Roi.Y1\"]\n",
    "    h = row[\"Roi.Y2\"]-row[\"Roi.Y1\"]\n",
    "    w = row[\"Roi.X2\"]-row[\"Roi.X1\"]\n",
    "    \n",
    "    data.append(Reader.read_preprocess_img(Reader, row[\"Folder\"]+row[\"Filename\"], (32,32), x, y, h, w))\n",
    "    labels.append(int(row[\"ClassId\"]))\n",
    "\n",
    "data = np.array(data)\n",
    "labels = np.array(labels)"
   ]
  },
  {
   "cell_type": "markdown",
   "metadata": {},
   "source": [
    "### Aufteilung\n",
    "Aufteilung in Trainings-/Test- und Validierungsdaten  \n",
    "\n",
    "**Trainingsdaten**  \n",
    "Dienen zum Training des neuronalen Netzes. Mit 75% des gesamten Datensatzes wird hier der Großteil der Daten genutzt.\n",
    "\n",
    "**Validierungsdaten**  \n",
    "Dienen zum Testen des neuronalen Netzes während des Trainings. Hierfür werden 17.5% der Daten vorgehalten.\n",
    "\n",
    "**Testdaten**  \n",
    "Dienen zur Evaluation des neuronalen Netzes nach dem Training. Validierungsadaten eignen sich hier nicht, da das neuronale Netz diese Daten bereits \"gesehen\" hat. Es dient als weitere Instanz, Über und Unteranpassung zu erkennen. Der Testdatensatz umfasst 17.5% des Datensatzes."
   ]
  },
  {
   "cell_type": "code",
   "execution_count": 23,
   "metadata": {},
   "outputs": [],
   "source": [
    "# train and test (0.75, 0.25)\n",
    "X_train, X_test, y_train, y_test = train_test_split(data, labels, test_size=0.25, random_state=1234)\n",
    "\n",
    "# split test in val and test (0.5, 0.5 of test-data)\n",
    "X_val, X_test, y_val, y_test = train_test_split(X_test, y_test, test_size=0.5, random_state=1234)"
   ]
  },
  {
   "cell_type": "code",
   "execution_count": 24,
   "metadata": {},
   "outputs": [],
   "source": [
    "#cv2.imshow(\"Image\",X_train[0])\n",
    "#k = cv2.waitKey(0)\n",
    "#cv2.destroyAllWindows()"
   ]
  },
  {
   "cell_type": "code",
   "execution_count": 25,
   "metadata": {},
   "outputs": [],
   "source": [
    "NUM_EPOCHS = 20\n",
    "INIT_LR = 1e-3\n",
    "BS = 64"
   ]
  },
  {
   "cell_type": "code",
   "execution_count": 26,
   "metadata": {},
   "outputs": [
    {
     "name": "stdout",
     "output_type": "stream",
     "text": [
      "(29406,)\n",
      "(29406, 43)\n"
     ]
    }
   ],
   "source": [
    "# Skalierung auf [0,1]\n",
    "X_train = X_train.astype(\"float32\")/255.0\n",
    "X_test = X_test.astype(\"float32\")/255.0\n",
    "X_val = X_val.astype(\"float32\")/255.0\n",
    "\n",
    "print(y_train.shape)\n",
    "y_train = to_categorical(y_train, 43)\n",
    "print(y_train.shape)\n",
    "y_test = to_categorical(y_test, 43)\n",
    "y_val = to_categorical(y_val, 43)"
   ]
  },
  {
   "cell_type": "code",
   "execution_count": 27,
   "metadata": {},
   "outputs": [],
   "source": [
    "opt = Adam(lr=INIT_LR, decay=INIT_LR / (NUM_EPOCHS * 0.5))\n",
    "model = TrafficSignNetwork.build(width=32, height=32, depth=3, classes=43)\n",
    "model.compile(loss=\"categorical_crossentropy\", optimizer=opt, metrics=[\"accuracy\"])"
   ]
  },
  {
   "cell_type": "code",
   "execution_count": 28,
   "metadata": {},
   "outputs": [
    {
     "name": "stdout",
     "output_type": "stream",
     "text": [
      "Model: \"sequential\"\n",
      "_________________________________________________________________\n",
      "Layer (type)                 Output Shape              Param #   \n",
      "=================================================================\n",
      "conv2d (Conv2D)              (None, 32, 32, 8)         608       \n",
      "_________________________________________________________________\n",
      "activation (Activation)      (None, 32, 32, 8)         0         \n",
      "_________________________________________________________________\n",
      "batch_normalization (BatchNo (None, 32, 32, 8)         32        \n",
      "_________________________________________________________________\n",
      "max_pooling2d (MaxPooling2D) (None, 16, 16, 8)         0         \n",
      "_________________________________________________________________\n",
      "conv2d_1 (Conv2D)            (None, 16, 16, 16)        1168      \n",
      "_________________________________________________________________\n",
      "activation_1 (Activation)    (None, 16, 16, 16)        0         \n",
      "_________________________________________________________________\n",
      "batch_normalization_1 (Batch (None, 16, 16, 16)        64        \n",
      "_________________________________________________________________\n",
      "conv2d_2 (Conv2D)            (None, 16, 16, 16)        2320      \n",
      "_________________________________________________________________\n",
      "activation_2 (Activation)    (None, 16, 16, 16)        0         \n",
      "_________________________________________________________________\n",
      "batch_normalization_2 (Batch (None, 16, 16, 16)        64        \n",
      "_________________________________________________________________\n",
      "max_pooling2d_1 (MaxPooling2 (None, 8, 8, 16)          0         \n",
      "_________________________________________________________________\n",
      "conv2d_3 (Conv2D)            (None, 8, 8, 32)          4640      \n",
      "_________________________________________________________________\n",
      "activation_3 (Activation)    (None, 8, 8, 32)          0         \n",
      "_________________________________________________________________\n",
      "batch_normalization_3 (Batch (None, 8, 8, 32)          128       \n",
      "_________________________________________________________________\n",
      "conv2d_4 (Conv2D)            (None, 8, 8, 32)          9248      \n",
      "_________________________________________________________________\n",
      "activation_4 (Activation)    (None, 8, 8, 32)          0         \n",
      "_________________________________________________________________\n",
      "batch_normalization_4 (Batch (None, 8, 8, 32)          128       \n",
      "_________________________________________________________________\n",
      "max_pooling2d_2 (MaxPooling2 (None, 4, 4, 32)          0         \n",
      "_________________________________________________________________\n",
      "flatten (Flatten)            (None, 512)               0         \n",
      "_________________________________________________________________\n",
      "dense (Dense)                (None, 128)               65664     \n",
      "_________________________________________________________________\n",
      "activation_5 (Activation)    (None, 128)               0         \n",
      "_________________________________________________________________\n",
      "batch_normalization_5 (Batch (None, 128)               512       \n",
      "_________________________________________________________________\n",
      "dropout (Dropout)            (None, 128)               0         \n",
      "_________________________________________________________________\n",
      "flatten_1 (Flatten)          (None, 128)               0         \n",
      "_________________________________________________________________\n",
      "dense_1 (Dense)              (None, 128)               16512     \n",
      "_________________________________________________________________\n",
      "activation_6 (Activation)    (None, 128)               0         \n",
      "_________________________________________________________________\n",
      "batch_normalization_6 (Batch (None, 128)               512       \n",
      "_________________________________________________________________\n",
      "dropout_1 (Dropout)          (None, 128)               0         \n",
      "_________________________________________________________________\n",
      "dense_2 (Dense)              (None, 43)                5547      \n",
      "_________________________________________________________________\n",
      "activation_7 (Activation)    (None, 43)                0         \n",
      "=================================================================\n",
      "Total params: 107,147\n",
      "Trainable params: 106,427\n",
      "Non-trainable params: 720\n",
      "_________________________________________________________________\n"
     ]
    }
   ],
   "source": [
    "model.summary()"
   ]
  },
  {
   "cell_type": "code",
   "execution_count": 29,
   "metadata": {
    "scrolled": true
   },
   "outputs": [
    {
     "name": "stdout",
     "output_type": "stream",
     "text": [
      "Epoch 1/20\n",
      "919/919 [==============================] - 30s 32ms/step - loss: 1.5032 - accuracy: 0.5983 - val_loss: 0.2730 - val_accuracy: 0.9298\n",
      "Epoch 2/20\n",
      "919/919 [==============================] - 29s 32ms/step - loss: 0.4116 - accuracy: 0.8780 - val_loss: 0.1212 - val_accuracy: 0.9639\n",
      "Epoch 3/20\n",
      "919/919 [==============================] - 29s 32ms/step - loss: 0.2479 - accuracy: 0.9273 - val_loss: 0.0691 - val_accuracy: 0.9810\n",
      "Epoch 4/20\n",
      "919/919 [==============================] - 30s 32ms/step - loss: 0.1718 - accuracy: 0.9508 - val_loss: 0.0479 - val_accuracy: 0.9849\n",
      "Epoch 5/20\n",
      "919/919 [==============================] - 29s 32ms/step - loss: 0.1308 - accuracy: 0.9614 - val_loss: 0.0382 - val_accuracy: 0.9888\n",
      "Epoch 6/20\n",
      "919/919 [==============================] - 29s 32ms/step - loss: 0.1007 - accuracy: 0.9699 - val_loss: 0.0370 - val_accuracy: 0.9876\n",
      "Epoch 7/20\n",
      "919/919 [==============================] - 29s 32ms/step - loss: 0.0839 - accuracy: 0.9753 - val_loss: 0.0473 - val_accuracy: 0.9865\n",
      "Epoch 8/20\n",
      "919/919 [==============================] - 29s 32ms/step - loss: 0.0741 - accuracy: 0.9769 - val_loss: 0.0281 - val_accuracy: 0.9916\n",
      "Epoch 9/20\n",
      "919/919 [==============================] - 30s 33ms/step - loss: 0.0607 - accuracy: 0.9817 - val_loss: 0.0319 - val_accuracy: 0.9910\n",
      "Epoch 10/20\n",
      "919/919 [==============================] - 30s 33ms/step - loss: 0.0543 - accuracy: 0.9839 - val_loss: 0.0269 - val_accuracy: 0.9918\n",
      "Epoch 11/20\n",
      "919/919 [==============================] - 30s 33ms/step - loss: 0.0477 - accuracy: 0.9859 - val_loss: 0.0221 - val_accuracy: 0.9933\n",
      "Epoch 12/20\n",
      "919/919 [==============================] - 29s 32ms/step - loss: 0.0403 - accuracy: 0.9877 - val_loss: 0.0285 - val_accuracy: 0.9927\n",
      "Epoch 13/20\n",
      "919/919 [==============================] - 29s 32ms/step - loss: 0.0353 - accuracy: 0.9897 - val_loss: 0.0192 - val_accuracy: 0.9943\n",
      "Epoch 14/20\n",
      "919/919 [==============================] - 31s 34ms/step - loss: 0.0328 - accuracy: 0.9900 - val_loss: 0.0206 - val_accuracy: 0.9937\n",
      "Epoch 15/20\n",
      "919/919 [==============================] - 30s 32ms/step - loss: 0.0293 - accuracy: 0.9910 - val_loss: 0.0216 - val_accuracy: 0.9931\n",
      "Epoch 16/20\n",
      "919/919 [==============================] - 30s 32ms/step - loss: 0.0259 - accuracy: 0.9922 - val_loss: 0.0281 - val_accuracy: 0.9922\n",
      "Epoch 17/20\n",
      "919/919 [==============================] - 30s 33ms/step - loss: 0.0235 - accuracy: 0.9929 - val_loss: 0.0202 - val_accuracy: 0.9943\n",
      "Epoch 18/20\n",
      "919/919 [==============================] - 30s 32ms/step - loss: 0.0259 - accuracy: 0.9923 - val_loss: 0.0266 - val_accuracy: 0.9931\n",
      "Epoch 19/20\n",
      "919/919 [==============================] - 31s 34ms/step - loss: 0.0228 - accuracy: 0.9929 - val_loss: 0.0193 - val_accuracy: 0.9947\n",
      "Epoch 20/20\n",
      "919/919 [==============================] - 31s 34ms/step - loss: 0.0205 - accuracy: 0.9935 - val_loss: 0.0229 - val_accuracy: 0.9943\n"
     ]
    }
   ],
   "source": [
    "H = model.fit(X_train, y_train,\n",
    "              validation_data=(X_val, y_val),\n",
    "              epochs = NUM_EPOCHS\n",
    "            )"
   ]
  },
  {
   "cell_type": "code",
   "execution_count": 30,
   "metadata": {},
   "outputs": [
    {
     "data": {
      "image/png": "[encoded data removed]",
      "text/plain": [
       "<Figure size 864x288 with 2 Axes>"
      ]
     },
     "metadata": {
      "needs_background": "light"
     },
     "output_type": "display_data"
    }
   ],
   "source": [
    "hist = H.history\n",
    "x_arr = np.arange(len(hist['loss'])) + 1\n",
    "\n",
    "fig = plt.figure(figsize=(12, 4))\n",
    "ax = fig.add_subplot(1, 2, 1)\n",
    "ax.plot(x_arr, hist['loss'], '-o', label='Train loss')\n",
    "ax.plot(x_arr, hist['val_loss'], '--<', label='Validation loss')\n",
    "ax.set_xlabel('Epoch', size=15)\n",
    "ax.set_ylabel('Loss', size=15)\n",
    "ax.legend(fontsize=15)\n",
    "ax = fig.add_subplot(1, 2, 2)\n",
    "ax.plot(x_arr, hist['accuracy'], '-o', label='Train acc.')\n",
    "ax.plot(x_arr, hist['val_accuracy'], '--<', label='Validation acc.')\n",
    "ax.legend(fontsize=15)\n",
    "ax.set_xlabel('Epoch', size=15)\n",
    "ax.set_ylabel('Accuracy', size=15)\n",
    "plt.show()"
   ]
  },
  {
   "cell_type": "code",
   "execution_count": 31,
   "metadata": {},
   "outputs": [
    {
     "name": "stdout",
     "output_type": "stream",
     "text": [
      "154/154 [==============================] - 1s 8ms/step - loss: 0.0257 - accuracy: 0.9939\n"
     ]
    },
    {
     "data": {
      "text/plain": [
       "[0.025656796991825104, 0.993880033493042]"
      ]
     },
     "execution_count": 31,
     "metadata": {},
     "output_type": "execute_result"
    }
   ],
   "source": [
    "model.evaluate(X_test, y_test)"
   ]
  },
  {
   "cell_type": "code",
   "execution_count": 32,
   "metadata": {},
   "outputs": [
    {
     "data": {
      "text/plain": [
       "<tf.Tensor: shape=(4902,), dtype=int64, numpy=array([ 7, 19,  3, ...,  7,  7, 11], dtype=int64)>"
      ]
     },
     "execution_count": 32,
     "metadata": {},
     "output_type": "execute_result"
    }
   ],
   "source": [
    "preds = model.predict(X_test)\n",
    "preds = tf.argmax(preds, axis=1)\n",
    "preds"
   ]
  },
  {
   "cell_type": "code",
   "execution_count": 33,
   "metadata": {},
   "outputs": [
    {
     "name": "stdout",
     "output_type": "stream",
     "text": [
      "Geschwindigkeitsbegrenzung (100km/h)\n"
     ]
    }
   ],
   "source": [
    "print(classes[preds[0].numpy()])\n",
    "cv2.imshow(\"Image\",X_test[0]*255)\n",
    "k = cv2.waitKey(0)\n",
    "cv2.destroyAllWindows()"
   ]
  },
  {
   "cell_type": "code",
   "execution_count": 34,
   "metadata": {},
   "outputs": [
    {
     "name": "stdout",
     "output_type": "stream",
     "text": [
      "Falsche Vorhersagen: 30 von: 4902\n"
     ]
    }
   ],
   "source": [
    "wrong_preds = preds.numpy() !=  tf.argmax(y_test, axis=1).numpy()\n",
    "wrong_preds_index = np.where(wrong_preds == True)\n",
    "print(\"Falsche Vorhersagen:\", len(wrong_preds_index[0]), \"von:\", len(preds.numpy()))"
   ]
  },
  {
   "cell_type": "code",
   "execution_count": 35,
   "metadata": {
    "scrolled": true
   },
   "outputs": [],
   "source": [
    "#for i in wrong_predictions_index[0]:\n",
    " #   print(classes[real[i].numpy()])\n",
    "  #  cv2.imshow(\"Image\",X_test[i]*255)\n",
    "   # k = cv2.waitKey(0)\n",
    "    #cv2.destroyAllWindows()"
   ]
  },
  {
   "cell_type": "code",
   "execution_count": 36,
   "metadata": {},
   "outputs": [
    {
     "data": {
      "text/plain": [
       "numpy.ndarray"
      ]
     },
     "execution_count": 36,
     "metadata": {},
     "output_type": "execute_result"
    }
   ],
   "source": [
    "X_train[0].shape\n",
    "type(X_train)"
   ]
  },
  {
   "cell_type": "code",
   "execution_count": 37,
   "metadata": {},
   "outputs": [
    {
     "name": "stdout",
     "output_type": "stream",
     "text": [
      "Prediction: Kurve (links)\n"
     ]
    }
   ],
   "source": [
    "data2 = []\n",
    "image = cv2.imread(r\"./images/KL_test_3.png\")\n",
    "image = transform.resize(image, (32, 32))   #cv2.resize??\n",
    "image = exposure.equalize_adapthist(image, clip_limit=0.1)\n",
    "data2.append(image)\n",
    "data2 = np.asarray(data2)\n",
    "data2 = data2.astype(\"float32\")/255.0\n",
    "preds = model.predict(data2)\n",
    "preds = tf.argmax(preds, axis=1)\n",
    "print(\"Prediction: \" + classes[preds[0].numpy()])"
   ]
  },
  {
   "cell_type": "code",
   "execution_count": 39,
   "metadata": {},
   "outputs": [],
   "source": [
    "model.save(r\"./models/first_model.h5\")"
   ]
  }
 ],
 "metadata": {
  "kernelspec": {
   "display_name": "Python 3",
   "language": "python",
   "name": "python3"
  },
  "language_info": {
   "codemirror_mode": {
    "name": "ipython",
    "version": 3
   },
   "file_extension": ".py",
   "mimetype": "text/x-python",
   "name": "python",
   "nbconvert_exporter": "python",
   "pygments_lexer": "ipython3",
   "version": "3.8.8"
  }
 },
 "nbformat": 4,
 "nbformat_minor": 4
}
