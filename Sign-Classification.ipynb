{
 "cells": [
  {
   "cell_type": "markdown",
   "metadata": {},
   "source": [
    "# Aufgabe-D-Schilder"
   ]
  },
  {
   "cell_type": "markdown",
   "metadata": {},
   "source": [
    "## Allgemeines\n",
    "\n",
    "Eine allgemeine Beschreibung der Laboraufgaben inklusive des Vorgehens, den Bewertungsrichtlinien und der Abgabe finden Sie  <a href=\"ML-allgemein.ipynb\">hier</a>"
   ]
  },
  {
   "cell_type": "markdown",
   "metadata": {},
   "source": [
    "## Bearbeiter\n",
    "**TINF19-IT2**  \n",
    "Patrick Küsters (9815596)  \n",
    "Nick Kramer (3122448)  \n",
    "**TINF19-IT1**  \n",
    "Sören Holzenkamp (8528927)"
   ]
  },
  {
   "cell_type": "markdown",
   "metadata": {},
   "source": [
    "## VM zum Trainieren großer Modelle\n",
    "\n",
    "- Nutzung des Clusters der DHBW\n",
    "    - wichtige Links\n",
    "    - VPN-Endpunkt: drogon.dhbw-mannheim.de\n",
    "    - Anmeldeseite Cluster: https://cloud.4c.dhbw-mannheim.de/\n",
    "1. Ping external IP (Floating IP)\n",
    "    1. Not working? --> New Floating IP\n",
    "    2. Working --> ssh ubuntu@141.72.191.72 -i privatekey.txt"
   ]
  },
  {
   "cell_type": "markdown",
   "metadata": {},
   "source": [
    "## Datenquelle\n",
    "\n",
    "\n",
    "* Laden Sie ihre Daten von http://141.72.190.207/ml_lab/D_schilder herunter\n",
    "    * Die Daten sind geschützt. \n",
    "    * Sie müssen evtl. in einem Netzwerk der DHBW (z.B. WLAN, VPN, ...) angemeldet sein. \n",
    "        * Sie können sich auf der Webseite mit dem Benutzernamen dhbw und dem Zugangsnamen ml_2021 anmelden. \n",
    "    \n",
    "\n"
   ]
  },
  {
   "cell_type": "markdown",
   "metadata": {},
   "source": [
    "## Readme der Daten\n",
    "\n",
    "This archive contains the following structure:\n",
    "\n",
    "There is one directory for each of the 43 classes (0000 - 00043).\n",
    "Each directory contains the corresponding training images and one \n",
    "text file with annotations, eg. GT-00000.csv. \n",
    "\n",
    "\n",
    "**********************************************\n",
    "Image format and naming  \n",
    "**********************************************\n",
    "The images are PPM images (RGB color). Files are numbered in two parts:\n",
    "\n",
    "   XXXXX_YYYYY.ppm\n",
    "\n",
    "The first part, XXXXX, represents the track number. All images of one class \n",
    "with identical track numbers originate from one single physical traffic sign.\n",
    "The second part, YYYYY, is a running number within the track. The temporal order\n",
    "of the images is preserved.\n",
    "\n",
    "\n",
    "**********************************************\n",
    "Annotation format\n",
    "**********************************************\n",
    "\n",
    "The annotations are stored in CSV format (field separator\n",
    "is \";\" (semicolon) ). The annotations contain meta information \n",
    "about the image and the class id.\n",
    "\n",
    "\n",
    "In detail, the annotations provide the following fields:\n",
    "\n",
    "Filename        - Image file the following information applies to\n",
    "Width, Height   - Dimensions of the image\n",
    "Roi.x1,Roi.y1,\n",
    "Roi.x2,Roi.y2   - Location of the sign within the image\n",
    "\t\t  (Images contain a border around the actual sign\n",
    "                  of 10 percent of the sign size, at least 5 pixel)\n",
    "ClassId         - The class of the traffic sign\n"
   ]
  },
  {
   "cell_type": "markdown",
   "metadata": {},
   "source": [
    "## Aufgabe"
   ]
  },
  {
   "cell_type": "markdown",
   "metadata": {},
   "source": [
    "* die Daten \n",
    "    * enthalten mehr als 50000 Bilder von Verkehrsschilder auf deutschen Straßen\n",
    "    * pro Klasse der Daten gibt es ein Verzeichnis\n",
    "    * in jeder Klasse gibt eine CSV-Datei mit Annotationen der Bilder\n",
    "        * Die Namen lauten GT-<ClassID>.csv\n",
    "* die Bilder \n",
    "    * enthalten genau ein Verkehrszeichen, mit ca. 10% Rand um das Verkehrszeichen\n",
    "    * sind im PPM Format gespeichert\n",
    "    * die Größen der Bilder variieren von 15x15 Pixel bis zu 250x250 Pixel\n",
    "        * die Bilder müssen aber nicht quadratisch sein\n",
    "    * In den Annotationen ist auch die Bounding Box hinterlegt\n",
    "* die Annotations-Datei hat den folgenden Werte\n",
    "    * Dateiname, Width, Height, BB.x1, BB.y1, BB.x2, BB.y2, ClassId\n",
    "        * BB steht für BoundingBox\n",
    "\n",
    "Erstellen Sie ein tiefes neuronales Netz, dass Schilder in Bildern erkennt und die Position des erkannten Schilds als Bounding Box ausgibt! Die Lösung soll auch mehrere Schilder in einem Bild erkennen können! \n"
   ]
  },
  {
   "cell_type": "markdown",
   "metadata": {},
   "source": [
    "# Lösung\n",
    "\n",
    "Implementierung und Dokumentation\n",
    "\n",
    "## Dictionary für alle Klassen im Datensatz\n",
    "\n",
    "Quelle für die meisten Bezeichnungen: https://www.adac.de/verkehr/recht/verkehrszeichen/"
   ]
  },
  {
   "cell_type": "code",
   "execution_count": 1,
   "metadata": {},
   "outputs": [],
   "source": [
    "classes = { 0:'Geschwindigkeitsbegrenzung (20km/h)',\n",
    "            1:'Geschwindigkeitsbegrenzung (30km/h)',      \n",
    "            2:'Geschwindigkeitsbegrenzung (50km/h)',       \n",
    "            3:'Geschwindigkeitsbegrenzung (60km/h)',      \n",
    "            4:'Geschwindigkeitsbegrenzung (70km/h)',    \n",
    "            5:'Geschwindigkeitsbegrenzung (80km/h)',      \n",
    "            6:'Ende der Geschwindigkeitsbegrenzung (80km/h)',     \n",
    "            7:'Geschwindigkeitsbegrenzung (100km/h)',    \n",
    "            8:'Geschwindigkeitsbegrenzung (120km/h)',     \n",
    "            9:'Überholverbot',   \n",
    "           10:'Überholverbot >3.5t',     \n",
    "           11:'Vorfahrt nächste Kreuzung',     \n",
    "           12:'Vorfahrtsstraße',    \n",
    "           13:'Vorfahrt gewähren',     \n",
    "           14:'Stop',       \n",
    "           15:'Verbot für Fahrzeuge aller Art',       \n",
    "           16:'Verbot für Fahrzeuge >3.5t',       \n",
    "           17:'Verbot der Einfahrt',       \n",
    "           18:'Gefahrenstelle',     \n",
    "           19:'Kurve (links)',      \n",
    "           20:'Kurve (rechts)',   \n",
    "           21:'Doppelkurve',      \n",
    "           22:'Unebene Fahrbahn',     \n",
    "           23:'Schleuder-/Rutschgefahr',       \n",
    "           24:'Einseitig (rechts) verengte Fahrbahn',  \n",
    "           25:'Arbeitsstelle',    \n",
    "           26:'Lichtzeichenanlage', # zu deutsch: Ampel      \n",
    "           27:'Fußgänger',     \n",
    "           28:'Kinder',     \n",
    "           29:'Radfahrer',       \n",
    "           30:'Schnee-/Eisglätte',\n",
    "           31:'Wildwechsel',      \n",
    "           32:'Ende sämtlicher Geschw-begr./Überholverb.',      \n",
    "           33:'Vorgeschriebene Fahrtrichtung rechts',     \n",
    "           34:'Vorgeschriebene Fahrtrichtung links',       \n",
    "           35:'Vorgeschriebene Fahrtrichtung gerade',      \n",
    "           36:'Vorgeschriebene Fahrtrichtung gerade/rechts',      \n",
    "           37:'Vorgeschriebene Fahrtrichtung gerade/links',      \n",
    "           38:'Vorgeschriebene Vorbeifahrt rechts vorbei',     \n",
    "           39:'Vorgeschriebene Vorbeifahrt links vorbei',      \n",
    "           40:'Kreisverkehr',     \n",
    "           41:'Ende Überholverbot',      \n",
    "           42:'Ende Überholverbot >3.5t' \n",
    "          }"
   ]
  },
  {
   "cell_type": "markdown",
   "metadata": {},
   "source": [
    "## Imports\n",
    "Lokal entwickelte Skripte und Module"
   ]
  },
  {
   "cell_type": "code",
   "execution_count": 2,
   "metadata": {},
   "outputs": [],
   "source": [
    "import sys\n",
    "from pathlib import Path\n",
    "module_path = str(Path.cwd() / \"src\")\n",
    "if module_path not in sys.path:\n",
    "    sys.path.append(module_path)"
   ]
  },
  {
   "cell_type": "code",
   "execution_count": 3,
   "metadata": {},
   "outputs": [],
   "source": [
    "from reader import Reader\n",
    "from display_data import ImageDisplayer\n",
    "import collage"
   ]
  },
  {
   "cell_type": "markdown",
   "metadata": {},
   "source": [
    "Externe Bibliotheken"
   ]
  },
  {
   "cell_type": "code",
   "execution_count": 4,
   "metadata": {},
   "outputs": [],
   "source": [
    "import cv2\n",
    "import pandas as pd\n",
    "import matplotlib.pyplot as plt"
   ]
  },
  {
   "cell_type": "code",
   "execution_count": 5,
   "metadata": {},
   "outputs": [],
   "source": [
    "from tensorflow.keras.models import Sequential\n",
    "from tensorflow.keras.layers import BatchNormalization\n",
    "from tensorflow.keras.layers import Conv2D\n",
    "from tensorflow.keras.layers import MaxPooling2D\n",
    "from tensorflow.keras.layers import AvgPool2D\n",
    "from tensorflow.keras.layers import Activation\n",
    "from tensorflow.keras.layers import Flatten\n",
    "from tensorflow.keras.layers import Dropout\n",
    "from tensorflow.keras.layers import Dense\n",
    "from tensorflow.keras.optimizers import Adam\n",
    "from tensorflow.keras.utils import to_categorical\n",
    "import tensorflow as tf\n",
    "from skimage import transform\n",
    "from sklearn.model_selection import train_test_split"
   ]
  },
  {
   "cell_type": "markdown",
   "metadata": {},
   "source": [
    "## Einlesen der Daten\n",
    "Der Datensatz besteht aus 43 Ordnern, welche je eine Klasse abbilden.  \n",
    "- Beispiel: In Ordner 0 liegen ausschließlich Bilder von Tempo 20 Schildern ab  \n",
    "\n",
    "### Reader\n",
    "Reader() stellt eine selbst entwickelte Klasse dar. <a href=\"./src/reader.py\">Sie ist hier zu finden</a>.<br>\n",
    "Diese iteriert durch alle Ordner und liest die Annotation-Files ein. Diese Informationen werden in einem pandas DataFrame gespeichert.  "
   ]
  },
  {
   "cell_type": "code",
   "execution_count": 6,
   "metadata": {},
   "outputs": [
    {
     "data": {
      "text/html": [
       "<div>\n",
       "<style scoped>\n",
       "    .dataframe tbody tr th:only-of-type {\n",
       "        vertical-align: middle;\n",
       "    }\n",
       "\n",
       "    .dataframe tbody tr th {\n",
       "        vertical-align: top;\n",
       "    }\n",
       "\n",
       "    .dataframe thead th {\n",
       "        text-align: right;\n",
       "    }\n",
       "</style>\n",
       "<table border=\"1\" class=\"dataframe\">\n",
       "  <thead>\n",
       "    <tr style=\"text-align: right;\">\n",
       "      <th></th>\n",
       "      <th>Filename</th>\n",
       "      <th>Folder</th>\n",
       "      <th>Width</th>\n",
       "      <th>Height</th>\n",
       "      <th>Roi.X1</th>\n",
       "      <th>Roi.Y1</th>\n",
       "      <th>Roi.X2</th>\n",
       "      <th>Roi.Y2</th>\n",
       "      <th>ClassId</th>\n",
       "    </tr>\n",
       "  </thead>\n",
       "  <tbody>\n",
       "    <tr>\n",
       "      <th>0</th>\n",
       "      <td>00000_00000.ppm</td>\n",
       "      <td>./data/0/</td>\n",
       "      <td>29</td>\n",
       "      <td>30</td>\n",
       "      <td>5</td>\n",
       "      <td>6</td>\n",
       "      <td>24</td>\n",
       "      <td>25</td>\n",
       "      <td>0</td>\n",
       "    </tr>\n",
       "    <tr>\n",
       "      <th>1</th>\n",
       "      <td>00000_00001.ppm</td>\n",
       "      <td>./data/0/</td>\n",
       "      <td>30</td>\n",
       "      <td>30</td>\n",
       "      <td>5</td>\n",
       "      <td>5</td>\n",
       "      <td>25</td>\n",
       "      <td>25</td>\n",
       "      <td>0</td>\n",
       "    </tr>\n",
       "    <tr>\n",
       "      <th>2</th>\n",
       "      <td>00000_00002.ppm</td>\n",
       "      <td>./data/0/</td>\n",
       "      <td>30</td>\n",
       "      <td>30</td>\n",
       "      <td>5</td>\n",
       "      <td>5</td>\n",
       "      <td>25</td>\n",
       "      <td>25</td>\n",
       "      <td>0</td>\n",
       "    </tr>\n",
       "    <tr>\n",
       "      <th>3</th>\n",
       "      <td>00000_00003.ppm</td>\n",
       "      <td>./data/0/</td>\n",
       "      <td>31</td>\n",
       "      <td>31</td>\n",
       "      <td>5</td>\n",
       "      <td>5</td>\n",
       "      <td>26</td>\n",
       "      <td>26</td>\n",
       "      <td>0</td>\n",
       "    </tr>\n",
       "    <tr>\n",
       "      <th>4</th>\n",
       "      <td>00000_00004.ppm</td>\n",
       "      <td>./data/0/</td>\n",
       "      <td>30</td>\n",
       "      <td>32</td>\n",
       "      <td>5</td>\n",
       "      <td>6</td>\n",
       "      <td>25</td>\n",
       "      <td>26</td>\n",
       "      <td>0</td>\n",
       "    </tr>\n",
       "    <tr>\n",
       "      <th>...</th>\n",
       "      <td>...</td>\n",
       "      <td>...</td>\n",
       "      <td>...</td>\n",
       "      <td>...</td>\n",
       "      <td>...</td>\n",
       "      <td>...</td>\n",
       "      <td>...</td>\n",
       "      <td>...</td>\n",
       "      <td>...</td>\n",
       "    </tr>\n",
       "    <tr>\n",
       "      <th>39204</th>\n",
       "      <td>00007_00025.ppm</td>\n",
       "      <td>./data/42/</td>\n",
       "      <td>52</td>\n",
       "      <td>56</td>\n",
       "      <td>5</td>\n",
       "      <td>6</td>\n",
       "      <td>47</td>\n",
       "      <td>51</td>\n",
       "      <td>42</td>\n",
       "    </tr>\n",
       "    <tr>\n",
       "      <th>39205</th>\n",
       "      <td>00007_00026.ppm</td>\n",
       "      <td>./data/42/</td>\n",
       "      <td>56</td>\n",
       "      <td>58</td>\n",
       "      <td>5</td>\n",
       "      <td>5</td>\n",
       "      <td>51</td>\n",
       "      <td>53</td>\n",
       "      <td>42</td>\n",
       "    </tr>\n",
       "    <tr>\n",
       "      <th>39206</th>\n",
       "      <td>00007_00027.ppm</td>\n",
       "      <td>./data/42/</td>\n",
       "      <td>58</td>\n",
       "      <td>62</td>\n",
       "      <td>5</td>\n",
       "      <td>6</td>\n",
       "      <td>53</td>\n",
       "      <td>57</td>\n",
       "      <td>42</td>\n",
       "    </tr>\n",
       "    <tr>\n",
       "      <th>39207</th>\n",
       "      <td>00007_00028.ppm</td>\n",
       "      <td>./data/42/</td>\n",
       "      <td>63</td>\n",
       "      <td>69</td>\n",
       "      <td>5</td>\n",
       "      <td>7</td>\n",
       "      <td>58</td>\n",
       "      <td>63</td>\n",
       "      <td>42</td>\n",
       "    </tr>\n",
       "    <tr>\n",
       "      <th>39208</th>\n",
       "      <td>00007_00029.ppm</td>\n",
       "      <td>./data/42/</td>\n",
       "      <td>68</td>\n",
       "      <td>69</td>\n",
       "      <td>7</td>\n",
       "      <td>6</td>\n",
       "      <td>62</td>\n",
       "      <td>63</td>\n",
       "      <td>42</td>\n",
       "    </tr>\n",
       "  </tbody>\n",
       "</table>\n",
       "<p>39209 rows × 9 columns</p>\n",
       "</div>"
      ],
      "text/plain": [
       "              Filename      Folder  Width  Height  Roi.X1  Roi.Y1  Roi.X2  \\\n",
       "0      00000_00000.ppm   ./data/0/     29      30       5       6      24   \n",
       "1      00000_00001.ppm   ./data/0/     30      30       5       5      25   \n",
       "2      00000_00002.ppm   ./data/0/     30      30       5       5      25   \n",
       "3      00000_00003.ppm   ./data/0/     31      31       5       5      26   \n",
       "4      00000_00004.ppm   ./data/0/     30      32       5       6      25   \n",
       "...                ...         ...    ...     ...     ...     ...     ...   \n",
       "39204  00007_00025.ppm  ./data/42/     52      56       5       6      47   \n",
       "39205  00007_00026.ppm  ./data/42/     56      58       5       5      51   \n",
       "39206  00007_00027.ppm  ./data/42/     58      62       5       6      53   \n",
       "39207  00007_00028.ppm  ./data/42/     63      69       5       7      58   \n",
       "39208  00007_00029.ppm  ./data/42/     68      69       7       6      62   \n",
       "\n",
       "       Roi.Y2  ClassId  \n",
       "0          25        0  \n",
       "1          25        0  \n",
       "2          25        0  \n",
       "3          26        0  \n",
       "4          26        0  \n",
       "...       ...      ...  \n",
       "39204      51       42  \n",
       "39205      53       42  \n",
       "39206      57       42  \n",
       "39207      63       42  \n",
       "39208      63       42  \n",
       "\n",
       "[39209 rows x 9 columns]"
      ]
     },
     "execution_count": 6,
     "metadata": {},
     "output_type": "execute_result"
    }
   ],
   "source": [
    "reader = Reader()\n",
    "df = reader.read_data_to_df(folders=43, pre_path=r\"./data/\")\n",
    "df"
   ]
  },
  {
   "cell_type": "markdown",
   "metadata": {},
   "source": [
    "### Beschreibung der Daten\n",
    "Der Datensatz besteht aus 39209 Einträgen, welcher sich in 43 Klassen unterteilt.  \n",
    "Jeder Eintrag stellt ein Bild dar, welches eine gewissen Breite und Höhe besitzt. **Die Bilder besitzen also nicht die gleiche Größe.**  \n",
    "Zudem ist die \"Bounding Box\" durch die 4 Spalten beginnend mit Roi abgebildet. (X1, Y1) spannt mit (X2, Y2) ein Rechteck auf, in welchem sich das Verkehrszeichen befinden soll."
   ]
  },
  {
   "cell_type": "markdown",
   "metadata": {},
   "source": [
    "Zusätzlich wird der Pfad zu der einzelnen Bilder gespeichert. Der Grund hierfür ist die Nicht-Eindeutigkeit der Dateinamen über den eigenen Ordner hinaus.  \n",
    "Dies geht auch aus dem Readme der Daten hervor (ein Dateiname besteht aus Track und Tracknummer).  "
   ]
  },
  {
   "cell_type": "code",
   "execution_count": 7,
   "metadata": {
    "scrolled": true
   },
   "outputs": [
    {
     "name": "stdout",
     "output_type": "stream",
     "text": [
      "Vorkommnisse von 00000_00000.ppm:\n",
      "43\n",
      "\n",
      "Vorkommnisse von ./data/0/00000_00000.ppm:\n",
      "1\n"
     ]
    }
   ],
   "source": [
    "lookup_filename = \"00000_00000.ppm\"\n",
    "print(\"Vorkommnisse von \" + lookup_filename + \":\")\n",
    "print(len(df.index[df[\"Filename\"] == lookup_filename]))\n",
    "\n",
    "print()\n",
    "\n",
    "lookup_folder_with_filename = r\"./data/0/00000_00000.ppm\"\n",
    "print(\"Vorkommnisse von \" + lookup_folder_with_filename + \":\")\n",
    "print(len(df.index[df[\"Folder\"] + df[\"Filename\"] == lookup_folder_with_filename]))"
   ]
  },
  {
   "cell_type": "code",
   "execution_count": 8,
   "metadata": {
    "scrolled": true
   },
   "outputs": [],
   "source": [
    "#ImageDisplayer(df, 100, 105)"
   ]
  },
  {
   "cell_type": "markdown",
   "metadata": {},
   "source": [
    "## Plots zur Veranschaulichung des Datensatzes\n",
    "### Ausgewogenheit"
   ]
  },
  {
   "cell_type": "code",
   "execution_count": 9,
   "metadata": {},
   "outputs": [
    {
     "data": {
      "image/png": "[encoded data removed]",
      "text/plain": [
       "<Figure size 432x288 with 1 Axes>"
      ]
     },
     "metadata": {
      "needs_background": "light"
     },
     "output_type": "display_data"
    }
   ],
   "source": [
    "df.plot(y=\"ClassId\", kind=\"hist\", bins=len(set(df[\"ClassId\"])))\n",
    "plt.title(\"Ausgewogenheit des Datensatzes\")\n",
    "plt.ylabel(\"Anzahl Datensätze\")\n",
    "plt.xlabel(\"Klasse\")\n",
    "plt.show()"
   ]
  },
  {
   "cell_type": "markdown",
   "metadata": {},
   "source": [
    "Der Datensatz ist sehr **unausgewogen**. Einige Klassen verfügen über sehr viele Datensätze, während andere nur sehr wenige besitzen.\n",
    "Das neuronale Netz könnte zu sehr auf einige Klassen trainiert werden, daher sollte eine Angleichung der Menge der Datensätze pro Klasse stattfinden.  \n",
    "Am Beispiel der Klassen 0 und 1:"
   ]
  },
  {
   "cell_type": "code",
   "execution_count": 10,
   "metadata": {
    "scrolled": true
   },
   "outputs": [
    {
     "name": "stdout",
     "output_type": "stream",
     "text": [
      "Anzahl Datensätze 20er Schild: 210\n",
      "Anzahl Datensätze 30er Schild: 2220\n",
      "Faktor: 10.57\n"
     ]
    }
   ],
   "source": [
    "print(\"Anzahl Datensätze 20er Schild:\", len(df[df[\"ClassId\"] == 0]))\n",
    "print(\"Anzahl Datensätze 30er Schild:\", len(df[df[\"ClassId\"] == 1]))\n",
    "print(\"Faktor:\", round(len(df[df[\"ClassId\"] == 1])/len(df[df[\"ClassId\"] == 0]), 2))"
   ]
  },
  {
   "cell_type": "markdown",
   "metadata": {},
   "source": [
    "### Bildbreite und Höhe"
   ]
  },
  {
   "cell_type": "code",
   "execution_count": 11,
   "metadata": {
    "scrolled": false
   },
   "outputs": [
    {
     "data": {
      "image/png": "[encoded data removed]",
      "text/plain": [
       "<Figure size 432x288 with 1 Axes>"
      ]
     },
     "metadata": {
      "needs_background": "light"
     },
     "output_type": "display_data"
    }
   ],
   "source": [
    "df.plot(y=\"Width\", kind=\"hist\", bins=len(set(df[\"Width\"])))\n",
    "plt.title(\"Breite der Bilder\")\n",
    "plt.ylabel(\"Anzahl Datensätze\")\n",
    "plt.xlabel(\"Bildbreite\")\n",
    "plt.show()"
   ]
  },
  {
   "cell_type": "code",
   "execution_count": 12,
   "metadata": {},
   "outputs": [
    {
     "data": {
      "image/png": "[encoded data removed]",
      "text/plain": [
       "<Figure size 432x288 with 1 Axes>"
      ]
     },
     "metadata": {
      "needs_background": "light"
     },
     "output_type": "display_data"
    }
   ],
   "source": [
    "df.plot(y=\"Height\", kind=\"hist\", bins=len(set(df[\"Height\"])))\n",
    "plt.title(\"Höhe der Bilder\")\n",
    "plt.ylabel(\"Anzahl Datensätze\")\n",
    "plt.xlabel(\"Bildhöhe\")\n",
    "plt.show()"
   ]
  },
  {
   "cell_type": "markdown",
   "metadata": {},
   "source": [
    "Die Bilder verfügen über unterschiedliche Höhen und Breiten. Der Großteil der Bilder ist bis zu 50 Pixeln breit und bis zu ca. 60 Pixeln hoch.  \n",
    "Auffällig sind einige \"Spikes\" in den Grafiken, was bedeutet, dass viele Bilder die gewisse Breite oder Höhe besitzen.  "
   ]
  },
  {
   "cell_type": "markdown",
   "metadata": {},
   "source": [
    "### Bildfläche"
   ]
  },
  {
   "cell_type": "code",
   "execution_count": 13,
   "metadata": {
    "scrolled": true
   },
   "outputs": [
    {
     "data": {
      "image/png": "[encoded data removed]",
      "text/plain": [
       "<Figure size 432x288 with 1 Axes>"
      ]
     },
     "metadata": {
      "needs_background": "light"
     },
     "output_type": "display_data"
    }
   ],
   "source": [
    "df[\"img_area\"] = df[\"Width\"]*df[\"Height\"]\n",
    "df.plot(y=\"img_area\", kind=\"hist\", bins=len(set(df[\"img_area\"])))\n",
    "plt.title(\"Fläche der Bilder\")\n",
    "plt.ylabel(\"Anzahl Datensätze\")\n",
    "plt.xlabel(\"Bildfläche\")\n",
    "plt.show()"
   ]
  },
  {
   "cell_type": "markdown",
   "metadata": {},
   "source": [
    "Folgend aus den Höhen und Breiten sind die Bildflächen verschieden.  \n",
    "Auch hier befinden sich die meisten Einträge im unteren Spektrum der x-Achse."
   ]
  },
  {
   "cell_type": "markdown",
   "metadata": {},
   "source": [
    "### Bounding-Box Länge, Höhe und Fläche"
   ]
  },
  {
   "cell_type": "code",
   "execution_count": 14,
   "metadata": {},
   "outputs": [],
   "source": [
    "df[\"x_box_len\"] = df[\"Roi.X2\"] - df[\"Roi.X1\"]\n",
    "df[\"y_box_len\"] = df[\"Roi.Y2\"] - df[\"Roi.Y1\"]\n",
    "df[\"box_area\"] = df[\"x_box_len\"]*df[\"y_box_len\"]"
   ]
  },
  {
   "cell_type": "code",
   "execution_count": 15,
   "metadata": {
    "scrolled": true
   },
   "outputs": [
    {
     "data": {
      "image/png": "[encoded data removed]",
      "text/plain": [
       "<Figure size 432x288 with 1 Axes>"
      ]
     },
     "metadata": {
      "needs_background": "light"
     },
     "output_type": "display_data"
    }
   ],
   "source": [
    "df.plot(y=\"x_box_len\", kind=\"hist\", bins=len(set(df[\"x_box_len\"])))\n",
    "plt.title(\"Länge der BoundingBoxes\")\n",
    "plt.ylabel(\"Anzahl Datensätze\")\n",
    "plt.xlabel(\"Länge BB\")\n",
    "plt.show()"
   ]
  },
  {
   "cell_type": "code",
   "execution_count": 16,
   "metadata": {
    "scrolled": false
   },
   "outputs": [
    {
     "data": {
      "image/png": "[encoded data removed]",
      "text/plain": [
       "<Figure size 432x288 with 1 Axes>"
      ]
     },
     "metadata": {
      "needs_background": "light"
     },
     "output_type": "display_data"
    }
   ],
   "source": [
    "df.plot(y=\"y_box_len\", kind=\"hist\", bins=len(set(df[\"y_box_len\"])))\n",
    "plt.title(\"Höhe der BoundingBoxes\")\n",
    "plt.ylabel(\"Anzahl Datensätze\")\n",
    "plt.xlabel(\"Höhe BB\")\n",
    "plt.show()"
   ]
  },
  {
   "cell_type": "code",
   "execution_count": 17,
   "metadata": {},
   "outputs": [
    {
     "data": {
      "image/png": "[encoded data removed]",
      "text/plain": [
       "<Figure size 432x288 with 1 Axes>"
      ]
     },
     "metadata": {
      "needs_background": "light"
     },
     "output_type": "display_data"
    }
   ],
   "source": [
    "df.plot(y=\"box_area\", kind=\"hist\", bins=len(set(df[\"box_area\"])))\n",
    "plt.title(\"Fläche der BoundingBoxes\")\n",
    "plt.ylabel(\"Anzahl Datensätze\")\n",
    "plt.xlabel(\"Fläche BB\")\n",
    "plt.show()"
   ]
  },
  {
   "cell_type": "markdown",
   "metadata": {},
   "source": [
    "Die Bounding-Boxes verhalten sich wie die Bilder selbst. Auch hier sind einige \"Spikes\" bei der Höhe und Breite zu erkennen.  \n",
    "Die meisten Bounding-Boxes sind bis zu ca. 40 Pixel hoch und breit.  \n",
    "Dies kann für die spätere Transformation der Größe genutzt werden, da die zugeschnitten Bilder später alle die gleiche Maß besitzen müssen."
   ]
  },
  {
   "cell_type": "markdown",
   "metadata": {},
   "source": [
    "## Bildklassifizierung\n",
    "### Vorbereitung"
   ]
  },
  {
   "cell_type": "code",
   "execution_count": 18,
   "metadata": {},
   "outputs": [],
   "source": [
    "from skimage import exposure\n",
    "from tensorflow.keras.preprocessing.image import load_img\n",
    "from PIL import Image\n",
    "import matplotlib.pyplot as plt\n",
    "import numpy as np\n",
    "import pickle\n",
    "import cv2\n",
    "import os"
   ]
  },
  {
   "cell_type": "markdown",
   "metadata": {},
   "source": [
    "#### Darstellung und Überblick\n",
    "Um ein Gefühl für die Daten zu bekommen, wird eine Collage erstellt, die jedes 500. Bild darstellt."
   ]
  },
  {
   "cell_type": "code",
   "execution_count": 19,
   "metadata": {
    "scrolled": true
   },
   "outputs": [],
   "source": [
    "collage.create_collage(r\"./images/collage_cropped_images2.png\", df)"
   ]
  },
  {
   "cell_type": "markdown",
   "metadata": {},
   "source": [
    "Darstellungen ohne weitere Nachbearbeitung (nur Zuschnitt auf Bounding Box):\n",
    "\n",
    "<img src=\"./images/collage_cropped_images2.png\">"
   ]
  },
  {
   "cell_type": "markdown",
   "metadata": {},
   "source": [
    "Es ist auffällig, dass die Qualität der Bilder stark unterschiedlich ist:\n",
    "- Einige Bilder sind extrem dunkel und besitzen einen geringen Kontrast. \n",
    "- Durch das Skalieren der Bilder unterscheidet sich die Auflösung stark.\n",
    "\n",
    "Teilweise sind Schilder selbst für ein menschliches Auge nicht eindeutig identifizierbar.  \n",
    "**************\n",
    "Es sind folgende Gemeinsamkeiten festzustellen:\n",
    "- Der Bildwinkel ist immer gleich\n",
    "- Die Schilder sind vollständig abgebildet und besitzen keine \"Störungen\" (Überdeckungen, Verunreinigungen, ...)\n",
    "\n",
    "Dies lässt die Frage offen, ob ein späteres Modell Bilder aus dem \"echten\" Leben erkennen kann."
   ]
  },
  {
   "cell_type": "markdown",
   "metadata": {},
   "source": [
    "Im Zuge der Recherche für die Datenvorbereitung fiel ein <a href=\"https://medium.com/@thomastracey/recognizing-traffic-signs-with-cnns-23a4ac66f7a7\">Paper</a> auf, welches ein Verfahren namens \"CLAHE\" nutzte um einen größeren Kontrast herzustellen.<br>\n",
    "Beim späteren Trainieren neuronaler Netze kann betrachtet werden, ob dies einen signifikanten Unterschied bei der Leistung des Modells mit sich bringt.\n",
    "\n",
    "Um die Auswirkungen des Verfahrens zu testen, wird eine Collage der angepassten Bilder erstellt. "
   ]
  },
  {
   "cell_type": "code",
   "execution_count": 20,
   "metadata": {},
   "outputs": [],
   "source": [
    "collage.create_preprocessed_collage(r\"./images/collage_preprocessed_images2.png\", df)"
   ]
  },
  {
   "cell_type": "markdown",
   "metadata": {},
   "source": [
    "Bilder mit Nachbearbeitung (höherer Kontrast):\n",
    "\n",
    "<img src=\"./images/collage_preprocessed_images2.png\">"
   ]
  },
  {
   "cell_type": "markdown",
   "metadata": {},
   "source": [
    "### Daten einlesen\n",
    "Um das neuronale Netz trainieren zu können, werden die Eingabedaten und Labels benötigt.  \n",
    "Auf Grund der vorherigen Schritte ist es möglich, über das erstellte DataFrame zu iterieren und jedes einzelne Bild auszulesen und zu bearbeiten. Im Anschluss daran wird es einer List hinzugefügt, was am Ende des Prozesses alle Bilder beinhaltet.   \n",
    "Das **data**-Array beinhaltet alle Bilddaten\n",
    "Das **labels**-Array beinhaltet die Klassenzugehörigkeiten  \n",
    "\n",
    "#### read_preprocess_img\n",
    "Die Bilder werden mit OpenCV eingelesen und auf die Maße der Bounding Box zugeschnitten. Im Anschluss folgt eine Anpassung der Bildgröße, damit alle Images eine einheitliche Größe besitzen.   \n",
    "Als nächster Schritt folgt eine Histogramm-Equalization. Dies hat als Ziel, das Histogramm der Bilder jeweils so anzupassen, dass alle Grauwerte möglichst gleichverteilt sind. Bei der Histogramm Equalization berechnen sich die Grauwerte der Pixel wie folgt: \n",
    "\n",
    "$y=f(p)= \\frac{L-1}{N}\\int_{-\\infty}^{p} h_{i}(p) \\,dp$\n",
    "\n",
    "Mit: x - alter Grauwert; N - Anzahl Pixel; L - Anzahl möglicher Grauwerte\n",
    "\n",
    "In unserem Fall stützen wir uns auf die von skimage implementierte Funktion ```equalize_adapthist```, was ein Problem der einfachen Histogramm Equalization löst, bei welchem Informationsverlust in den Bildern auftritt. Es nutzt die Contrast Limited Adaptive Histogram Equalization (CLAHE). Eine Visualisierung der normalisierten Bilder kann in der weiter oben dargestellten Collage betrachtet werden.\n",
    "\n",
    "\n",
    "Im Anschluss werden die Arrays in numpy-Arrays umgewandelt."
   ]
  },
  {
   "cell_type": "code",
   "execution_count": 21,
   "metadata": {
    "scrolled": false
   },
   "outputs": [
    {
     "name": "stdout",
     "output_type": "stream",
     "text": [
      "Iterated through 5000 images\n",
      "Iterated through 10000 images\n",
      "Iterated through 15000 images\n",
      "Iterated through 20000 images\n",
      "Iterated through 25000 images\n",
      "Iterated through 30000 images\n",
      "Iterated through 35000 images\n",
      "Iterated through all images\n"
     ]
    }
   ],
   "source": [
    "data = []\n",
    "labels = []\n",
    "\n",
    "for index, row in df.iterrows(): \n",
    "    if index>0 and index%5000 == 0:\n",
    "        print(\"Iterated through\", index, \"images\")\n",
    "    elif index+1 == len(df):\n",
    "        print(\"Iterated through all images\")\n",
    "        \n",
    "    x = row[\"Roi.X1\"]\n",
    "    y = row[\"Roi.Y1\"]\n",
    "    h = row[\"Roi.Y2\"]-row[\"Roi.Y1\"]\n",
    "    w = row[\"Roi.X2\"]-row[\"Roi.X1\"]\n",
    "    \n",
    "    data.append(Reader.read_preprocess_img(Reader, row[\"Folder\"]+row[\"Filename\"], (32,32), x, y, h, w))\n",
    "    labels.append(int(row[\"ClassId\"]))\n",
    "\n",
    "data = np.array(data)\n",
    "labels = np.array(labels)"
   ]
  },
  {
   "cell_type": "markdown",
   "metadata": {},
   "source": [
    "### Daten-Augmentierung\n",
    "Bei der Augmentierung sollen die Daten transformiert werden.  \n",
    "Dabei werden die herausgestellten Herausforderungen und Probleme des Datensatzes in Angriff genommen. Identifizierte Probleme:\n",
    "1. Unausgewogenheit des Datensatzes\n",
    "2. Immer gleiche Blickwinkel und keine \"Störungen\" (nichts verdeckt...)\n",
    "\n",
    "Für Punkt eins ist eine Lösung, mehr Bilder aus dem Datensatz zu generieren und dabei die Klassen gleich zu verteilen."
   ]
  },
  {
   "cell_type": "code",
   "execution_count": 22,
   "metadata": {},
   "outputs": [],
   "source": [
    "tmp_labels = labels\n",
    "tmp_data = data"
   ]
  },
  {
   "cell_type": "code",
   "execution_count": 23,
   "metadata": {},
   "outputs": [
    {
     "data": {
      "image/png": "[encoded data removed]",
      "text/plain": [
       "<Figure size 432x288 with 1 Axes>"
      ]
     },
     "metadata": {
      "needs_background": "light"
     },
     "output_type": "display_data"
    }
   ],
   "source": [
    "plt.hist(labels, bins=len(set(labels)), rwidth=0.7)\n",
    "plt.title(\"Ausgewogenheit vor der Augmentierung\")\n",
    "plt.ylabel(\"Anzahl Datensätze\")\n",
    "plt.xlabel(\"Klasse\")\n",
    "plt.show()"
   ]
  },
  {
   "cell_type": "code",
   "execution_count": 24,
   "metadata": {},
   "outputs": [
    {
     "name": "stderr",
     "output_type": "stream",
     "text": [
      "C:\\Users\\NickK\\anaconda3\\lib\\site-packages\\keras_preprocessing\\image\\image_data_generator.py:336: UserWarning: This ImageDataGenerator specifies `zca_whitening`, which overrides setting of `featurewise_center`.\n",
      "  warnings.warn('This ImageDataGenerator specifies '\n"
     ]
    }
   ],
   "source": [
    "from tensorflow.keras.preprocessing.image import ImageDataGenerator\n",
    "from tqdm import tqdm\n",
    "\n",
    "datagen = ImageDataGenerator(\n",
    "    zca_whitening=True,\n",
    "    rotation_range=10,\n",
    "    width_shift_range=0.1,\n",
    "    height_shift_range=0.1,\n",
    "    shear_range=0.15,\n",
    "    zoom_range=0.15,\n",
    "    channel_shift_range=0.1,\n",
    "    horizontal_flip=False,\n",
    "    vertical_flip=False,\n",
    "    fill_mode='nearest'\n",
    ")"
   ]
  },
  {
   "cell_type": "code",
   "execution_count": 25,
   "metadata": {},
   "outputs": [
    {
     "name": "stderr",
     "output_type": "stream",
     "text": [
      "  0%|                                                                                           | 0/43 [00:00<?, ?it/s]C:\\Users\\NickK\\anaconda3\\lib\\site-packages\\keras_preprocessing\\image\\image_data_generator.py:716: UserWarning: This ImageDataGenerator specifies `featurewise_center`, but it hasn't been fit on any training data. Fit it first by calling `.fit(numpy_data)`.\n",
      "  warnings.warn('This ImageDataGenerator specifies '\n",
      "C:\\Users\\NickK\\anaconda3\\lib\\site-packages\\keras_preprocessing\\image\\image_data_generator.py:735: UserWarning: This ImageDataGenerator specifies `zca_whitening`, but it hasn't been fit on any training data. Fit it first by calling `.fit(numpy_data)`.\n",
      "  warnings.warn('This ImageDataGenerator specifies '\n",
      "100%|██████████████████████████████████████████████████████████████████████████████████| 43/43 [04:21<00:00,  6.07s/it]\n"
     ]
    }
   ],
   "source": [
    "images_per_class = 6000\n",
    "data_aug = np.empty((0, 32, 32, 3))\n",
    "labels_aug = np.empty(0, dtype='int32')\n",
    "\n",
    "for i in tqdm(range(len(set(labels)))):\n",
    "    # Get images and labels for each class\n",
    "    index = [labels==i]\n",
    "    i_data = data[tuple(index)]\n",
    "    i_labels = labels[tuple(index)]\n",
    "    \n",
    "    i_data_aug = np.copy(i_data)\n",
    "    i_labels_aug = np.copy(i_labels)\n",
    "    \n",
    "    # append augmented data to existing class-data\n",
    "    for X, y in datagen.flow(i_data, i_labels, batch_size=len(i_labels), seed=3*i+52):\n",
    "        i_data_aug = np.append(i_data_aug, X, axis=0)\n",
    "        i_labels_aug = np.append(i_labels_aug, y, axis=0)\n",
    "        \n",
    "        if len(i_labels_aug) >= images_per_class:\n",
    "            break\n",
    "    \n",
    "    # append data to result arrays\n",
    "    # limit to appending images to maximum images (take rows up to rownumber specified)\n",
    "    data_aug = np.append(data_aug, i_data_aug[:images_per_class], axis=0)\n",
    "    labels_aug = np.append(labels_aug, i_labels_aug[:images_per_class], axis=0)\n"
   ]
  },
  {
   "cell_type": "code",
   "execution_count": 26,
   "metadata": {},
   "outputs": [
    {
     "data": {
      "image/png": "[encoded data removed]",
      "text/plain": [
       "<Figure size 432x288 with 1 Axes>"
      ]
     },
     "metadata": {
      "needs_background": "light"
     },
     "output_type": "display_data"
    }
   ],
   "source": [
    "plt.hist(labels_aug, bins=len(set(labels_aug)), rwidth=0.7)\n",
    "plt.title(\"Ausgewogenheit nach der Augmentierung\")\n",
    "plt.ylabel(\"Anzahl Datensätze\")\n",
    "plt.xlabel(\"Klasse\")\n",
    "plt.show()"
   ]
  },
  {
   "cell_type": "code",
   "execution_count": 27,
   "metadata": {},
   "outputs": [
    {
     "name": "stdout",
     "output_type": "stream",
     "text": [
      "Pre-defined data shape: (39209, 32, 32, 3)\n",
      "Data shape after augmentation: (258000, 32, 32, 3)\n",
      "--> Anzahl Datensätze: 258000\n"
     ]
    }
   ],
   "source": [
    "print(\"Pre-defined data shape:\",data.shape)\n",
    "print(\"Data shape after augmentation:\",data_aug.shape)\n",
    "print(\"--> Anzahl Datensätze:\", len(data_aug))"
   ]
  },
  {
   "cell_type": "markdown",
   "metadata": {},
   "source": [
    "### Aufteilung\n",
    "Aufteilung in Trainings-/Test- und Validierungsdaten  \n",
    "\n",
    "**Trainingsdaten**  \n",
    "Dienen zum Training des neuronalen Netzes. Mit 75% des gesamten Datensatzes wird hier der Großteil der Daten genutzt.\n",
    "\n",
    "**Validierungsdaten**  \n",
    "Dienen zum Testen des neuronalen Netzes während des Trainings. Hierfür werden 17.5% der Daten vorgehalten.\n",
    "\n",
    "**Testdaten**  \n",
    "Dienen zur Evaluation des neuronalen Netzes nach dem Training. Validierungsadaten eignen sich hier nicht, da das neuronale Netz diese Daten bereits \"gesehen\" hat. Es dient als weitere Instanz, Über und Unteranpassung zu erkennen. Der Testdatensatz umfasst 17.5% des Datensatzes."
   ]
  },
  {
   "cell_type": "code",
   "execution_count": 28,
   "metadata": {},
   "outputs": [],
   "source": [
    "# train and test (0.75, 0.25)\n",
    "X_train, X_test, y_train, y_test = train_test_split(data_aug, labels_aug, test_size=0.25, random_state=1234)\n",
    "\n",
    "# split test in val and test (0.5, 0.5 of test-data)\n",
    "X_val, X_test, y_val, y_test = train_test_split(X_test, y_test, test_size=0.5, random_state=1234)"
   ]
  },
  {
   "cell_type": "code",
   "execution_count": 29,
   "metadata": {},
   "outputs": [
    {
     "name": "stdout",
     "output_type": "stream",
     "text": [
      "(193500,)\n",
      "(193500, 43)\n"
     ]
    }
   ],
   "source": [
    "# Scale to [0,1]\n",
    "X_train = X_train.astype(\"float32\")/255.0\n",
    "X_test = X_test.astype(\"float32\")/255.0\n",
    "X_val = X_val.astype(\"float32\")/255.0\n",
    "\n",
    "# One-Hot Encoding (dont drop one column)\n",
    "print(y_train.shape)\n",
    "y_train = to_categorical(y_train, 43)\n",
    "print(y_train.shape)\n",
    "y_test = to_categorical(y_test, 43)\n",
    "y_val = to_categorical(y_val, 43)"
   ]
  },
  {
   "cell_type": "markdown",
   "metadata": {},
   "source": [
    "### CNN / Klassifizierung\n",
    "Aufbau des CNN"
   ]
  },
  {
   "cell_type": "code",
   "execution_count": 30,
   "metadata": {},
   "outputs": [],
   "source": [
    "class TrafficSignNetwork:\n",
    "    @staticmethod\n",
    "    def build(width, height, depth, classes):\n",
    "        model = Sequential()\n",
    "        inputShape = (height, width, depth)\n",
    "        chanDim = -1\n",
    "        \n",
    "        # CONV => RELU => BN => POOL\n",
    "        model.add(Conv2D(8, (5, 5), padding=\"same\",\n",
    "            input_shape=inputShape))\n",
    "        model.add(Activation(\"relu\"))\n",
    "        model.add(BatchNormalization(axis=chanDim))\n",
    "        model.add(MaxPooling2D(pool_size=(2, 2)))\n",
    "        \n",
    "        # first set of (CONV => RELU => CONV => RELU) * 2 => POOL\n",
    "        model.add(Conv2D(16, (3, 3), padding=\"same\"))\n",
    "        model.add(Activation(\"relu\"))\n",
    "        model.add(BatchNormalization(axis=chanDim))\n",
    "        model.add(Conv2D(16, (3, 3), padding=\"same\"))\n",
    "        model.add(Activation(\"relu\"))\n",
    "        model.add(BatchNormalization(axis=chanDim))\n",
    "        model.add(MaxPooling2D(pool_size=(2, 2)))\n",
    "        \n",
    "        # second set of (CONV => RELU => CONV => RELU) * 2 => POOL\n",
    "        model.add(Conv2D(32, (3, 3), padding=\"same\"))\n",
    "        model.add(Activation(\"relu\"))\n",
    "        model.add(BatchNormalization(axis=chanDim))\n",
    "        model.add(Conv2D(32, (3, 3), padding=\"same\"))\n",
    "        model.add(Activation(\"relu\"))\n",
    "        model.add(BatchNormalization(axis=chanDim))\n",
    "        model.add(MaxPooling2D(pool_size=(2, 2)))\n",
    "        \n",
    "        # first set of FC => RELU layers\n",
    "        model.add(Flatten())\n",
    "        model.add(Dense(128))\n",
    "        model.add(Activation(\"relu\"))\n",
    "        model.add(BatchNormalization())\n",
    "        model.add(Dropout(0.5))\n",
    "        \n",
    "        # second set of FC => RELU layers\n",
    "        model.add(Flatten())\n",
    "        model.add(Dense(128))\n",
    "        model.add(Activation(\"relu\"))\n",
    "        model.add(BatchNormalization())\n",
    "        model.add(Dropout(0.5))\n",
    "        \n",
    "        # softmax classifier\n",
    "        model.add(Dense(classes))\n",
    "        model.add(Activation(\"softmax\"))\n",
    "        \n",
    "        # return the constructed network architecture\n",
    "        return model\n",
    "    \n",
    "    @staticmethod\n",
    "    def build_tuner(hp):\n",
    "        width = 32\n",
    "        height = 32\n",
    "        depth = 3\n",
    "        classes = 43\n",
    "        model = Sequential()\n",
    "        inputShape = (height, width, depth)\n",
    "        \n",
    "        for i in range(hp.Int('conv_blocks', 2, 5, default=3)):\n",
    "            filters = hp.Int('filters_' + str(i), 8, 64, step=8)\n",
    "            # CONV => RELU => BN => POOL\n",
    "            model.add(Conv2D(filters, (5, 5), padding=\"same\",\n",
    "                input_shape=inputShape))\n",
    "            model.add(Activation(\"relu\"))\n",
    "            model.add(BatchNormalization())\n",
    "            \n",
    "            pool_choice = hp.Choice('pooling_' + str(i), ['avg', 'max', ''])\n",
    "            if pool_choice == 'max':\n",
    "                model.add(MaxPooling2D(pool_size=(2, 2)))\n",
    "            elif pool_choice == 'avg':\n",
    "                model.add(AvgPool2D(pool_size=(2, 2)))\n",
    "        \n",
    "        for i in range(hp.Int('fully_connected', 1, 3, default=2)):\n",
    "            # first set of FC => RELU layers\n",
    "            hp_units = hp.Int('units_' + str(i), min_value=32, max_value=512, step=32)\n",
    "            model.add(Flatten())\n",
    "            model.add(Dense(hp_units))\n",
    "            model.add(Activation(\"relu\"))\n",
    "            model.add(BatchNormalization())\n",
    "            model.add(Dropout(0.5))\n",
    "                \n",
    "        # softmax classifier\n",
    "        model.add(Dense(classes))\n",
    "        model.add(Activation(\"softmax\"))\n",
    "        \n",
    "        hp_learning_rate = hp.Choice('learning_rate', values=[1e-2, 1e-3, 1e-4])\n",
    "\n",
    "        loss = hp.Choice('loss_function', ['SCC', 'CC'])\n",
    "        if loss == 'SCC':\n",
    "            chosen_loss = tf.keras.losses.SparseCategoricalCrossentropy(from_logits=True)\n",
    "        else:\n",
    "            chosen_loss = tf.keras.losses.CategoricalCrossentropy(from_logits=True)\n",
    "        \n",
    "        model.compile(optimizer=tf.keras.optimizers.Adam(learning_rate=hp_learning_rate),\n",
    "                loss=chosen_loss,\n",
    "                metrics=['accuracy'])\n",
    "        \n",
    "        # return the constructed network architecture\n",
    "        return model"
   ]
  },
  {
   "cell_type": "code",
   "execution_count": 31,
   "metadata": {},
   "outputs": [
    {
     "name": "stdout",
     "output_type": "stream",
     "text": [
      "INFO:tensorflow:Reloading Oracle from existing project .\\untitled_project\\oracle.json\n"
     ]
    }
   ],
   "source": [
    "import keras_tuner as kt\n",
    "\n",
    "tuner = kt.Hyperband(\n",
    "    TrafficSignNetwork.build_tuner,\n",
    "    objective='val_accuracy',\n",
    "    max_epochs=30,\n",
    "    hyperband_iterations=1,\n",
    "    seed=1234,\n",
    "    project_name='kt_signdetection_network'\n",
    "    )"
   ]
  },
  {
   "cell_type": "code",
   "execution_count": 33,
   "metadata": {},
   "outputs": [
    {
     "name": "stdout",
     "output_type": "stream",
     "text": [
      "\n",
      "Search: Running Trial #3\n",
      "\n",
      "Hyperparameter    |Value             |Best Value So Far \n",
      "conv_blocks       |3                 |?                 \n",
      "filters_0         |8                 |?                 \n",
      "pooling_0         |avg               |?                 \n",
      "filters_1         |48                |?                 \n",
      "pooling_1         |                  |?                 \n",
      "filters_2         |16                |?                 \n",
      "pooling_2         |max               |?                 \n",
      "fully_connected   |2                 |?                 \n",
      "units_0           |256               |?                 \n",
      "units_1           |256               |?                 \n",
      "learning_rate     |0.001             |?                 \n",
      "loss_function     |CC                |?                 \n",
      "tuner/epochs      |2                 |?                 \n",
      "tuner/initial_e...|0                 |?                 \n",
      "tuner/bracket     |3                 |?                 \n",
      "tuner/round       |0                 |?                 \n",
      "\n",
      "Epoch 1/2\n",
      "1512/1512 [==============================] - 225s 149ms/step - loss: 3.0969 - accuracy: 0.7186 - val_loss: 2.9645 - val_accuracy: 0.8404\n",
      "Epoch 2/2\n",
      " 315/1512 [=====>........................] - ETA: 2:52 - loss: 2.9488 - accuracy: 0.8564"
     ]
    },
    {
     "ename": "KeyboardInterrupt",
     "evalue": "",
     "output_type": "error",
     "traceback": [
      "\u001b[1;31m---------------------------------------------------------------------------\u001b[0m",
      "\u001b[1;31mKeyboardInterrupt\u001b[0m                         Traceback (most recent call last)",
      "\u001b[1;32m<ipython-input-33-2e5d449ce5b6>\u001b[0m in \u001b[0;36m<module>\u001b[1;34m\u001b[0m\n\u001b[1;32m----> 1\u001b[1;33m tuner.search(X_train, y_train,\n\u001b[0m\u001b[0;32m      2\u001b[0m              \u001b[0mvalidation_data\u001b[0m\u001b[1;33m=\u001b[0m\u001b[1;33m(\u001b[0m\u001b[0mX_val\u001b[0m\u001b[1;33m,\u001b[0m \u001b[0my_val\u001b[0m\u001b[1;33m)\u001b[0m\u001b[1;33m,\u001b[0m\u001b[1;33m\u001b[0m\u001b[1;33m\u001b[0m\u001b[0m\n\u001b[0;32m      3\u001b[0m              \u001b[0mepochs\u001b[0m\u001b[1;33m=\u001b[0m\u001b[1;36m30\u001b[0m\u001b[1;33m,\u001b[0m\u001b[1;33m\u001b[0m\u001b[1;33m\u001b[0m\u001b[0m\n\u001b[0;32m      4\u001b[0m              \u001b[0mbatch_size\u001b[0m\u001b[1;33m=\u001b[0m\u001b[1;36m128\u001b[0m\u001b[1;33m,\u001b[0m\u001b[1;33m\u001b[0m\u001b[1;33m\u001b[0m\u001b[0m\n\u001b[0;32m      5\u001b[0m              callbacks=[tf.keras.callbacks.EarlyStopping(monitor='val_loss', patience=2)])\n",
      "\u001b[1;32m~\\anaconda3\\lib\\site-packages\\keras_tuner\\engine\\base_tuner.py\u001b[0m in \u001b[0;36msearch\u001b[1;34m(self, *fit_args, **fit_kwargs)\u001b[0m\n\u001b[0;32m    177\u001b[0m \u001b[1;33m\u001b[0m\u001b[0m\n\u001b[0;32m    178\u001b[0m             \u001b[0mself\u001b[0m\u001b[1;33m.\u001b[0m\u001b[0mon_trial_begin\u001b[0m\u001b[1;33m(\u001b[0m\u001b[0mtrial\u001b[0m\u001b[1;33m)\u001b[0m\u001b[1;33m\u001b[0m\u001b[1;33m\u001b[0m\u001b[0m\n\u001b[1;32m--> 179\u001b[1;33m             \u001b[0mresults\u001b[0m \u001b[1;33m=\u001b[0m \u001b[0mself\u001b[0m\u001b[1;33m.\u001b[0m\u001b[0mrun_trial\u001b[0m\u001b[1;33m(\u001b[0m\u001b[0mtrial\u001b[0m\u001b[1;33m,\u001b[0m \u001b[1;33m*\u001b[0m\u001b[0mfit_args\u001b[0m\u001b[1;33m,\u001b[0m \u001b[1;33m**\u001b[0m\u001b[0mfit_kwargs\u001b[0m\u001b[1;33m)\u001b[0m\u001b[1;33m\u001b[0m\u001b[1;33m\u001b[0m\u001b[0m\n\u001b[0m\u001b[0;32m    180\u001b[0m             \u001b[1;31m# `results` is None indicates user updated oracle in `run_trial()`.\u001b[0m\u001b[1;33m\u001b[0m\u001b[1;33m\u001b[0m\u001b[1;33m\u001b[0m\u001b[0m\n\u001b[0;32m    181\u001b[0m             \u001b[1;32mif\u001b[0m \u001b[0mresults\u001b[0m \u001b[1;32mis\u001b[0m \u001b[1;32mNone\u001b[0m\u001b[1;33m:\u001b[0m\u001b[1;33m\u001b[0m\u001b[1;33m\u001b[0m\u001b[0m\n",
      "\u001b[1;32m~\\anaconda3\\lib\\site-packages\\keras_tuner\\tuners\\hyperband.py\u001b[0m in \u001b[0;36mrun_trial\u001b[1;34m(self, trial, *fit_args, **fit_kwargs)\u001b[0m\n\u001b[0;32m    374\u001b[0m             \u001b[0mfit_kwargs\u001b[0m\u001b[1;33m[\u001b[0m\u001b[1;34m\"epochs\"\u001b[0m\u001b[1;33m]\u001b[0m \u001b[1;33m=\u001b[0m \u001b[0mhp\u001b[0m\u001b[1;33m.\u001b[0m\u001b[0mvalues\u001b[0m\u001b[1;33m[\u001b[0m\u001b[1;34m\"tuner/epochs\"\u001b[0m\u001b[1;33m]\u001b[0m\u001b[1;33m\u001b[0m\u001b[1;33m\u001b[0m\u001b[0m\n\u001b[0;32m    375\u001b[0m             \u001b[0mfit_kwargs\u001b[0m\u001b[1;33m[\u001b[0m\u001b[1;34m\"initial_epoch\"\u001b[0m\u001b[1;33m]\u001b[0m \u001b[1;33m=\u001b[0m \u001b[0mhp\u001b[0m\u001b[1;33m.\u001b[0m\u001b[0mvalues\u001b[0m\u001b[1;33m[\u001b[0m\u001b[1;34m\"tuner/initial_epoch\"\u001b[0m\u001b[1;33m]\u001b[0m\u001b[1;33m\u001b[0m\u001b[1;33m\u001b[0m\u001b[0m\n\u001b[1;32m--> 376\u001b[1;33m         \u001b[1;32mreturn\u001b[0m \u001b[0msuper\u001b[0m\u001b[1;33m(\u001b[0m\u001b[0mHyperband\u001b[0m\u001b[1;33m,\u001b[0m \u001b[0mself\u001b[0m\u001b[1;33m)\u001b[0m\u001b[1;33m.\u001b[0m\u001b[0mrun_trial\u001b[0m\u001b[1;33m(\u001b[0m\u001b[0mtrial\u001b[0m\u001b[1;33m,\u001b[0m \u001b[1;33m*\u001b[0m\u001b[0mfit_args\u001b[0m\u001b[1;33m,\u001b[0m \u001b[1;33m**\u001b[0m\u001b[0mfit_kwargs\u001b[0m\u001b[1;33m)\u001b[0m\u001b[1;33m\u001b[0m\u001b[1;33m\u001b[0m\u001b[0m\n\u001b[0m\u001b[0;32m    377\u001b[0m \u001b[1;33m\u001b[0m\u001b[0m\n\u001b[0;32m    378\u001b[0m     \u001b[1;32mdef\u001b[0m \u001b[0m_build_model\u001b[0m\u001b[1;33m(\u001b[0m\u001b[0mself\u001b[0m\u001b[1;33m,\u001b[0m \u001b[0mhp\u001b[0m\u001b[1;33m)\u001b[0m\u001b[1;33m:\u001b[0m\u001b[1;33m\u001b[0m\u001b[1;33m\u001b[0m\u001b[0m\n",
      "\u001b[1;32m~\\anaconda3\\lib\\site-packages\\keras_tuner\\engine\\tuner.py\u001b[0m in \u001b[0;36mrun_trial\u001b[1;34m(self, trial, *args, **kwargs)\u001b[0m\n\u001b[0;32m    302\u001b[0m             \u001b[0mcallbacks\u001b[0m\u001b[1;33m.\u001b[0m\u001b[0mappend\u001b[0m\u001b[1;33m(\u001b[0m\u001b[0mmodel_checkpoint\u001b[0m\u001b[1;33m)\u001b[0m\u001b[1;33m\u001b[0m\u001b[1;33m\u001b[0m\u001b[0m\n\u001b[0;32m    303\u001b[0m             \u001b[0mcopied_kwargs\u001b[0m\u001b[1;33m[\u001b[0m\u001b[1;34m\"callbacks\"\u001b[0m\u001b[1;33m]\u001b[0m \u001b[1;33m=\u001b[0m \u001b[0mcallbacks\u001b[0m\u001b[1;33m\u001b[0m\u001b[1;33m\u001b[0m\u001b[0m\n\u001b[1;32m--> 304\u001b[1;33m             \u001b[0mobj_value\u001b[0m \u001b[1;33m=\u001b[0m \u001b[0mself\u001b[0m\u001b[1;33m.\u001b[0m\u001b[0m_build_and_fit_model\u001b[0m\u001b[1;33m(\u001b[0m\u001b[0mtrial\u001b[0m\u001b[1;33m,\u001b[0m \u001b[1;33m*\u001b[0m\u001b[0margs\u001b[0m\u001b[1;33m,\u001b[0m \u001b[1;33m**\u001b[0m\u001b[0mcopied_kwargs\u001b[0m\u001b[1;33m)\u001b[0m\u001b[1;33m\u001b[0m\u001b[1;33m\u001b[0m\u001b[0m\n\u001b[0m\u001b[0;32m    305\u001b[0m \u001b[1;33m\u001b[0m\u001b[0m\n\u001b[0;32m    306\u001b[0m             \u001b[1;31m# objective left unspecified,\u001b[0m\u001b[1;33m\u001b[0m\u001b[1;33m\u001b[0m\u001b[1;33m\u001b[0m\u001b[0m\n",
      "\u001b[1;32m~\\anaconda3\\lib\\site-packages\\keras_tuner\\engine\\tuner.py\u001b[0m in \u001b[0;36m_build_and_fit_model\u001b[1;34m(self, trial, *args, **kwargs)\u001b[0m\n\u001b[0;32m    232\u001b[0m         \u001b[0mhp\u001b[0m \u001b[1;33m=\u001b[0m \u001b[0mtrial\u001b[0m\u001b[1;33m.\u001b[0m\u001b[0mhyperparameters\u001b[0m\u001b[1;33m\u001b[0m\u001b[1;33m\u001b[0m\u001b[0m\n\u001b[0;32m    233\u001b[0m         \u001b[0mmodel\u001b[0m \u001b[1;33m=\u001b[0m \u001b[0mself\u001b[0m\u001b[1;33m.\u001b[0m\u001b[0m_try_build\u001b[0m\u001b[1;33m(\u001b[0m\u001b[0mhp\u001b[0m\u001b[1;33m)\u001b[0m\u001b[1;33m\u001b[0m\u001b[1;33m\u001b[0m\u001b[0m\n\u001b[1;32m--> 234\u001b[1;33m         \u001b[1;32mreturn\u001b[0m \u001b[0mself\u001b[0m\u001b[1;33m.\u001b[0m\u001b[0mhypermodel\u001b[0m\u001b[1;33m.\u001b[0m\u001b[0mfit\u001b[0m\u001b[1;33m(\u001b[0m\u001b[0mhp\u001b[0m\u001b[1;33m,\u001b[0m \u001b[0mmodel\u001b[0m\u001b[1;33m,\u001b[0m \u001b[1;33m*\u001b[0m\u001b[0margs\u001b[0m\u001b[1;33m,\u001b[0m \u001b[1;33m**\u001b[0m\u001b[0mkwargs\u001b[0m\u001b[1;33m)\u001b[0m\u001b[1;33m\u001b[0m\u001b[1;33m\u001b[0m\u001b[0m\n\u001b[0m\u001b[0;32m    235\u001b[0m \u001b[1;33m\u001b[0m\u001b[0m\n\u001b[0;32m    236\u001b[0m     \u001b[1;32mdef\u001b[0m \u001b[0mrun_trial\u001b[0m\u001b[1;33m(\u001b[0m\u001b[0mself\u001b[0m\u001b[1;33m,\u001b[0m \u001b[0mtrial\u001b[0m\u001b[1;33m,\u001b[0m \u001b[1;33m*\u001b[0m\u001b[0margs\u001b[0m\u001b[1;33m,\u001b[0m \u001b[1;33m**\u001b[0m\u001b[0mkwargs\u001b[0m\u001b[1;33m)\u001b[0m\u001b[1;33m:\u001b[0m\u001b[1;33m\u001b[0m\u001b[1;33m\u001b[0m\u001b[0m\n",
      "\u001b[1;32m~\\anaconda3\\lib\\site-packages\\keras_tuner\\engine\\hypermodel.py\u001b[0m in \u001b[0;36mfit\u001b[1;34m(self, hp, model, *args, **kwargs)\u001b[0m\n\u001b[0;32m    135\u001b[0m             \u001b[0mIf\u001b[0m \u001b[1;32mreturn\u001b[0m \u001b[0ma\u001b[0m \u001b[0mfloat\u001b[0m\u001b[1;33m,\u001b[0m \u001b[0mit\u001b[0m \u001b[0mshould\u001b[0m \u001b[0mbe\u001b[0m \u001b[0mthe\u001b[0m\u001b[0;31m \u001b[0m\u001b[0;31m`\u001b[0m\u001b[0mobjective\u001b[0m\u001b[0;31m`\u001b[0m \u001b[0mvalue\u001b[0m\u001b[1;33m.\u001b[0m\u001b[1;33m\u001b[0m\u001b[1;33m\u001b[0m\u001b[0m\n\u001b[0;32m    136\u001b[0m         \"\"\"\n\u001b[1;32m--> 137\u001b[1;33m         \u001b[1;32mreturn\u001b[0m \u001b[0mmodel\u001b[0m\u001b[1;33m.\u001b[0m\u001b[0mfit\u001b[0m\u001b[1;33m(\u001b[0m\u001b[1;33m*\u001b[0m\u001b[0margs\u001b[0m\u001b[1;33m,\u001b[0m \u001b[1;33m**\u001b[0m\u001b[0mkwargs\u001b[0m\u001b[1;33m)\u001b[0m\u001b[1;33m\u001b[0m\u001b[1;33m\u001b[0m\u001b[0m\n\u001b[0m\u001b[0;32m    138\u001b[0m \u001b[1;33m\u001b[0m\u001b[0m\n\u001b[0;32m    139\u001b[0m \u001b[1;33m\u001b[0m\u001b[0m\n",
      "\u001b[1;32m~\\anaconda3\\lib\\site-packages\\tensorflow\\python\\keras\\engine\\training.py\u001b[0m in \u001b[0;36m_method_wrapper\u001b[1;34m(self, *args, **kwargs)\u001b[0m\n\u001b[0;32m    106\u001b[0m   \u001b[1;32mdef\u001b[0m \u001b[0m_method_wrapper\u001b[0m\u001b[1;33m(\u001b[0m\u001b[0mself\u001b[0m\u001b[1;33m,\u001b[0m \u001b[1;33m*\u001b[0m\u001b[0margs\u001b[0m\u001b[1;33m,\u001b[0m \u001b[1;33m**\u001b[0m\u001b[0mkwargs\u001b[0m\u001b[1;33m)\u001b[0m\u001b[1;33m:\u001b[0m\u001b[1;33m\u001b[0m\u001b[1;33m\u001b[0m\u001b[0m\n\u001b[0;32m    107\u001b[0m     \u001b[1;32mif\u001b[0m \u001b[1;32mnot\u001b[0m \u001b[0mself\u001b[0m\u001b[1;33m.\u001b[0m\u001b[0m_in_multi_worker_mode\u001b[0m\u001b[1;33m(\u001b[0m\u001b[1;33m)\u001b[0m\u001b[1;33m:\u001b[0m  \u001b[1;31m# pylint: disable=protected-access\u001b[0m\u001b[1;33m\u001b[0m\u001b[1;33m\u001b[0m\u001b[0m\n\u001b[1;32m--> 108\u001b[1;33m       \u001b[1;32mreturn\u001b[0m \u001b[0mmethod\u001b[0m\u001b[1;33m(\u001b[0m\u001b[0mself\u001b[0m\u001b[1;33m,\u001b[0m \u001b[1;33m*\u001b[0m\u001b[0margs\u001b[0m\u001b[1;33m,\u001b[0m \u001b[1;33m**\u001b[0m\u001b[0mkwargs\u001b[0m\u001b[1;33m)\u001b[0m\u001b[1;33m\u001b[0m\u001b[1;33m\u001b[0m\u001b[0m\n\u001b[0m\u001b[0;32m    109\u001b[0m \u001b[1;33m\u001b[0m\u001b[0m\n\u001b[0;32m    110\u001b[0m     \u001b[1;31m# Running inside `run_distribute_coordinator` already.\u001b[0m\u001b[1;33m\u001b[0m\u001b[1;33m\u001b[0m\u001b[1;33m\u001b[0m\u001b[0m\n",
      "\u001b[1;32m~\\anaconda3\\lib\\site-packages\\tensorflow\\python\\keras\\engine\\training.py\u001b[0m in \u001b[0;36mfit\u001b[1;34m(self, x, y, batch_size, epochs, verbose, callbacks, validation_split, validation_data, shuffle, class_weight, sample_weight, initial_epoch, steps_per_epoch, validation_steps, validation_batch_size, validation_freq, max_queue_size, workers, use_multiprocessing)\u001b[0m\n\u001b[0;32m   1096\u001b[0m                 batch_size=batch_size):\n\u001b[0;32m   1097\u001b[0m               \u001b[0mcallbacks\u001b[0m\u001b[1;33m.\u001b[0m\u001b[0mon_train_batch_begin\u001b[0m\u001b[1;33m(\u001b[0m\u001b[0mstep\u001b[0m\u001b[1;33m)\u001b[0m\u001b[1;33m\u001b[0m\u001b[1;33m\u001b[0m\u001b[0m\n\u001b[1;32m-> 1098\u001b[1;33m               \u001b[0mtmp_logs\u001b[0m \u001b[1;33m=\u001b[0m \u001b[0mtrain_function\u001b[0m\u001b[1;33m(\u001b[0m\u001b[0miterator\u001b[0m\u001b[1;33m)\u001b[0m\u001b[1;33m\u001b[0m\u001b[1;33m\u001b[0m\u001b[0m\n\u001b[0m\u001b[0;32m   1099\u001b[0m               \u001b[1;32mif\u001b[0m \u001b[0mdata_handler\u001b[0m\u001b[1;33m.\u001b[0m\u001b[0mshould_sync\u001b[0m\u001b[1;33m:\u001b[0m\u001b[1;33m\u001b[0m\u001b[1;33m\u001b[0m\u001b[0m\n\u001b[0;32m   1100\u001b[0m                 \u001b[0mcontext\u001b[0m\u001b[1;33m.\u001b[0m\u001b[0masync_wait\u001b[0m\u001b[1;33m(\u001b[0m\u001b[1;33m)\u001b[0m\u001b[1;33m\u001b[0m\u001b[1;33m\u001b[0m\u001b[0m\n",
      "\u001b[1;32m~\\anaconda3\\lib\\site-packages\\tensorflow\\python\\eager\\def_function.py\u001b[0m in \u001b[0;36m__call__\u001b[1;34m(self, *args, **kwds)\u001b[0m\n\u001b[0;32m    778\u001b[0m       \u001b[1;32melse\u001b[0m\u001b[1;33m:\u001b[0m\u001b[1;33m\u001b[0m\u001b[1;33m\u001b[0m\u001b[0m\n\u001b[0;32m    779\u001b[0m         \u001b[0mcompiler\u001b[0m \u001b[1;33m=\u001b[0m \u001b[1;34m\"nonXla\"\u001b[0m\u001b[1;33m\u001b[0m\u001b[1;33m\u001b[0m\u001b[0m\n\u001b[1;32m--> 780\u001b[1;33m         \u001b[0mresult\u001b[0m \u001b[1;33m=\u001b[0m \u001b[0mself\u001b[0m\u001b[1;33m.\u001b[0m\u001b[0m_call\u001b[0m\u001b[1;33m(\u001b[0m\u001b[1;33m*\u001b[0m\u001b[0margs\u001b[0m\u001b[1;33m,\u001b[0m \u001b[1;33m**\u001b[0m\u001b[0mkwds\u001b[0m\u001b[1;33m)\u001b[0m\u001b[1;33m\u001b[0m\u001b[1;33m\u001b[0m\u001b[0m\n\u001b[0m\u001b[0;32m    781\u001b[0m \u001b[1;33m\u001b[0m\u001b[0m\n\u001b[0;32m    782\u001b[0m       \u001b[0mnew_tracing_count\u001b[0m \u001b[1;33m=\u001b[0m \u001b[0mself\u001b[0m\u001b[1;33m.\u001b[0m\u001b[0m_get_tracing_count\u001b[0m\u001b[1;33m(\u001b[0m\u001b[1;33m)\u001b[0m\u001b[1;33m\u001b[0m\u001b[1;33m\u001b[0m\u001b[0m\n",
      "\u001b[1;32m~\\anaconda3\\lib\\site-packages\\tensorflow\\python\\eager\\def_function.py\u001b[0m in \u001b[0;36m_call\u001b[1;34m(self, *args, **kwds)\u001b[0m\n\u001b[0;32m    805\u001b[0m       \u001b[1;31m# In this case we have created variables on the first call, so we run the\u001b[0m\u001b[1;33m\u001b[0m\u001b[1;33m\u001b[0m\u001b[1;33m\u001b[0m\u001b[0m\n\u001b[0;32m    806\u001b[0m       \u001b[1;31m# defunned version which is guaranteed to never create variables.\u001b[0m\u001b[1;33m\u001b[0m\u001b[1;33m\u001b[0m\u001b[1;33m\u001b[0m\u001b[0m\n\u001b[1;32m--> 807\u001b[1;33m       \u001b[1;32mreturn\u001b[0m \u001b[0mself\u001b[0m\u001b[1;33m.\u001b[0m\u001b[0m_stateless_fn\u001b[0m\u001b[1;33m(\u001b[0m\u001b[1;33m*\u001b[0m\u001b[0margs\u001b[0m\u001b[1;33m,\u001b[0m \u001b[1;33m**\u001b[0m\u001b[0mkwds\u001b[0m\u001b[1;33m)\u001b[0m  \u001b[1;31m# pylint: disable=not-callable\u001b[0m\u001b[1;33m\u001b[0m\u001b[1;33m\u001b[0m\u001b[0m\n\u001b[0m\u001b[0;32m    808\u001b[0m     \u001b[1;32melif\u001b[0m \u001b[0mself\u001b[0m\u001b[1;33m.\u001b[0m\u001b[0m_stateful_fn\u001b[0m \u001b[1;32mis\u001b[0m \u001b[1;32mnot\u001b[0m \u001b[1;32mNone\u001b[0m\u001b[1;33m:\u001b[0m\u001b[1;33m\u001b[0m\u001b[1;33m\u001b[0m\u001b[0m\n\u001b[0;32m    809\u001b[0m       \u001b[1;31m# Release the lock early so that multiple threads can perform the call\u001b[0m\u001b[1;33m\u001b[0m\u001b[1;33m\u001b[0m\u001b[1;33m\u001b[0m\u001b[0m\n",
      "\u001b[1;32m~\\anaconda3\\lib\\site-packages\\tensorflow\\python\\eager\\function.py\u001b[0m in \u001b[0;36m__call__\u001b[1;34m(self, *args, **kwargs)\u001b[0m\n\u001b[0;32m   2827\u001b[0m     \u001b[1;32mwith\u001b[0m \u001b[0mself\u001b[0m\u001b[1;33m.\u001b[0m\u001b[0m_lock\u001b[0m\u001b[1;33m:\u001b[0m\u001b[1;33m\u001b[0m\u001b[1;33m\u001b[0m\u001b[0m\n\u001b[0;32m   2828\u001b[0m       \u001b[0mgraph_function\u001b[0m\u001b[1;33m,\u001b[0m \u001b[0margs\u001b[0m\u001b[1;33m,\u001b[0m \u001b[0mkwargs\u001b[0m \u001b[1;33m=\u001b[0m \u001b[0mself\u001b[0m\u001b[1;33m.\u001b[0m\u001b[0m_maybe_define_function\u001b[0m\u001b[1;33m(\u001b[0m\u001b[0margs\u001b[0m\u001b[1;33m,\u001b[0m \u001b[0mkwargs\u001b[0m\u001b[1;33m)\u001b[0m\u001b[1;33m\u001b[0m\u001b[1;33m\u001b[0m\u001b[0m\n\u001b[1;32m-> 2829\u001b[1;33m     \u001b[1;32mreturn\u001b[0m \u001b[0mgraph_function\u001b[0m\u001b[1;33m.\u001b[0m\u001b[0m_filtered_call\u001b[0m\u001b[1;33m(\u001b[0m\u001b[0margs\u001b[0m\u001b[1;33m,\u001b[0m \u001b[0mkwargs\u001b[0m\u001b[1;33m)\u001b[0m  \u001b[1;31m# pylint: disable=protected-access\u001b[0m\u001b[1;33m\u001b[0m\u001b[1;33m\u001b[0m\u001b[0m\n\u001b[0m\u001b[0;32m   2830\u001b[0m \u001b[1;33m\u001b[0m\u001b[0m\n\u001b[0;32m   2831\u001b[0m   \u001b[1;33m@\u001b[0m\u001b[0mproperty\u001b[0m\u001b[1;33m\u001b[0m\u001b[1;33m\u001b[0m\u001b[0m\n",
      "\u001b[1;32m~\\anaconda3\\lib\\site-packages\\tensorflow\\python\\eager\\function.py\u001b[0m in \u001b[0;36m_filtered_call\u001b[1;34m(self, args, kwargs, cancellation_manager)\u001b[0m\n\u001b[0;32m   1841\u001b[0m       \u001b[0;31m`\u001b[0m\u001b[0margs\u001b[0m\u001b[0;31m`\u001b[0m \u001b[1;32mand\u001b[0m\u001b[0;31m \u001b[0m\u001b[0;31m`\u001b[0m\u001b[0mkwargs\u001b[0m\u001b[0;31m`\u001b[0m\u001b[1;33m.\u001b[0m\u001b[1;33m\u001b[0m\u001b[1;33m\u001b[0m\u001b[0m\n\u001b[0;32m   1842\u001b[0m     \"\"\"\n\u001b[1;32m-> 1843\u001b[1;33m     return self._call_flat(\n\u001b[0m\u001b[0;32m   1844\u001b[0m         [t for t in nest.flatten((args, kwargs), expand_composites=True)\n\u001b[0;32m   1845\u001b[0m          if isinstance(t, (ops.Tensor,\n",
      "\u001b[1;32m~\\anaconda3\\lib\\site-packages\\tensorflow\\python\\eager\\function.py\u001b[0m in \u001b[0;36m_call_flat\u001b[1;34m(self, args, captured_inputs, cancellation_manager)\u001b[0m\n\u001b[0;32m   1921\u001b[0m         and executing_eagerly):\n\u001b[0;32m   1922\u001b[0m       \u001b[1;31m# No tape is watching; skip to running the function.\u001b[0m\u001b[1;33m\u001b[0m\u001b[1;33m\u001b[0m\u001b[1;33m\u001b[0m\u001b[0m\n\u001b[1;32m-> 1923\u001b[1;33m       return self._build_call_outputs(self._inference_function.call(\n\u001b[0m\u001b[0;32m   1924\u001b[0m           ctx, args, cancellation_manager=cancellation_manager))\n\u001b[0;32m   1925\u001b[0m     forward_backward = self._select_forward_and_backward_functions(\n",
      "\u001b[1;32m~\\anaconda3\\lib\\site-packages\\tensorflow\\python\\eager\\function.py\u001b[0m in \u001b[0;36mcall\u001b[1;34m(self, ctx, args, cancellation_manager)\u001b[0m\n\u001b[0;32m    543\u001b[0m       \u001b[1;32mwith\u001b[0m \u001b[0m_InterpolateFunctionError\u001b[0m\u001b[1;33m(\u001b[0m\u001b[0mself\u001b[0m\u001b[1;33m)\u001b[0m\u001b[1;33m:\u001b[0m\u001b[1;33m\u001b[0m\u001b[1;33m\u001b[0m\u001b[0m\n\u001b[0;32m    544\u001b[0m         \u001b[1;32mif\u001b[0m \u001b[0mcancellation_manager\u001b[0m \u001b[1;32mis\u001b[0m \u001b[1;32mNone\u001b[0m\u001b[1;33m:\u001b[0m\u001b[1;33m\u001b[0m\u001b[1;33m\u001b[0m\u001b[0m\n\u001b[1;32m--> 545\u001b[1;33m           outputs = execute.execute(\n\u001b[0m\u001b[0;32m    546\u001b[0m               \u001b[0mstr\u001b[0m\u001b[1;33m(\u001b[0m\u001b[0mself\u001b[0m\u001b[1;33m.\u001b[0m\u001b[0msignature\u001b[0m\u001b[1;33m.\u001b[0m\u001b[0mname\u001b[0m\u001b[1;33m)\u001b[0m\u001b[1;33m,\u001b[0m\u001b[1;33m\u001b[0m\u001b[1;33m\u001b[0m\u001b[0m\n\u001b[0;32m    547\u001b[0m               \u001b[0mnum_outputs\u001b[0m\u001b[1;33m=\u001b[0m\u001b[0mself\u001b[0m\u001b[1;33m.\u001b[0m\u001b[0m_num_outputs\u001b[0m\u001b[1;33m,\u001b[0m\u001b[1;33m\u001b[0m\u001b[1;33m\u001b[0m\u001b[0m\n",
      "\u001b[1;32m~\\anaconda3\\lib\\site-packages\\tensorflow\\python\\eager\\execute.py\u001b[0m in \u001b[0;36mquick_execute\u001b[1;34m(op_name, num_outputs, inputs, attrs, ctx, name)\u001b[0m\n\u001b[0;32m     57\u001b[0m   \u001b[1;32mtry\u001b[0m\u001b[1;33m:\u001b[0m\u001b[1;33m\u001b[0m\u001b[1;33m\u001b[0m\u001b[0m\n\u001b[0;32m     58\u001b[0m     \u001b[0mctx\u001b[0m\u001b[1;33m.\u001b[0m\u001b[0mensure_initialized\u001b[0m\u001b[1;33m(\u001b[0m\u001b[1;33m)\u001b[0m\u001b[1;33m\u001b[0m\u001b[1;33m\u001b[0m\u001b[0m\n\u001b[1;32m---> 59\u001b[1;33m     tensors = pywrap_tfe.TFE_Py_Execute(ctx._handle, device_name, op_name,\n\u001b[0m\u001b[0;32m     60\u001b[0m                                         inputs, attrs, num_outputs)\n\u001b[0;32m     61\u001b[0m   \u001b[1;32mexcept\u001b[0m \u001b[0mcore\u001b[0m\u001b[1;33m.\u001b[0m\u001b[0m_NotOkStatusException\u001b[0m \u001b[1;32mas\u001b[0m \u001b[0me\u001b[0m\u001b[1;33m:\u001b[0m\u001b[1;33m\u001b[0m\u001b[1;33m\u001b[0m\u001b[0m\n",
      "\u001b[1;31mKeyboardInterrupt\u001b[0m: "
     ]
    }
   ],
   "source": [
    "tuner.search(X_train, y_train,\n",
    "             validation_data=(X_val, y_val),\n",
    "             epochs=30,\n",
    "             batch_size=128,\n",
    "             callbacks=[tf.keras.callbacks.EarlyStopping(monitor='val_loss', patience=2)])"
   ]
  },
  {
   "cell_type": "code",
   "execution_count": null,
   "metadata": {},
   "outputs": [],
   "source": [
    "NUM_EPOCHS = 20\n",
    "INIT_LR = 1e-3\n",
    "BS = 128"
   ]
  },
  {
   "cell_type": "code",
   "execution_count": null,
   "metadata": {},
   "outputs": [],
   "source": [
    "opt = Adam(lr=INIT_LR, decay=INIT_LR / (NUM_EPOCHS * 0.5))\n",
    "model = TrafficSignNetwork.build(width=32, height=32, depth=3, classes=43)\n",
    "# Umsetzung der Empfehlung, die logit-Variante vorzuziehen\n",
    "model.compile(loss=tf.keras.losses.CategoricalCrossentropy(from_logits=True), optimizer=opt, metrics=[\"accuracy\"])"
   ]
  },
  {
   "cell_type": "code",
   "execution_count": null,
   "metadata": {},
   "outputs": [],
   "source": [
    "model.summary()"
   ]
  },
  {
   "cell_type": "code",
   "execution_count": null,
   "metadata": {
    "scrolled": true
   },
   "outputs": [],
   "source": [
    "H = model.fit(X_train, y_train,\n",
    "              validation_data=(X_val, y_val),\n",
    "              epochs = NUM_EPOCHS,\n",
    "              batch_size = BS\n",
    "            )\n",
    "model.save(r\"./models/aug_model_40ep.h5\")"
   ]
  },
  {
   "cell_type": "code",
   "execution_count": null,
   "metadata": {},
   "outputs": [],
   "source": [
    "hist = H.history\n",
    "x_arr = np.arange(len(hist['loss'])) + 1\n",
    "\n",
    "fig = plt.figure(figsize=(12, 4))\n",
    "ax = fig.add_subplot(1, 2, 1)\n",
    "ax.plot(x_arr, hist['loss'], '-o', label='Train loss')\n",
    "ax.plot(x_arr, hist['val_loss'], '--<', label='Validation loss')\n",
    "ax.set_xlabel('Epoch', size=15)\n",
    "ax.set_ylabel('Loss', size=15)\n",
    "ax.legend(fontsize=15)\n",
    "ax = fig.add_subplot(1, 2, 2)\n",
    "ax.plot(x_arr, hist['accuracy'], '-o', label='Train acc.')\n",
    "ax.plot(x_arr, hist['val_accuracy'], '--<', label='Validation acc.')\n",
    "ax.legend(fontsize=15)\n",
    "ax.set_xlabel('Epoch', size=15)\n",
    "ax.set_ylabel('Accuracy', size=15)\n",
    "plt.show()"
   ]
  },
  {
   "cell_type": "code",
   "execution_count": null,
   "metadata": {},
   "outputs": [],
   "source": [
    "model.evaluate(X_test, y_test)"
   ]
  },
  {
   "cell_type": "code",
   "execution_count": null,
   "metadata": {},
   "outputs": [],
   "source": [
    "preds = model.predict(X_test)\n",
    "preds = tf.argmax(preds, axis=1)\n",
    "preds"
   ]
  },
  {
   "cell_type": "markdown",
   "metadata": {},
   "source": [
    "### Diskussion der Ergebnisse\n",
    "- Wenige Layer und hohe Anzahl an Epochen: \n",
    "    - Einbrechen der validation_accuracy nach 15-20 Epochen (Overfitting)\n",
    "- a"
   ]
  },
  {
   "cell_type": "code",
   "execution_count": null,
   "metadata": {},
   "outputs": [],
   "source": [
    "print(classes[preds[0].numpy()])\n",
    "cv2.imshow(\"Image\",X_test[0]*255)\n",
    "k = cv2.waitKey(0)\n",
    "cv2.destroyAllWindows()"
   ]
  },
  {
   "cell_type": "code",
   "execution_count": null,
   "metadata": {},
   "outputs": [],
   "source": [
    "wrong_preds = preds.numpy() !=  tf.argmax(y_test, axis=1).numpy()\n",
    "wrong_preds_index = np.where(wrong_preds == True)\n",
    "print(\"Falsche Vorhersagen:\", len(wrong_preds_index[0]), \"von:\", len(preds.numpy()))"
   ]
  },
  {
   "cell_type": "code",
   "execution_count": null,
   "metadata": {
    "scrolled": true
   },
   "outputs": [],
   "source": [
    "#for i in wrong_predictions_index[0]:\n",
    " #   print(classes[real[i].numpy()])\n",
    "  #  cv2.imshow(\"Image\",X_test[i]*255)\n",
    "   # k = cv2.waitKey(0)\n",
    "    #cv2.destroyAllWindows()"
   ]
  },
  {
   "cell_type": "code",
   "execution_count": null,
   "metadata": {},
   "outputs": [],
   "source": [
    "X_train[0].shape\n",
    "type(X_train)"
   ]
  },
  {
   "cell_type": "code",
   "execution_count": null,
   "metadata": {},
   "outputs": [],
   "source": [
    "from tensorflow.keras.models import load_model\n",
    "model = load_model(r\"./models/first_model.h5\")"
   ]
  },
  {
   "cell_type": "code",
   "execution_count": null,
   "metadata": {},
   "outputs": [],
   "source": [
    "data2 = []\n",
    "#--------------\n",
    "image = cv2.imread(r\"./images/Baustell.png\")\n",
    "image = transform.resize(image, (32, 32))   #cv2.resize??\n",
    "image = exposure.equalize_adapthist(image, clip_limit=0.1)\n",
    "#------------- replace by implementation in reader-class \n",
    "data2.append(image)\n",
    "data2 = np.asarray(data2)\n",
    "data2 = data2.astype(\"float32\")/255.0\n",
    "preds = model.predict(data2)\n",
    "print(preds)\n",
    "print(sum(preds[0]))\n",
    "preds = tf.argmax(preds, axis=1)\n",
    "print(\"Prediction: \" + classes[preds[0].numpy()])"
   ]
  },
  {
   "cell_type": "code",
   "execution_count": null,
   "metadata": {},
   "outputs": [],
   "source": [
    "model.save(r\"./models/first_model.h5\")"
   ]
  }
 ],
 "metadata": {
  "kernelspec": {
   "display_name": "Python 3",
   "language": "python",
   "name": "python3"
  },
  "language_info": {
   "codemirror_mode": {
    "name": "ipython",
    "version": 3
   },
   "file_extension": ".py",
   "mimetype": "text/x-python",
   "name": "python",
   "nbconvert_exporter": "python",
   "pygments_lexer": "ipython3",
   "version": "3.8.8"
  }
 },
 "nbformat": 4,
 "nbformat_minor": 4
}
