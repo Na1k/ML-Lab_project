{
 "cells": [
  {
   "cell_type": "code",
   "execution_count": 1,
   "id": "10425474",
   "metadata": {},
   "outputs": [],
   "source": [
    "import random\n",
    "from src.reader import Reader\n",
    "import os\n",
    "import cv2"
   ]
  },
  {
   "cell_type": "code",
   "execution_count": 2,
   "id": "5c59ca91",
   "metadata": {},
   "outputs": [],
   "source": [
    "raster_width = 5\n",
    "raster_height = 3\n",
    "sign_size = 64\n",
    "sample_number = 5"
   ]
  },
  {
   "cell_type": "code",
   "execution_count": 3,
   "id": "c395af24",
   "metadata": {},
   "outputs": [],
   "source": [
    "folder = r\"../ML-Lab_data/bg_images\"\n",
    "bg_images = [\"herbst-baeume-weg.jpg\", \"sturm-kueste.jpg\"]*2"
   ]
  },
  {
   "cell_type": "code",
   "execution_count": 4,
   "id": "3453ebf8",
   "metadata": {},
   "outputs": [],
   "source": [
    "all_samples = [(a, b) for a in range(raster_width) for b in range(raster_height)]"
   ]
  },
  {
   "cell_type": "code",
   "execution_count": 5,
   "id": "c3dc0cfc",
   "metadata": {},
   "outputs": [
    {
     "name": "stderr",
     "output_type": "stream",
     "text": [
      "C:\\Users\\holz_so\\Documents\\Uni\\MaschineLearning\\verkehrsschilder\\ML-Lab_project\\src\\reader.py:19: FutureWarning: The frame.append method is deprecated and will be removed from pandas in a future version. Use pandas.concat instead.\n",
      "  self.df = self.df.append(df_tmp)\n",
      "C:\\Users\\holz_so\\Documents\\Uni\\MaschineLearning\\verkehrsschilder\\ML-Lab_project\\src\\reader.py:19: FutureWarning: The frame.append method is deprecated and will be removed from pandas in a future version. Use pandas.concat instead.\n",
      "  self.df = self.df.append(df_tmp)\n",
      "C:\\Users\\holz_so\\Documents\\Uni\\MaschineLearning\\verkehrsschilder\\ML-Lab_project\\src\\reader.py:19: FutureWarning: The frame.append method is deprecated and will be removed from pandas in a future version. Use pandas.concat instead.\n",
      "  self.df = self.df.append(df_tmp)\n",
      "C:\\Users\\holz_so\\Documents\\Uni\\MaschineLearning\\verkehrsschilder\\ML-Lab_project\\src\\reader.py:19: FutureWarning: The frame.append method is deprecated and will be removed from pandas in a future version. Use pandas.concat instead.\n",
      "  self.df = self.df.append(df_tmp)\n",
      "C:\\Users\\holz_so\\Documents\\Uni\\MaschineLearning\\verkehrsschilder\\ML-Lab_project\\src\\reader.py:19: FutureWarning: The frame.append method is deprecated and will be removed from pandas in a future version. Use pandas.concat instead.\n",
      "  self.df = self.df.append(df_tmp)\n",
      "C:\\Users\\holz_so\\Documents\\Uni\\MaschineLearning\\verkehrsschilder\\ML-Lab_project\\src\\reader.py:19: FutureWarning: The frame.append method is deprecated and will be removed from pandas in a future version. Use pandas.concat instead.\n",
      "  self.df = self.df.append(df_tmp)\n",
      "C:\\Users\\holz_so\\Documents\\Uni\\MaschineLearning\\verkehrsschilder\\ML-Lab_project\\src\\reader.py:19: FutureWarning: The frame.append method is deprecated and will be removed from pandas in a future version. Use pandas.concat instead.\n",
      "  self.df = self.df.append(df_tmp)\n",
      "C:\\Users\\holz_so\\Documents\\Uni\\MaschineLearning\\verkehrsschilder\\ML-Lab_project\\src\\reader.py:19: FutureWarning: The frame.append method is deprecated and will be removed from pandas in a future version. Use pandas.concat instead.\n",
      "  self.df = self.df.append(df_tmp)\n",
      "C:\\Users\\holz_so\\Documents\\Uni\\MaschineLearning\\verkehrsschilder\\ML-Lab_project\\src\\reader.py:19: FutureWarning: The frame.append method is deprecated and will be removed from pandas in a future version. Use pandas.concat instead.\n",
      "  self.df = self.df.append(df_tmp)\n",
      "C:\\Users\\holz_so\\Documents\\Uni\\MaschineLearning\\verkehrsschilder\\ML-Lab_project\\src\\reader.py:19: FutureWarning: The frame.append method is deprecated and will be removed from pandas in a future version. Use pandas.concat instead.\n",
      "  self.df = self.df.append(df_tmp)\n",
      "C:\\Users\\holz_so\\Documents\\Uni\\MaschineLearning\\verkehrsschilder\\ML-Lab_project\\src\\reader.py:19: FutureWarning: The frame.append method is deprecated and will be removed from pandas in a future version. Use pandas.concat instead.\n",
      "  self.df = self.df.append(df_tmp)\n",
      "C:\\Users\\holz_so\\Documents\\Uni\\MaschineLearning\\verkehrsschilder\\ML-Lab_project\\src\\reader.py:19: FutureWarning: The frame.append method is deprecated and will be removed from pandas in a future version. Use pandas.concat instead.\n",
      "  self.df = self.df.append(df_tmp)\n",
      "C:\\Users\\holz_so\\Documents\\Uni\\MaschineLearning\\verkehrsschilder\\ML-Lab_project\\src\\reader.py:19: FutureWarning: The frame.append method is deprecated and will be removed from pandas in a future version. Use pandas.concat instead.\n",
      "  self.df = self.df.append(df_tmp)\n",
      "C:\\Users\\holz_so\\Documents\\Uni\\MaschineLearning\\verkehrsschilder\\ML-Lab_project\\src\\reader.py:19: FutureWarning: The frame.append method is deprecated and will be removed from pandas in a future version. Use pandas.concat instead.\n",
      "  self.df = self.df.append(df_tmp)\n",
      "C:\\Users\\holz_so\\Documents\\Uni\\MaschineLearning\\verkehrsschilder\\ML-Lab_project\\src\\reader.py:19: FutureWarning: The frame.append method is deprecated and will be removed from pandas in a future version. Use pandas.concat instead.\n",
      "  self.df = self.df.append(df_tmp)\n",
      "C:\\Users\\holz_so\\Documents\\Uni\\MaschineLearning\\verkehrsschilder\\ML-Lab_project\\src\\reader.py:19: FutureWarning: The frame.append method is deprecated and will be removed from pandas in a future version. Use pandas.concat instead.\n",
      "  self.df = self.df.append(df_tmp)\n",
      "C:\\Users\\holz_so\\Documents\\Uni\\MaschineLearning\\verkehrsschilder\\ML-Lab_project\\src\\reader.py:19: FutureWarning: The frame.append method is deprecated and will be removed from pandas in a future version. Use pandas.concat instead.\n",
      "  self.df = self.df.append(df_tmp)\n",
      "C:\\Users\\holz_so\\Documents\\Uni\\MaschineLearning\\verkehrsschilder\\ML-Lab_project\\src\\reader.py:19: FutureWarning: The frame.append method is deprecated and will be removed from pandas in a future version. Use pandas.concat instead.\n",
      "  self.df = self.df.append(df_tmp)\n",
      "C:\\Users\\holz_so\\Documents\\Uni\\MaschineLearning\\verkehrsschilder\\ML-Lab_project\\src\\reader.py:19: FutureWarning: The frame.append method is deprecated and will be removed from pandas in a future version. Use pandas.concat instead.\n",
      "  self.df = self.df.append(df_tmp)\n",
      "C:\\Users\\holz_so\\Documents\\Uni\\MaschineLearning\\verkehrsschilder\\ML-Lab_project\\src\\reader.py:19: FutureWarning: The frame.append method is deprecated and will be removed from pandas in a future version. Use pandas.concat instead.\n",
      "  self.df = self.df.append(df_tmp)\n",
      "C:\\Users\\holz_so\\Documents\\Uni\\MaschineLearning\\verkehrsschilder\\ML-Lab_project\\src\\reader.py:19: FutureWarning: The frame.append method is deprecated and will be removed from pandas in a future version. Use pandas.concat instead.\n",
      "  self.df = self.df.append(df_tmp)\n",
      "C:\\Users\\holz_so\\Documents\\Uni\\MaschineLearning\\verkehrsschilder\\ML-Lab_project\\src\\reader.py:19: FutureWarning: The frame.append method is deprecated and will be removed from pandas in a future version. Use pandas.concat instead.\n",
      "  self.df = self.df.append(df_tmp)\n",
      "C:\\Users\\holz_so\\Documents\\Uni\\MaschineLearning\\verkehrsschilder\\ML-Lab_project\\src\\reader.py:19: FutureWarning: The frame.append method is deprecated and will be removed from pandas in a future version. Use pandas.concat instead.\n",
      "  self.df = self.df.append(df_tmp)\n",
      "C:\\Users\\holz_so\\Documents\\Uni\\MaschineLearning\\verkehrsschilder\\ML-Lab_project\\src\\reader.py:19: FutureWarning: The frame.append method is deprecated and will be removed from pandas in a future version. Use pandas.concat instead.\n",
      "  self.df = self.df.append(df_tmp)\n",
      "C:\\Users\\holz_so\\Documents\\Uni\\MaschineLearning\\verkehrsschilder\\ML-Lab_project\\src\\reader.py:19: FutureWarning: The frame.append method is deprecated and will be removed from pandas in a future version. Use pandas.concat instead.\n",
      "  self.df = self.df.append(df_tmp)\n",
      "C:\\Users\\holz_so\\Documents\\Uni\\MaschineLearning\\verkehrsschilder\\ML-Lab_project\\src\\reader.py:19: FutureWarning: The frame.append method is deprecated and will be removed from pandas in a future version. Use pandas.concat instead.\n",
      "  self.df = self.df.append(df_tmp)\n",
      "C:\\Users\\holz_so\\Documents\\Uni\\MaschineLearning\\verkehrsschilder\\ML-Lab_project\\src\\reader.py:19: FutureWarning: The frame.append method is deprecated and will be removed from pandas in a future version. Use pandas.concat instead.\n",
      "  self.df = self.df.append(df_tmp)\n",
      "C:\\Users\\holz_so\\Documents\\Uni\\MaschineLearning\\verkehrsschilder\\ML-Lab_project\\src\\reader.py:19: FutureWarning: The frame.append method is deprecated and will be removed from pandas in a future version. Use pandas.concat instead.\n",
      "  self.df = self.df.append(df_tmp)\n",
      "C:\\Users\\holz_so\\Documents\\Uni\\MaschineLearning\\verkehrsschilder\\ML-Lab_project\\src\\reader.py:19: FutureWarning: The frame.append method is deprecated and will be removed from pandas in a future version. Use pandas.concat instead.\n",
      "  self.df = self.df.append(df_tmp)\n",
      "C:\\Users\\holz_so\\Documents\\Uni\\MaschineLearning\\verkehrsschilder\\ML-Lab_project\\src\\reader.py:19: FutureWarning: The frame.append method is deprecated and will be removed from pandas in a future version. Use pandas.concat instead.\n",
      "  self.df = self.df.append(df_tmp)\n",
      "C:\\Users\\holz_so\\Documents\\Uni\\MaschineLearning\\verkehrsschilder\\ML-Lab_project\\src\\reader.py:19: FutureWarning: The frame.append method is deprecated and will be removed from pandas in a future version. Use pandas.concat instead.\n",
      "  self.df = self.df.append(df_tmp)\n",
      "C:\\Users\\holz_so\\Documents\\Uni\\MaschineLearning\\verkehrsschilder\\ML-Lab_project\\src\\reader.py:19: FutureWarning: The frame.append method is deprecated and will be removed from pandas in a future version. Use pandas.concat instead.\n",
      "  self.df = self.df.append(df_tmp)\n",
      "C:\\Users\\holz_so\\Documents\\Uni\\MaschineLearning\\verkehrsschilder\\ML-Lab_project\\src\\reader.py:19: FutureWarning: The frame.append method is deprecated and will be removed from pandas in a future version. Use pandas.concat instead.\n",
      "  self.df = self.df.append(df_tmp)\n",
      "C:\\Users\\holz_so\\Documents\\Uni\\MaschineLearning\\verkehrsschilder\\ML-Lab_project\\src\\reader.py:19: FutureWarning: The frame.append method is deprecated and will be removed from pandas in a future version. Use pandas.concat instead.\n",
      "  self.df = self.df.append(df_tmp)\n",
      "C:\\Users\\holz_so\\Documents\\Uni\\MaschineLearning\\verkehrsschilder\\ML-Lab_project\\src\\reader.py:19: FutureWarning: The frame.append method is deprecated and will be removed from pandas in a future version. Use pandas.concat instead.\n",
      "  self.df = self.df.append(df_tmp)\n",
      "C:\\Users\\holz_so\\Documents\\Uni\\MaschineLearning\\verkehrsschilder\\ML-Lab_project\\src\\reader.py:19: FutureWarning: The frame.append method is deprecated and will be removed from pandas in a future version. Use pandas.concat instead.\n",
      "  self.df = self.df.append(df_tmp)\n",
      "C:\\Users\\holz_so\\Documents\\Uni\\MaschineLearning\\verkehrsschilder\\ML-Lab_project\\src\\reader.py:19: FutureWarning: The frame.append method is deprecated and will be removed from pandas in a future version. Use pandas.concat instead.\n",
      "  self.df = self.df.append(df_tmp)\n",
      "C:\\Users\\holz_so\\Documents\\Uni\\MaschineLearning\\verkehrsschilder\\ML-Lab_project\\src\\reader.py:19: FutureWarning: The frame.append method is deprecated and will be removed from pandas in a future version. Use pandas.concat instead.\n",
      "  self.df = self.df.append(df_tmp)\n",
      "C:\\Users\\holz_so\\Documents\\Uni\\MaschineLearning\\verkehrsschilder\\ML-Lab_project\\src\\reader.py:19: FutureWarning: The frame.append method is deprecated and will be removed from pandas in a future version. Use pandas.concat instead.\n",
      "  self.df = self.df.append(df_tmp)\n"
     ]
    },
    {
     "name": "stderr",
     "output_type": "stream",
     "text": [
      "C:\\Users\\holz_so\\Documents\\Uni\\MaschineLearning\\verkehrsschilder\\ML-Lab_project\\src\\reader.py:19: FutureWarning: The frame.append method is deprecated and will be removed from pandas in a future version. Use pandas.concat instead.\n",
      "  self.df = self.df.append(df_tmp)\n",
      "C:\\Users\\holz_so\\Documents\\Uni\\MaschineLearning\\verkehrsschilder\\ML-Lab_project\\src\\reader.py:19: FutureWarning: The frame.append method is deprecated and will be removed from pandas in a future version. Use pandas.concat instead.\n",
      "  self.df = self.df.append(df_tmp)\n",
      "C:\\Users\\holz_so\\Documents\\Uni\\MaschineLearning\\verkehrsschilder\\ML-Lab_project\\src\\reader.py:19: FutureWarning: The frame.append method is deprecated and will be removed from pandas in a future version. Use pandas.concat instead.\n",
      "  self.df = self.df.append(df_tmp)\n",
      "C:\\Users\\holz_so\\Documents\\Uni\\MaschineLearning\\verkehrsschilder\\ML-Lab_project\\src\\reader.py:19: FutureWarning: The frame.append method is deprecated and will be removed from pandas in a future version. Use pandas.concat instead.\n",
      "  self.df = self.df.append(df_tmp)\n"
     ]
    }
   ],
   "source": [
    "df = Reader().read_data_to_df(folders=43, pre_path=r\"../ML-Lab_data/data/\")"
   ]
  },
  {
   "cell_type": "code",
   "execution_count": 6,
   "id": "79c4378f",
   "metadata": {},
   "outputs": [],
   "source": [
    "def get_random_sign():\n",
    "    row = df.sample().iloc[0]\n",
    "    x = row[\"Roi.X1\"]\n",
    "    y = row[\"Roi.Y1\"]\n",
    "    h = row[\"Roi.Y2\"]-row[\"Roi.Y1\"]\n",
    "    w = row[\"Roi.X2\"]-row[\"Roi.X1\"]\n",
    "    img = Reader().read_preprocess_img_without_bounding(row[\"Folder\"]+row[\"Filename\"],(sign_size,sign_size), \n",
    "                                                        clahe=False, )#bounding =(x,y,h,w))\n",
    "    return img, int(row[\"ClassId\"]), (x,y,h,w)"
   ]
  },
  {
   "cell_type": "code",
   "execution_count": 7,
   "id": "0e498fe0",
   "metadata": {},
   "outputs": [
    {
     "name": "stdout",
     "output_type": "stream",
     "text": [
      "[{(70, 134): 16, (262, 6): 7, (198, 6): 4, (139, 12): 12, (72, 9): 14}, {(262, 70): 10, (198, 5): 8, (133, 134): 4, (69, 69): 2, (200, 70): 31}, {(69, 133): 3, (198, 134): 5, (262, 70): 13, (261, 5): 26, (5, 70): 35}, {(70, 69): 10, (198, 6): 25, (133, 70): 38, (261, 134): 26, (199, 135): 5}]\n"
     ]
    }
   ],
   "source": [
    "labels = []\n",
    "data = []\n",
    "\n",
    "for i, img_name in enumerate(bg_images):\n",
    "    img = Reader().read_preprocess_img_without_bounding(os.path.join(folder,img_name), (raster_width*sign_size, raster_height*sign_size), clahe=False)\n",
    "        \n",
    "    samples = random.sample(all_samples, sample_number)\n",
    "    label = dict()\n",
    "    for s in samples:\n",
    "        sign_img, sign_label, sign_bounding = get_random_sign()\n",
    "        img[sign_size*s[1]:sign_size*(s[1]+1), sign_size*s[0]:sign_size*(s[0]+1)] = sign_img\n",
    "        key = (sign_size*s[0]+sign_bounding[0], sign_size*s[1]+sign_bounding[1])\n",
    "        label[key] = sign_label\n",
    "    labels.append(label)\n",
    "    data.append(img)\n",
    "    \n",
    "    cv2.namedWindow(str(i)+img_name, cv2.WINDOW_NORMAL)\n",
    "    cv2.imshow(str(i)+img_name, img)\n",
    "    \n",
    "print(labels)\n",
    "cv2.waitKey()\n",
    "cv2.destroyAllWindows()"
   ]
  },
  {
   "cell_type": "code",
   "execution_count": null,
   "id": "88b98adf",
   "metadata": {},
   "outputs": [],
   "source": []
  }
 ],
 "metadata": {
  "kernelspec": {
   "display_name": "Python 3 (ipykernel)",
   "language": "python",
   "name": "python3"
  },
  "language_info": {
   "codemirror_mode": {
    "name": "ipython",
    "version": 3
   },
   "file_extension": ".py",
   "mimetype": "text/x-python",
   "name": "python",
   "nbconvert_exporter": "python",
   "pygments_lexer": "ipython3",
   "version": "3.9.9"
  }
 },
 "nbformat": 4,
 "nbformat_minor": 5
}
