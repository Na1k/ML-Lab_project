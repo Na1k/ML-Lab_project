{
 "cells": [
  {
   "cell_type": "markdown",
   "metadata": {
    "id": "IUsZ7OSfPHhS"
   },
   "source": [
    "# Modelltraining Schilder Klassifizierung\n",
    "Dieses Notebook beschäftigt sich mit dem Modelltraining des Klassifizierers für Verkehrsschilder. Es handelt sich um ein \"Neben-Notebook\". Das <a href=\"Aufgabe_D_Schilder.ipynb\">Haupt-Notebook ist hier</a> zu finden.  \n",
    "Trotzdem enthält auch dieses Notebook Dokumentationen der Ergebnisse und ist daher essentiell für die Aufgabe in ihrer Gesamtheit."
   ]
  },
  {
   "cell_type": "markdown",
   "metadata": {
    "id": "6FSV0JarPHhW"
   },
   "source": [
    "## Bearbeiter\n",
    "**TINF19-IT2**  \n",
    "Patrick Küsters (9815596)  \n",
    "Nick Kramer (3122448)  \n",
    "**TINF19-IT1**  \n",
    "Sören Holzenkamp (8528927)"
   ]
  },
  {
   "cell_type": "markdown",
   "metadata": {
    "id": "o0HJZkjWPHhw"
   },
   "source": [
    "## Imports\n",
    "Lokal entwickelte Skripte und Module"
   ]
  },
  {
   "cell_type": "code",
   "execution_count": 5,
   "metadata": {
    "executionInfo": {
     "elapsed": 292,
     "status": "ok",
     "timestamp": 1646406684881,
     "user": {
      "displayName": "Nick Kramer",
      "photoUrl": "https://lh3.googleusercontent.com/a-/AOh14GgU88TGrTBP-F81llUtYRKmUlcVlW1pb8OBGXVE=s64",
      "userId": "02860907209278276174"
     },
     "user_tz": -60
    },
    "id": "bxVrxP3LPHhx"
   },
   "outputs": [],
   "source": [
    "import sys\n",
    "from pathlib import Path\n",
    "module_path = str(Path.cwd() / \"src\")\n",
    "if module_path not in sys.path:\n",
    "    sys.path.append(module_path)"
   ]
  },
  {
   "cell_type": "code",
   "execution_count": 6,
   "metadata": {
    "executionInfo": {
     "elapsed": 8093,
     "status": "ok",
     "timestamp": 1646406693327,
     "user": {
      "displayName": "Nick Kramer",
      "photoUrl": "https://lh3.googleusercontent.com/a-/AOh14GgU88TGrTBP-F81llUtYRKmUlcVlW1pb8OBGXVE=s64",
      "userId": "02860907209278276174"
     },
     "user_tz": -60
    },
    "id": "2RvD2UU4PHhy"
   },
   "outputs": [],
   "source": [
    "from reader import Reader\n",
    "from display_data import ImageDisplayer\n",
    "import collage"
   ]
  },
  {
   "cell_type": "markdown",
   "metadata": {
    "id": "uXEL9_snPHhz"
   },
   "source": [
    "Externe Bibliotheken"
   ]
  },
  {
   "cell_type": "code",
   "execution_count": 7,
   "metadata": {
    "executionInfo": {
     "elapsed": 20,
     "status": "ok",
     "timestamp": 1646406693331,
     "user": {
      "displayName": "Nick Kramer",
      "photoUrl": "https://lh3.googleusercontent.com/a-/AOh14GgU88TGrTBP-F81llUtYRKmUlcVlW1pb8OBGXVE=s64",
      "userId": "02860907209278276174"
     },
     "user_tz": -60
    },
    "id": "bpz5s5yvPHh0"
   },
   "outputs": [],
   "source": [
    "import cv2\n",
    "import pandas as pd\n",
    "import matplotlib.pyplot as plt"
   ]
  },
  {
   "cell_type": "code",
   "execution_count": 8,
   "metadata": {
    "executionInfo": {
     "elapsed": 406,
     "status": "ok",
     "timestamp": 1646406693720,
     "user": {
      "displayName": "Nick Kramer",
      "photoUrl": "https://lh3.googleusercontent.com/a-/AOh14GgU88TGrTBP-F81llUtYRKmUlcVlW1pb8OBGXVE=s64",
      "userId": "02860907209278276174"
     },
     "user_tz": -60
    },
    "id": "VbS6LxQKPHh1"
   },
   "outputs": [],
   "source": [
    "from skimage import exposure\n",
    "from tensorflow.keras.preprocessing.image import load_img\n",
    "from PIL import Image\n",
    "import matplotlib.pyplot as plt\n",
    "import numpy as np\n",
    "import pickle\n",
    "import cv2\n",
    "import os\n",
    "from tqdm import tqdm\n",
    "from tensorflow.keras.preprocessing.image import ImageDataGenerator\n",
    "from tensorflow.keras.models import Sequential\n",
    "from tensorflow.keras.layers import BatchNormalization\n",
    "from tensorflow.keras.layers import Conv2D\n",
    "from tensorflow.keras.layers import MaxPooling2D\n",
    "from tensorflow.keras.layers import AvgPool2D\n",
    "from tensorflow.keras.layers import Activation\n",
    "from tensorflow.keras.layers import Flatten\n",
    "from tensorflow.keras.layers import Dropout\n",
    "from tensorflow.keras.layers import Dense\n",
    "from tensorflow.keras.optimizers import Adam\n",
    "from tensorflow.keras.utils import to_categorical\n",
    "import tensorflow as tf\n",
    "from skimage import transform\n",
    "from sklearn.model_selection import train_test_split"
   ]
  },
  {
   "cell_type": "markdown",
   "metadata": {
    "id": "vMOjRrkpPHi3"
   },
   "source": [
    "## Daten Einlesen\n",
    "Einlesen der Trainings-/Test- und Validierungsdaten  \n",
    "\n",
    "**Trainingsdaten**  \n",
    "Dienen zum Training des neuronalen Netzes. Mit 75% des gesamten Datensatzes wird hier der Großteil der Daten genutzt.\n",
    "\n",
    "**Validierungsdaten**  \n",
    "Dienen zum Testen des neuronalen Netzes während des Trainings. Hierfür werden 17.5% der Daten vorgehalten.\n",
    "\n",
    "**Testdaten**  \n",
    "Dienen zur Evaluation des neuronalen Netzes nach dem Training. Validierungsadaten eignen sich hier nicht, da das neuronale Netz diese Daten bereits \"gesehen\" hat. Es dient als weitere Instanz, Über und Unteranpassung zu erkennen. Der Testdatensatz umfasst 17.5% des Datensatzes."
   ]
  },
  {
   "cell_type": "code",
   "execution_count": 9,
   "metadata": {
    "colab": {
     "base_uri": "https://localhost:8080/"
    },
    "executionInfo": {
     "elapsed": 14451,
     "status": "ok",
     "timestamp": 1646406708165,
     "user": {
      "displayName": "Nick Kramer",
      "photoUrl": "https://lh3.googleusercontent.com/a-/AOh14GgU88TGrTBP-F81llUtYRKmUlcVlW1pb8OBGXVE=s64",
      "userId": "02860907209278276174"
     },
     "user_tz": -60
    },
    "id": "RthtAJV6PHir",
    "outputId": "2fb72da4-4b85-4fe7-eb5d-07fe9027cbaa"
   },
   "outputs": [
    {
     "name": "stdout",
     "output_type": "stream",
     "text": [
      "False\n"
     ]
    }
   ],
   "source": [
    "NO_PREPARED_DATA = True\n",
    "\n",
    "pickle_folder = \"/content/drive/MyDrive/Sign_Classification/\"\n",
    "\n",
    "try:\n",
    "    with open(os.path.join(pickle_folder, 'X_train.pkl'), 'rb') as f:\n",
    "        X_train = pickle.load(f)\n",
    "\n",
    "    with open(os.path.join(pickle_folder, 'y_train.pkl'), 'rb') as f:\n",
    "        y_train = pickle.load(f)\n",
    "\n",
    "    with open(os.path.join(pickle_folder, 'X_val.pkl'), 'rb') as f:\n",
    "        X_test = pickle.load(f)\n",
    "\n",
    "    with open(os.path.join(pickle_folder, 'y_val.pkl'), 'rb') as f:\n",
    "        y_test = pickle.load(f)\n",
    "    NO_PREPARED_DATA = False\n",
    "except:\n",
    "    print(\"No already preprocessed data\")\n",
    "print(NO_PREPARED_DATA)\n",
    "\n",
    "# split test in val and test (0.5, 0.5 of test-data)\n",
    "X_val, X_test, y_val, y_test = train_test_split(X_test, y_test, test_size=0.5, random_state=1234)"
   ]
  },
  {
   "cell_type": "markdown",
   "metadata": {
    "id": "jWzPfKUQPHi8"
   },
   "source": [
    "## CNN / Klassifizierung\n",
    "Mit Hilfe der bestimmten Hyperparameter wird das CNN aufgebaut.  \n",
    "Die Hyperparameter wurden mit Hilfe des keras_tuner bestimmt."
   ]
  },
  {
   "cell_type": "code",
   "execution_count": 11,
   "metadata": {
    "executionInfo": {
     "elapsed": 269,
     "status": "ok",
     "timestamp": 1646406721187,
     "user": {
      "displayName": "Nick Kramer",
      "photoUrl": "https://lh3.googleusercontent.com/a-/AOh14GgU88TGrTBP-F81llUtYRKmUlcVlW1pb8OBGXVE=s64",
      "userId": "02860907209278276174"
     },
     "user_tz": -60
    },
    "id": "kdbR7EOCPHjC"
   },
   "outputs": [],
   "source": [
    "class TrafficSignNetwork:\n",
    "    @staticmethod\n",
    "    def build(width, height, depth, classes):\n",
    "        model = Sequential()\n",
    "        inputShape = (height, width, depth)\n",
    "        \n",
    "        # first convolutional block\n",
    "        model.add(Conv2D(32, (5, 5), padding=\"same\",\n",
    "            input_shape=inputShape))\n",
    "        model.add(Activation(\"relu\"))\n",
    "        model.add(BatchNormalization())\n",
    "        model.add(MaxPooling2D(pool_size=(2, 2)))\n",
    "        \n",
    "        # second convolutional block\n",
    "        model.add(Conv2D(32, (5, 5), padding=\"same\"))\n",
    "        model.add(Activation(\"relu\"))\n",
    "        model.add(BatchNormalization())\n",
    "        \n",
    "        # third convolutional block\n",
    "        model.add(Conv2D(40, (5, 5), padding=\"same\"))\n",
    "        model.add(Activation(\"relu\"))\n",
    "        model.add(BatchNormalization())\n",
    "        model.add(AvgPool2D(pool_size=(2, 2)))\n",
    "        \n",
    "        # first fully connected\n",
    "        model.add(Flatten())\n",
    "        model.add(Dense(288))\n",
    "        model.add(Activation(\"relu\"))\n",
    "        model.add(BatchNormalization())\n",
    "        model.add(Dropout(0.5))\n",
    "        \n",
    "        # second fully connected\n",
    "        model.add(Flatten())\n",
    "        model.add(Dense(64))\n",
    "        model.add(Activation(\"relu\"))\n",
    "        model.add(BatchNormalization())\n",
    "        model.add(Dropout(0.5))\n",
    "        \n",
    "        # softmax classifier\n",
    "        model.add(Dense(classes))\n",
    "        model.add(Activation(\"softmax\"))\n",
    "        \n",
    "        return model"
   ]
  },
  {
   "cell_type": "code",
   "execution_count": 12,
   "metadata": {
    "executionInfo": {
     "elapsed": 298,
     "status": "ok",
     "timestamp": 1646406723251,
     "user": {
      "displayName": "Nick Kramer",
      "photoUrl": "https://lh3.googleusercontent.com/a-/AOh14GgU88TGrTBP-F81llUtYRKmUlcVlW1pb8OBGXVE=s64",
      "userId": "02860907209278276174"
     },
     "user_tz": -60
    },
    "id": "gLvki-WnPHjC"
   },
   "outputs": [],
   "source": [
    "NUM_EPOCHS = 15\n",
    "INIT_LR = 0.001\n",
    "BS = 128"
   ]
  },
  {
   "cell_type": "code",
   "execution_count": 13,
   "metadata": {
    "colab": {
     "base_uri": "https://localhost:8080/"
    },
    "executionInfo": {
     "elapsed": 3441,
     "status": "ok",
     "timestamp": 1646406727105,
     "user": {
      "displayName": "Nick Kramer",
      "photoUrl": "https://lh3.googleusercontent.com/a-/AOh14GgU88TGrTBP-F81llUtYRKmUlcVlW1pb8OBGXVE=s64",
      "userId": "02860907209278276174"
     },
     "user_tz": -60
    },
    "id": "1BvI5f5FPHjD",
    "outputId": "df3f121d-3078-4a27-d529-308d16fad84c"
   },
   "outputs": [
    {
     "name": "stderr",
     "output_type": "stream",
     "text": [
      "/usr/local/lib/python3.7/dist-packages/keras/optimizer_v2/adam.py:105: UserWarning: The `lr` argument is deprecated, use `learning_rate` instead.\n",
      "  super(Adam, self).__init__(name, **kwargs)\n"
     ]
    }
   ],
   "source": [
    "tf.random.set_seed(1234)\n",
    "opt = Adam(lr=INIT_LR)\n",
    "model = TrafficSignNetwork.build(width=32, height=32, depth=3, classes=43)\n",
    "# Umsetzung der Empfehlung, die logit-Variante vorzuziehen\n",
    "model.compile(loss=tf.keras.losses.CategoricalCrossentropy(from_logits=True), optimizer=opt, metrics=[\"accuracy\"])"
   ]
  },
  {
   "cell_type": "code",
   "execution_count": 14,
   "metadata": {
    "colab": {
     "base_uri": "https://localhost:8080/"
    },
    "executionInfo": {
     "elapsed": 387,
     "status": "ok",
     "timestamp": 1646406727408,
     "user": {
      "displayName": "Nick Kramer",
      "photoUrl": "https://lh3.googleusercontent.com/a-/AOh14GgU88TGrTBP-F81llUtYRKmUlcVlW1pb8OBGXVE=s64",
      "userId": "02860907209278276174"
     },
     "user_tz": -60
    },
    "id": "-BDgrQxZPHjD",
    "outputId": "5d1f26b0-12ed-4220-8be6-a6c2a827edfa"
   },
   "outputs": [
    {
     "name": "stdout",
     "output_type": "stream",
     "text": [
      "Model: \"sequential\"\n",
      "_________________________________________________________________\n",
      " Layer (type)                Output Shape              Param #   \n",
      "=================================================================\n",
      " conv2d (Conv2D)             (None, 32, 32, 32)        2432      \n",
      "                                                                 \n",
      " activation (Activation)     (None, 32, 32, 32)        0         \n",
      "                                                                 \n",
      " batch_normalization (BatchN  (None, 32, 32, 32)       128       \n",
      " ormalization)                                                   \n",
      "                                                                 \n",
      " max_pooling2d (MaxPooling2D  (None, 16, 16, 32)       0         \n",
      " )                                                               \n",
      "                                                                 \n",
      " conv2d_1 (Conv2D)           (None, 16, 16, 32)        25632     \n",
      "                                                                 \n",
      " activation_1 (Activation)   (None, 16, 16, 32)        0         \n",
      "                                                                 \n",
      " batch_normalization_1 (Batc  (None, 16, 16, 32)       128       \n",
      " hNormalization)                                                 \n",
      "                                                                 \n",
      " conv2d_2 (Conv2D)           (None, 16, 16, 40)        32040     \n",
      "                                                                 \n",
      " activation_2 (Activation)   (None, 16, 16, 40)        0         \n",
      "                                                                 \n",
      " batch_normalization_2 (Batc  (None, 16, 16, 40)       160       \n",
      " hNormalization)                                                 \n",
      "                                                                 \n",
      " average_pooling2d (AverageP  (None, 8, 8, 40)         0         \n",
      " ooling2D)                                                       \n",
      "                                                                 \n",
      " flatten (Flatten)           (None, 2560)              0         \n",
      "                                                                 \n",
      " dense (Dense)               (None, 288)               737568    \n",
      "                                                                 \n",
      " activation_3 (Activation)   (None, 288)               0         \n",
      "                                                                 \n",
      " batch_normalization_3 (Batc  (None, 288)              1152      \n",
      " hNormalization)                                                 \n",
      "                                                                 \n",
      " dropout (Dropout)           (None, 288)               0         \n",
      "                                                                 \n",
      " flatten_1 (Flatten)         (None, 288)               0         \n",
      "                                                                 \n",
      " dense_1 (Dense)             (None, 64)                18496     \n",
      "                                                                 \n",
      " activation_4 (Activation)   (None, 64)                0         \n",
      "                                                                 \n",
      " batch_normalization_4 (Batc  (None, 64)               256       \n",
      " hNormalization)                                                 \n",
      "                                                                 \n",
      " dropout_1 (Dropout)         (None, 64)                0         \n",
      "                                                                 \n",
      " dense_2 (Dense)             (None, 43)                2795      \n",
      "                                                                 \n",
      " activation_5 (Activation)   (None, 43)                0         \n",
      "                                                                 \n",
      "=================================================================\n",
      "Total params: 820,787\n",
      "Trainable params: 819,875\n",
      "Non-trainable params: 912\n",
      "_________________________________________________________________\n"
     ]
    }
   ],
   "source": [
    "model.summary()\n",
    "# Entspricht 1 zu 1 den \"Vorgaben\" des keras-tuners"
   ]
  },
  {
   "cell_type": "code",
   "execution_count": 15,
   "metadata": {
    "colab": {
     "base_uri": "https://localhost:8080/"
    },
    "executionInfo": {
     "elapsed": 564806,
     "status": "ok",
     "timestamp": 1646407294495,
     "user": {
      "displayName": "Nick Kramer",
      "photoUrl": "https://lh3.googleusercontent.com/a-/AOh14GgU88TGrTBP-F81llUtYRKmUlcVlW1pb8OBGXVE=s64",
      "userId": "02860907209278276174"
     },
     "user_tz": -60
    },
    "id": "XyGlbQpePHjE",
    "outputId": "46f4d7f5-527f-4bc4-d920-23ee6f979e6c",
    "scrolled": true
   },
   "outputs": [
    {
     "name": "stdout",
     "output_type": "stream",
     "text": [
      "Epoch 1/15\n"
     ]
    },
    {
     "name": "stderr",
     "output_type": "stream",
     "text": [
      "/usr/local/lib/python3.7/dist-packages/tensorflow/python/util/dispatch.py:1082: UserWarning: \"`categorical_crossentropy` received `from_logits=True`, but the `output` argument was produced by a sigmoid or softmax activation and thus does not represent logits. Was this intended?\"\n",
      "  return dispatch_target(*args, **kwargs)\n"
     ]
    },
    {
     "name": "stdout",
     "output_type": "stream",
     "text": [
      "1512/1512 [==============================] - 46s 23ms/step - loss: 0.9269 - accuracy: 0.7465 - val_loss: 0.1830 - val_accuracy: 0.9397\n",
      "Epoch 2/15\n",
      "1512/1512 [==============================] - 32s 21ms/step - loss: 0.1229 - accuracy: 0.9654 - val_loss: 0.0425 - val_accuracy: 0.9864\n",
      "Epoch 3/15\n",
      "1512/1512 [==============================] - 32s 21ms/step - loss: 0.0724 - accuracy: 0.9790 - val_loss: 0.0599 - val_accuracy: 0.9816\n",
      "Epoch 4/15\n",
      "1512/1512 [==============================] - 32s 21ms/step - loss: 0.0536 - accuracy: 0.9845 - val_loss: 0.0529 - val_accuracy: 0.9837\n",
      "Epoch 5/15\n",
      "1512/1512 [==============================] - 33s 22ms/step - loss: 0.0427 - accuracy: 0.9872 - val_loss: 0.0651 - val_accuracy: 0.9818\n",
      "Epoch 6/15\n",
      "1512/1512 [==============================] - 32s 21ms/step - loss: 0.0356 - accuracy: 0.9895 - val_loss: 0.0352 - val_accuracy: 0.9891\n",
      "Epoch 7/15\n",
      "1512/1512 [==============================] - 32s 21ms/step - loss: 0.0304 - accuracy: 0.9908 - val_loss: 0.1594 - val_accuracy: 0.9622\n",
      "Epoch 8/15\n",
      "1512/1512 [==============================] - 33s 22ms/step - loss: 0.0259 - accuracy: 0.9922 - val_loss: 0.0742 - val_accuracy: 0.9828\n",
      "Epoch 9/15\n",
      "1512/1512 [==============================] - 33s 22ms/step - loss: 0.0246 - accuracy: 0.9926 - val_loss: 0.0168 - val_accuracy: 0.9953\n",
      "Epoch 10/15\n",
      "1512/1512 [==============================] - 33s 22ms/step - loss: 0.0201 - accuracy: 0.9938 - val_loss: 0.0173 - val_accuracy: 0.9950\n",
      "Epoch 11/15\n",
      "1512/1512 [==============================] - 34s 22ms/step - loss: 0.0181 - accuracy: 0.9945 - val_loss: 0.0219 - val_accuracy: 0.9934\n",
      "Epoch 12/15\n",
      "1512/1512 [==============================] - 34s 22ms/step - loss: 0.0172 - accuracy: 0.9947 - val_loss: 0.0145 - val_accuracy: 0.9962\n",
      "Epoch 13/15\n",
      "1512/1512 [==============================] - 34s 23ms/step - loss: 0.0172 - accuracy: 0.9949 - val_loss: 0.0158 - val_accuracy: 0.9957\n",
      "Epoch 14/15\n",
      "1512/1512 [==============================] - 34s 23ms/step - loss: 0.0139 - accuracy: 0.9959 - val_loss: 0.0189 - val_accuracy: 0.9951\n",
      "Epoch 15/15\n",
      "1512/1512 [==============================] - 34s 22ms/step - loss: 0.0147 - accuracy: 0.9955 - val_loss: 0.0163 - val_accuracy: 0.9951\n"
     ]
    }
   ],
   "source": [
    "tf.random.set_seed(1234)\n",
    "H = model.fit(X_train, y_train,\n",
    "              validation_data=(X_val, y_val),\n",
    "              epochs = NUM_EPOCHS,\n",
    "              batch_size = BS\n",
    "            )\n",
    "model.save(\"fin_model_15ep.h5\")"
   ]
  },
  {
   "cell_type": "code",
   "execution_count": 16,
   "metadata": {
    "colab": {
     "base_uri": "https://localhost:8080/",
     "height": 284
    },
    "executionInfo": {
     "elapsed": 800,
     "status": "ok",
     "timestamp": 1646407586920,
     "user": {
      "displayName": "Nick Kramer",
      "photoUrl": "https://lh3.googleusercontent.com/a-/AOh14GgU88TGrTBP-F81llUtYRKmUlcVlW1pb8OBGXVE=s64",
      "userId": "02860907209278276174"
     },
     "user_tz": -60
    },
    "id": "HAOPHqEcPHjE",
    "outputId": "42777908-3ae5-4098-971f-937a671b3a19"
   },
   "outputs": [
    {
     "data": {
      "image/png": "[encoded data removed]",
      "text/plain": [
       "<Figure size 864x288 with 2 Axes>"
      ]
     },
     "metadata": {
      "needs_background": "light"
     },
     "output_type": "display_data"
    }
   ],
   "source": [
    "hist = H.history\n",
    "x_arr = np.arange(len(hist['loss'])) + 1\n",
    "\n",
    "fig = plt.figure(figsize=(12, 4))\n",
    "ax = fig.add_subplot(1, 2, 1)\n",
    "ax.plot(x_arr, hist['loss'], '-o', label='Train loss')\n",
    "ax.plot(x_arr, hist['val_loss'], '--<', label='Validation loss')\n",
    "ax.set_xlabel('Epoch', size=15)\n",
    "ax.set_ylabel('Loss', size=15)\n",
    "ax.legend(fontsize=15)\n",
    "ax = fig.add_subplot(1, 2, 2)\n",
    "ax.plot(x_arr, hist['accuracy'], '-o', label='Train acc.')\n",
    "ax.plot(x_arr, hist['val_accuracy'], '--<', label='Validation acc.')\n",
    "ax.legend(fontsize=15)\n",
    "ax.set_xlabel('Epoch', size=15)\n",
    "ax.set_ylabel('Accuracy', size=15)\n",
    "plt.show()"
   ]
  },
  {
   "cell_type": "markdown",
   "metadata": {},
   "source": [
    "## Fazit Modelltraining\n",
    "Aus den Grafiken geht deutlich hervor, dass der Loss/die Accuracy auf einem fast perfekten Wert konvergiert. Anhand des Trainingsverlaufs kann erkannt werden, dass die Validation Accuracy in der letzten Epoche bei 99.51% und die Trainings Accuracy bei 99.55% liegt.  \n",
    "Allerdings wirft der Verlauf von Trainings-/Validation Accuracy eine Frage auf: Wie kann die Validation Accuracy in den ersten Epochen über der Training Accuracy liegen? - Es wird vermutet, dass die Validierungsdaten \"leichter\" sind, als die Trainingsdaten, zudem sind bei Weitem nicht so viele Validierungs- wie Trainingsdaten vorhanden.  \n",
    "Zusammenfassend kann festgehalten werden, dass ein scheinbar sehr potentes Modell zur Klassifizierung von Verkehrsschildern entwickelt wurde. In späteren Evaluationen mit Testdaten ist dies zu verifizieren."
   ]
  }
 ],
 "metadata": {
  "accelerator": "GPU",
  "colab": {
   "name": "Sign-Classification-new.ipynb",
   "provenance": []
  },
  "kernelspec": {
   "display_name": "Python 3",
   "language": "python",
   "name": "python3"
  },
  "language_info": {
   "codemirror_mode": {
    "name": "ipython",
    "version": 3
   },
   "file_extension": ".py",
   "mimetype": "text/x-python",
   "name": "python",
   "nbconvert_exporter": "python",
   "pygments_lexer": "ipython3",
   "version": "3.8.8"
  }
 },
 "nbformat": 4,
 "nbformat_minor": 1
}
