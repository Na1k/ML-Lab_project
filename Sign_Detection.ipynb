{
 "cells": [
  {
   "cell_type": "markdown",
   "id": "1f2770b8-0694-409c-b46f-06672363cc6b",
   "metadata": {},
   "source": [
    "# Lokalisieren von Verkehrsschildern"
   ]
  },
  {
   "cell_type": "markdown",
   "id": "88bcb183-b359-4560-aa16-648e064e6e06",
   "metadata": {},
   "source": [
    "Für das Lokalisieren von Objekten in Bildern werden überlicherweise Region Based Convolutional Neural Networks (R-CNNs) verwendendet. Diese Methode wurde mit der Zeit verbessert:\n",
    "* November 2013: R-CNN\n",
    "* April 2015: Fast R-CNN\n",
    "* Juni 2015: Faster R-CNN\n",
    "* März 2017: Mask R-CNN\n",
    "* Juni 2019: Mesh R-CNN\n",
    "\n",
    "Diese und weitere Ansätze und Algorithmen werden in verschiedenen Frameworks benutzt. Eines davon ist YOLO, welches später benutzt wird."
   ]
  },
  {
   "cell_type": "markdown",
   "id": "fd71f3d3-2da8-44d0-b7d9-aa3cd4f9ddd3",
   "metadata": {},
   "source": [
    "Im Folgenden wird mithilfe von Bounding Box Regression ein Maschine Learning Modell entwickelt, welches die Position in Form von Bounding Boxes von Verkehrsschildern erkennt."
   ]
  },
  {
   "cell_type": "markdown",
   "id": "240baae2-b69f-4e45-b275-71a55b2ba151",
   "metadata": {},
   "source": [
    "Beispiel Bounding Box:\n",
    "    TODO"
   ]
  },
  {
   "cell_type": "markdown",
   "id": "a408db09-ceeb-4797-8727-cd1f27ecac4f",
   "metadata": {},
   "source": [
    "## Image Generator\n",
    "\n",
    "Da die vorliegenden Trainingsbilder bereits auf die Verkehrsschilder zugeschnitten sind und lediglich 10% Rand um diese aufweisen, wurde sich dazu entschieden syntetische Trainingsdaten aus den vorhandenen Trainingsbildern und neuen Hintergrundbildern zu generieren. \\\n",
    "Dafür wurde eine die Funktion\\\n",
    "generate_raster_sign_image(\n",
    "*    number_of_images,\n",
    "*    number_of_signs,\n",
    "*    path_to_bg_img_folder,\n",
    "*    pre_path_sign,\n",
    "*    sign_size,\n",
    "*    raster_width,\n",
    "*    raster_height,\n",
    "*    sign_with_clahe,\n",
    "*    verbose=False,\n",
    "*    show_images=False)\n",
    "\n",
    "erstellt. Diese verwendet die beiden neu programmierten Funktionen *_get_random_signs()* und *_get_bg_images()* um zufällige Verkehrsschilder rasterförmig zufällig verteilt auf Hintergrundbilder zu platzieren."
   ]
  },
  {
   "cell_type": "markdown",
   "id": "317fb783-ea30-4580-b8ef-822272741ebc",
   "metadata": {},
   "source": [
    "Beispielbilder generate_raster_sign_image:\n",
    "    TODO"
   ]
  },
  {
   "cell_type": "markdown",
   "id": "fb89166a-29e4-4acf-8fd6-8ad5a700f678",
   "metadata": {},
   "source": [
    "Neben den generierten Bildern werden auch die Boundings Boxes und Labels als Liste von Dictionarys zurückgegeben. Keys: Bounding Boxes als Tuple und Classifier als Value."
   ]
  },
  {
   "cell_type": "markdown",
   "id": "f7fa033d-4373-4932-8e37-becb7061ed6e",
   "metadata": {},
   "source": [
    "## Imports"
   ]
  },
  {
   "cell_type": "code",
   "execution_count": 1,
   "id": "b38d78f0-3534-4ca1-8670-e3d2b0056f85",
   "metadata": {
    "tags": []
   },
   "outputs": [],
   "source": [
    "import sys\n",
    "from pathlib import Path\n",
    "module_path = str(Path.cwd() / \"src\")\n",
    "if module_path not in sys.path:\n",
    "    sys.path.append(module_path)\n",
    "from reader import Reader\n",
    "from tensorflow.keras.applications import VGG16\n",
    "from tensorflow.keras.layers import Flatten\n",
    "from tensorflow.keras.layers import Dense\n",
    "from tensorflow.keras.layers import Input\n",
    "from tensorflow.keras.layers import MaxPooling2D\n",
    "from tensorflow.keras.layers import Conv2D\n",
    "from tensorflow.keras.models import Model\n",
    "from tensorflow.keras.optimizers import Adam\n",
    "from tensorflow.keras.preprocessing.image import img_to_array\n",
    "from tensorflow.keras.preprocessing.image import load_img\n",
    "from sklearn.model_selection import train_test_split\n",
    "import matplotlib.pyplot as plt\n",
    "import numpy as np\n",
    "import os\n",
    "from tensorflow.keras.preprocessing.image import img_to_array\n",
    "from tensorflow.keras.preprocessing.image import load_img\n",
    "from tensorflow.keras.models import load_model\n",
    "import numpy as np\n",
    "import mimetypes\n",
    "import argparse\n",
    "import cv2\n",
    "import os\n",
    "from skimage import exposure, transform\n",
    "import pickle\n",
    "import tensorflow as tf"
   ]
  },
  {
   "cell_type": "markdown",
   "id": "62bd13c0-2aab-40e5-a0cf-2aaa8a025ddb",
   "metadata": {
    "tags": []
   },
   "source": [
    "## Training mit einem Verkehrszeichen pro Bild"
   ]
  },
  {
   "cell_type": "markdown",
   "id": "78dff0a5-ba32-4a72-af45-189575ec5a27",
   "metadata": {},
   "source": [
    "### Vorverarbeitung"
   ]
  },
  {
   "cell_type": "code",
   "execution_count": 2,
   "id": "6d77b0a0-9e31-42a6-b8de-cb8c93c57884",
   "metadata": {
    "tags": []
   },
   "outputs": [],
   "source": [
    "file = open(r\"/home/soeren/uni/maschine-learning/repo/pickle/data_1.pickle\", 'rb')\n",
    "data = pickle.load(file)\n",
    "file.close()\n",
    "file = open(r\"/home/soeren/uni/maschine-learning/repo/pickle/labels_1.pickle\", 'rb')\n",
    "labels = pickle.load(file)\n",
    "file.close()"
   ]
  },
  {
   "cell_type": "code",
   "execution_count": 3,
   "id": "9f666282-53b9-47d2-883c-503ff335d530",
   "metadata": {},
   "outputs": [],
   "source": [
    "input_shape = data[0].shape"
   ]
  },
  {
   "cell_type": "code",
   "execution_count": 4,
   "id": "7b19cb9f-bc09-4302-8849-d93e52fbe9e1",
   "metadata": {},
   "outputs": [],
   "source": [
    "targets = []\n",
    "for k in labels:\n",
    "    e = next(iter(k)) #first BB is the only one\n",
    "    x1, y1, x2, y2 = e #extract coordinates\n",
    "    h, w = input_shape[:2]\n",
    "    x1 = x1/w #scale with image shape\n",
    "    y1 = y1/h\n",
    "    x2 = x2/w\n",
    "    y2 = y2/h\n",
    "    targets.append((x1, y1, x2, y2))\n",
    "    \n",
    "# convert the data and targets to NumPy arrays, scaling the input\n",
    "# pixel intensities from the range [0, 255] to [0, 1]\n",
    "data = np.array(data, dtype=\"float32\") / 255.0\n",
    "targets = np.array(targets, dtype=\"float32\")"
   ]
  },
  {
   "cell_type": "markdown",
   "id": "8349f5cc-874c-4477-809f-d3e9b42b9415",
   "metadata": {},
   "source": [
    "### Aufteilen der Daten zu Trainings, Validierungs und Testdaten"
   ]
  },
  {
   "cell_type": "code",
   "execution_count": 7,
   "id": "d2526cda-2e62-4909-a8b1-61105203bfbc",
   "metadata": {},
   "outputs": [],
   "source": [
    "split = train_test_split(data, targets, test_size=0.25, random_state=42)\n",
    "\n",
    "(trainImages, testImages) = split[:2]\n",
    "(trainTargets, testTargets) = split[2:4]\n",
    "\n",
    "split = train_test_split(testImages, testTargets, test_size=0.5, random_state=42)\n",
    "\n",
    "(validationImages, testImages) = split[:2]\n",
    "(validationTargets, testTargets) = split[2:4]"
   ]
  },
  {
   "cell_type": "markdown",
   "id": "51922ccf-73a5-4d60-80a3-0f7c84c6f9fb",
   "metadata": {},
   "source": [
    "### Modell erstellen"
   ]
  },
  {
   "cell_type": "code",
   "execution_count": 8,
   "id": "c52db92f-7980-4465-8a76-09733273e0f9",
   "metadata": {},
   "outputs": [
    {
     "name": "stdout",
     "output_type": "stream",
     "text": [
      "Model: \"model_1\"\n",
      "_________________________________________________________________\n",
      " Layer (type)                Output Shape              Param #   \n",
      "=================================================================\n",
      " input_2 (InputLayer)        [(None, 64, 96, 3)]       0         \n",
      "                                                                 \n",
      " bl_2 (Conv2D)               (None, 64, 96, 16)        448       \n",
      "                                                                 \n",
      " bl_3 (MaxPooling2D)         (None, 32, 48, 16)        0         \n",
      "                                                                 \n",
      " bl_4 (Conv2D)               (None, 32, 48, 32)        4640      \n",
      "                                                                 \n",
      " bl_5 (MaxPooling2D)         (None, 16, 24, 32)        0         \n",
      "                                                                 \n",
      " bl_6 (Conv2D)               (None, 16, 24, 64)        18496     \n",
      "                                                                 \n",
      " bl_7 (MaxPooling2D)         (None, 8, 12, 64)         0         \n",
      "                                                                 \n",
      " bl_8 (Flatten)              (None, 6144)              0         \n",
      "                                                                 \n",
      " bb_1 (Dense)                (None, 128)               786560    \n",
      "                                                                 \n",
      " bb_2 (Dense)                (None, 64)                8256      \n",
      "                                                                 \n",
      " bb_3 (Dense)                (None, 32)                2080      \n",
      "                                                                 \n",
      " bb_head (Dense)             (None, 4)                 132       \n",
      "                                                                 \n",
      "=================================================================\n",
      "Total params: 820,612\n",
      "Trainable params: 820,612\n",
      "Non-trainable params: 0\n",
      "_________________________________________________________________\n"
     ]
    }
   ],
   "source": [
    "input_layer = Input(input_shape)\n",
    "\n",
    "#create the base layers\n",
    "base_layers = Conv2D(16, 3, padding='same', activation='relu', name='bl_2')(input_layer)\n",
    "base_layers = MaxPooling2D(name='bl_3')(base_layers)\n",
    "base_layers = Conv2D(32, 3, padding='same', activation='relu', name='bl_4')(base_layers)\n",
    "base_layers = MaxPooling2D(name='bl_5')(base_layers)\n",
    "base_layers = Conv2D(64, 3, padding='same', activation='relu', name='bl_6')(base_layers)\n",
    "base_layers = MaxPooling2D(name='bl_7')(base_layers)\n",
    "base_layers = Flatten(name='bl_8')(base_layers)\n",
    "\n",
    "#create the localiser branch\n",
    "locator_branch = Dense(128, activation='relu', name='bb_1')(base_layers)\n",
    "locator_branch = Dense(64, activation='relu', name='bb_2')(locator_branch)\n",
    "locator_branch = Dense(32, activation='relu', name='bb_3')(locator_branch)\n",
    "locator_branch = Dense(4, activation='sigmoid', name='bb_head')(locator_branch)\n",
    "\n",
    "model = tf.keras.Model(input_layer, outputs=locator_branch)\n",
    "model.summary()"
   ]
  },
  {
   "cell_type": "code",
   "execution_count": 9,
   "id": "971803c2-29d0-4c2a-98c1-933c3dcdf7c7",
   "metadata": {},
   "outputs": [],
   "source": [
    "loss = tf.keras.losses.MAE"
   ]
  },
  {
   "cell_type": "code",
   "execution_count": 10,
   "id": "899a7f7e-6814-4694-b865-7a50e8ec3ed3",
   "metadata": {},
   "outputs": [],
   "source": [
    "model.compile(loss=loss, optimizer='Adam')"
   ]
  },
  {
   "cell_type": "markdown",
   "id": "1ede130f-cbf1-4d00-8c05-d241b243a6e1",
   "metadata": {},
   "source": [
    "### Trainig starten"
   ]
  },
  {
   "cell_type": "code",
   "execution_count": 11,
   "id": "431c9561-1cae-4c46-be6a-ca5e62ff3bfe",
   "metadata": {},
   "outputs": [],
   "source": [
    "epoch_num = 2"
   ]
  },
  {
   "cell_type": "code",
   "execution_count": 21,
   "id": "840ec345-cd0d-43d7-9737-3f0448299f44",
   "metadata": {},
   "outputs": [
    {
     "name": "stdout",
     "output_type": "stream",
     "text": [
      "Epoch 1/2\n",
      "   2/1500 [..............................] - ETA: 1:52 - loss: 0.2275"
     ]
    },
    {
     "name": "stderr",
     "output_type": "stream",
     "text": [
      "2022-03-13 17:10:30.909928: W tensorflow/core/framework/cpu_allocator_impl.cc:82] Allocation of 4423680000 exceeds 10% of free system memory.\n"
     ]
    },
    {
     "name": "stdout",
     "output_type": "stream",
     "text": [
      "1500/1500 [==============================] - 153s 102ms/step - loss: 0.1844 - val_loss: 0.1933\n",
      "Epoch 2/2\n",
      "1500/1500 [==============================] - 188s 125ms/step - loss: 0.1728 - val_loss: 0.1963\n"
     ]
    }
   ],
   "source": [
    "training = model.fit(trainImages, trainTargets,\n",
    "             validation_data=(testImages, testTargets),\n",
    "             batch_size=10,\n",
    "             epochs=epoch_num,\n",
    "             shuffle=True,\n",
    "             verbose=1)"
   ]
  },
  {
   "cell_type": "markdown",
   "id": "c35e5d9f-44a0-4eb6-8344-ef55e0b3d191",
   "metadata": {},
   "source": [
    "### Modell abspeichern"
   ]
  },
  {
   "cell_type": "code",
   "execution_count": 22,
   "id": "676892dc-d59f-416a-984a-98e4fec66aab",
   "metadata": {},
   "outputs": [],
   "source": [
    "model.save(r\"models/models_regr_1_1\", save_format=\"h5\")"
   ]
  },
  {
   "cell_type": "markdown",
   "id": "7776ee1e-ebdf-4a54-838e-9298f48c791c",
   "metadata": {},
   "source": [
    "### Visualieren des Trainings"
   ]
  },
  {
   "cell_type": "code",
   "execution_count": 23,
   "id": "35f2c3d5-d85b-4629-950c-b5be9fe5a4a7",
   "metadata": {},
   "outputs": [
    {
     "data": {
      "image/png": "[encoded data removed]",
      "text/plain": [
       "<Figure size 432x288 with 1 Axes>"
      ]
     },
     "metadata": {},
     "output_type": "display_data"
    }
   ],
   "source": [
    "plt.style.use(\"ggplot\")\n",
    "plt.figure()\n",
    "plt.plot(np.arange(0, epoch_num), training.history[\"loss\"], label=\"train_loss\")\n",
    "plt.plot(np.arange(0, epoch_num), training.history[\"val_loss\"], label=\"val_loss\")\n",
    "plt.title(\"Bounding Box Regression Loss on Training Set\")\n",
    "plt.xlabel(\"Epoch #\")\n",
    "plt.ylabel(\"Loss\")\n",
    "plt.legend(loc=\"upper right\")\n",
    "plt.show()"
   ]
  },
  {
   "cell_type": "markdown",
   "id": "2e8d2bac-e9fa-4a1c-8b2f-6c16e5864f89",
   "metadata": {},
   "source": [
    "### Modell aus Datei laden"
   ]
  },
  {
   "cell_type": "code",
   "execution_count": 6,
   "id": "383e9068-640c-4aec-8550-478ed2edd5f5",
   "metadata": {},
   "outputs": [
    {
     "name": "stderr",
     "output_type": "stream",
     "text": [
      "2022-03-14 15:42:58.859598: I tensorflow/core/platform/cpu_feature_guard.cc:151] This TensorFlow binary is optimized with oneAPI Deep Neural Network Library (oneDNN) to use the following CPU instructions in performance-critical operations:  SSE4.1 SSE4.2 AVX AVX2 FMA\n",
      "To enable them in other operations, rebuild TensorFlow with the appropriate compiler flags.\n"
     ]
    }
   ],
   "source": [
    "model = load_model(r\"models/models_regr_1_1\")"
   ]
  },
  {
   "cell_type": "markdown",
   "id": "ef21b5a0-904e-42d8-823f-d960e0e2d1a4",
   "metadata": {},
   "source": [
    "### Anzeigen von Testbildern"
   ]
  },
  {
   "cell_type": "code",
   "execution_count": null,
   "id": "84765df4-7066-4f70-af02-bd3a6b88511f",
   "metadata": {},
   "outputs": [],
   "source": [
    "from src.image_detection import predict_and_display_img\n",
    "\n",
    "for image, bounding in zip(testImages, testTargets):\n",
    "    predict_and_display_img(model, image, bounding)"
   ]
  },
  {
   "cell_type": "markdown",
   "id": "1c2d0f09-77d8-4df7-ba61-b064a4cc346e",
   "metadata": {},
   "source": [
    "## Training mit mehreren Verkehrsschilder"
   ]
  },
  {
   "cell_type": "code",
   "execution_count": 3,
   "id": "bfe3d352-d4ce-4adf-b4a1-85cb2de9eb13",
   "metadata": {
    "tags": []
   },
   "outputs": [],
   "source": [
    "file = open(r\"/home/soeren/uni/maschine-learning/repo/pickle/data_3.pickle\", 'rb')\n",
    "data = pickle.load(file)\n",
    "file.close()\n",
    "file = open(r\"/home/soeren/uni/maschine-learning/repo/pickle/labels_3.pickle\", 'rb')\n",
    "labels = pickle.load(file)\n",
    "file.close()"
   ]
  },
  {
   "cell_type": "code",
   "execution_count": 4,
   "id": "aa4b228b-614d-4f08-8ea0-9fed70025e60",
   "metadata": {},
   "outputs": [],
   "source": [
    "targets = []\n",
    "input_shape = data[0].shape\n",
    "for k in labels:\n",
    "    a = list(k.keys())\n",
    "    a.sort(key=lambda x: (x[0], x[1])) ## wichtig! Erläuterung: nächste Zelle\n",
    "    temp = [] #input vektor for model\n",
    "    for e in a:\n",
    "        x1, y1, x2, y2 = e #extract coordinates\n",
    "        h, w = input_shape[:2]\n",
    "        temp.append(x1/w) #scale with image shape\n",
    "        temp.append(y1/h)\n",
    "        temp.append(x2/w)\n",
    "        temp.append(y2/h)\n",
    "    targets.append(temp)\n",
    "    \n",
    "# convert the data and targets to NumPy arrays, scaling the input\n",
    "# pixel intensities from the range [0, 255] to [0, 1]\n",
    "data = np.array(data, dtype=\"float32\") / 255.0\n",
    "targets = np.array(targets, dtype=\"float32\")"
   ]
  },
  {
   "cell_type": "markdown",
   "id": "56485f91-74ca-4903-b026-cfb86f22f1ee",
   "metadata": {
    "tags": []
   },
   "source": [
    "Es ist wichtig, dass das maschine learning modell zwischen den einzelnen verkehrsschildern unterscheiden kann. \\\n",
    "Dafür müssen die Bounding Boxen, bzw. die Koordinaten dieser, für den Eingabevektor immer eine spezielle Reihenfolge haben. \\\n",
    "Um dies zu erreichen wurde sich dazu entschieden, die Boxen nach ihrer X-Koordinaate der oberen linken Ecke zu sortieren. Bei gleichen Werten wird nach der Y-Koordiate entschieden.\n",
    "\n",
    "Wird keine Sortierung vorgenommen, sieht das Ergebnis wie folgt aus: \\\n",
    "<img src=\"./images/3_signs_without_sort1.png\">     <img src=\"./images/3_signs_without_sort2.png\">\\\n",
    "Grün = Predicted Bounding Box, Rot = actual Bounding Box"
   ]
  },
  {
   "cell_type": "code",
   "execution_count": 5,
   "id": "5c09a930-a61c-4c1a-a043-f82b827ef37d",
   "metadata": {},
   "outputs": [],
   "source": [
    "split = train_test_split(data, targets, test_size=0.25, random_state=42)\n",
    "\n",
    "(trainImages, testImages) = split[:2]\n",
    "(trainTargets, testTargets) = split[2:4]\n",
    "\n",
    "split = train_test_split(testImages, testTargets, test_size=0.5, random_state=42)\n",
    "\n",
    "(validationImages, testImages) = split[:2]\n",
    "(validationTargets, testTargets) = split[2:4]"
   ]
  },
  {
   "cell_type": "markdown",
   "id": "507e2f6b-678c-45b9-82bb-079689236edf",
   "metadata": {},
   "source": [
    "### Modell erstellen"
   ]
  },
  {
   "cell_type": "code",
   "execution_count": 5,
   "id": "9a9ce91c-c1fb-4c66-bdab-d94c648e027a",
   "metadata": {},
   "outputs": [
    {
     "name": "stdout",
     "output_type": "stream",
     "text": [
      "Model: \"model\"\n",
      "_________________________________________________________________\n",
      " Layer (type)                Output Shape              Param #   \n",
      "=================================================================\n",
      " input_1 (InputLayer)        [(None, 128, 192, 3)]     0         \n",
      "                                                                 \n",
      " bl_2 (Conv2D)               (None, 128, 192, 16)      448       \n",
      "                                                                 \n",
      " bl_3 (MaxPooling2D)         (None, 64, 96, 16)        0         \n",
      "                                                                 \n",
      " bl_4 (Conv2D)               (None, 64, 96, 24)        3480      \n",
      "                                                                 \n",
      " bl_5 (MaxPooling2D)         (None, 32, 48, 24)        0         \n",
      "                                                                 \n",
      " bl_6 (Conv2D)               (None, 32, 48, 32)        6944      \n",
      "                                                                 \n",
      " bl_7 (MaxPooling2D)         (None, 16, 24, 32)        0         \n",
      "                                                                 \n",
      " bl_8 (Conv2D)               (None, 16, 24, 48)        13872     \n",
      "                                                                 \n",
      " bl_9 (MaxPooling2D)         (None, 8, 12, 48)         0         \n",
      "                                                                 \n",
      " bl_10 (Conv2D)              (None, 8, 12, 64)         27712     \n",
      "                                                                 \n",
      " bl_11 (MaxPooling2D)        (None, 4, 6, 64)          0         \n",
      "                                                                 \n",
      " bl_12 (Conv2D)              (None, 4, 6, 96)          55392     \n",
      "                                                                 \n",
      " bl_13 (MaxPooling2D)        (None, 2, 3, 96)          0         \n",
      "                                                                 \n",
      " bl_14 (Conv2D)              (None, 2, 3, 128)         110720    \n",
      "                                                                 \n",
      " bl_15 (MaxPooling2D)        (None, 1, 1, 128)         0         \n",
      "                                                                 \n",
      " bl_18 (Flatten)             (None, 128)               0         \n",
      "                                                                 \n",
      " bb_1 (Dense)                (None, 128)               16512     \n",
      "                                                                 \n",
      " bb_2 (Dense)                (None, 96)                12384     \n",
      "                                                                 \n",
      " bb_3 (Dense)                (None, 64)                6208      \n",
      "                                                                 \n",
      " bb_4 (Dense)                (None, 48)                3120      \n",
      "                                                                 \n",
      " bb_5 (Dense)                (None, 32)                1568      \n",
      "                                                                 \n",
      " bb_6 (Dense)                (None, 16)                528       \n",
      "                                                                 \n",
      " bb_head (Dense)             (None, 12)                204       \n",
      "                                                                 \n",
      "=================================================================\n",
      "Total params: 259,092\n",
      "Trainable params: 259,092\n",
      "Non-trainable params: 0\n",
      "_________________________________________________________________\n"
     ]
    },
    {
     "name": "stderr",
     "output_type": "stream",
     "text": [
      "2022-03-15 16:44:02.665451: I tensorflow/core/platform/cpu_feature_guard.cc:151] This TensorFlow binary is optimized with oneAPI Deep Neural Network Library (oneDNN) to use the following CPU instructions in performance-critical operations:  SSE4.1 SSE4.2 AVX AVX2 FMA\n",
      "To enable them in other operations, rebuild TensorFlow with the appropriate compiler flags.\n"
     ]
    }
   ],
   "source": [
    "input_layer = Input(input_shape)\n",
    "\n",
    "#create the base layers\n",
    "base_layers = Conv2D(16, 3, padding='same', activation='relu', name='bl_2')(input_layer)\n",
    "base_layers = MaxPooling2D(name='bl_3')(base_layers)\n",
    "base_layers = Conv2D(24, 3, padding='same', activation='relu', name='bl_4')(base_layers)\n",
    "base_layers = MaxPooling2D(name='bl_5')(base_layers)\n",
    "base_layers = Conv2D(32, 3, padding='same', activation='relu', name='bl_6')(base_layers)\n",
    "base_layers = MaxPooling2D(name='bl_7')(base_layers)\n",
    "base_layers = Conv2D(48, 3, padding='same', activation='relu', name='bl_8')(base_layers)\n",
    "base_layers = MaxPooling2D(name='bl_9')(base_layers)\n",
    "base_layers = Conv2D(64, 3, padding='same', activation='relu', name='bl_10')(base_layers)\n",
    "base_layers = MaxPooling2D(name='bl_11')(base_layers)\n",
    "base_layers = Conv2D(96, 3, padding='same', activation='relu', name='bl_12')(base_layers)\n",
    "base_layers = MaxPooling2D(name='bl_13')(base_layers)\n",
    "base_layers = Conv2D(128, 3, padding='same', activation='relu', name='bl_14')(base_layers)\n",
    "base_layers = MaxPooling2D(name='bl_15')(base_layers)\n",
    "base_layers = Flatten(name='bl_18')(base_layers)\n",
    "\n",
    "#create the localiser branch\n",
    "locator_branch = Dense(128, activation='relu', name='bb_1')(base_layers)\n",
    "locator_branch = Dense(96, activation='relu', name='bb_2')(locator_branch)\n",
    "locator_branch = Dense(64, activation='relu', name='bb_3')(locator_branch)\n",
    "locator_branch = Dense(48, activation='relu', name='bb_4')(locator_branch)\n",
    "locator_branch = Dense(32, activation='relu', name='bb_5')(locator_branch)\n",
    "locator_branch = Dense(16, activation='relu', name='bb_6')(locator_branch)\n",
    "locator_branch = Dense(12, activation='sigmoid', name='bb_head')(locator_branch)\n",
    "\n",
    "model = tf.keras.Model(input_layer, outputs=locator_branch)\n",
    "model.summary()"
   ]
  },
  {
   "cell_type": "code",
   "execution_count": 6,
   "id": "70a4b0bb-5d88-4393-ba48-a24b7c456282",
   "metadata": {},
   "outputs": [],
   "source": [
    "loss = tf.keras.losses.MAE"
   ]
  },
  {
   "cell_type": "code",
   "execution_count": 7,
   "id": "a3b589ea-f722-4455-917f-74438735f583",
   "metadata": {},
   "outputs": [],
   "source": [
    "model.compile(loss=loss, optimizer='Adam')"
   ]
  },
  {
   "cell_type": "markdown",
   "id": "6bc72e10-25a4-4676-9163-1a7a345ea7b5",
   "metadata": {},
   "source": [
    "### Trainig starten"
   ]
  },
  {
   "cell_type": "code",
   "execution_count": 8,
   "id": "7f8ff639-cfa2-47a1-8e6b-8f5f1bd2dd9a",
   "metadata": {},
   "outputs": [],
   "source": [
    "epoch_num = 15"
   ]
  },
  {
   "cell_type": "code",
   "execution_count": 9,
   "id": "e49e8ea0-770b-4f88-a762-1780560e69ad",
   "metadata": {},
   "outputs": [
    {
     "name": "stderr",
     "output_type": "stream",
     "text": [
      "2022-03-15 16:44:03.382789: W tensorflow/core/framework/cpu_allocator_impl.cc:82] Allocation of 4423680000 exceeds 10% of free system memory.\n"
     ]
    },
    {
     "name": "stdout",
     "output_type": "stream",
     "text": [
      "Epoch 1/15\n",
      "1500/1500 [==============================] - 180s 120ms/step - loss: 0.1718 - val_loss: 0.1257\n",
      "Epoch 2/15\n",
      "1500/1500 [==============================] - 198s 132ms/step - loss: 0.1160 - val_loss: 0.1115\n",
      "Epoch 3/15\n",
      "1500/1500 [==============================] - 202s 135ms/step - loss: 0.1020 - val_loss: 0.0918\n",
      "Epoch 4/15\n",
      "1500/1500 [==============================] - 203s 136ms/step - loss: 0.0855 - val_loss: 0.0833\n",
      "Epoch 5/15\n",
      "1500/1500 [==============================] - 185s 123ms/step - loss: 0.0812 - val_loss: 0.0815\n",
      "Epoch 6/15\n",
      "1500/1500 [==============================] - 187s 125ms/step - loss: 0.0790 - val_loss: 0.0807\n",
      "Epoch 7/15\n",
      "1500/1500 [==============================] - 190s 127ms/step - loss: 0.0755 - val_loss: 0.0758\n",
      "Epoch 8/15\n",
      "1500/1500 [==============================] - 190s 127ms/step - loss: 0.0709 - val_loss: 0.0637\n",
      "Epoch 9/15\n",
      "1500/1500 [==============================] - 196s 131ms/step - loss: 0.0562 - val_loss: 0.0538\n",
      "Epoch 10/15\n",
      "1500/1500 [==============================] - 193s 128ms/step - loss: 0.0497 - val_loss: 0.0517\n",
      "Epoch 11/15\n",
      "1500/1500 [==============================] - 196s 131ms/step - loss: 0.0468 - val_loss: 0.0505\n",
      "Epoch 12/15\n",
      "1500/1500 [==============================] - 190s 127ms/step - loss: 0.0455 - val_loss: 0.0475\n",
      "Epoch 13/15\n",
      "1500/1500 [==============================] - 187s 125ms/step - loss: 0.0441 - val_loss: 0.0501\n",
      "Epoch 14/15\n",
      "1500/1500 [==============================] - 192s 128ms/step - loss: 0.0434 - val_loss: 0.0466\n",
      "Epoch 15/15\n",
      "1500/1500 [==============================] - 192s 128ms/step - loss: 0.0426 - val_loss: 0.0486\n"
     ]
    }
   ],
   "source": [
    "training = model.fit(trainImages, trainTargets,\n",
    "             validation_data=(testImages, testTargets),\n",
    "             batch_size=10,\n",
    "             epochs=epoch_num,\n",
    "             shuffle=True,\n",
    "             verbose=1)"
   ]
  },
  {
   "cell_type": "markdown",
   "id": "9610c705-8613-4ebf-9d7f-6fdf965ef2b0",
   "metadata": {},
   "source": [
    "### Modell abspeichern"
   ]
  },
  {
   "cell_type": "code",
   "execution_count": 11,
   "id": "9bf981ad-5538-4625-8548-516db431f985",
   "metadata": {},
   "outputs": [],
   "source": [
    "model.save(r\"models/models_regr_3signs_1\", save_format=\"h5\")"
   ]
  },
  {
   "cell_type": "markdown",
   "id": "8de0035f-5df5-4cea-a50f-df356862ddea",
   "metadata": {},
   "source": [
    "### Visualieren des Trainings"
   ]
  },
  {
   "cell_type": "code",
   "execution_count": 13,
   "id": "d63d08d3-12e7-4152-b799-d05fb1c2f822",
   "metadata": {},
   "outputs": [
    {
     "data": {
      "image/png": "[encoded data removed]",
      "text/plain": [
       "<Figure size 432x288 with 1 Axes>"
      ]
     },
     "metadata": {},
     "output_type": "display_data"
    }
   ],
   "source": [
    "plt.style.use(\"ggplot\")\n",
    "plt.figure()\n",
    "plt.plot(np.arange(0, epoch_num), training.history[\"loss\"], label=\"train_loss\")\n",
    "plt.plot(np.arange(0, epoch_num), training.history[\"val_loss\"], label=\"val_loss\")\n",
    "plt.title(\"Bounding Box Regression Loss on Training Set\")\n",
    "plt.xlabel(\"Epoch #\")\n",
    "plt.ylabel(\"Loss\")\n",
    "plt.legend(loc=\"upper right\")\n",
    "#plt.show()\n",
    "plt.savefig('./images/training3_15_1.png')"
   ]
  },
  {
   "cell_type": "markdown",
   "id": "5f460d29-ec62-446b-89c0-1597a1fddc2b",
   "metadata": {},
   "source": [
    "### Modell aus Datei laden"
   ]
  },
  {
   "cell_type": "code",
   "execution_count": 6,
   "id": "7751f439-5791-4ee3-abfe-dac43435acd2",
   "metadata": {},
   "outputs": [
    {
     "name": "stderr",
     "output_type": "stream",
     "text": [
      "2022-03-15 17:58:01.936703: I tensorflow/core/platform/cpu_feature_guard.cc:151] This TensorFlow binary is optimized with oneAPI Deep Neural Network Library (oneDNN) to use the following CPU instructions in performance-critical operations:  SSE4.1 SSE4.2 AVX AVX2 FMA\n",
      "To enable them in other operations, rebuild TensorFlow with the appropriate compiler flags.\n"
     ]
    }
   ],
   "source": [
    "model = load_model(r\"models/models_regr_3signs_1\")"
   ]
  },
  {
   "cell_type": "markdown",
   "id": "c7873c23-69d7-41d5-94e6-34bab81f210a",
   "metadata": {},
   "source": [
    "### Anzeigen von Testbildern"
   ]
  },
  {
   "cell_type": "code",
   "execution_count": 7,
   "id": "93b91b2a-012f-4255-9c34-1e55310bea66",
   "metadata": {},
   "outputs": [
    {
     "name": "stderr",
     "output_type": "stream",
     "text": [
      "qt.qpa.xcb: QXcbConnection: XCB error: 3 (BadWindow), sequence: 2220, resource id: 8881762, major code: 40 (TranslateCoords), minor code: 0\n",
      "qt.qpa.xcb: QXcbConnection: XCB error: 3 (BadWindow), sequence: 3630, resource id: 8951028, major code: 40 (TranslateCoords), minor code: 0\n"
     ]
    },
    {
     "ename": "KeyboardInterrupt",
     "evalue": "",
     "output_type": "error",
     "traceback": [
      "\u001b[0;31m---------------------------------------------------------------------------\u001b[0m",
      "\u001b[0;31mKeyboardInterrupt\u001b[0m                         Traceback (most recent call last)",
      "Input \u001b[0;32mIn [7]\u001b[0m, in \u001b[0;36m<cell line: 3>\u001b[0;34m()\u001b[0m\n\u001b[1;32m      1\u001b[0m \u001b[38;5;28;01mfrom\u001b[39;00m \u001b[38;5;21;01msrc\u001b[39;00m\u001b[38;5;21;01m.\u001b[39;00m\u001b[38;5;21;01mimage_detection\u001b[39;00m \u001b[38;5;28;01mimport\u001b[39;00m predict_and_display_img\n\u001b[1;32m      3\u001b[0m \u001b[38;5;28;01mfor\u001b[39;00m image, bounding \u001b[38;5;129;01min\u001b[39;00m \u001b[38;5;28mzip\u001b[39m(testImages, testTargets):\n\u001b[0;32m----> 4\u001b[0m     \u001b[43mpredict_and_display_img\u001b[49m\u001b[43m(\u001b[49m\u001b[43mmodel\u001b[49m\u001b[43m,\u001b[49m\u001b[43m \u001b[49m\u001b[43mimage\u001b[49m\u001b[43m,\u001b[49m\u001b[43m \u001b[49m\u001b[43mbounding\u001b[49m\u001b[43m)\u001b[49m\n",
      "File \u001b[0;32m~/uni/maschine-learning/repo/ML-Lab_project/src/image_detection.py:51\u001b[0m, in \u001b[0;36mpredict_and_display_img\u001b[0;34m(model, image, bounding)\u001b[0m\n\u001b[1;32m     49\u001b[0m cv2\u001b[38;5;241m.\u001b[39mnamedWindow(\u001b[38;5;124m'\u001b[39m\u001b[38;5;124mOutput\u001b[39m\u001b[38;5;124m'\u001b[39m, cv2\u001b[38;5;241m.\u001b[39mWINDOW_NORMAL)\n\u001b[1;32m     50\u001b[0m cv2\u001b[38;5;241m.\u001b[39mimshow(\u001b[38;5;124m\"\u001b[39m\u001b[38;5;124mOutput\u001b[39m\u001b[38;5;124m\"\u001b[39m, image)\n\u001b[0;32m---> 51\u001b[0m \u001b[43mcv2\u001b[49m\u001b[38;5;241;43m.\u001b[39;49m\u001b[43mwaitKey\u001b[49m\u001b[43m(\u001b[49m\u001b[38;5;241;43m0\u001b[39;49m\u001b[43m)\u001b[49m\n",
      "\u001b[0;31mKeyboardInterrupt\u001b[0m: "
     ]
    }
   ],
   "source": [
    "from src.image_detection import predict_and_display_img\n",
    "\n",
    "for image, bounding in zip(testImages, testTargets):\n",
    "    predict_and_display_img(model, image, bounding)"
   ]
  },
  {
   "cell_type": "code",
   "execution_count": 8,
   "id": "0e2668d4-56b3-4efd-89ae-87c9a070dd0a",
   "metadata": {},
   "outputs": [],
   "source": [
    "cv2.destroyAllWindows()"
   ]
  },
  {
   "cell_type": "markdown",
   "id": "6377385f-f940-480a-b4f5-0ab02842a811",
   "metadata": {},
   "source": [
    "<img src=\"./images/3_signs_2.png\">     <img src=\"./images/3_signs_3.png\">"
   ]
  },
  {
   "cell_type": "code",
   "execution_count": null,
   "id": "7250586c-8e3e-4100-908c-d2dad19e8a40",
   "metadata": {},
   "outputs": [],
   "source": []
  }
 ],
 "metadata": {
  "kernelspec": {
   "display_name": "Python [conda env:ml]",
   "language": "python",
   "name": "conda-env-ml-py"
  },
  "language_info": {
   "codemirror_mode": {
    "name": "ipython",
    "version": 3
   },
   "file_extension": ".py",
   "mimetype": "text/x-python",
   "name": "python",
   "nbconvert_exporter": "python",
   "pygments_lexer": "ipython3",
   "version": "3.10.2"
  }
 },
 "nbformat": 4,
 "nbformat_minor": 5
}
