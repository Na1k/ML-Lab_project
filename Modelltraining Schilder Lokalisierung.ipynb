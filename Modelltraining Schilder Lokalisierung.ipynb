{
 "cells": [
  {
   "cell_type": "markdown",
   "id": "06356a0a-1484-4036-96f1-4ba4515c9a9a",
   "metadata": {},
   "source": [
    "# Modelltraining Lokalisierung von einem Verkehrsschild pro Bild"
   ]
  },
  {
   "cell_type": "markdown",
   "id": "1c382d4a-290f-489d-8aa6-72c2f36fa2c8",
   "metadata": {},
   "source": [
    "## Bearbeiter\n",
    "**TINF19-IT2**  \n",
    "Patrick Küsters (9815596)  \n",
    "Nick Kramer (3122448)  \n",
    "**TINF19-IT1**  \n",
    "Sören Holzenkamp (8528927)"
   ]
  },
  {
   "cell_type": "markdown",
   "id": "fdb7160c-2122-4147-9f1e-5544b4457c80",
   "metadata": {},
   "source": [
    "## Imports\n",
    "Lokal entwickelte Skripte und Module"
   ]
  },
  {
   "cell_type": "code",
   "execution_count": 1,
   "id": "8f3eccff-140d-464d-98b8-3068a43a6778",
   "metadata": {},
   "outputs": [],
   "source": [
    "import sys\n",
    "from pathlib import Path\n",
    "module_path = str(Path.cwd() / \"src\")\n",
    "if module_path not in sys.path:\n",
    "    sys.path.append(module_path)\n",
    "from reader import Reader\n",
    "from display_data import ImageDisplayer\n",
    "from image_detection import predict_and_display_img\n",
    "from evaluation import plot_confusion_matrix\n",
    "import collage"
   ]
  },
  {
   "cell_type": "markdown",
   "id": "13d1974a-756f-4069-b5d8-397df462cb08",
   "metadata": {},
   "source": [
    "Externe Bibliotheken"
   ]
  },
  {
   "cell_type": "code",
   "execution_count": 2,
   "id": "44a67296-cb4c-4300-83cc-711d9ef801f5",
   "metadata": {},
   "outputs": [],
   "source": [
    "from tensorflow.keras.layers import Flatten\n",
    "from tensorflow.keras.layers import Dense\n",
    "from tensorflow.keras.layers import Input\n",
    "from tensorflow.keras.layers import MaxPooling2D\n",
    "from tensorflow.keras.layers import Conv2D\n",
    "from tensorflow.keras.layers import BatchNormalization\n",
    "from tensorflow.keras.layers import AvgPool2D\n",
    "from tensorflow.keras.layers import Activation\n",
    "from tensorflow.keras.layers import Dropout\n",
    "from tensorflow.keras.models import Model\n",
    "from tensorflow.keras.models import load_model\n",
    "from tensorflow.keras.models import Sequential\n",
    "from tensorflow.keras.optimizers import Adam\n",
    "from tensorflow.keras.preprocessing.image import img_to_array\n",
    "from tensorflow.keras.preprocessing.image import load_img\n",
    "from tensorflow.keras.preprocessing.image import ImageDataGenerator\n",
    "from tensorflow.keras.utils import to_categorical\n",
    "\n",
    "from sklearn.model_selection import train_test_split\n",
    "from sklearn.metrics import confusion_matrix\n",
    "from skimage import exposure, transform\n",
    "import matplotlib.pyplot as plt\n",
    "import keras_tuner as kt\n",
    "import tensorflow as tf\n",
    "from tqdm import tqdm\n",
    "from PIL import Image\n",
    "import pandas as pd\n",
    "import numpy as np\n",
    "import mimetypes\n",
    "import pickle\n",
    "import cv2\n",
    "import os"
   ]
  },
  {
   "cell_type": "code",
   "execution_count": 3,
   "id": "3e2be1a6-c2e3-4c18-9cc9-9001940b97fe",
   "metadata": {},
   "outputs": [],
   "source": [
    "file = open(r\"./pickle/data_1sign_testdata3.pickle\", 'rb')\n",
    "data = pickle.load(file)\n",
    "file.close()\n",
    "file = open(r\"./pickle/labels_1sign_testdata3.pickle\", 'rb')\n",
    "labels = pickle.load(file)\n",
    "file.close()"
   ]
  },
  {
   "cell_type": "code",
   "execution_count": 4,
   "id": "d0b4de68-027c-4fb3-b4c1-45464f44a5ee",
   "metadata": {},
   "outputs": [
    {
     "name": "stderr",
     "output_type": "stream",
     "text": [
      "qt.qpa.xcb: QXcbConnection: XCB error: 3 (BadWindow), sequence: 1023, resource id: 8833670, major code: 40 (TranslateCoords), minor code: 0\n"
     ]
    }
   ],
   "source": [
    "cv2.namedWindow(\"test\", cv2.WINDOW_NORMAL)\n",
    "cv2.imshow(\"test\", data[10])\n",
    "cv2.waitKey(0)\n",
    "cv2.destroyAllWindows()"
   ]
  },
  {
   "cell_type": "code",
   "execution_count": 5,
   "id": "cffdb774-6146-4083-b7c6-1efb7ba6b7c4",
   "metadata": {},
   "outputs": [],
   "source": [
    "input_shape = data[0].shape"
   ]
  },
  {
   "cell_type": "code",
   "execution_count": 6,
   "id": "830d57f5-710f-4471-a4a1-11882471ee00",
   "metadata": {},
   "outputs": [],
   "source": [
    "targets = []\n",
    "for k in labels:\n",
    "    e = next(iter(k)) #first BB is the only one\n",
    "    x1, y1, x2, y2 = e #extract coordinates\n",
    "    h, w = input_shape[:2]\n",
    "    x1 = x1/w #scale with image shape\n",
    "    y1 = y1/h\n",
    "    x2 = x2/w\n",
    "    y2 = y2/h\n",
    "    targets.append((x1, y1, x2, y2))\n",
    "    \n",
    "# convert the data and targets to NumPy arrays, scaling the input\n",
    "# pixel intensities from the range [0, 255] to [0, 1]\n",
    "data = np.array(data, dtype=\"float32\") / 255.0\n",
    "targets = np.array(targets, dtype=\"float32\")"
   ]
  },
  {
   "cell_type": "code",
   "execution_count": 7,
   "id": "753648e5-2342-405f-b89f-f16ad3024685",
   "metadata": {},
   "outputs": [],
   "source": [
    "split = train_test_split(data, targets, test_size=0.25, random_state=42)\n",
    "\n",
    "(trainImages, testImages) = split[:2]\n",
    "(trainTargets, testTargets) = split[2:4]\n",
    "\n",
    "split = train_test_split(testImages, testTargets, test_size=0.5, random_state=42)\n",
    "\n",
    "(validationImages, testImages) = split[:2]\n",
    "(validationTargets, testTargets) = split[2:4]"
   ]
  },
  {
   "cell_type": "code",
   "execution_count": 8,
   "id": "ccbdc2e9-701d-4b9b-a597-fc90294f9523",
   "metadata": {},
   "outputs": [
    {
     "name": "stdout",
     "output_type": "stream",
     "text": [
      "Model: \"model\"\n",
      "_________________________________________________________________\n",
      " Layer (type)                Output Shape              Param #   \n",
      "=================================================================\n",
      " input_1 (InputLayer)        [(None, 100, 180, 3)]     0         \n",
      "                                                                 \n",
      " bl_2 (Conv2D)               (None, 100, 180, 16)      448       \n",
      "                                                                 \n",
      " bl_3 (MaxPooling2D)         (None, 50, 90, 16)        0         \n",
      "                                                                 \n",
      " bl_4 (Conv2D)               (None, 50, 90, 32)        4640      \n",
      "                                                                 \n",
      " bl_5 (MaxPooling2D)         (None, 25, 45, 32)        0         \n",
      "                                                                 \n",
      " bl_6 (Conv2D)               (None, 25, 45, 64)        18496     \n",
      "                                                                 \n",
      " bl_7 (MaxPooling2D)         (None, 12, 22, 64)        0         \n",
      "                                                                 \n",
      " bl_8 (Flatten)              (None, 16896)             0         \n",
      "                                                                 \n",
      " bb_1 (Dense)                (None, 128)               2162816   \n",
      "                                                                 \n",
      " bb_2 (Dense)                (None, 64)                8256      \n",
      "                                                                 \n",
      " bb_3 (Dense)                (None, 32)                2080      \n",
      "                                                                 \n",
      " bb_head (Dense)             (None, 4)                 132       \n",
      "                                                                 \n",
      "=================================================================\n",
      "Total params: 2,196,868\n",
      "Trainable params: 2,196,868\n",
      "Non-trainable params: 0\n",
      "_________________________________________________________________\n"
     ]
    },
    {
     "name": "stderr",
     "output_type": "stream",
     "text": [
      "2022-03-23 11:53:06.844342: I tensorflow/core/platform/cpu_feature_guard.cc:151] This TensorFlow binary is optimized with oneAPI Deep Neural Network Library (oneDNN) to use the following CPU instructions in performance-critical operations:  SSE4.1 SSE4.2 AVX AVX2 FMA\n",
      "To enable them in other operations, rebuild TensorFlow with the appropriate compiler flags.\n"
     ]
    }
   ],
   "source": [
    "input_layer = Input(input_shape)\n",
    "\n",
    "#create the base layers\n",
    "base_layers = Conv2D(16, 3, padding='same', activation='relu', name='bl_2')(input_layer)\n",
    "base_layers = MaxPooling2D(name='bl_3')(base_layers)\n",
    "base_layers = Conv2D(32, 3, padding='same', activation='relu', name='bl_4')(base_layers)\n",
    "base_layers = MaxPooling2D(name='bl_5')(base_layers)\n",
    "base_layers = Conv2D(64, 3, padding='same', activation='relu', name='bl_6')(base_layers)\n",
    "base_layers = MaxPooling2D(name='bl_7')(base_layers)\n",
    "base_layers = Flatten(name='bl_8')(base_layers)\n",
    "\n",
    "#create the localiser branch\n",
    "locator_branch = Dense(128, activation='relu', name='bb_1')(base_layers)\n",
    "locator_branch = Dense(64, activation='relu', name='bb_2')(locator_branch)\n",
    "locator_branch = Dense(32, activation='relu', name='bb_3')(locator_branch)\n",
    "locator_branch = Dense(4, activation='sigmoid', name='bb_head')(locator_branch)\n",
    "\n",
    "model = tf.keras.Model(input_layer, outputs=locator_branch)\n",
    "model.summary()"
   ]
  },
  {
   "cell_type": "code",
   "execution_count": 9,
   "id": "561e3ac8-b201-4d50-84bf-cd793ef54732",
   "metadata": {},
   "outputs": [],
   "source": [
    "loss = tf.keras.losses.MAE"
   ]
  },
  {
   "cell_type": "markdown",
   "id": "904f96c8-f128-469f-8465-9d5d58cace67",
   "metadata": {},
   "source": [
    "Versuch, Intersection over Union als Loss Funktion zu implementieren. Leider fehlte Zeit diesen Ansatz weiter zu verfolgen:"
   ]
  },
  {
   "cell_type": "code",
   "execution_count": 10,
   "id": "2d933cbe-de45-4ff5-a014-2a34d1355a1e",
   "metadata": {},
   "outputs": [],
   "source": [
    "#import tensorflow.math as tfmath\n",
    "#def iou(y_actual,y_pred):\n",
    "#    iw = tfmath.minimum(y_actual[:,2], y_pred[:,2])-tfmath.maximum(y_actual[:,0], y_pred[:,0])\n",
    "#    ih = tfmath.minimum(y_actual[:,3], y_pred[:,3])-tfmath.maximum(y_actual[:,1], y_pred[:,1])\n",
    "#    iw = tfmath.maximum(iw, tf.constant([0.,0.,0.,0.,0.,]))\n",
    "#    ih = tfmath.maximum(ih, tf.constant([0.,0.,0.,0.,0.,]))\n",
    "#    i = iw*ih\n",
    "#    a = (y_actual[:,2] - y_actual[:,0])*(y_actual[:,3] - y_actual[:,1])\n",
    "#    b = (y_pred[:,2] - y_pred[:,0])*(y_pred[:,3] - y_pred[:,1])\n",
    "#    u = a+b-i\n",
    "#    iou = i/u\n",
    "#    l = tfmath.log(iou+1)\n",
    "#    return l\n",
    "#loss = iou"
   ]
  },
  {
   "cell_type": "code",
   "execution_count": 11,
   "id": "bfad960d-3b15-4f5a-8923-cf6fa24c65ab",
   "metadata": {},
   "outputs": [],
   "source": [
    "model.compile(loss=loss, optimizer='Adam')"
   ]
  },
  {
   "cell_type": "code",
   "execution_count": 12,
   "id": "4cb65a3c-4a76-4f10-a3cb-8eed88dbc4ee",
   "metadata": {},
   "outputs": [],
   "source": [
    "epoch_num = 15"
   ]
  },
  {
   "cell_type": "code",
   "execution_count": 13,
   "id": "4ad96439-a467-44c3-8af7-69b0913b5792",
   "metadata": {},
   "outputs": [
    {
     "name": "stdout",
     "output_type": "stream",
     "text": [
      "Epoch 1/15\n",
      "1500/1500 [==============================] - 87s 58ms/step - loss: 0.1639 - val_loss: 0.0901\n",
      "Epoch 2/15\n",
      "1500/1500 [==============================] - 89s 59ms/step - loss: 0.0495 - val_loss: 0.0407\n",
      "Epoch 3/15\n",
      "1500/1500 [==============================] - 85s 57ms/step - loss: 0.0256 - val_loss: 0.0300\n",
      "Epoch 4/15\n",
      "1500/1500 [==============================] - 87s 58ms/step - loss: 0.0173 - val_loss: 0.0189\n",
      "Epoch 5/15\n",
      "1500/1500 [==============================] - 86s 58ms/step - loss: 0.0144 - val_loss: 0.0152\n",
      "Epoch 6/15\n",
      "1500/1500 [==============================] - 86s 58ms/step - loss: 0.0124 - val_loss: 0.0204\n",
      "Epoch 7/15\n",
      "1500/1500 [==============================] - 87s 58ms/step - loss: 0.0113 - val_loss: 0.0147\n",
      "Epoch 8/15\n",
      "1500/1500 [==============================] - 89s 59ms/step - loss: 0.0109 - val_loss: 0.0180\n",
      "Epoch 9/15\n",
      "1500/1500 [==============================] - 87s 58ms/step - loss: 0.0091 - val_loss: 0.0113\n",
      "Epoch 10/15\n",
      "1500/1500 [==============================] - 87s 58ms/step - loss: 0.0093 - val_loss: 0.0148\n",
      "Epoch 11/15\n",
      "1500/1500 [==============================] - 83s 55ms/step - loss: 0.0096 - val_loss: 0.0124\n",
      "Epoch 12/15\n",
      "1500/1500 [==============================] - 78s 52ms/step - loss: 0.0084 - val_loss: 0.0110\n",
      "Epoch 13/15\n",
      "1500/1500 [==============================] - 77s 52ms/step - loss: 0.0084 - val_loss: 0.0111\n",
      "Epoch 14/15\n",
      "1500/1500 [==============================] - 78s 52ms/step - loss: 0.0083 - val_loss: 0.0128\n",
      "Epoch 15/15\n",
      "1500/1500 [==============================] - 76s 51ms/step - loss: 0.0076 - val_loss: 0.0093\n"
     ]
    }
   ],
   "source": [
    "training = model.fit(trainImages, trainTargets,\n",
    "             validation_data=(testImages, testTargets),\n",
    "             batch_size=5,\n",
    "             epochs=epoch_num,\n",
    "             shuffle=True,\n",
    "             verbose=1)"
   ]
  },
  {
   "cell_type": "code",
   "execution_count": 14,
   "id": "9e2a3d21-3977-40c6-883e-d1d2ba9408f3",
   "metadata": {},
   "outputs": [],
   "source": [
    "model.save(r\"./models/regr_1signs_2.pickle\", save_format=\"h5\")"
   ]
  },
  {
   "cell_type": "code",
   "execution_count": 15,
   "id": "edba8f55-fcb5-44f1-9c2f-b11fce48f350",
   "metadata": {},
   "outputs": [
    {
     "data": {
      "image/png": "[encoded data removed]",
      "text/plain": [
       "<Figure size 432x288 with 1 Axes>"
      ]
     },
     "metadata": {},
     "output_type": "display_data"
    }
   ],
   "source": [
    "plt.style.use(\"ggplot\")\n",
    "plt.figure()\n",
    "plt.plot(np.arange(0, epoch_num), training.history[\"loss\"], label=\"train_loss\")\n",
    "plt.plot(np.arange(0, epoch_num), training.history[\"val_loss\"], label=\"val_loss\")\n",
    "plt.title(\"Bounding Box Regression Loss on Training Set\")\n",
    "plt.xlabel(\"Epoch #\")\n",
    "plt.ylabel(\"Loss\")\n",
    "plt.legend(loc=\"upper right\")\n",
    "#plt.show()\n",
    "plt.savefig('./images/training1_20_1.png')"
   ]
  },
  {
   "cell_type": "code",
   "execution_count": null,
   "id": "37887d5a-099a-4dc9-ba2a-5bef865317b4",
   "metadata": {},
   "outputs": [],
   "source": []
  }
 ],
 "metadata": {
  "kernelspec": {
   "display_name": "Python [conda env:ml]",
   "language": "python",
   "name": "conda-env-ml-py"
  },
  "language_info": {
   "codemirror_mode": {
    "name": "ipython",
    "version": 3
   },
   "file_extension": ".py",
   "mimetype": "text/x-python",
   "name": "python",
   "nbconvert_exporter": "python",
   "pygments_lexer": "ipython3",
   "version": "3.10.2"
  }
 },
 "nbformat": 4,
 "nbformat_minor": 5
}
